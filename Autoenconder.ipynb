{
  "nbformat": 4,
  "nbformat_minor": 0,
  "metadata": {
    "colab": {
      "name": "Autoenconder.ipynb",
      "provenance": [],
      "authorship_tag": "ABX9TyPI/snmYQmziCLtOF3hT5hK",
      "include_colab_link": true
    },
    "kernelspec": {
      "name": "python3",
      "display_name": "Python 3"
    },
    "accelerator": "GPU"
  },
  "cells": [
    {
      "cell_type": "markdown",
      "metadata": {
        "id": "view-in-github",
        "colab_type": "text"
      },
      "source": [
        "<a href=\"https://colab.research.google.com/github/JoanesMiranda/Machine-learning/blob/master/Autoenconder.ipynb\" target=\"_parent\"><img src=\"https://colab.research.google.com/assets/colab-badge.svg\" alt=\"Open In Colab\"/></a>"
      ]
    },
    {
      "cell_type": "markdown",
      "metadata": {
        "id": "8KIwKlkBWEbb",
        "colab_type": "text"
      },
      "source": [
        "### Importando as bibliotecas necessárias"
      ]
    },
    {
      "cell_type": "code",
      "metadata": {
        "id": "sMgAQicdWH02",
        "colab_type": "code",
        "colab": {}
      },
      "source": [
        "import numpy as np\n",
        "import matplotlib.pyplot as plt\n",
        "import tensorflow as tf\n",
        "from tensorflow.keras.datasets import mnist"
      ],
      "execution_count": 109,
      "outputs": []
    },
    {
      "cell_type": "markdown",
      "metadata": {
        "id": "hVQzBfIoWMVP",
        "colab_type": "text"
      },
      "source": [
        "### Carregando a base de dados"
      ]
    },
    {
      "cell_type": "code",
      "metadata": {
        "id": "dK5vsiJPWNNi",
        "colab_type": "code",
        "colab": {}
      },
      "source": [
        "(x_train, y_train),(x_test, y_test) = mnist.load_data()"
      ],
      "execution_count": 110,
      "outputs": []
    },
    {
      "cell_type": "markdown",
      "metadata": {
        "id": "zW0yi80GWURA",
        "colab_type": "text"
      },
      "source": [
        "### Plotando uma amostra das imagens"
      ]
    },
    {
      "cell_type": "code",
      "metadata": {
        "id": "r51Sh0-UWWEK",
        "colab_type": "code",
        "colab": {
          "base_uri": "https://localhost:8080/",
          "height": 282
        },
        "outputId": "1d659207-4c5e-4e36-c149-4d37b8941c23"
      },
      "source": [
        "plt.imshow(x_train[10], cmap=\"gray\")"
      ],
      "execution_count": 111,
      "outputs": [
        {
          "output_type": "execute_result",
          "data": {
            "text/plain": [
              "<matplotlib.image.AxesImage at 0x7f0a45d64a58>"
            ]
          },
          "metadata": {
            "tags": []
          },
          "execution_count": 111
        },
        {
          "output_type": "display_data",
          "data": {
            "image/png": "[encoded data removed]",
            "text/plain": [
              "<Figure size 432x288 with 1 Axes>"
            ]
          },
          "metadata": {
            "tags": [],
            "needs_background": "light"
          }
        }
      ]
    },
    {
      "cell_type": "markdown",
      "metadata": {
        "id": "6-cXgNKTWdLr",
        "colab_type": "text"
      },
      "source": [
        "### Aplicando normalização nos dados de treino e teste"
      ]
    },
    {
      "cell_type": "code",
      "metadata": {
        "id": "TkfHvsFeWaCg",
        "colab_type": "code",
        "colab": {
          "base_uri": "https://localhost:8080/",
          "height": 51
        },
        "outputId": "e0cf0d0a-9a5e-4bc6-fde0-d2c753fbee4a"
      },
      "source": [
        "x_train = x_train / 255.0\n",
        "x_test = x_test / 255.0\n",
        "\n",
        "print(x_train.shape)\n",
        "print(x_test.shape)"
      ],
      "execution_count": 112,
      "outputs": [
        {
          "output_type": "stream",
          "text": [
            "(60000, 28, 28)\n",
            "(10000, 28, 28)\n"
          ],
          "name": "stdout"
        }
      ]
    },
    {
      "cell_type": "markdown",
      "metadata": {
        "id": "U7vBLkYzWj0O",
        "colab_type": "text"
      },
      "source": [
        "### Adicionando ruido a base de treino"
      ]
    },
    {
      "cell_type": "code",
      "metadata": {
        "id": "57nVfmiaWgV4",
        "colab_type": "code",
        "colab": {
          "base_uri": "https://localhost:8080/",
          "height": 34
        },
        "outputId": "e5c4015c-2dbd-4352-8f6c-8cb5c3c0621a"
      },
      "source": [
        "noise = 0.3\n",
        "noise_x_train = []\n",
        "\n",
        "for img in x_train:\n",
        "  noisy_image = img + noise * np.random.randn(*img.shape)\n",
        "  noisy_image = np.clip(noisy_image, 0., 1.)\n",
        "  noise_x_train.append(noisy_image)\n",
        "\n",
        "noise_x_train = np.array(noise_x_train)\n",
        "print(noise_x_train.shape)"
      ],
      "execution_count": 113,
      "outputs": [
        {
          "output_type": "stream",
          "text": [
            "(60000, 28, 28)\n"
          ],
          "name": "stdout"
        }
      ]
    },
    {
      "cell_type": "markdown",
      "metadata": {
        "id": "jFal-VVxWowM",
        "colab_type": "text"
      },
      "source": [
        "### Plotando uma amostra da imagem com o ruido aplicado"
      ]
    },
    {
      "cell_type": "code",
      "metadata": {
        "id": "cmHfjpyzWmQK",
        "colab_type": "code",
        "colab": {
          "base_uri": "https://localhost:8080/",
          "height": 282
        },
        "outputId": "dee667ab-8af7-4312-943c-7e35edf3ebee"
      },
      "source": [
        "plt.imshow(noise_x_train[10], cmap=\"gray\")"
      ],
      "execution_count": 114,
      "outputs": [
        {
          "output_type": "execute_result",
          "data": {
            "text/plain": [
              "<matplotlib.image.AxesImage at 0x7f0a45cca828>"
            ]
          },
          "metadata": {
            "tags": []
          },
          "execution_count": 114
        },
        {
          "output_type": "display_data",
          "data": {
            "image/png": "[encoded data removed]",
            "text/plain": [
              "<Figure size 432x288 with 1 Axes>"
            ]
          },
          "metadata": {
            "tags": [],
            "needs_background": "light"
          }
        }
      ]
    },
    {
      "cell_type": "markdown",
      "metadata": {
        "id": "mi2MujP6WtN8",
        "colab_type": "text"
      },
      "source": [
        "### Adicionando ruido a base de teste"
      ]
    },
    {
      "cell_type": "code",
      "metadata": {
        "id": "muuwS0jTWrTA",
        "colab_type": "code",
        "colab": {
          "base_uri": "https://localhost:8080/",
          "height": 34
        },
        "outputId": "9d1da063-34dc-4ef8-ea43-af5598bff7f6"
      },
      "source": [
        "noise = 0.3\n",
        "noise_x_test = []\n",
        "\n",
        "for img in x_train:\n",
        "  noisy_image = img + noise * np.random.randn(*img.shape)\n",
        "  noisy_image = np.clip(noisy_image, 0., 1.)\n",
        "  noise_x_test.append(noisy_image)\n",
        "\n",
        "noise_x_test = np.array(noise_x_test)\n",
        "print(noise_x_test.shape)"
      ],
      "execution_count": 115,
      "outputs": [
        {
          "output_type": "stream",
          "text": [
            "(60000, 28, 28)\n"
          ],
          "name": "stdout"
        }
      ]
    },
    {
      "cell_type": "markdown",
      "metadata": {
        "id": "OUMRHODjWw2R",
        "colab_type": "text"
      },
      "source": [
        "### Plotando uma amostra da imagem com o ruido aplicado"
      ]
    },
    {
      "cell_type": "code",
      "metadata": {
        "id": "Ts-EM_KTWvzs",
        "colab_type": "code",
        "colab": {
          "base_uri": "https://localhost:8080/",
          "height": 282
        },
        "outputId": "af24a487-91aa-461f-f768-04d683598e8c"
      },
      "source": [
        "plt.imshow(noise_x_test[10], cmap=\"gray\")\n"
      ],
      "execution_count": 116,
      "outputs": [
        {
          "output_type": "execute_result",
          "data": {
            "text/plain": [
              "<matplotlib.image.AxesImage at 0x7f0a45e094e0>"
            ]
          },
          "metadata": {
            "tags": []
          },
          "execution_count": 116
        },
        {
          "output_type": "display_data",
          "data": {
            "image/png": "[encoded data removed]",
            "text/plain": [
              "<Figure size 432x288 with 1 Axes>"
            ]
          },
          "metadata": {
            "tags": [],
            "needs_background": "light"
          }
        }
      ]
    },
    {
      "cell_type": "code",
      "metadata": {
        "id": "D7pO60k6W0Yn",
        "colab_type": "code",
        "colab": {
          "base_uri": "https://localhost:8080/",
          "height": 51
        },
        "outputId": "eecbb3a9-7737-4a7f-bfd8-0809b4e682c9"
      },
      "source": [
        "noise_x_train = np.reshape(noise_x_train,(-1, 28, 28, 1))\n",
        "noise_x_test = np.reshape(noise_x_test,(-1, 28, 28, 1))\n",
        "\n",
        "print(noise_x_train.shape)\n",
        "print(noise_x_test.shape)"
      ],
      "execution_count": 117,
      "outputs": [
        {
          "output_type": "stream",
          "text": [
            "(60000, 28, 28, 1)\n",
            "(60000, 28, 28, 1)\n"
          ],
          "name": "stdout"
        }
      ]
    },
    {
      "cell_type": "markdown",
      "metadata": {
        "id": "CQaQh8h1W4aj",
        "colab_type": "text"
      },
      "source": [
        "### Autoencoder"
      ]
    },
    {
      "cell_type": "code",
      "metadata": {
        "id": "Ba3ar3o0W2V5",
        "colab_type": "code",
        "colab": {
          "base_uri": "https://localhost:8080/",
          "height": 323
        },
        "outputId": "d6a8d095-57a8-4184-cc9e-fecd0c1cd8ca"
      },
      "source": [
        "x_input = tf.keras.layers.Input((28,28,1))\n",
        "\n",
        "# encoder\n",
        "x = tf.keras.layers.Conv2D(filters=16, kernel_size=3, strides=2, padding='same')(x_input)\n",
        "x = tf.keras.layers.Conv2D(filters=8, kernel_size=3, strides=2, padding='same')(x)\n",
        "\n",
        "# decoder\n",
        "x = tf.keras.layers.Conv2DTranspose(filters=16, kernel_size=3, strides=2, padding='same')(x)\n",
        "x = tf.keras.layers.Conv2DTranspose(filters=1, kernel_size=3, strides=2, activation='sigmoid', padding='same')(x)\n",
        "\n",
        "model = tf.keras.models.Model(inputs=x_input, outputs=x)\n",
        "model.compile(loss='binary_crossentropy', optimizer=tf.keras.optimizers.Adam(lr=0.001))\n",
        "\n",
        "model.summary()"
      ],
      "execution_count": 118,
      "outputs": [
        {
          "output_type": "stream",
          "text": [
            "Model: \"functional_15\"\n",
            "_________________________________________________________________\n",
            "Layer (type)                 Output Shape              Param #   \n",
            "=================================================================\n",
            "input_8 (InputLayer)         [(None, 28, 28, 1)]       0         \n",
            "_________________________________________________________________\n",
            "conv2d_14 (Conv2D)           (None, 14, 14, 16)        160       \n",
            "_________________________________________________________________\n",
            "conv2d_15 (Conv2D)           (None, 7, 7, 8)           1160      \n",
            "_________________________________________________________________\n",
            "conv2d_transpose_14 (Conv2DT (None, 14, 14, 16)        1168      \n",
            "_________________________________________________________________\n",
            "conv2d_transpose_15 (Conv2DT (None, 28, 28, 1)         145       \n",
            "=================================================================\n",
            "Total params: 2,633\n",
            "Trainable params: 2,633\n",
            "Non-trainable params: 0\n",
            "_________________________________________________________________\n"
          ],
          "name": "stdout"
        }
      ]
    },
    {
      "cell_type": "markdown",
      "metadata": {
        "id": "Mz8tb5SYXAr5",
        "colab_type": "text"
      },
      "source": [
        "### Treinando os dados"
      ]
    },
    {
      "cell_type": "code",
      "metadata": {
        "id": "7-zkHJbjW9Al",
        "colab_type": "code",
        "colab": {
          "base_uri": "https://localhost:8080/",
          "height": 374
        },
        "outputId": "425f4447-2bec-447c-949f-c5f0b2ebc1bf"
      },
      "source": [
        "model.fit(noise_x_train, x_train, batch_size=100, validation_split=0.1, epochs=10)"
      ],
      "execution_count": 119,
      "outputs": [
        {
          "output_type": "stream",
          "text": [
            "Epoch 1/10\n",
            "540/540 [==============================] - 3s 5ms/step - loss: 0.1805 - val_loss: 0.0944\n",
            "Epoch 2/10\n",
            "540/540 [==============================] - 3s 5ms/step - loss: 0.0898 - val_loss: 0.0884\n",
            "Epoch 3/10\n",
            "540/540 [==============================] - 3s 5ms/step - loss: 0.0869 - val_loss: 0.0871\n",
            "Epoch 4/10\n",
            "540/540 [==============================] - 3s 5ms/step - loss: 0.0862 - val_loss: 0.0866\n",
            "Epoch 5/10\n",
            "540/540 [==============================] - 3s 5ms/step - loss: 0.0858 - val_loss: 0.0863\n",
            "Epoch 6/10\n",
            "540/540 [==============================] - 3s 5ms/step - loss: 0.0857 - val_loss: 0.0862\n",
            "Epoch 7/10\n",
            "540/540 [==============================] - 3s 5ms/step - loss: 0.0856 - val_loss: 0.0861\n",
            "Epoch 8/10\n",
            "540/540 [==============================] - 3s 5ms/step - loss: 0.0855 - val_loss: 0.0861\n",
            "Epoch 9/10\n",
            "540/540 [==============================] - 3s 5ms/step - loss: 0.0855 - val_loss: 0.0862\n",
            "Epoch 10/10\n",
            "540/540 [==============================] - 3s 5ms/step - loss: 0.0855 - val_loss: 0.0860\n"
          ],
          "name": "stdout"
        },
        {
          "output_type": "execute_result",
          "data": {
            "text/plain": [
              "<tensorflow.python.keras.callbacks.History at 0x7f0a478c44e0>"
            ]
          },
          "metadata": {
            "tags": []
          },
          "execution_count": 119
        }
      ]
    },
    {
      "cell_type": "markdown",
      "metadata": {
        "id": "XNH_QG1AXGPs",
        "colab_type": "text"
      },
      "source": [
        "### Realizando a predição das imagens usando os dados de teste com o ruido aplicado"
      ]
    },
    {
      "cell_type": "code",
      "metadata": {
        "id": "nxuAXg-_XDza",
        "colab_type": "code",
        "colab": {
          "base_uri": "https://localhost:8080/",
          "height": 1000
        },
        "outputId": "12ce25e6-9d50-4c60-cb3d-46455609463a"
      },
      "source": [
        "predicted = model.predict(noise_x_test)\n",
        "predicted"
      ],
      "execution_count": 120,
      "outputs": [
        {
          "output_type": "execute_result",
          "data": {
            "text/plain": [
              "array([[[[1.20339077e-03],\n",
              "         [3.16730875e-04],\n",
              "         [1.37351104e-04],\n",
              "         ...,\n",
              "         [5.82922621e-05],\n",
              "         [6.46361368e-05],\n",
              "         [2.29273341e-04]],\n",
              "\n",
              "        [[2.67282448e-04],\n",
              "         [3.36732046e-06],\n",
              "         [3.70676867e-06],\n",
              "         ...,\n",
              "         [1.99262449e-05],\n",
              "         [5.88067132e-06],\n",
              "         [7.78075537e-06]],\n",
              "\n",
              "        [[1.06733554e-04],\n",
              "         [4.86887348e-06],\n",
              "         [4.60415649e-05],\n",
              "         ...,\n",
              "         [3.40039755e-04],\n",
              "         [9.80661134e-05],\n",
              "         [6.49604262e-05]],\n",
              "\n",
              "        ...,\n",
              "\n",
              "        [[8.22655711e-05],\n",
              "         [8.92971821e-06],\n",
              "         [2.92447658e-04],\n",
              "         ...,\n",
              "         [5.06622659e-04],\n",
              "         [1.85018333e-04],\n",
              "         [1.36576913e-04]],\n",
              "\n",
              "        [[8.44693132e-05],\n",
              "         [1.10689780e-05],\n",
              "         [2.32514518e-04],\n",
              "         ...,\n",
              "         [3.98593431e-04],\n",
              "         [2.03155418e-04],\n",
              "         [1.11554218e-04]],\n",
              "\n",
              "        [[5.90845884e-04],\n",
              "         [4.51108390e-05],\n",
              "         [1.40181859e-04],\n",
              "         ...,\n",
              "         [1.19833399e-04],\n",
              "         [7.09869710e-05],\n",
              "         [3.88155604e-05]]],\n",
              "\n",
              "\n",
              "       [[[1.05645985e-03],\n",
              "         [2.73992686e-04],\n",
              "         [1.21448044e-04],\n",
              "         ...,\n",
              "         [5.98685692e-05],\n",
              "         [6.63328537e-05],\n",
              "         [2.40764057e-04]],\n",
              "\n",
              "        [[2.37461558e-04],\n",
              "         [3.24349799e-06],\n",
              "         [3.83451015e-06],\n",
              "         ...,\n",
              "         [2.79925698e-05],\n",
              "         [1.47943119e-05],\n",
              "         [2.62323392e-05]],\n",
              "\n",
              "        [[9.53647104e-05],\n",
              "         [5.64778793e-06],\n",
              "         [8.68658244e-05],\n",
              "         ...,\n",
              "         [5.20211761e-04],\n",
              "         [3.18675127e-04],\n",
              "         [2.81617831e-04]],\n",
              "\n",
              "        ...,\n",
              "\n",
              "        [[5.42052549e-05],\n",
              "         [2.37765789e-06],\n",
              "         [4.65201592e-05],\n",
              "         ...,\n",
              "         [6.01478911e-04],\n",
              "         [1.65825026e-04],\n",
              "         [1.29022257e-04]],\n",
              "\n",
              "        [[6.10653151e-05],\n",
              "         [4.63447350e-06],\n",
              "         [6.25791945e-05],\n",
              "         ...,\n",
              "         [3.42671032e-04],\n",
              "         [1.51926070e-04],\n",
              "         [1.32601315e-04]],\n",
              "\n",
              "        [[4.74000000e-04],\n",
              "         [2.80898821e-05],\n",
              "         [6.02436921e-05],\n",
              "         ...,\n",
              "         [1.76073154e-04],\n",
              "         [1.34078349e-04],\n",
              "         [9.99153563e-05]]],\n",
              "\n",
              "\n",
              "       [[[1.18729740e-03],\n",
              "         [3.05760565e-04],\n",
              "         [1.32946181e-04],\n",
              "         ...,\n",
              "         [5.95252968e-05],\n",
              "         [7.54238572e-05],\n",
              "         [2.60305533e-04]],\n",
              "\n",
              "        [[2.67133146e-04],\n",
              "         [3.21199877e-06],\n",
              "         [2.37485006e-06],\n",
              "         ...,\n",
              "         [5.14704298e-05],\n",
              "         [2.00255527e-05],\n",
              "         [1.64302219e-05]],\n",
              "\n",
              "        [[1.01889891e-04],\n",
              "         [4.41672501e-06],\n",
              "         [2.90748449e-05],\n",
              "         ...,\n",
              "         [1.69156876e-03],\n",
              "         [6.15303521e-04],\n",
              "         [1.25089529e-04]],\n",
              "\n",
              "        ...,\n",
              "\n",
              "        [[1.14880670e-04],\n",
              "         [1.82804124e-05],\n",
              "         [4.25556063e-04],\n",
              "         ...,\n",
              "         [7.52953754e-04],\n",
              "         [3.29355797e-04],\n",
              "         [1.89411585e-04]],\n",
              "\n",
              "        [[1.17367163e-04],\n",
              "         [2.84841044e-05],\n",
              "         [6.64496736e-04],\n",
              "         ...,\n",
              "         [3.72231880e-04],\n",
              "         [2.31765734e-04],\n",
              "         [1.30876331e-04]],\n",
              "\n",
              "        [[5.04836615e-04],\n",
              "         [7.80286937e-05],\n",
              "         [4.71977284e-04],\n",
              "         ...,\n",
              "         [1.05588631e-04],\n",
              "         [7.67966485e-05],\n",
              "         [4.28456660e-05]]],\n",
              "\n",
              "\n",
              "       ...,\n",
              "\n",
              "\n",
              "       [[[1.32960943e-03],\n",
              "         [3.74991272e-04],\n",
              "         [1.79595081e-04],\n",
              "         ...,\n",
              "         [6.28846465e-05],\n",
              "         [6.90516754e-05],\n",
              "         [2.44440860e-04]],\n",
              "\n",
              "        [[3.51668044e-04],\n",
              "         [5.93973482e-06],\n",
              "         [4.23567144e-06],\n",
              "         ...,\n",
              "         [2.05190354e-05],\n",
              "         [4.88315845e-06],\n",
              "         [6.26084784e-06]],\n",
              "\n",
              "        [[1.59632065e-04],\n",
              "         [8.74907255e-06],\n",
              "         [3.14489043e-05],\n",
              "         ...,\n",
              "         [3.24042659e-04],\n",
              "         [5.56306040e-05],\n",
              "         [3.15602774e-05]],\n",
              "\n",
              "        ...,\n",
              "\n",
              "        [[8.02505383e-05],\n",
              "         [7.90998729e-06],\n",
              "         [1.77043694e-04],\n",
              "         ...,\n",
              "         [3.92215094e-03],\n",
              "         [7.94263324e-04],\n",
              "         [3.34107521e-04]],\n",
              "\n",
              "        [[8.45379545e-05],\n",
              "         [1.01667574e-05],\n",
              "         [1.42312114e-04],\n",
              "         ...,\n",
              "         [5.84047893e-03],\n",
              "         [1.25255331e-03],\n",
              "         [3.09942552e-04]],\n",
              "\n",
              "        [[5.65906463e-04],\n",
              "         [3.74319934e-05],\n",
              "         [8.68687202e-05],\n",
              "         ...,\n",
              "         [1.46379904e-03],\n",
              "         [4.46685008e-04],\n",
              "         [8.95269841e-05]]],\n",
              "\n",
              "\n",
              "       [[[1.31621363e-03],\n",
              "         [3.63914296e-04],\n",
              "         [1.58205410e-04],\n",
              "         ...,\n",
              "         [7.35351496e-05],\n",
              "         [8.43215457e-05],\n",
              "         [2.90453434e-04]],\n",
              "\n",
              "        [[2.89937976e-04],\n",
              "         [4.14016949e-06],\n",
              "         [5.65083747e-06],\n",
              "         ...,\n",
              "         [2.77283707e-05],\n",
              "         [8.38666710e-06],\n",
              "         [9.10973085e-06]],\n",
              "\n",
              "        [[1.14405571e-04],\n",
              "         [5.20342019e-06],\n",
              "         [6.19059283e-05],\n",
              "         ...,\n",
              "         [4.09973582e-04],\n",
              "         [1.10141540e-04],\n",
              "         [4.06782819e-05]],\n",
              "\n",
              "        ...,\n",
              "\n",
              "        [[7.60670737e-05],\n",
              "         [5.38166023e-06],\n",
              "         [1.07526903e-04],\n",
              "         ...,\n",
              "         [9.48053435e-04],\n",
              "         [2.87316943e-04],\n",
              "         [3.18395119e-04]],\n",
              "\n",
              "        [[5.86212191e-05],\n",
              "         [5.22879509e-06],\n",
              "         [1.66125727e-04],\n",
              "         ...,\n",
              "         [9.87105654e-04],\n",
              "         [1.01380330e-03],\n",
              "         [8.88739305e-04]],\n",
              "\n",
              "        [[4.50304855e-04],\n",
              "         [3.52944662e-05],\n",
              "         [2.44629016e-04],\n",
              "         ...,\n",
              "         [3.79110308e-04],\n",
              "         [5.03725314e-04],\n",
              "         [2.29592275e-04]]],\n",
              "\n",
              "\n",
              "       [[[1.04148721e-03],\n",
              "         [2.99207284e-04],\n",
              "         [1.49905434e-04],\n",
              "         ...,\n",
              "         [5.71035016e-05],\n",
              "         [5.79530024e-05],\n",
              "         [2.00560418e-04]],\n",
              "\n",
              "        [[2.91617413e-04],\n",
              "         [6.83106646e-06],\n",
              "         [1.03380335e-05],\n",
              "         ...,\n",
              "         [1.25249899e-05],\n",
              "         [3.99261626e-06],\n",
              "         [6.40123017e-06]],\n",
              "\n",
              "        [[1.44242949e-04],\n",
              "         [1.68753741e-05],\n",
              "         [3.24023829e-04],\n",
              "         ...,\n",
              "         [1.92825028e-04],\n",
              "         [4.71666754e-05],\n",
              "         [3.28181741e-05]],\n",
              "\n",
              "        ...,\n",
              "\n",
              "        [[8.67438139e-05],\n",
              "         [1.13945252e-05],\n",
              "         [2.97978055e-04],\n",
              "         ...,\n",
              "         [1.05520058e-03],\n",
              "         [2.98228435e-04],\n",
              "         [1.42644567e-04]],\n",
              "\n",
              "        [[7.90490449e-05],\n",
              "         [8.75669411e-06],\n",
              "         [1.23452133e-04],\n",
              "         ...,\n",
              "         [5.98290004e-04],\n",
              "         [2.57153297e-04],\n",
              "         [1.36323055e-04]],\n",
              "\n",
              "        [[5.79415937e-04],\n",
              "         [3.29711984e-05],\n",
              "         [6.32415613e-05],\n",
              "         ...,\n",
              "         [1.83293174e-04],\n",
              "         [9.94105285e-05],\n",
              "         [5.73414800e-05]]]], dtype=float32)"
            ]
          },
          "metadata": {
            "tags": []
          },
          "execution_count": 120
        }
      ]
    },
    {
      "cell_type": "markdown",
      "metadata": {
        "id": "sauQqhlKXKv-",
        "colab_type": "text"
      },
      "source": [
        "### Plotando as imagens com ruido e depois de aplicar o autoencoder"
      ]
    },
    {
      "cell_type": "code",
      "metadata": {
        "id": "-2ppiT0zXI5S",
        "colab_type": "code",
        "colab": {
          "base_uri": "https://localhost:8080/",
          "height": 209
        },
        "outputId": "012bf6b6-e783-4aa3-c499-f0267da86e21"
      },
      "source": [
        "fig, axes = plt.subplots(nrows=2, ncols=10, sharex=True, sharey=True, figsize=(20,4))\n",
        "for images, row in zip([noise_x_test[:10], predicted], axes):\n",
        "    for img, ax in zip(images, row):\n",
        "        ax.imshow(img.reshape((28, 28)), cmap='Greys_r')\n",
        "        ax.get_xaxis().set_visible(False)\n",
        "        ax.get_yaxis().set_visible(False)\n",
        "        "
      ],
      "execution_count": 121,
      "outputs": [
        {
          "output_type": "display_data",
          "data": {
            "image/png": "[encoded data removed]",
            "text/plain": [
              "<Figure size 1440x288 with 20 Axes>"
            ]
          },
          "metadata": {
            "tags": [],
            "needs_background": "light"
          }
        }
      ]
    }
  ]
}