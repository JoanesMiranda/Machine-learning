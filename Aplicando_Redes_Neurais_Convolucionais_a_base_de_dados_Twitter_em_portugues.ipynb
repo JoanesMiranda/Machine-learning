{
  "nbformat": 4,
  "nbformat_minor": 0,
  "metadata": {
    "accelerator": "GPU",
    "colab": {
      "name": "Aplicando Redes Neurais Convolucionais a base de dados Twitter em portugues.ipynb",
      "provenance": [],
      "collapsed_sections": [],
      "include_colab_link": true
    },
    "kernelspec": {
      "display_name": "Python 3",
      "name": "python3"
    }
  },
  "cells": [
    {
      "cell_type": "markdown",
      "metadata": {
        "id": "view-in-github",
        "colab_type": "text"
      },
      "source": [
        "<a href=\"https://colab.research.google.com/github/JoanesMiranda/Machine-learning/blob/master/Aplicando_Redes_Neurais_Convolucionais_a_base_de_dados_Twitter_em_portugues.ipynb\" target=\"_parent\"><img src=\"https://colab.research.google.com/assets/colab-badge.svg\" alt=\"Open In Colab\"/></a>"
      ]
    },
    {
      "cell_type": "markdown",
      "metadata": {
        "id": "XmXGRAYvX144"
      },
      "source": [
        "##Unifacisa Centro Universitario\n",
        "\n",
        "- **Curso:** Pós-Graduação em Ciência de Dados.\n",
        "- **Disciplina:**  Processamento de Linguagem Natural.\n",
        "- **Professor:** Jones Granatyr.\n",
        "- **Aluno:** Joanes Miranda de Souto.\n"
      ]
    },
    {
      "cell_type": "markdown",
      "metadata": {
        "id": "EJ6zhycx-LJa"
      },
      "source": [
        "# Etapa 1: Importação das bibliotecas"
      ]
    },
    {
      "cell_type": "code",
      "metadata": {
        "id": "1dfpd7ulxMFP"
      },
      "source": [
        "# Teoria CNN para textos\n",
        "# Classificação de sentimentos com CNN\n",
        "# Teoria RNN\n",
        "# Classificação de sentimentos com RNN\n",
        "# Geração de novos textos com RNN\n",
        "\n",
        "# Transformer\n",
        "# Tradutor de idiomas: EN -> PT\n",
        "# BERT\n",
        "# Q&A\n",
        "# Orange\n",
        "\n",
        "# Base de dados\n",
        "# https://drive.google.com/file/d/1dEhKrvPTli4NK7Aaa2lACx2NvjVwWf9d/view?usp=sharing\n",
        "\n",
        "import numpy as np\n",
        "import math\n",
        "import re\n",
        "import pandas as pd\n",
        "from bs4 import BeautifulSoup\n",
        "from google.colab import drive\n",
        "import zipfile\n",
        "import seaborn as sns\n",
        "import spacy as sp\n",
        "import string\n",
        "import random\n",
        "import spacy\n",
        "import matplotlib.pyplot as plt"
      ],
      "execution_count": null,
      "outputs": []
    },
    {
      "cell_type": "code",
      "metadata": {
        "id": "R4kTMj5HWat7",
        "colab": {
          "base_uri": "https://localhost:8080/"
        },
        "outputId": "9ae69e0b-4dcb-4da8-9650-d3b8aa33f4fd"
      },
      "source": [
        "!python3 -m spacy download pt"
      ],
      "execution_count": null,
      "outputs": [
        {
          "output_type": "stream",
          "text": [
            "Requirement already satisfied: pt_core_news_sm==2.2.5 from https://github.com/explosion/spacy-models/releases/download/pt_core_news_sm-2.2.5/pt_core_news_sm-2.2.5.tar.gz#egg=pt_core_news_sm==2.2.5 in /usr/local/lib/python3.7/dist-packages (2.2.5)\n",
            "Requirement already satisfied: spacy>=2.2.2 in /usr/local/lib/python3.7/dist-packages (from pt_core_news_sm==2.2.5) (2.2.4)\n",
            "Requirement already satisfied: numpy>=1.15.0 in /usr/local/lib/python3.7/dist-packages (from spacy>=2.2.2->pt_core_news_sm==2.2.5) (1.19.5)\n",
            "Requirement already satisfied: murmurhash<1.1.0,>=0.28.0 in /usr/local/lib/python3.7/dist-packages (from spacy>=2.2.2->pt_core_news_sm==2.2.5) (1.0.5)\n",
            "Requirement already satisfied: srsly<1.1.0,>=1.0.2 in /usr/local/lib/python3.7/dist-packages (from spacy>=2.2.2->pt_core_news_sm==2.2.5) (1.0.5)\n",
            "Requirement already satisfied: tqdm<5.0.0,>=4.38.0 in /usr/local/lib/python3.7/dist-packages (from spacy>=2.2.2->pt_core_news_sm==2.2.5) (4.41.1)\n",
            "Requirement already satisfied: catalogue<1.1.0,>=0.0.7 in /usr/local/lib/python3.7/dist-packages (from spacy>=2.2.2->pt_core_news_sm==2.2.5) (1.0.0)\n",
            "Requirement already satisfied: setuptools in /usr/local/lib/python3.7/dist-packages (from spacy>=2.2.2->pt_core_news_sm==2.2.5) (54.2.0)\n",
            "Requirement already satisfied: preshed<3.1.0,>=3.0.2 in /usr/local/lib/python3.7/dist-packages (from spacy>=2.2.2->pt_core_news_sm==2.2.5) (3.0.5)\n",
            "Requirement already satisfied: cymem<2.1.0,>=2.0.2 in /usr/local/lib/python3.7/dist-packages (from spacy>=2.2.2->pt_core_news_sm==2.2.5) (2.0.5)\n",
            "Requirement already satisfied: requests<3.0.0,>=2.13.0 in /usr/local/lib/python3.7/dist-packages (from spacy>=2.2.2->pt_core_news_sm==2.2.5) (2.23.0)\n",
            "Requirement already satisfied: wasabi<1.1.0,>=0.4.0 in /usr/local/lib/python3.7/dist-packages (from spacy>=2.2.2->pt_core_news_sm==2.2.5) (0.8.2)\n",
            "Requirement already satisfied: blis<0.5.0,>=0.4.0 in /usr/local/lib/python3.7/dist-packages (from spacy>=2.2.2->pt_core_news_sm==2.2.5) (0.4.1)\n",
            "Requirement already satisfied: thinc==7.4.0 in /usr/local/lib/python3.7/dist-packages (from spacy>=2.2.2->pt_core_news_sm==2.2.5) (7.4.0)\n",
            "Requirement already satisfied: plac<1.2.0,>=0.9.6 in /usr/local/lib/python3.7/dist-packages (from spacy>=2.2.2->pt_core_news_sm==2.2.5) (1.1.3)\n",
            "Requirement already satisfied: importlib-metadata>=0.20; python_version < \"3.8\" in /usr/local/lib/python3.7/dist-packages (from catalogue<1.1.0,>=0.0.7->spacy>=2.2.2->pt_core_news_sm==2.2.5) (3.10.1)\n",
            "Requirement already satisfied: chardet<4,>=3.0.2 in /usr/local/lib/python3.7/dist-packages (from requests<3.0.0,>=2.13.0->spacy>=2.2.2->pt_core_news_sm==2.2.5) (3.0.4)\n",
            "Requirement already satisfied: urllib3!=1.25.0,!=1.25.1,<1.26,>=1.21.1 in /usr/local/lib/python3.7/dist-packages (from requests<3.0.0,>=2.13.0->spacy>=2.2.2->pt_core_news_sm==2.2.5) (1.24.3)\n",
            "Requirement already satisfied: idna<3,>=2.5 in /usr/local/lib/python3.7/dist-packages (from requests<3.0.0,>=2.13.0->spacy>=2.2.2->pt_core_news_sm==2.2.5) (2.10)\n",
            "Requirement already satisfied: certifi>=2017.4.17 in /usr/local/lib/python3.7/dist-packages (from requests<3.0.0,>=2.13.0->spacy>=2.2.2->pt_core_news_sm==2.2.5) (2020.12.5)\n",
            "Requirement already satisfied: zipp>=0.5 in /usr/local/lib/python3.7/dist-packages (from importlib-metadata>=0.20; python_version < \"3.8\"->catalogue<1.1.0,>=0.0.7->spacy>=2.2.2->pt_core_news_sm==2.2.5) (3.4.1)\n",
            "Requirement already satisfied: typing-extensions>=3.6.4; python_version < \"3.8\" in /usr/local/lib/python3.7/dist-packages (from importlib-metadata>=0.20; python_version < \"3.8\"->catalogue<1.1.0,>=0.0.7->spacy>=2.2.2->pt_core_news_sm==2.2.5) (3.7.4.3)\n",
            "\u001b[38;5;2m✔ Download and installation successful\u001b[0m\n",
            "You can now load the model via spacy.load('pt_core_news_sm')\n",
            "\u001b[38;5;2m✔ Linking successful\u001b[0m\n",
            "/usr/local/lib/python3.7/dist-packages/pt_core_news_sm -->\n",
            "/usr/local/lib/python3.7/dist-packages/spacy/data/pt\n",
            "You can now load the model via spacy.load('pt')\n"
          ],
          "name": "stdout"
        }
      ]
    },
    {
      "cell_type": "code",
      "metadata": {
        "colab": {
          "base_uri": "https://localhost:8080/",
          "height": 35
        },
        "id": "0s8u890hxtSl",
        "outputId": "1cb8d460-426d-400b-a025-17a961175467"
      },
      "source": [
        "%tensorflow_version 2.x\n",
        "import tensorflow as tf\n",
        "tf.__version__"
      ],
      "execution_count": null,
      "outputs": [
        {
          "output_type": "execute_result",
          "data": {
            "application/vnd.google.colaboratory.intrinsic+json": {
              "type": "string"
            },
            "text/plain": [
              "'2.4.1'"
            ]
          },
          "metadata": {
            "tags": []
          },
          "execution_count": 305
        }
      ]
    },
    {
      "cell_type": "code",
      "metadata": {
        "id": "Z9C_Vycux_4G"
      },
      "source": [
        "from tensorflow.keras import layers\n",
        "import tensorflow_datasets as tfds"
      ],
      "execution_count": null,
      "outputs": []
    },
    {
      "cell_type": "markdown",
      "metadata": {
        "id": "WN8EilQG-cwa"
      },
      "source": [
        "# Etapa 2: Pré-processamento dos dados"
      ]
    },
    {
      "cell_type": "markdown",
      "metadata": {
        "id": "52CTV4_q-hpX"
      },
      "source": [
        "## Carregamento dos arquivos"
      ]
    },
    {
      "cell_type": "code",
      "metadata": {
        "id": "fmWWefFpTAUp"
      },
      "source": [
        "train_data = pd.read_csv('/content/Train50.csv', delimiter=\";\")"
      ],
      "execution_count": null,
      "outputs": []
    },
    {
      "cell_type": "code",
      "metadata": {
        "colab": {
          "base_uri": "https://localhost:8080/"
        },
        "id": "IH2qPu020S-O",
        "outputId": "ffac22d7-a10d-45f3-bf2a-6377c35cd05e"
      },
      "source": [
        "train_data.shape"
      ],
      "execution_count": null,
      "outputs": [
        {
          "output_type": "execute_result",
          "data": {
            "text/plain": [
              "(50000, 5)"
            ]
          },
          "metadata": {
            "tags": []
          },
          "execution_count": 308
        }
      ]
    },
    {
      "cell_type": "code",
      "metadata": {
        "colab": {
          "base_uri": "https://localhost:8080/",
          "height": 204
        },
        "id": "ipULVOik0kIv",
        "outputId": "61a200db-08fd-483f-8868-33ca51004698"
      },
      "source": [
        "train_data.head()"
      ],
      "execution_count": null,
      "outputs": [
        {
          "output_type": "execute_result",
          "data": {
            "text/html": [
              "<div>\n",
              "<style scoped>\n",
              "    .dataframe tbody tr th:only-of-type {\n",
              "        vertical-align: middle;\n",
              "    }\n",
              "\n",
              "    .dataframe tbody tr th {\n",
              "        vertical-align: top;\n",
              "    }\n",
              "\n",
              "    .dataframe thead th {\n",
              "        text-align: right;\n",
              "    }\n",
              "</style>\n",
              "<table border=\"1\" class=\"dataframe\">\n",
              "  <thead>\n",
              "    <tr style=\"text-align: right;\">\n",
              "      <th></th>\n",
              "      <th>id</th>\n",
              "      <th>tweet_text</th>\n",
              "      <th>tweet_date</th>\n",
              "      <th>sentiment</th>\n",
              "      <th>query_used</th>\n",
              "    </tr>\n",
              "  </thead>\n",
              "  <tbody>\n",
              "    <tr>\n",
              "      <th>0</th>\n",
              "      <td>1050785521201541121</td>\n",
              "      <td>@Laranjito76 A pessoa certa para isso seria o ...</td>\n",
              "      <td>Fri Oct 12 16:29:25 +0000 2018</td>\n",
              "      <td>1</td>\n",
              "      <td>:)</td>\n",
              "    </tr>\n",
              "    <tr>\n",
              "      <th>1</th>\n",
              "      <td>1050785431955140608</td>\n",
              "      <td>@behin_d_curtain Para mim, é precisamente o co...</td>\n",
              "      <td>Fri Oct 12 16:29:04 +0000 2018</td>\n",
              "      <td>1</td>\n",
              "      <td>:)</td>\n",
              "    </tr>\n",
              "    <tr>\n",
              "      <th>2</th>\n",
              "      <td>1050785401248645120</td>\n",
              "      <td>Vou fazer um video hoje... estou pensando em f...</td>\n",
              "      <td>Fri Oct 12 16:28:56 +0000 2018</td>\n",
              "      <td>1</td>\n",
              "      <td>:)</td>\n",
              "    </tr>\n",
              "    <tr>\n",
              "      <th>3</th>\n",
              "      <td>1050785370982547461</td>\n",
              "      <td>aaaaaaaa amei tanto essas polaroids, nem sei e...</td>\n",
              "      <td>Fri Oct 12 16:28:49 +0000 2018</td>\n",
              "      <td>1</td>\n",
              "      <td>:)</td>\n",
              "    </tr>\n",
              "    <tr>\n",
              "      <th>4</th>\n",
              "      <td>1050785368902131713</td>\n",
              "      <td>Valoriza o coração do menininho que vc tem. El...</td>\n",
              "      <td>Fri Oct 12 16:28:49 +0000 2018</td>\n",
              "      <td>1</td>\n",
              "      <td>:)</td>\n",
              "    </tr>\n",
              "  </tbody>\n",
              "</table>\n",
              "</div>"
            ],
            "text/plain": [
              "                    id  ... query_used\n",
              "0  1050785521201541121  ...         :)\n",
              "1  1050785431955140608  ...         :)\n",
              "2  1050785401248645120  ...         :)\n",
              "3  1050785370982547461  ...         :)\n",
              "4  1050785368902131713  ...         :)\n",
              "\n",
              "[5 rows x 5 columns]"
            ]
          },
          "metadata": {
            "tags": []
          },
          "execution_count": 309
        }
      ]
    },
    {
      "cell_type": "code",
      "metadata": {
        "colab": {
          "base_uri": "https://localhost:8080/",
          "height": 289
        },
        "id": "-lcG4i170rHC",
        "outputId": "81c6bcdd-5c37-4c55-dfec-b5336b0c8713"
      },
      "source": [
        "train_data.tail()"
      ],
      "execution_count": null,
      "outputs": [
        {
          "output_type": "execute_result",
          "data": {
            "text/html": [
              "<div>\n",
              "<style scoped>\n",
              "    .dataframe tbody tr th:only-of-type {\n",
              "        vertical-align: middle;\n",
              "    }\n",
              "\n",
              "    .dataframe tbody tr th {\n",
              "        vertical-align: top;\n",
              "    }\n",
              "\n",
              "    .dataframe thead th {\n",
              "        text-align: right;\n",
              "    }\n",
              "</style>\n",
              "<table border=\"1\" class=\"dataframe\">\n",
              "  <thead>\n",
              "    <tr style=\"text-align: right;\">\n",
              "      <th></th>\n",
              "      <th>id</th>\n",
              "      <th>tweet_text</th>\n",
              "      <th>tweet_date</th>\n",
              "      <th>sentiment</th>\n",
              "      <th>query_used</th>\n",
              "    </tr>\n",
              "  </thead>\n",
              "  <tbody>\n",
              "    <tr>\n",
              "      <th>49995</th>\n",
              "      <td>1046762827053232128</td>\n",
              "      <td>:( é tão lindo que dói https://t.co/GqnpgyWWxB</td>\n",
              "      <td>Mon Oct 01 14:04:40 +0000 2018</td>\n",
              "      <td>0</td>\n",
              "      <td>:(</td>\n",
              "    </tr>\n",
              "    <tr>\n",
              "      <th>49996</th>\n",
              "      <td>1046762813362966529</td>\n",
              "      <td>@veraluciarj Pois é.. tenho problema c/ \"coisa...</td>\n",
              "      <td>Mon Oct 01 14:04:37 +0000 2018</td>\n",
              "      <td>0</td>\n",
              "      <td>:(</td>\n",
              "    </tr>\n",
              "    <tr>\n",
              "      <th>49997</th>\n",
              "      <td>1046762806392082432</td>\n",
              "      <td>eu te amo tanto minja vidinha meu bem mais pre...</td>\n",
              "      <td>Mon Oct 01 14:04:35 +0000 2018</td>\n",
              "      <td>0</td>\n",
              "      <td>:(</td>\n",
              "    </tr>\n",
              "    <tr>\n",
              "      <th>49998</th>\n",
              "      <td>1046762752071618560</td>\n",
              "      <td>@itsLary @jessboluda Pfvor :(</td>\n",
              "      <td>Mon Oct 01 14:04:22 +0000 2018</td>\n",
              "      <td>0</td>\n",
              "      <td>:(</td>\n",
              "    </tr>\n",
              "    <tr>\n",
              "      <th>49999</th>\n",
              "      <td>1046762735340584962</td>\n",
              "      <td>@Renk_lol Passa ano Entra ano Eu nao desisto d...</td>\n",
              "      <td>Mon Oct 01 14:04:18 +0000 2018</td>\n",
              "      <td>0</td>\n",
              "      <td>:(</td>\n",
              "    </tr>\n",
              "  </tbody>\n",
              "</table>\n",
              "</div>"
            ],
            "text/plain": [
              "                        id  ... query_used\n",
              "49995  1046762827053232128  ...         :(\n",
              "49996  1046762813362966529  ...         :(\n",
              "49997  1046762806392082432  ...         :(\n",
              "49998  1046762752071618560  ...         :(\n",
              "49999  1046762735340584962  ...         :(\n",
              "\n",
              "[5 rows x 5 columns]"
            ]
          },
          "metadata": {
            "tags": []
          },
          "execution_count": 310
        }
      ]
    },
    {
      "cell_type": "code",
      "metadata": {
        "colab": {
          "base_uri": "https://localhost:8080/"
        },
        "id": "qs3Sxcs9003F",
        "outputId": "79dd19fc-61c8-4f0a-f65b-46ead60abcca"
      },
      "source": [
        "train_data.sentiment.unique()"
      ],
      "execution_count": null,
      "outputs": [
        {
          "output_type": "execute_result",
          "data": {
            "text/plain": [
              "array([1, 0])"
            ]
          },
          "metadata": {
            "tags": []
          },
          "execution_count": 311
        }
      ]
    },
    {
      "cell_type": "code",
      "metadata": {
        "colab": {
          "base_uri": "https://localhost:8080/",
          "height": 333
        },
        "id": "0je-FuRH05dp",
        "outputId": "6c67bad3-55c7-4091-ecb1-fca4d29738ba"
      },
      "source": [
        "sns.countplot(train_data.sentiment);"
      ],
      "execution_count": null,
      "outputs": [
        {
          "output_type": "stream",
          "text": [
            "/usr/local/lib/python3.7/dist-packages/seaborn/_decorators.py:43: FutureWarning: Pass the following variable as a keyword arg: x. From version 0.12, the only valid positional argument will be `data`, and passing other arguments without an explicit keyword will result in an error or misinterpretation.\n",
            "  FutureWarning\n"
          ],
          "name": "stderr"
        },
        {
          "output_type": "display_data",
          "data": {
            "image/png": "[encoded data removed]",
            "text/plain": [
              "<Figure size 432x288 with 1 Axes>"
            ]
          },
          "metadata": {
            "tags": [],
            "needs_background": "light"
          }
        }
      ]
    },
    {
      "cell_type": "code",
      "metadata": {
        "id": "9yhFKqD6TSWC"
      },
      "source": [
        "test_data = pd.read_csv(\"/content/Test.csv\",delimiter=\";\")"
      ],
      "execution_count": null,
      "outputs": []
    },
    {
      "cell_type": "code",
      "metadata": {
        "colab": {
          "base_uri": "https://localhost:8080/",
          "height": 289
        },
        "id": "iz4_kdXcNrK_",
        "outputId": "1aa75837-e7bf-4913-a3b8-f4b4b68c44f8"
      },
      "source": [
        "test_data.head()"
      ],
      "execution_count": null,
      "outputs": [
        {
          "output_type": "execute_result",
          "data": {
            "text/html": [
              "<div>\n",
              "<style scoped>\n",
              "    .dataframe tbody tr th:only-of-type {\n",
              "        vertical-align: middle;\n",
              "    }\n",
              "\n",
              "    .dataframe tbody tr th {\n",
              "        vertical-align: top;\n",
              "    }\n",
              "\n",
              "    .dataframe thead th {\n",
              "        text-align: right;\n",
              "    }\n",
              "</style>\n",
              "<table border=\"1\" class=\"dataframe\">\n",
              "  <thead>\n",
              "    <tr style=\"text-align: right;\">\n",
              "      <th></th>\n",
              "      <th>id</th>\n",
              "      <th>tweet_text</th>\n",
              "      <th>tweet_date</th>\n",
              "      <th>sentiment</th>\n",
              "      <th>query_used</th>\n",
              "    </tr>\n",
              "  </thead>\n",
              "  <tbody>\n",
              "    <tr>\n",
              "      <th>0</th>\n",
              "      <td>1029536486021099522</td>\n",
              "      <td>@Gazo1a Nossa! Muito obrigada :)</td>\n",
              "      <td>Wed Aug 15 01:13:20 +0000 2018</td>\n",
              "      <td>1</td>\n",
              "      <td>:)</td>\n",
              "    </tr>\n",
              "    <tr>\n",
              "      <th>1</th>\n",
              "      <td>1029536496368406528</td>\n",
              "      <td>@BerzGamer vai pa puta que te pariu :)</td>\n",
              "      <td>Wed Aug 15 01:13:23 +0000 2018</td>\n",
              "      <td>1</td>\n",
              "      <td>:)</td>\n",
              "    </tr>\n",
              "    <tr>\n",
              "      <th>2</th>\n",
              "      <td>1029536531655131137</td>\n",
              "      <td>QUER MAIS DESCONTOS? (14/08) ⭐⭐⭐⭐⭐ 🌐 Confira n...</td>\n",
              "      <td>Wed Aug 15 01:13:31 +0000 2018</td>\n",
              "      <td>1</td>\n",
              "      <td>:)</td>\n",
              "    </tr>\n",
              "    <tr>\n",
              "      <th>3</th>\n",
              "      <td>1029536560117678081</td>\n",
              "      <td>EU VOU PEGAR VCS, ME AJUDEM GALERA, PELO AMOR ...</td>\n",
              "      <td>Wed Aug 15 01:13:38 +0000 2018</td>\n",
              "      <td>1</td>\n",
              "      <td>:)</td>\n",
              "    </tr>\n",
              "    <tr>\n",
              "      <th>4</th>\n",
              "      <td>1029536605852377088</td>\n",
              "      <td>Estávamos em casa do Zé e eu estava a morrer d...</td>\n",
              "      <td>Wed Aug 15 01:13:49 +0000 2018</td>\n",
              "      <td>1</td>\n",
              "      <td>:)</td>\n",
              "    </tr>\n",
              "  </tbody>\n",
              "</table>\n",
              "</div>"
            ],
            "text/plain": [
              "                    id  ... query_used\n",
              "0  1029536486021099522  ...         :)\n",
              "1  1029536496368406528  ...         :)\n",
              "2  1029536531655131137  ...         :)\n",
              "3  1029536560117678081  ...         :)\n",
              "4  1029536605852377088  ...         :)\n",
              "\n",
              "[5 rows x 5 columns]"
            ]
          },
          "metadata": {
            "tags": []
          },
          "execution_count": 314
        }
      ]
    },
    {
      "cell_type": "code",
      "metadata": {
        "colab": {
          "base_uri": "https://localhost:8080/"
        },
        "id": "70F6_Qg9Nb20",
        "outputId": "4093c481-70a3-496e-e3c7-1b8ec22ba771"
      },
      "source": [
        "test_data.shape"
      ],
      "execution_count": null,
      "outputs": [
        {
          "output_type": "execute_result",
          "data": {
            "text/plain": [
              "(5000, 5)"
            ]
          },
          "metadata": {
            "tags": []
          },
          "execution_count": 315
        }
      ]
    },
    {
      "cell_type": "code",
      "metadata": {
        "colab": {
          "base_uri": "https://localhost:8080/"
        },
        "id": "4TGNfarsNkb1",
        "outputId": "73dd20a1-7ccc-497f-8d90-fbe76825b11a"
      },
      "source": [
        "test_data.sentiment.unique()"
      ],
      "execution_count": null,
      "outputs": [
        {
          "output_type": "execute_result",
          "data": {
            "text/plain": [
              "array([1, 0])"
            ]
          },
          "metadata": {
            "tags": []
          },
          "execution_count": 316
        }
      ]
    },
    {
      "cell_type": "code",
      "metadata": {
        "colab": {
          "base_uri": "https://localhost:8080/",
          "height": 333
        },
        "id": "Wr4JUrsPNgi1",
        "outputId": "6b5d205c-ffed-4738-af35-14d236f70339"
      },
      "source": [
        "sns.countplot(test_data.sentiment);"
      ],
      "execution_count": null,
      "outputs": [
        {
          "output_type": "stream",
          "text": [
            "/usr/local/lib/python3.7/dist-packages/seaborn/_decorators.py:43: FutureWarning: Pass the following variable as a keyword arg: x. From version 0.12, the only valid positional argument will be `data`, and passing other arguments without an explicit keyword will result in an error or misinterpretation.\n",
            "  FutureWarning\n"
          ],
          "name": "stderr"
        },
        {
          "output_type": "display_data",
          "data": {
            "image/png": "[encoded data removed]",
            "text/plain": [
              "<Figure size 432x288 with 1 Axes>"
            ]
          },
          "metadata": {
            "tags": [],
            "needs_background": "light"
          }
        }
      ]
    },
    {
      "cell_type": "markdown",
      "metadata": {
        "id": "6CsZKJx1-2Ep"
      },
      "source": [
        "## Pré-processamento"
      ]
    },
    {
      "cell_type": "markdown",
      "metadata": {
        "id": "FLWayJ-5-7nN"
      },
      "source": [
        "### Limpeza"
      ]
    },
    {
      "cell_type": "code",
      "metadata": {
        "id": "hgcKJ8jo2IAU"
      },
      "source": [
        "data = train_data"
      ],
      "execution_count": null,
      "outputs": []
    },
    {
      "cell_type": "code",
      "metadata": {
        "id": "3fttIwLyTpby"
      },
      "source": [
        "data.drop(['id', 'tweet_date', 'query_used'], axis = 1, inplace=True)"
      ],
      "execution_count": null,
      "outputs": []
    },
    {
      "cell_type": "code",
      "metadata": {
        "colab": {
          "base_uri": "https://localhost:8080/",
          "height": 204
        },
        "id": "-rn747Zk2gwp",
        "outputId": "11234b07-2db9-4904-947a-94c555896469"
      },
      "source": [
        "data.head()"
      ],
      "execution_count": null,
      "outputs": [
        {
          "output_type": "execute_result",
          "data": {
            "text/html": [
              "<div>\n",
              "<style scoped>\n",
              "    .dataframe tbody tr th:only-of-type {\n",
              "        vertical-align: middle;\n",
              "    }\n",
              "\n",
              "    .dataframe tbody tr th {\n",
              "        vertical-align: top;\n",
              "    }\n",
              "\n",
              "    .dataframe thead th {\n",
              "        text-align: right;\n",
              "    }\n",
              "</style>\n",
              "<table border=\"1\" class=\"dataframe\">\n",
              "  <thead>\n",
              "    <tr style=\"text-align: right;\">\n",
              "      <th></th>\n",
              "      <th>tweet_text</th>\n",
              "      <th>sentiment</th>\n",
              "    </tr>\n",
              "  </thead>\n",
              "  <tbody>\n",
              "    <tr>\n",
              "      <th>0</th>\n",
              "      <td>@Laranjito76 A pessoa certa para isso seria o ...</td>\n",
              "      <td>1</td>\n",
              "    </tr>\n",
              "    <tr>\n",
              "      <th>1</th>\n",
              "      <td>@behin_d_curtain Para mim, é precisamente o co...</td>\n",
              "      <td>1</td>\n",
              "    </tr>\n",
              "    <tr>\n",
              "      <th>2</th>\n",
              "      <td>Vou fazer um video hoje... estou pensando em f...</td>\n",
              "      <td>1</td>\n",
              "    </tr>\n",
              "    <tr>\n",
              "      <th>3</th>\n",
              "      <td>aaaaaaaa amei tanto essas polaroids, nem sei e...</td>\n",
              "      <td>1</td>\n",
              "    </tr>\n",
              "    <tr>\n",
              "      <th>4</th>\n",
              "      <td>Valoriza o coração do menininho que vc tem. El...</td>\n",
              "      <td>1</td>\n",
              "    </tr>\n",
              "  </tbody>\n",
              "</table>\n",
              "</div>"
            ],
            "text/plain": [
              "                                          tweet_text  sentiment\n",
              "0  @Laranjito76 A pessoa certa para isso seria o ...          1\n",
              "1  @behin_d_curtain Para mim, é precisamente o co...          1\n",
              "2  Vou fazer um video hoje... estou pensando em f...          1\n",
              "3  aaaaaaaa amei tanto essas polaroids, nem sei e...          1\n",
              "4  Valoriza o coração do menininho que vc tem. El...          1"
            ]
          },
          "metadata": {
            "tags": []
          },
          "execution_count": 320
        }
      ]
    },
    {
      "cell_type": "code",
      "metadata": {
        "id": "ufHeTh612mev"
      },
      "source": [
        "X = data.iloc[:, 0].values"
      ],
      "execution_count": null,
      "outputs": []
    },
    {
      "cell_type": "code",
      "metadata": {
        "colab": {
          "base_uri": "https://localhost:8080/"
        },
        "id": "8i6-FOPH2zrS",
        "outputId": "3d87eb9e-26bb-4e29-fd7e-3561f048a2bf"
      },
      "source": [
        "X"
      ],
      "execution_count": null,
      "outputs": [
        {
          "output_type": "execute_result",
          "data": {
            "text/plain": [
              "array(['@Laranjito76 A pessoa certa para isso seria o vale e azevedo :)',\n",
              "       '@behin_d_curtain Para mim, é precisamente o contrário :) Vem a chuva e vem a boa disposição :)',\n",
              "       'Vou fazer um video hoje... estou pensando em falar um pouco sobre o novo meta do CSGO e sobre a pagina https://t.co/5RjhKnj0oh Alguem tem uma sugestao? Queria falar sobre algo do cenario nacional :D',\n",
              "       ...,\n",
              "       'eu te amo tanto minja vidinha meu bem mais precioso me desculpa ser uma péssima utted mas eu te amo mais que tudo nem palavras é capaz de explicar o tamanho do amor que sinto por ti :(((( https://t.co/4ND7F203et',\n",
              "       '@itsLary @jessboluda Pfvor :(',\n",
              "       '@Renk_lol Passa ano Entra ano Eu nao desisto do NA :('],\n",
              "      dtype=object)"
            ]
          },
          "metadata": {
            "tags": []
          },
          "execution_count": 322
        }
      ]
    },
    {
      "cell_type": "code",
      "metadata": {
        "colab": {
          "base_uri": "https://localhost:8080/"
        },
        "id": "vxb9dUzY22O7",
        "outputId": "71e7b566-f0f7-4e09-8dff-82e0f6fc6f0e"
      },
      "source": [
        "X.shape"
      ],
      "execution_count": null,
      "outputs": [
        {
          "output_type": "execute_result",
          "data": {
            "text/plain": [
              "(50000,)"
            ]
          },
          "metadata": {
            "tags": []
          },
          "execution_count": 323
        }
      ]
    },
    {
      "cell_type": "code",
      "metadata": {
        "colab": {
          "base_uri": "https://localhost:8080/"
        },
        "id": "G1xQNeQC253m",
        "outputId": "94b906ac-4f63-45c8-e765-4ec0490570a9"
      },
      "source": [
        "type(X)"
      ],
      "execution_count": null,
      "outputs": [
        {
          "output_type": "execute_result",
          "data": {
            "text/plain": [
              "numpy.ndarray"
            ]
          },
          "metadata": {
            "tags": []
          },
          "execution_count": 324
        }
      ]
    },
    {
      "cell_type": "code",
      "metadata": {
        "colab": {
          "base_uri": "https://localhost:8080/"
        },
        "id": "AubTH1vn2_FX",
        "outputId": "0537bb37-8b4d-4b0c-bbd9-d03097b450fb"
      },
      "source": [
        "y = data.iloc[:, 1].values\n",
        "y"
      ],
      "execution_count": null,
      "outputs": [
        {
          "output_type": "execute_result",
          "data": {
            "text/plain": [
              "array([1, 1, 1, ..., 0, 0, 0])"
            ]
          },
          "metadata": {
            "tags": []
          },
          "execution_count": 325
        }
      ]
    },
    {
      "cell_type": "code",
      "metadata": {
        "id": "w_b_QPYQ3Ep-"
      },
      "source": [
        "from sklearn.model_selection import train_test_split\n",
        "X, _, y, _ = train_test_split(X, y, test_size = 0.85, stratify = y)"
      ],
      "execution_count": null,
      "outputs": []
    },
    {
      "cell_type": "code",
      "metadata": {
        "colab": {
          "base_uri": "https://localhost:8080/"
        },
        "id": "k2f37zL63qWd",
        "outputId": "83d62a3b-b33a-402c-a6c9-c72265ef5c55"
      },
      "source": [
        "X.shape"
      ],
      "execution_count": null,
      "outputs": [
        {
          "output_type": "execute_result",
          "data": {
            "text/plain": [
              "(7500,)"
            ]
          },
          "metadata": {
            "tags": []
          },
          "execution_count": 327
        }
      ]
    },
    {
      "cell_type": "code",
      "metadata": {
        "colab": {
          "base_uri": "https://localhost:8080/"
        },
        "id": "XJm3bSbL3t6M",
        "outputId": "d77917c5-137e-4079-c888-151ba2609d36"
      },
      "source": [
        "y.shape"
      ],
      "execution_count": null,
      "outputs": [
        {
          "output_type": "execute_result",
          "data": {
            "text/plain": [
              "(7500,)"
            ]
          },
          "metadata": {
            "tags": []
          },
          "execution_count": 328
        }
      ]
    },
    {
      "cell_type": "code",
      "metadata": {
        "colab": {
          "base_uri": "https://localhost:8080/"
        },
        "id": "wt7qG0FC3xMJ",
        "outputId": "08589961-26e7-4f60-c3ac-b055d9fdf4c8"
      },
      "source": [
        "unique, counts = np.unique(y, return_counts=True)\n",
        "unique, counts"
      ],
      "execution_count": null,
      "outputs": [
        {
          "output_type": "execute_result",
          "data": {
            "text/plain": [
              "(array([0, 1]), array([3750, 3750]))"
            ]
          },
          "metadata": {
            "tags": []
          },
          "execution_count": 329
        }
      ]
    },
    {
      "cell_type": "code",
      "metadata": {
        "id": "H7FmwPT14sW-"
      },
      "source": [
        "def clean_tweets(tweet):\n",
        "  tweet = BeautifulSoup(tweet, 'lxml').get_text()\n",
        "  tweet = re.sub(r\"@[A-Za-z0-9]+\", ' ', tweet)\n",
        "  tweet = re.sub(r\"https?://[A-Za-z0-9./]+\", ' ', tweet)\n",
        "  tweet = re.sub(r\"[^a-zA-Z.!?]\", ' ', tweet)\n",
        "  tweet = re.sub(r\" +\", ' ', tweet)\n",
        "  return tweet"
      ],
      "execution_count": null,
      "outputs": []
    },
    {
      "cell_type": "code",
      "metadata": {
        "id": "cHmUE8DZOOUR"
      },
      "source": [
        "text = '@behin_d_curtain :D Para :( mim, http://www.iaexpert.com.br é precisamente o contrário :) Vem a chuva e vem a boa disposição :)'"
      ],
      "execution_count": null,
      "outputs": []
    },
    {
      "cell_type": "code",
      "metadata": {
        "colab": {
          "base_uri": "https://localhost:8080/",
          "height": 35
        },
        "id": "MP-hnjvy5BIC",
        "outputId": "8b33ff27-7f8b-4d1d-81e0-8b1ec6ea1567"
      },
      "source": [
        "text = clean_tweets(text)\n",
        "text"
      ],
      "execution_count": null,
      "outputs": [
        {
          "output_type": "execute_result",
          "data": {
            "application/vnd.google.colaboratory.intrinsic+json": {
              "type": "string"
            },
            "text/plain": [
              "' d curtain D Para mim precisamente o contr rio Vem a chuva e vem a boa disposi o '"
            ]
          },
          "metadata": {
            "tags": []
          },
          "execution_count": 332
        }
      ]
    },
    {
      "cell_type": "code",
      "metadata": {
        "colab": {
          "base_uri": "https://localhost:8080/"
        },
        "id": "Kz3QRjtKWtDW",
        "outputId": "eebe764a-139e-4a56-94e8-1352b62f8fd2"
      },
      "source": [
        "pln = spacy.load('pt')\n",
        "pln"
      ],
      "execution_count": null,
      "outputs": [
        {
          "output_type": "execute_result",
          "data": {
            "text/plain": [
              "<spacy.lang.pt.Portuguese at 0x7fbb4b026310>"
            ]
          },
          "metadata": {
            "tags": []
          },
          "execution_count": 333
        }
      ]
    },
    {
      "cell_type": "code",
      "metadata": {
        "id": "as-SxDtI7sBP"
      },
      "source": [
        "stop_words = sp.lang.pt.STOP_WORDS"
      ],
      "execution_count": null,
      "outputs": []
    },
    {
      "cell_type": "code",
      "metadata": {
        "colab": {
          "base_uri": "https://localhost:8080/"
        },
        "id": "s3O0rC3u7xyN",
        "outputId": "19947a87-009a-47dc-90aa-eae75b02f31e"
      },
      "source": [
        "print(stop_words)"
      ],
      "execution_count": null,
      "outputs": [
        {
          "output_type": "stream",
          "text": [
            "{'coisa', 'povo', 'antes', 'sim', 'pela', 'tiveste', 'estes', 'cima', 'inicio', 'momento', 'questão', 'onze', 'ainda', 'oito', 'mês', 'meus', 'à', 'os', 'faço', 'saber', 'tais', 'eles', 'depois', 'foi', 'pouco', 'quanto', 'para', 'esse', 'vossos', 'pegar', 'esteve', 'estás', 'fazem', 'vens', 'quarto', 'direita', 'sob', 'ela', 'fim', 'inclusive', 'tempo', 'de', 'dezasseis', 'até', 'novos', 'isso', 'que', 'neste', 'vossa', 'todo', 'seus', 'somente', 'temos', 'daquela', 'tentar', 'devem', 'contra', 'onde', 'podem', 'enquanto', 'diante', 'era', 'quinze', 'estivestes', 'sempre', 'três', 'apoio', 'está', 'vezes', 'catorze', 'dizem', 'vinte', 'nessa', 'faz', 'têm', 'vários', 'oitavo', 'me', 'quê', 'oitava', 'querem', 'aqui', 'treze', 'tivestes', 'tuas', 'pelo', 'aquelas', 'sois', 'logo', 'ver', 'contudo', 'vêm', 'no', 'ontem', 'qual', 'dez', 'quatro', 'ademais', 'algumas', 'diz', 'sobre', 'ao', 'vocês', 'falta', 'sei', 'nenhuma', 'qualquer', 'desta', 'grupo', 'tão', 'sétima', 'grandes', 'nós', 'vais', 'vez', 'disso', 'ali', 'outras', 'porquê', 'deve', 'ora', 'tente', 'próximo', 'ponto', 'minha', 'ser', 'após', 'teve', 'você', 'tentaram', 'fazer', 'eventual', 'novo', 'grande', 'apoia', 'quieto', 'nossa', 'cedo', 'naquele', 'põem', 'quais', 'primeiro', 'corrente', 'te', 'pouca', 'se', 'mesmo', 'quer', 'teus', 'seria', 'fostes', 'maiorias', 'terceiro', 'vai', 'número', 'ou', 'agora', 'nível', 'porquanto', 'local', 'uns', 'outros', 'deste', 'muito', 'caminho', 'essa', 'com', 'dois', 'outra', 'vem', 'isto', 'dá', 'quarta', 'estão', 'custa', 'valor', 'usar', 'vão', 'és', 'desse', 'embora', 'quero', 'novas', 'cinco', 'mal', 'tendes', 'lá', 'sabe', 'nos', 'possivelmente', 'eu', 'apenas', 'uma', 'conhecida', 'tens', 'certamente', 'pode', 'ambas', 'mil', 'do', 'poder', 'em', 'deverá', 'então', 'posição', 'talvez', 'nuns', 'cada', 'veja', 'daquele', 'além', 'nove', 'doze', 'zero', 'das', 'nem', 'foste', 'geral', 'partir', 'estiveste', 'umas', 'quieta', 'tanto', 'tipo', 'aquela', 'elas', 'mas', 'des', 'primeira', 'próprio', 'possível', 'dizer', 'são', 'às', 'numa', 'bastante', 'já', 'bom', 'obrigado', 'nova', 'números', 'nesta', 'podia', 'boa', 'fazeis', 'ele', 'pontos', 'vinda', 'somos', 'num', 'próxima', 'aí', 'nossos', 'dão', 'dar', 'ir', 'também', 'foram', 'aqueles', 'assim', 'pelas', 'área', 'relação', 'esta', 'muitos', 'sou', 'através', 'duas', 'nossas', 'não', 'da', 'nosso', 'tem', 'parece', 'pôde', 'seis', 'dezoito', 'ligado', 'baixo', 'pelos', 'for', 'menos', 'meio', 'dos', 'sexto', 'último', 'vós', 'quinto', 'ambos', 'forma', 'iniciar', 'estará', 'aos', 'vossas', 'vosso', 'breve', 'comprido', 'um', 'fazes', 'lugar', 'usa', 'só', 'toda', 'minhas', 'dezassete', 'por', 'quando', 'algo', 'acerca', 'estou', 'maior', 'demais', 'obrigada', 'sua', 'tudo', 'máximo', 'fez', 'quinta', 'ter', 'na', 'comprida', 'sétimo', 'estar', 'menor', 'cá', 'quem', 'põe', 'portanto', 'aquilo', 'meses', 'posso', 'alguns', 'apontar', 'dentro', 'poderá', 'lado', 'bem', 'como', 'tu', 'este', 'nada', 'atrás', 'teu', 'tiveram', 'porque', 'adeus', 'é', 'estive', 'nesse', 'segundo', 'seu', 'sexta', 'as', 'nunca', 'fazemos', 'essas', 'suas', 'fazia', 'tarde', 'todos', 'irá', 'fui', 'longe', 'entre', 'terceira', 'vos', 'tivemos', 'puderam', 'perto', 'debaixo', 'sete', 'fará', 'dessa', 'sistema', 'maioria', 'estiveram', 'cento', 'parte', 'segunda', 'tanta', 'certeza', 'nas', 'estava', 'tentei', 'estivemos', 'desde', 'porém', 'cuja', 'esses', 'vindo', 'estas', 'sem', 'conselho', 'favor', 'exemplo', 'todas', 'estado', 'pois', 'conhecido', 'cujo', 'tive', 'final', 'fora', 'fomos', 'tua', 'tenho', 'naquela', 'lhe', 'dezanove', 'mais', 'aquele', 'meu', 'tal'}\n"
          ],
          "name": "stdout"
        }
      ]
    },
    {
      "cell_type": "code",
      "metadata": {
        "colab": {
          "base_uri": "https://localhost:8080/"
        },
        "id": "5bYoV0pD70yQ",
        "outputId": "c972fa0b-0cd6-4107-b2c4-83caaeffa2de"
      },
      "source": [
        "len(stop_words)"
      ],
      "execution_count": null,
      "outputs": [
        {
          "output_type": "execute_result",
          "data": {
            "text/plain": [
              "413"
            ]
          },
          "metadata": {
            "tags": []
          },
          "execution_count": 336
        }
      ]
    },
    {
      "cell_type": "code",
      "metadata": {
        "colab": {
          "base_uri": "https://localhost:8080/",
          "height": 35
        },
        "id": "vGHvLXiJ9qQC",
        "outputId": "c6b759f3-dd20-4dfb-ef3d-a92539464f01"
      },
      "source": [
        "string.punctuation"
      ],
      "execution_count": null,
      "outputs": [
        {
          "output_type": "execute_result",
          "data": {
            "application/vnd.google.colaboratory.intrinsic+json": {
              "type": "string"
            },
            "text/plain": [
              "'!\"#$%&\\'()*+,-./:;<=>?@[\\\\]^_`{|}~'"
            ]
          },
          "metadata": {
            "tags": []
          },
          "execution_count": 337
        }
      ]
    },
    {
      "cell_type": "code",
      "metadata": {
        "id": "Zk-HcIoT7-hh"
      },
      "source": [
        "def clean_tweets2(tweet):\n",
        "  tweet = tweet.lower()\n",
        "  document = pln(tweet)\n",
        "\n",
        "  words = []\n",
        "  for token in document:\n",
        "    words.append(token.text)\n",
        "\n",
        "  words = [word for word in words if word not in stop_words and word not in string.punctuation]\n",
        "  words = ' '.join([str(element) for element in words])\n",
        "\n",
        "  return words"
      ],
      "execution_count": null,
      "outputs": []
    },
    {
      "cell_type": "code",
      "metadata": {
        "colab": {
          "base_uri": "https://localhost:8080/",
          "height": 35
        },
        "id": "JNvx3x408hTK",
        "outputId": "8e7adc5a-e2ed-4b6f-a0ac-1a09dd8c838e"
      },
      "source": [
        "text2 = clean_tweets2(text)\n",
        "text2"
      ],
      "execution_count": null,
      "outputs": [
        {
          "output_type": "execute_result",
          "data": {
            "application/vnd.google.colaboratory.intrinsic+json": {
              "type": "string"
            },
            "text/plain": [
              "'  d curtain d mim precisamente o contr rio a chuva e a disposi o'"
            ]
          },
          "metadata": {
            "tags": []
          },
          "execution_count": 339
        }
      ]
    },
    {
      "cell_type": "code",
      "metadata": {
        "id": "L6eJcZog-Ze1"
      },
      "source": [
        "data_clean = [clean_tweets2(clean_tweets(tweet)) for tweet in X]"
      ],
      "execution_count": null,
      "outputs": []
    },
    {
      "cell_type": "code",
      "metadata": {
        "id": "0NwcYJTLJ1hq",
        "colab": {
          "base_uri": "https://localhost:8080/"
        },
        "outputId": "1c9d170e-4f22-436f-c6d3-6fb96ae48265"
      },
      "source": [
        "for _ in range(10):\n",
        "  print(data_clean[random.randint(0, len(data_clean) - 1)])"
      ],
      "execution_count": null,
      "outputs": [
        {
          "output_type": "stream",
          "text": [
            "gente o mata n o existe paridade armas n turno lutar espalha manu d vila disse cristo deveria abortado inquieta\n",
            "  biiancat s fds\n",
            "postei coisas estavam timas indo agr coisas come aram a desabar q puts explica o\n",
            "o almo o caril i m happy\n",
            "t t o tisti algu m d a temporada dirk gently s holistic detective agency\n",
            "  mimimi ... papo dio mimim puro paz n dio\n",
            "  nah t suave tks\n",
            "  felicidades\n",
            "  achei gatinho\n",
            "  a robs espero esteja\n"
          ],
          "name": "stdout"
        }
      ]
    },
    {
      "cell_type": "code",
      "metadata": {
        "id": "NHDdk6OyKPTF"
      },
      "source": [
        "data_labels = y"
      ],
      "execution_count": null,
      "outputs": []
    },
    {
      "cell_type": "code",
      "metadata": {
        "id": "sCwBVu_-KS6x"
      },
      "source": [
        "data_labels[data_labels == 4] = 1"
      ],
      "execution_count": null,
      "outputs": []
    },
    {
      "cell_type": "code",
      "metadata": {
        "id": "HnEu3ydNKdtW",
        "colab": {
          "base_uri": "https://localhost:8080/"
        },
        "outputId": "cb3b3852-c5ee-4804-be07-44a4249f3940"
      },
      "source": [
        "data_labels"
      ],
      "execution_count": null,
      "outputs": [
        {
          "output_type": "execute_result",
          "data": {
            "text/plain": [
              "array([1, 1, 1, ..., 1, 1, 1])"
            ]
          },
          "metadata": {
            "tags": []
          },
          "execution_count": 344
        }
      ]
    },
    {
      "cell_type": "code",
      "metadata": {
        "id": "amKqM8FjKgT-",
        "colab": {
          "base_uri": "https://localhost:8080/"
        },
        "outputId": "5215fadf-fc18-43eb-bf6c-f3a112e3bcce"
      },
      "source": [
        "np.unique(data_labels)"
      ],
      "execution_count": null,
      "outputs": [
        {
          "output_type": "execute_result",
          "data": {
            "text/plain": [
              "array([0, 1])"
            ]
          },
          "metadata": {
            "tags": []
          },
          "execution_count": 345
        }
      ]
    },
    {
      "cell_type": "markdown",
      "metadata": {
        "id": "GTKZ5fUh_Kxz"
      },
      "source": [
        "### Tokenização"
      ]
    },
    {
      "cell_type": "code",
      "metadata": {
        "id": "8XI8WWOFNiJ8",
        "colab": {
          "base_uri": "https://localhost:8080/"
        },
        "outputId": "4ccef4f2-9399-4bba-ae77-0c292904b88b"
      },
      "source": [
        "2**16"
      ],
      "execution_count": null,
      "outputs": [
        {
          "output_type": "execute_result",
          "data": {
            "text/plain": [
              "65536"
            ]
          },
          "metadata": {
            "tags": []
          },
          "execution_count": 346
        }
      ]
    },
    {
      "cell_type": "code",
      "metadata": {
        "id": "s55Dd-UqNncW",
        "colab": {
          "base_uri": "https://localhost:8080/"
        },
        "outputId": "a9caf3df-8a3d-4648-fe15-a66270e64f10"
      },
      "source": [
        "import math\n",
        "math.pow(2, 16)"
      ],
      "execution_count": null,
      "outputs": [
        {
          "output_type": "execute_result",
          "data": {
            "text/plain": [
              "65536.0"
            ]
          },
          "metadata": {
            "tags": []
          },
          "execution_count": 347
        }
      ]
    },
    {
      "cell_type": "code",
      "metadata": {
        "id": "dwE2jYo2MkaZ"
      },
      "source": [
        "tokenizer = tfds.deprecated.text.SubwordTextEncoder.build_from_corpus(data_clean, target_vocab_size=2**16)"
      ],
      "execution_count": null,
      "outputs": []
    },
    {
      "cell_type": "code",
      "metadata": {
        "id": "CV2y2U1gOl2W",
        "colab": {
          "base_uri": "https://localhost:8080/"
        },
        "outputId": "344f19a7-af08-4efe-ea85-c5284b4afd9d"
      },
      "source": [
        "tokenizer.vocab_size"
      ],
      "execution_count": null,
      "outputs": [
        {
          "output_type": "execute_result",
          "data": {
            "text/plain": [
              "14185"
            ]
          },
          "metadata": {
            "tags": []
          },
          "execution_count": 349
        }
      ]
    },
    {
      "cell_type": "code",
      "metadata": {
        "id": "FG1e9KoWOvx0",
        "colab": {
          "base_uri": "https://localhost:8080/"
        },
        "outputId": "9fd7c54e-7644-4b0d-9184-f599f2d0929c"
      },
      "source": [
        "print(tokenizer.subwords)"
      ],
      "execution_count": null,
      "outputs": [
        {
          "output_type": "stream",
          "text": [
            "['o_', '  ', 'a_', 'e_', 'n_', 's_', 'pra_', 't_', 'd_', 'm_', 'q_', 'voc_', 'vou_', 'to_', 'j_', 'dia_', 'queria_', 'vc_', ' ... ', 'pq_', 'p_', 'gente_', 'est_', 'ai_', 'nao_', 'v_', 'hoje_', 'c_', 'triste_', 'at_', 'ta_', 'tamb_', 'acho_', 'f_', 'amo_', 'ficar_', 'rio_', 'pessoas_', 'b_', 'pro_', 'l_', 'es_', 'melhor_', 'ent_', ' ...', 'tava_', 'mt_', 'cara_', 'vel_', 'algu_', 'vida_', 'mim_', 'feliz_', 'casa_', 'fico_', '. ', 'pr_', 'falar_', 'pessoa_', 'espero_', 'dormir_', 'dias_', 'consigo_', 'tinha_', 'h_', 'come_', 'vi_', 'vamos_', 'triste', 'pt_', 'amor_', 'sinto_', 'coisas_', 'semana_', 'ja_', 'ah_', 'ncia_', 'fica_', 'cora_', 'anos_', 'votar_', 'mundo_', 'fa_', 'ciro_', 'ningu_', 'fiquei_', 'eh_', 'dia', 'noite_', 'medo_', 'ia_', 'dio_', 'bar_', 'tbm_', 'olha_', 'mano_', 'infelizmente_', 'elei_', 'ria_', 'pa_', 'saudade_', 'verdade_', 'vcs_', 'parab_', 'oi_', 'linda_', 'bolsonaro_', 'deus_', 'amiga_', 'amanh_', 'vontade_', 'pior_', 'fiz_', 'so_', 'realmente_', 'achei_', 'cil_', 'brasil_', 'turno_', 'seja_', 'pena_', 'ns_', 'lindo_', 'falando_', 'mim', 'ano_', ' .. ', 'sair_', 'quiser_', 'muita_', 'hora_', 'foo_', 'dif_', 'desculpa_', 'comigo_', 'ar_', 'tica_', 'saudades_', 'quase_', 'hj_', 'gosto_', 'foda_', 'deo_', 'amo', 'foto_', 'merda_', 'haddad_', 'fosse_', 'disse_', 'deixa_', 'acordei_', 'deu_', 'cabe_', 'conta_', 'twitter_', 'sendo_', 'passar_', 'amigos_', 'preciso_', 'outro_', 'fala_', 'voto_', 'pol_', 'hoje', 'vida', 'tb_', 'sonho_', 'r_', 'mto_', 'i_', 'ganhar_', 'estamos_', 'causa_', 'trabalho_', 'ruim_', 'pensar_', 'jeito_', 'pessoal_', 'pai_', 'fazendo_', 'escola_', 'dormir', 'certo_', 'amigo_', 'tirar_', 'fam_', 'deixar_', 'queria', 'twt_', 'rias_', 'problema_', 'lia_', 'la_', 'irm_', 'crian_', 'chama_', 'candidato_', 'acabei_', 'precisa_', 'odeio_', 'mulher_', 'hist_', 'bozo_', 'aula_', 'assistir_', 'anjo_', 'am_', 'algum_', 'acredito_', 'x_', 'tao_', 'pra', 'alguma_', 'abra_', 'voltar_', 'real_', 'poxa_', 'perdi_', 'oq_', 'chorando_', 'vendo_', 'pensando_', 'ol_', 'ok_', 'nenhum_', 'indo_', 'igual_', 'gente', 'conseguir_', 'amor', 'acha_', 'volta_', 'sorte_', 'prova_', 'mesma_', 'ler_', 'feliz', 'falei_', 'esperan_', 'conversar_', 'comer_', 'ajudar_', ' .... ', 'voc', 'vel', 'super_', 'sentir_', 'porra_', 'nome_', 'merece_', 'galera_', 'consegui_', 'caso_', 'cabelo_', 'al_', 'agr_', 'tou_', 'td_', 'situa_', 'sica_', 'outubro_', 'melhor', 'lindo', 'kkkkk_', 'fotos_', 'ficou_', 'dinheiro_', 'chorar_', 'anivers_', 'votei_', 'vale_', 'sentindo_', 'pedir_', 'pais_', 'mandar_', 'entender_', 'chegar_', 'caralho_', 'vir_', 'u_', 'semana', 'sa_', 'passando_', 'passa_', 'nen_', 'mundo', 'mudar_', 'manh_', 'jogo_', 'incr_', 'importante_', 'dor_', 'comprar_', 'casa', 'anjo', 'voce_', 'vejo_', 'rua_', 'rio', 'resultado_', 'legal_', 'horas_', 'cil', 'ate_', 'ajuda_', 'acabou_', 'aaa_', 'ximo_', 'vota_', 'vc', 'tristeza_', 'tiver_', 'sp_', 'show_', 'rios_', 'puta_', 'poss_', 'perder_', 'ouvir_', 'ncia', 'jogar_', 'dm_', 'direito_', 'cmg_', 'chamar_', 'almo_', 'acabar_', 'valeu_', 'tomar_', 'simplesmente_', 'poderia_', 'passei_', 'not_', 'ngm_', 'melhores_', 'homem_', 'esperando_', 'es', 'deus', 'deixou_', 'dando_', 'colocar_', 'celular_', 'acordar_', 'votos_', 'volta', 'turno', 'tenha_', 'parar_', 'opini_', 'noite', 'nica_', 'miga_', 'mat_', 'kkkk_', 'horr_', 'governo_', 'gostei_', 'gnt_', 'frente_', 'forte_', 'digo_', 'acontece_', 'achar_', 'trabalhar_', 'tenta_', 'ssima_', 'sorriso_', 'sono_', 'precisar_', 'op_', 'objetivos_', 'msm_', 'inktober_', 'gosta_', 'filme_', 'esque_', 'conhe_', 'claro_', 'cheguei_', 'cara', 'ca_', 'ando_', 'ana_', 'amigos', 'ai', 'ae_', 'tivesse_', 'tbm', 'sdds_', 'sai_', 'provavelmente_', 'muitas_', 'merda', 'mensagem_', 'menina_', 'marina_', 'mana_', 'live_', 'levar_', 'lembro_', 'junto_', 'estudar_', 'entendo_', 'dps_', 'contar_', 'comigo', 'cidade_', 'amiga', 'acontecer_', 'vivo_', 'vdd_', 'vamo_', 'tt_', 'tr_', 'ti_', 'tentando_', 'sozinha_', 'sono', 'site_', 'sdd_', 'saudades', 'rt_', 'quest_', 'qnd_', 'pergunta_', 'partido_', 'mostrar_', 'mo_', 'meninas_', 'lula_', 'linda', 'internet_', 'importa_', 'hahaha_', 'gra_', 'gostaria_', 'g_', 'falou_', 'faculdade_', 'eram_', 'entrar_', 'cia_', 'chorei_', 'canal_', 'boas_', 'beb_', 'aulas_', 'apoiar_', 'aguento_', 'ado_', ' ..', 'tweet_', 'tima_', 'tico_', 'tempos_', 'sido_', 'segue_', 'saudade', 'ps_', 'plano_', 'pensei_', 'pe_', 'paz_', 'passou_', 'pagar_', 'matar_', 'lixo_', 'lembrar_', 'lembra_', 'juro_', 'gostar_', 'fique_', 'existe_', 'escola', 'enfim_', 'dm', 'dio', 'continuar_', 'candidatos_', 'boca_', 'aten_', 'af_', 'adoro_', 'vo_', 'viraviraciro_', 'vergonha_', 'timo_', 'the_', 'sonhei_', 'sicas_', 'seguir_', 'saiba_', 'saco_', 'querer_', 'qu_', 'pros_', 'propostas_', 'postar_', 'perfil_', 'pensa_', 'oh_', 'meninos_', 'melhorar_', 'marcar_', 'li_', 'lembrei_', 'infelizmente', 'in_', 'gua_', 'fascista_', 'erro_', 'domingo_', 'ditadura_', 'ciro', 'cama_', 'ansiedade_', 'acompanhar_', 'acaba_', 'you_', 'xima_', 'voz_', 'vou', 'venha_', 'terminar_', 'tb', 'social_', 'rosa_', 'rindo_', 'rie_', 'responder_', 'problemas_', 'poxa', 'posta_', 'pena', 'orgulho_', 'minutos_', 'mero_', 'mano', 'loja_', 'livro_', 'iria_', 'ideia_', 'hor_', 'fome_', 'filho_', 'fernando_', 'feira_', 'facebook_', 'explica_', 'exatamente_', 'ex_', 'epis_', 'entao_', 'dizendo_', 'disposi_', 'diferente_', 'cuidar_', 'cu_', 'conversa_', 'conseguiste_', 'conhecer_', 'concretizar_', 'concordo_', 'chorar', 'chega_', 'camisa_', 'ba_', 'apesar_', 'amizade_', 'amigo', 'amar_', 'aaaa_', 'votou_', 'viu_', 'viu', 'visto_', 'video_', 'veis_', 'veio_', 'valeu', 'uso_', 'twitter', 'sala_', 'sabia_', 'sabendo_', 'ria', 'resto_', 'resposta_', 'rela_', 'querida_', 'querendo_', 'presidente_', 'prefiro_', 'precisamos_', 'pobre_', 'pesquisa_', 'nordeste_', 'ne_', 'namorado_', 'morar_', 'mesma', 'kkk', 'juntos_', 'jogo', 'instagram_', 'ido_', 'humor_', 'esteja_', 'esquerda_', 'esquece_', 'errado_', 'edi_', 'durante_', 'dito_', 'deveria_', 'dei_', 'cio_', 'certo', 'bora_', 'atr_', 'anos', 'alguem_', 'aaaaa_', ' ....', 'verdade', 'vcs', 'trazer_', 'toma_', 'tio_', 'teria_', 'temporada_', 'si_', 'sentido_', 'saiu_', 'rs_', 'rir_', 'rem_', 'receber_', 'real', 'podemos_', 'penso_', 'ok', 'novamente_', 'morrer_', 'migo_', 'medo', 'matem_', 'manda_', 'luz_', 'love_', 'livros_', 'liga_', 'kkkkk', 'kkk_', 'jesus_', 'it_', 'informa_', 'ideias_', 'felicidade_', 'falo_', 'especial_', 'escolher_', 'engra_', 'ei_', 'dormi_', 'discurso_', 'dilma_', 'dica_', 'dias', 'deos_', 'democracia_', 'cortar_', 'contr_', 'contigo_', 'coiso_', 'coisas', 'cmg', 'chegando_', 'chances_', 'cc_', 'cart_', 'carinho_', 'calma_', 'bolsonaro', 'bebe_', 'aula', 'assunto_', 'assisti_', 'apareceu_', 'amoedo_', 'agrade_', 'aff_', 'acordo_', 'voltou_', 'viva_', 'vender_', 'tweets_', 'tomei_', 'teremos_', 'tento_', 'tendo_', 'tambem_', 'socorro_', 'sinceramente_', 'senhor_', 'saindo_', 'respeito_', 'redes_', 'reais_', 'quis_', 'pt', 'projeto_', 'prio_', 'principalmente_', 'preocupada_', 'preocupa_', 'peguei_', 'passo_', 'participar_', 'olhada_', 'nulo_', 'ninguem_', 'nimo_', 'nico_', 'nenhum', 'mulheres_', 'mpn_', 'motivo_', 'milh_', 'mentira_', 'mente_', 'menino_', 'lbum_', 'kkkkkkkkk_', 'jimin_', 'is_', 'haddad', 'foto', 'fofo_', 'fofa_', 'finalmente_', 'filmes_', 'ficar', 'ficando_', 'festa_', 'esqueci_', 'esperar_', 'entendi_', 'encontrar_', 'eleito_', 'descobri_', 'decep_', 'culpa_', 'cr_', 'conversar', 'conte_', 'coment_', 'clima_', 'cheio_', 'ch_', 'cena_', 'celular', 'carro_', 'caralho', 'brasil', 'br_', 'bonita_', 'blog_', 'bf_', 'beleza_', 'beb', 'bb_', 'bateu_', 'apoiando_', 'ano', 'andar_', 'amos_', 'amigas_', 'amei_', 'achando_', 'abrir_', 'youtube_', 'votando_', 'vergonha', 'tulo_', 'trouxe_', 'tp_', 'total_', 'top_', 'to', 'tirei_', 'ti', 'simp_', 'significa_', 'sensa_', 'sao_', 'saio_', 'rosto_', 'resist_', 'rede_', 'realidade_', 'prova', 'programa_', 'precisava_', 'pouquinho_', 'porto_', 'pessoa', 'perguntar_', 'perdeu_', 'pedi_', 'opa_', 'on_', 'obg_', 'nota_', 'morrer', 'moro_', 'monte_', 'massa_', 'maravilhosa_', 'lutar_', 'lucas_', 'ltima_', 'literalmente_', 'link_', 'lia', 'lan_', 'irei_', 'inv_', 'inteira_', 'indica_', 'gosto', 'gio_', 'ganhei_', 'futuro_', 'frases_', 'frase_', 'foda', 'ficaria_', 'feriado_', 'feio_', 'fds_', 'etc_', 'estiver_', 'espera_', 'empatia_', 'eleitoral_', 'educa_', 'doente_', 'der_', 'deputado_', 'data_', 'curso_', 'cuidado_', 'crush_', 'correr_', 'corpo_', 'continua_', 'conhece_', 'compra_', 'comecei_', 'chuva_', 'centro_', 'cen_', 'calor_', 'cal_', 'brasileiro_', 'bra_', 'bonito_', 'bola_', 'bate_', 'banho_', 'ar', 'apaixonada_', 'an_', 'amores_', 'amanh', 'ajudar', 'ada_', 'achava_', 'aceitar_', 'viver_', 'vista_', 'vidas_', 'universo_', 'twt', 'tirou_', 'sugest_', 'suficiente_', 'sozinho_', 'sozinho', 'sofrendo_', 'smp_', 'sinto', 'servi_', 'senti_', 'sejam_', 'sabem_', 'rua', 'rts_', 'rs', 'roupa_', 'rosa', 'rolar_', 'rj_', 'rid_', 'raz_', 'ra_', 'querido_', 'psicol_', 'princesa_', 'piada_', 'pessoas', 'paulo_', 'papo_', 'ouvi_', 'oque_', 'oportunidade_', 'olhos_', 'olho_', 'olhe_', 'olhando_', 'ns', 'notifica_', 'normal_', 'nao', 'mudan_', 'morrendo_', 'mm_', 'mere_', 'manter_', 'mandei_', 'mail_', 'madrugada_', 'ma_', 'lei_', 'kkkkkk', 'kkkk', 'ju_', 'jogando_', 'jamais_', 'insta_', 'inscri_', 'imposs_', 'imagino_', 'imaginar_', 'hj', 'haha_', 'golpe_', 'fundo_', 'federal_', 'fato_', 'falar', 'fake_', 'explicar_', 'escolha_', 'direto_', 'df_', 'desgra_', 'desesperada_', 'desenho_', 'deixo_', 'deixando_', 'decis_', 'crise_', 'corrup_', 'conseguia_', 'condi_', 'compartilhar_', 'chance_', 'chamou_', 'cenas_', 'ce_', 'caiu_', 'cabelo', 'branco_', 'bosta', 'blz_', 'batendo_', 'bad_', 'at', 'army_', 'aq_', 'aprender_', 'ap_', 'anjinho_', 'animal_', 'amea_', 'alta_', 'alegria_', 'ain_', 'af', 'adianta_', 'acreditar_', 'acontecer', 'acontecendo_', 'acabou', 'ximos_', 'votem_', 'vote_', 'votaria_', 'vontade', 'vit_', 'velho_', 'tristeza', 'traz_', 'tomando_', 'timo', 'terra_', 'tenham_', 'tar_', 'tadinho_', 'ta', 'stories_', 'stica_', 'sorte', 'sonhos_', 'sofrer_', 'sociais_', 'simples_', 'simone_', 'silva_', 'selca_', 'seguem_', 'santos_', 'ruim', 'rico_', 'resolver_', 're_', 'raiva_', 'racista_', 'quantidade_', 'puto_', 'proposta_', 'projetos_', 'professora_', 'professor_', 'precisando_', 'pre_', 'praia_', 'porta_', 'podcast_', 'poca_', 'pior', 'pido_', 'pessoal', 'pesquisas_', 'perde_', 'pensam_', 'pega_', 'pau_', 'passado_', 'outubro', 'novembro_', 'nio_', 'netflix_', 'nct_', 'natal_', 'nadja_', 'my_', 'morro_', 'metro_', 'mau_', 'mata_', 'maria_', 'maravilhoso_', 'mandem_', 'ltimo_', 'lol_', 'lo_', 'lixo', 'livre_', 'like_', 'lica_', 'liberdade_', 'leva_', 'legal', 'legais_', 'kkkkkkkkkkkkkkkkkkkk', 'kkkkkkk', 'kk_', 'jo_', 'interesse_', 'independente_', 'imagem_', 'historia_', 'hehe_', 'hehe', 'hahahaha_', 'gr_', 'gostei', 'gostava_', 'gico_', 'gatinho_', 'fone_', 'fizeram_', 'felizes_', 'felicidades', 'feito_', 'fale_', 'falam_', 'evento_', 'entrevista_', 'entra_', 'empresa_', 'emprego_', 'dormindo_', 'dor', 'discutir_', 'dificil_', 'diferentes_', 'diferen_', 'devia_', 'destaque_', 'desistir_', 'desespero_', 'desejo_', 'desculpe_', 'deram_', 'decepcionada_', 'dan_', 'dai_', 'dados_', 'culos_', 'crescer_', 'cozinha_', 'contigo', 'conseguindo_', 'consegue_', 'confian_', 'completo_', 'completamente_', 'companhia_', 'comer', 'coiso', 'cm_', 'cl_', 'choro_', 'chorando', 'cheia_', 'cf_', 'carai_', 'campanha_', 'cama', 'caf_', 'burra_', 'bue_', 'bu_', 'bravo', 'bonito', 'blico_', 'bgs_', 'basta_', 'bando_', 'baixa_', 'bado_', 'aproveitar_', 'app_', 'aparece_', 'apanhar_', 'anular_', 'anti_', 'amg_', 'ah', 'aguardando_', 'acredita_', 'aconteceu_', 'acho', 'aaaaaaa_', 'aaaaaa_', 'aa', ' .', 'zona_', 'z_', 'votar', 'voltei_', 'virou_', 'vim_', 'viajar_', 'viagem_', 'via_', 'venham_', 'user_', 'usando_', 'ultima_', 'tv_', 'trocar_', 'trechos_', 'trabalho', 'trabalha_', 'tomara_', 'todinha_', 'time_', 'til_', 'tico', 'tia_', 'tema_', 'tela_', 'tamo_', 'taehyung_', 'surpresa_', 'sul_', 'ssimo_', 'sozinha', 'soubesse_', 'sorry_', 'som_', 'soft_', 'sobra', 'sla_', 'sinal_', 'simaria', 'sigo_', 'serio', 'seja', 'sdds', 'sdd', 'saud_', 'sangue_', 'risco_', 'resta_', 'respondeu_', 'responder', 'rejei_', 'rec_', 'rapaz_', 'quiser', 'queres_', 'quartas_', 'puder_', 'psol_', 'pria_', 'presidente', 'presid_', 'prazo_', 'pras_', 'posto_', 'possa_', 'port_', 'politica_', 'podes_', 'po_', 'pesado_', 'personagem_', 'perceber_', 'pegou_', 'pedindo_', 'pc_', 'paula_', 'passada_', 'parentes_', 'par_', 'papel_', 'paci_', 'ot_', 'online_', 'olhar_', 'old_', 'oficial_', 'of_', 'objetivo_', 'obg', 'novidades_', 'novamente', 'nordeste', 'nis_', 'nia_', 'nego_', 'ncias_', 'namorado', 'namorada_', 'nacional_', 'msm', 'morte_', 'moral_', 'minorias_', 'mina_', 'merece', 'mds_', 'matar', 'maneira_', 'mandou_', 'mando_', 'lugares_', 'ltimos_', 'los_', 'lindas_', 'ligar_', 'levantar_', 'lendo_', 'leite_', 'lar_', 'kkkkkkkk_', 'kk', 'k_', 'jungkook_', 'inteiro_', 'ins_', 'ingresso_', 'imagina_', 'houve_', 'homof_', 'hein_', 'haver_', 'gostou_', 'gostando_', 'gostam_', 'gomes_', 'gcf_', 'ganhou_', 'galera', 'franc_', 'fotos', 'fogo_', 'fingir_', 'filha_', 'fila_', 'ficaram_', 'fica', 'feira', 'fechar_', 'fdp_', 'fase_', 'fascismo_', 'faria_', 'far_', 'fandom_', 'familiares_', 'face_', 'exist_', 'exato_', 'estranho_', 'estilo_', 'estavam_', 'espa_', 'errada_', 'energia_', 'eleitos_', 'eleitor_', 'durmo_', 'dom_', 'doente', 'doendo_', 'doen_', 'dms_', 'dms', 'deveriam_', 'deu', 'desisti_', 'desculpa', 'dep_', 'demi_', 'deixe_', 'deixaram_', 'deixam_', 'deitar_', 'debate_', 'dd_', 'day_', 'day', 'dava_', 'dado_', 'daciolo_', 'curitiba_', 'cu', 'contato_', 'conta', 'consigo', 'conseguiu_', 'conseguimos_', 'consci_', 'confort_', 'comprei_', 'complicado', 'comida_', 'comi_', 'cole_', 'coisinha_', 'classe_', 'ci_', 'chegou_', 'chato_', 'chamei_', 'cd_', 'caramba_', 'caos_', 'cansada_', 'cabo_', 'burro_', 'bts_', 'brincar_', 'boulos_', 'botar_', 'bosta_', 'bons_', 'bolsominion_', 'bolso_', 'boca', 'bicho_', 'bichinho_', 'bb', 'basicamente_', 'base_', 'baixar_', 'avisar_', 'automaticamente_', 'atualiza_', 'atual_', 'artigo_', 'arma_', 'aproveite_', 'aplicativo_', 'apetece_', 'apartamento_', 'aparecer_', 'antipetismo_', 'ansiosa_', 'anjinho', 'anda_', 'amorzinho_', 'amore_', 'amg', 'ama_', 'also_', 'ajude_', 'ajuda', 'agr', 'acima_', 'acabaram_', 'abri_', 'aa_', 'yoongi_', 'ya_', 'xingar_', 'w_', 'vs', 'volume_', 'voltar', 'vlw_', 'vila_', 'videos_', 'via', 'vi', 'vers_', 'verde_', 've_', 'vdd', 'varios_', 'use_', 'usamos_', 'urnas_', 'udio_', 'uau_', 'totalmente_', 'tornar_', 'torna_', 'torcida_', 'toa_', 'tmb_', 'tl_', 'titi_', 'tisti_', 'tiro_', 'tirando_', 'thread_', 'teste_', 'testa_', 'terem_', 'tantos_', 'tadinho', 'sujo_', 'subiu_', 'stora_', 'sonho', 'sol_', 'simmm_', 'she_', 'serio_', 'senhora_', 'senador_', 'sc_', 'salvar_', 'sabes_', 'ruins_', 'rt', 'rpg_', 'roupas_', 'role_', 'rica_', 'ri_', 'retorno_', 'resultados_', 'regi_', 'recomendo_', 'reclamando_', 'recebi_', 'recebendo_', 'rea_', 'qria_', 'qd_', 'pudesse_', 'provas_', 'pronto_', 'prometo_', 'procurar_', 'problema', 'problem_', 'primo_', 'preto_', 'pretendo_', 'presente_', 'preocupado_', 'postou_', 'postando_', 'post_', 'portugal_', 'porto', 'plena_', 'piorar_', 'pessoalmente_', 'pesquisar_', 'pesado', 'pertinho_', 'pensamentos_', 'patr_', 'passe_', 'passar', 'partiu_', 'parecia_', 'parabens_', 'pais', 'pagina_', 'padr_', 'ouvindo_', 'olhinhos_', 'okay_', 'odeia_', 'nordestinos_', 'nn_', 'nene_', 'negros_', 'necess_', 'namorar_', 'namjoon_', 'mulher', 'mto', 'mta_', 'mt', 'mp_', 'mour_', 'motivos_', 'morreu_', 'morre_', 'min_', 'miga', 'meter_', 'metade_', 'mes_', 'mercado_', 'mentir_', 'mental_', 'melhoras_', 'mara_', 'mago_', 'lio_', 'lind_', 'lido_', 'levou_', 'letra_', 'lembran_', 'leia_', 'kkkkkkk_', 'jovemdoano_', 'jovem_', 'jogos_', 'jogadores_', 'joga_', 'joana_', 'jeitinho_', 'jair_', 'iti_', 'ingl_', 'indo', 'impacto_', 'imaginando_', 'im_', 'ignorante_', 'idiota_', 'id_', 'humano_', 'hospital_', 'hora', 'honra_', 'ha_', 'guia_', 'good_', 'go_', 'gay_', 'gato_', 'gata_', 'garganta', 'ganho_', 'ganhe_', 'ganha_', 'gado_', 'futebol_', 'funciona_', 'fugir_', 'frente', 'free_', 'filhos_', 'ficamos_', 'ficam_', 'felizmente_', 'feed_', 'faltar_', 'falaram_', 'experi_', 'existe', 'excelente_', 'evitar_', 'etc', 'estadual_', 'esqueceu_', 'esquecer_', 'esperava_', 'esperamos_', 'escrito_', 'escrever', 'equipe_', 'ep_', 'entendi', 'entende_', 'entenda_', 'enfim', 'encher_', 'en_', 'elen_', 'el_', 'eita_', 'efeito_', 'ee_', 'dou_', 'dormindo', 'doar_', 'disseram_', 'dispon_', 'discuss_', 'discursos_', 'direitos_', 'direito', 'direitinho_', 'dios_', 'dinheiro', 'diga_', 'diferente', 'dicas_', 'devo_', 'descobrir_', 'demorei_', 'demora_', 'defender_', 'dedo_', 'cupom_', 'cula_', 'crl_', 'criar_', 'crian', 'creio_', 'coragem_', 'conversando_', 'contou_', 'considero_', 'conhecer', 'completar_', 'come', 'coloquei_', 'cobra_', 'cinema_', 'cias_', 'chuva', 'chocolate_', 'chateada_', 'chamar', 'chamando_', 'ces_', 'certa_', 'cat_', 'casamento_', 'casal_', 'caro_', 'carinha_', 'cap_', 'cair_', 'cabra_', 'cabello_', 'btsarmy_', 'brincadeira_', 'brigada_', 'brava_', 'bozonaro_', 'bonitinho_', 'bolha_', 'bico_', 'bh_', 'besteira_', 'bd_', 'bc_', 'bateria_', 'barriga_', 'bahia_', 'aviso_', 'av_', 'autocarro', 'aulas', 'audi_', 'au_', 'atualmente_', 'att_', 'ativismo_', 'atitudes_', 'assumir_', 'assistindo_', 'arte_', 'arrumar_', 'argumentos_', 'aproveita_', 'aprendi_', 'apagar_', 'anjos_', 'amorzinho', 'amanha_', 'ajudem_', 'ahhhh_', 'agradecemos_', 'adorei_', 'ado', 'acordei', 'acordado_', 'acordada_', 'aconteceu', 'acontecendo', 'aconte_', 'aceita_', 'acabando_', ' ..... ', ' .....', 'zap_', 'wpp', 'votam_', 'voltando_', 'voces_', 'visita_', 'vis_', 'vir', 'viol_', 'vice_', 'venda_', 'vencer_', 'vemos_', 'veis', 'vei_', 'vamos', 'vale', 'vacuo_', 'urna_', 'unfollow_', 'unf_', 'ue_', 'treinar_', 'trailer_', 'trabalhando_', 'tosse_', 'torcer_', 'tom_', 'todinho', 'tocar_', 'tmj_', 'tis_', 'tirado_', 'tira_', 'ticas_', 'tica', 'terror_', 'terminou_', 'teres_', 'terei_', 'temp_', 'temas_', 'td', 'tava', 'tamanho_', 'take_', 'tag_', 'tae_', 'tadinha_', 'surpreender_', 'surgir_', 'ssimo', 'spotify_', 'some_', 'skin_', 'sito_', 'sinta_', 'sincero_', 'simples', 'simm_', 'sica', 'servidor_', 'serve_', 'seriamente_', 'serem_', 'sera_', 'sentir', 'sentimento_', 'sente_', 'sensata_', 'senhora', 'sen_', 'semanas_', 'seguran_', 'seguinte_', 'seguindo_', 'seguimos_', 'seguidores_', 'sabia', 'ro_', 'ries_', 'retrocesso_', 'resultado', 'respondeu', 'respondendo_', 'respira_', 'repassar_', 'recebeu_', 'recado_', 'raro_', 'rani', 'rainha_', 'quiserem_', 'queremos_', 'queimar_', 'queijo_', 'quebrado_', 'qdo_', 'putrailham_', 'pura_', 'psdb_', 'proteger_', 'pronto', 'programas_', 'prof_', 'produto_', 'problemas', 'privil_', 'press_', 'preparando_', 'preparada_', 'prefere_', 'preconceito_', 'precious', 'precioso_', 'preciosa_', 'praticamente_', 'pq', 'posts_', 'possamos_', 'posicionamento_', 'posi_', 'portal_', 'porra', 'porcentagem_', 'popula_', 'please', 'planos_', 'pido', 'piadas_', 'pesadelo_', 'perdoem_', 'perdoa_', 'perd_', 'per_', 'pensamento_', 'pel_', 'peito_', 'pediu_', 'pedir', 'pedido_', 'pedi', 'passeio_', 'particular_', 'participa_', 'parti_', 'parou_', 'parada_', 'palavra_', 'pagando_', 'ozinha_', 'ow_', 'outro', 'organizar_', 'oportunidades_', 'odiar_', 'obs_', 'obriga_', 'obgd_', 'noticia_', 'nojo_', 'niver_', 'nibus_', 'nho', 'ngua_', 'ng_', 'news_', 'net_', 'naruto_', 'nana_', 'namoro_', 'namorando_', 'namoradinho_', 'namorada', 'namjoonamacarangueji', 'musicas_', 'mudou_', 'mudar', 'muda_', 'mostrando_', 'morreu', 'more_', 'mora_', 'monstro_', 'momentos_', 'mis_', 'mio_', 'minoria_', 'minas_', 'militar_', 'mico_', 'michael_', 'mica_', 'mi_', 'mg_', 'mesmas_', 'merecem_', 'mensagens_', 'meme_', 'mem_', 'melhorou_', 'meia_', 'matou_', 'mato_', 'massa', 'marca_', 'maravilhosa', 'manh', 'mandando_', 'luta_', 'ltimas_', 'louca_', 'longo_', 'londres_', 'loga_', 'lo', 'lista_', 'lisboa_', 'lisboa', 'link', 'linha_', 'line_', 'limpa_', 'lidar_', 'leve_', 'leu_', 'lembre_', 'lembrando_', 'leis_', 'laura_', 'lanche_', 'kkkkkkkkkkk_', 'justamente_', 'juntas_', 'juntar_', 'jr_', 'jeito', 'jantar_', 'ja', 'internet', 'inspira_', 'injusti_', 'inferno_', 'ind_', 'imenso_', 'igreja_', 'humanos_', 'house_', 'homofobia_', 'hm_', 'hey_', 'her_', 'hehehe_', 'header_', 'harry_', 'hahahah_', 'guerra_', 'greve', 'grave_', 'gravar_', 'governador_', 'goste_', 'gera_', 'garganta_', 'ganhar', 'ganhando_', 'galerinha_', 'fzr_', 'futuro', 'fudido_', 'friends_', 'frete_', 'freddie_', 'fortes_', 'fofo', 'foder_', 'foco_', 'fiz', 'ficou', 'ficha_', 'ficado_', 'fic_', 'feministas_', 'felicidades_', 'feita_', 'fe', 'fb_', 'fav_', 'fascista', 'fant_', 'fanbase_', 'familia_', 'faltou_', 'falarem_', 'fala', 'faculdade', 'facista_', 'facismo_', 'facil_', 'faca_', 'fac_', 'express_', 'explicando_', 'existir_', 'exerc_', 'exclui_', 'exclu_', 'exausta_', 'estudar', 'estresse_', 'estiverem_', 'esteja', 'estaria_', 'estao_', 'estamos', 'esquecido_', 'esqueci', 'esquecer', 'espelho_', 'escuto_', 'escutar_', 'enviar_', 'entro_', 'ensino_', 'ensina_', 'endere_', 'encontrei_', 'empregada_', 'empatia', 'eleito', 'elege_', 'eh', 'ed_', 'duvido_', 'duro_', 'duarte_', 'droga_', 'dormiu_', 'dorme_', 'dores_', 'don_', 'dolorido_', 'doguinho_', 'doeu_', 'dnv_', 'dnv', 'ditadura', 'diria_', 'dezembro_', 'devido_', 'deviam_', 'despertador_', 'desiste_', 'design_', 'desculpas_', 'desabafar_', 'dera_', 'dera', 'depende_', 'dengo_', 'democr_', 'deixei_', 'definitivamente_', 'curtir_', 'curiosidade_', 'cuida_', 'criei_', 'cria_', 'corre_', 'convencer_', 'conto_', 'continuo_', 'contexto_', 'conseguem_', 'confesso_', 'concorda_', 'complicado_', 'coloco_', 'coloca_', 'colar_', 'col_', 'cobrar_', 'cio', 'cigarro_', 'chorei', 'chora_', 'cheiro_', 'chego_', 'chegaram_', 'chateado', 'chat_', 'chamo_', 'chame_', 'chamam_', 'certas_', 'carregador_', 'capaz_', 'cantar_', 'cantando_', 'campos_', 'campe_', 'cagar_', 'cad_', 'cachorro_', 'bullying_', 'bruno_', 'brigando_', 'briga_', 'brasileiros_', 'brasileira_', 'branca_', 'bozo', 'bombom_', 'bolsa_', 'block_', 'biologia_', 'biblioteca_', 'bela_', 'bel_', 'beijos_', 'beijo_', 'beber_', 'bebe', 'be_', 'bandeira_', 'bado', 'bada_', 'autocarro_', 'arrombado_', 'armyselcaday', 'argumento_', 'apresentar_', 'aparentemente_', 'antigo_', 'anterior_', 'anja_', 'animais_', 'amizade', 'amiguinho_', 'ama', 'am', 'alma_', 'alimentar_', 'alimenta_', 'alian_', 'algum', 'aiai_', 'aiai', 'ahhh_', 'ahahah_', 'ag_', 'adormeci_', 'adivinhem_', 'acredito', 'acreditando_', 'acordando_', 'acorda_', 'acabo_', 'absurdos_', 'aben_', 'aaaaaaaa_', '... ', ' ... ... ', 'zo', 'y_', 'xuxu_', 'ximo', 'xico_', 'wifi_', 'wi_', 'what_', 'votos', 'voto', 'votaram_', 'votado_', 'volto_', 'vlw', 'vivi_', 'vivendo_', 'viva', 'viraviraciro', 'vidinha', 'video', 'viagens_', 'viado_', 'vestir_', 'vestido_', 'vermelha_', 'verificar_', 'venom_', 'venho_', 'vende_', 'venceu_', 'velho', 'velha_', 'veia_', 'vei', 'varias_', 'valer_', 'vaga_', 'uwu_', 'utilidade_', 'usou_', 'usava_', 'us_', 'urnas', 'universit_', 'unico_', 'unha_', 'umbigo_', 'tweet', 'tulos_', 'trocar', 'trica_', 'tremendo_', 'travar_', 'tratamento_', 'trans_', 'tranquilo_', 'trampo_', 'trabalhos_', 'trabalhar', 'trabalhando', 'torcendo_', 'toque_', 'topo_', 'tomou_', 'tocou_', 'tml_', 'tisti', 'tinham_', 'timas_', 'ticos_', 'thalita_', 'teste', 'terminei_', 'terminando_', 'tentarei_', 'tenso', 'tempinho_', 'tempinho', 'televis_', 'telem_', 'teclado_', 'tantas_', 'tambem', 'superar_', 'sumiu_', 'stia_', 'stan_', 'ss_', 'squad_', 'sp', 'sorrir_', 'sonhar_', 'solu_', 'solteira_', 'soltar_', 'soft', 'sofri_', 'sofrendo', 'sofre_', 'sof_', 'sociedade_', 'sobreviver_', 'soares_', 'shows', 'shawn_', 'sex_', 'setembro_', 'sess_', 'serie_', 'seres_', 'seremos_', 'sequer_', 'senso_', 'senadores_', 'seguro_', 'segura_', 'sedent_', 'samsung_', 'salvou_', 'salnorabo_', 'safado_', 'sad_', 'saco', 'sabiam_', 'sabes', 'sabem', 'sa', 'roubar_', 'ronaldo_', 'rolou_', 'rola', 'rol_', 'rly_', 'rinite_', 'revolu_', 'retirar_', 'resumo_', 'ressaca_', 'respons_', 'respondi_', 'responde_', 'respeitando_', 'respeita_', 'resolvi_', 'resolver', 'religioso_', 'relat_', 'refer_', 'reda_', 'recomenda_', 'receita_', 'recebo_', 'ram', 'racismo_', 'quiseres_', 'qui_', 'quentinho_', 'queira_', 'quase', 'quantas_', 'quadrinhos_', 'qm_', 'pv', 'puro_', 'pse_', 'prov_', 'prote_', 'propaga_', 'prop_', 'pronta_', 'promete_', 'profissional_', 'profiss_', 'professores_', 'produtores_', 'produ_', 'procura_', 'processo_', 'privado_', 'print_', 'princesa', 'primeiramente_', 'prima_', 'previs_', 'presentes_', 'presente', 'presen_', 'preparar_', 'preparado_', 'preocupe_', 'preocupada', 'pregui_', 'preferiu_', 'prefeito_', 'preconceituoso_', 'preciso', 'precisar', 'precisam_', 'pqp_', 'pqp', 'poucos_', 'postei_', 'poste_', 'possibilidade_', 'posse_', 'positivo_', 'posicionar_', 'portas_', 'porreiro_', 'porrada_', 'polui_', 'politico_', 'poha_', 'podiam_', 'poderei_', 'poc_', 'pleno_', 'planeta_', 'planejando_', 'pizza_', 'piores_', 'pio_', 'pingo_', 'pica_', 'pfvr_', 'pfv_', 'petista_', 'petismo_', 'pesquisa', 'peso_', 'pesadelo', 'pesada_', 'personal_', 'pernas_', 'perguntou_', 'perguntando_', 'perfume_', 'perdidas_', 'percebi_', 'pequeno_', 'pequena_', 'penso', 'pensava_', 'pensar', 'pegando_', 'pede_', 'paz', 'pautas_', 'paulo', 'paulista_', 'passos_', 'participar', 'parente_', 'parem_', 'parei_', 'pareces_', 'parecer_', 'parecem_', 'parceria_', 'parar', 'paragem_', 'papai_', 'palavras_', 'pack_', 'ouvir', 'out_', 'otima_', 'or_', 'online', 'one_', 'omg_', 'olhem_', 'olhei_', 'olhadinha', 'oii_', 'oi', 'ofertas_', 'odo_', 'numero_', 'noticias_', 'notas_', 'normalmente_', 'non_', 'nome', 'nojento_', 'nica', 'nibus', 'neutro_', 'neto_', 'netflix', 'nervosa_', 'neo_', 'nene', 'nen', 'negras_', 'negar_', 'ne', 'ncio_', 'natural_', 'nascido_', 'nasci_', 'nana', 'namoral_', 'namoradinha_', 'namora_', 'mv_', 'mutuals_', 'museu_', 'mundinho_', 'mundial_', 'mudei_', 'mudaram_', 'mudando_', 'mts_', 'moz_', 'moura_', 'motorista_', 'mostra_', 'mos_', 'morto_', 'morta_', 'morena_', 'mood_', 'monsta_', 'modo_', 'mlk_', 'mito_', 'missa_', 'minecraft_', 'milit_', 'milhares_', 'milagre_', 'michellebruna_', 'mexer_', 'meto_', 'meros_', 'merecem', 'menino', 'melhorar', 'melhora_', 'mega_', 'mean_', 'md_', 'materia_', 'massagem', 'marina', 'maravilhoso', 'mandar', 'mam_', 'maluco_', 'maiores_', 'maia_', 'mahomes_', 'luz', 'lutando_', 'luta', 'luke_', 'loveontoptvi', 'louis_', 'look_', 'londres', 'lol', 'links_', 'lindos_', 'ligada_', 'libertadores_', 'lgbt_', 'levo_', 'levando_', 'leitores_', 'leio_', 'leg_', 'le_', 'lament_', 'lados_', 'la', 'kpop_', 'kkkkkkkkkk_', 'kkkkkkkkk', 'kkkkkk_', 'kd_', 'kabum_', 'julga_', 'jos_', 'jogar', 'joe_', 'jap_', 'jack_', 'iza_', 'ironia', 'irmao_', 'intolerante_', 'internamente_', 'interessante_', 'inteligente_', 'inteiro', 'inscreva_', 'ingressos_', 'inferno', 'indicar_', 'inc_', 'impress_', 'impostos_', 'import_', 'imensa_', 'iguais_', 'ignor_', 'ig_', 'ideologia_', 'identificar_', 'ibope_', 'iam_', 'hrs_', 'hospital', 'horas', 'homossexual_', 'homens_', 'ho_', 'hein', 'hd_', 'havia_', 'hate_', 'halloween_', 'haja_', 'hahahahaha_', 'hahahahah', 'haha', 'guri_', 'guerra', 'guardar_', 'gritando_', 'grau_', 'grata_', 'governar_', 'gol_', 'gocv_', 'global_', 'giro_', 'girl_', 'gira_', 'gios_', 'general_', 'gege_', 'gays_', 'gatinha_', 'gasto_', 'gastar_', 'garota_', 'garanto_', 'gara_', 'ganda', 'game_', 'gajo_', 'gabs_', 'funcionando_', 'fudida_', 'fudeu_', 'frota_', 'frio_', 'frio', 'fraca_', 'formatura_', 'formar_', 'fonte_', 'folga_', 'folga', 'fofinho_', 'fofa', 'fodido_', 'fizer_', 'fire_', 'fiquem_', 'fichas_', 'ficarem_', 'fi_', 'ff_', 'festival_', 'festas_', 'fernanda_', 'felicidade', 'feia', 'federais_', 'fechei_', 'fechando_', 'fechado_', 'febre_', 'fds', 'fc_', 'favorito_', 'fatos_', 'fascistas_', 'farei_', 'fantoche_', 'familiar_', 'familia', 'falto_', 'faltam_', 'faleceu', 'falando', 'extremamente_', 'expectativas_', 'exo_', 'existo_', 'existem_', 'excluir_', 'exatamente', 'exame_', 'eva_', 'estudos_', 'estrela_', 'estreia_', 'estaremos_', 'estados_', 'esquerda', 'especialmente_', 'esp_', 'esfor_', 'escutando_', 'escuro_', 'escrevo_', 'escrever_', 'erros_', 'errado', 'eras_', 'er_', 'envia_', 'entrou_', 'entendeu_', 'entender', 'entendendo_', 'enganei_', 'enfrentar_', 'energia', 'encontrou_', 'encontrado_', 'encontra_', 'emprestar_', 'email_', 'email', 'emagrecer_', 'elogio_', 'elenao', 'eleitores_', 'elegendo_', 'eis_', 'ea_', 'duda_', 'dublar_', 'droga', 'dr_', 'dose_', 'dormi', 'domingo', 'doi_', 'doces_', 'doa_', 'dns_', 'divirtam_', 'dist_', 'disposto_', 'disposta_', 'disponha_', 'disney_', 'disfar_', 'discutir', 'discord_', 'digital_', 'digam_', 'dieta_', 'dico_', 'dica', 'diazinho_', 'diaa_', 'diaa', 'di_', 'devolver_', 'dever_', 'destruir_', 'desenhar_', 'desejos_', 'desculpem_', 'descansar_', 'desativar_', 'derrotas_', 'deputados_', 'deputada_', 'depress_', 'deo', 'dentista_', 'dental_', 'demorou_', 'dem_', 'deixava_', 'deixar', 'defesa_', 'defendendo_', 'defende_', 'dedinho_', 'declarou_', 'decidiu_', 'decidi_', 'decepcionar_', 'decepcionada', 'debates_', 'db_', 'daryl_', 'daq_', 'curto_', 'curtiu_', 'curte_', 'curiosa', 'culo_', 'cuida', 'ctz_', 'cristo_', 'crises_', 'crf_', 'crescimento_', 'cresceu_', 'credo_', 'cpf_', 'cp_', 'cover_', 'costas_', 'corto_', 'corruptos_', 'correndo_', 'cores_', 'copo_', 'conversas_', 'conversa', 'contrata_', 'continue_', 'continua', 'contente_', 'constru_', 'constitui_', 'conseguiria_', 'conseguir', 'consciente_', 'conosco_', 'conhecia_', 'congresso_', 'confira_', 'confio_', 'cone', 'concurso_', 'concentra_', 'conceito_', 'comunidade_', 'comprou_', 'completa_', 'compara_', 'companhia', 'comentar_', 'comentando_', 'combinar_', 'combina_', 'colocando_', 'colocado_', 'cola_', 'coisinhas_', 'cof_', 'co_', 'clube_', 'clientes_', 'clica_', 'cla_', 'cios_', 'cidade', 'cidadania_', 'cia', 'chuvinha_', 'chu_', 'choveu_', 'chegam_', 'chata_', 'chamado_', 'chamada_', 'cfa', 'certinho', 'casos_', 'carregador', 'carol_', 'caro', 'cargos_', 'cargo_', 'capit_', 'caos', 'cantos_', 'cantor_', 'cansada', 'campo_', 'campeonato_', 'camisas_', 'caminhada_', 'cam_', 'caio_', 'cai_', 'cagando_', 'cachorra_', 'busca_', 'bus_', 'burros_', 'burro', 'burrice_', 'bukkake_', 'btw_', 'brincando_', 'brincadeira', 'brinca_', 'brasileiro', 'boy_', 'bota_', 'bot_', 'bora', 'boom_', 'bonoro_', 'bola', 'bobo', 'blusa_', 'bloqueou', 'bjo_', 'bianca_', 'bf', 'belo_', 'beira_', 'beijinhos_', 'beijando_', 'beatriz_', 'bastarz_', 'barbara_', 'bandido', 'banco_', 'baixando_', 'bah_', 'bacano_', 'azul_', 'azul', 'avisa', 'avi_', 'auto_', 'atrav_', 'atrasado_', 'atrasada', 'ato_', 'ativo_', 'atingir_', 'atingi_', 'atendimento_', 'ataque_', 'atacou_', 'assustador_', 'assustada_', 'assistiu_', 'assistam_', 'assinatura_', 'ass_', 'arranjar_', 'arolde_', 'are_', 'aprende_', 'apoiam_', 'aperto_', 'apertado_', 'apavorada_', 'aparecida_', 'apareceu', 'aparecer', 'apaguei_', 'apagar', 'ansiosamente_', 'aniver_', 'animada_', 'anderson_', 'anao_', 'amores', 'amizades_', 'ambiente_', 'amava_', 'amas_', 'amanha', 'alunos_', 'alugar_', 'alto_', 'alternativa_', 'all_', 'aliviar_', 'alguma', 'algm_', 'alegrar_', 'aki_', 'ajudando_', 'aham_', 'ahahahaha_', 'ahahaha_', 'aguentar_', 'again', 'afinal_', 'aff', 'afazenda', 'adorando_', 'adm_', 'add_', 'adas_', 'acostumando_', 'acostumada_', 'acontece', 'acham_', 'acesso_', 'aceito_', 'acaso_', 'academia_', 'acabar', 'acaba', 'ac_', 'abriram_', 'abre_', 'abracinho_', 'aberta_', 'abe_', 'abaixar_', 'aaah_', 'aaaaaaah_', 'aaaa', 'aaa', ' .......... ', ' ...... ', '  .... ', '  ...', 'zoera_', 'zoar_', 'zoando_', 'zenfone_', 'youtuber_', 'youtube', 'yay_', 'ya', 'xx_', 'xingamentos_', 'ximos', 'ximas_', 'xenofobia_', 'wpp_', 'workshop_', 'wjsn_', 'with_', 'who_', 'white_', 'whatsapp_', 'welcome_', 'weekend_', 'we_', 'want_', 'vulgo_', 'vozes_', 'votava_', 'votarei_', 'voser_', 'vomitar_', 'volto', 'voces', 'voar_', 'viveria_', 'vivemos_', 'vivemos', 'vivem_', 'vitorkley_', 'vitor_', 'visto', 'visitar_', 'visa_', 'virtual_', 'viro_', 'virei_', 'virar_', 'viram_', 'virado_', 'virada_', 'vira_', 'vinicius_', 'vini_', 'vier_', 'vidro_', 'vidas', 'vic_', 'vibes_', 'vibe_', 'viaja_', 'vermelho_', 'verme_', 'verdadeira_', 'verdad_', 'ventilador_', 'venham', 'venezuela_', 'venezuela', 'venenoso_', 'vendo', 'vendedores_', 'vencer', 'velhos_', 'vegan_', 'vazio_', 'vasco_', 'variados_', 'vao_', 'vantagens_', 'vantagem_', 'valorizada_', 'valoriza_', 'valendo_', 'valen_', 'vacilo_', 'va_', 'utiliza_', 'uso', 'usei_', 'usados_', 'usada_', 'urna', 'urgente', 'universo', 'uni_', 'unhas_', 'unanimidade_', 'ultimamente_', 'uber_', 'tweets', 'tvxq_', 'tvtime', 'tvi_', 'tvd_', 'tutorial', 'tus_', 'turma_', 'tulo', 'trovoada_', 'trouxisse_', 'trouxa', 'troquei_', 'troca_', 'tristinha_', 'tri_', 'tremer_', 'treinamento_', 'treco_', 'trazem_', 'tratei_', 'tratada_', 'trata_', 'transformar_', 'transar_', 'tranquilos_', 'tranquilo', 'tranquila_', 'trainee_', 'tradicional_', 'trabalhou_', 'trabalhei_', 'tour_', 'tornando_', 'tor_', 'toffoli_', 'todinho_', 'todinha', 'tocaram_', 'toa', 'tmj', 'tl', 'tiveres_', 'titular_', 'tito_', 'tit_', 'tirem_', 'tiraram_', 'tios_', 'timidez_', 'tiago_', 'tia', 'thumbs_', 'thank_', 'thais_', 'textos_', 'texto_', 'textinhos_', 'testes_', 'testar_', 'testando_', 'testa', 'tes_', 'termos_', 'terapia_', 'tentou_', 'tentando', 'tensas_', 'temprano', 'temer_', 'telegram_', 'telefone_', 'teis_', 'tchau_', 'tatuar_', 'tatuagem_', 'tatuagem', 'tarot_', 'tank_', 'tam_', 'talitayounan', 'talento_', 'tadinha', 'tablet_', 'sz', 'sweetie_', 'susto_', 'sushi_', 'sus_', 'surtar_', 'surtando_', 'surreal', 'surpreso_', 'surpresa', 'superar', 'sumido', 'sumi_', 'sugiro_', 'suficiente', 'sudeste_', 'sucesso_', 'subir_', 'suave_', 'su_', 'styles_', 'stria_', 'story', 'stories', 'stico_', 'sticas_', 'stica', 'sta_', 'ssimas_', 'sorry', 'sorriso', 'sorrisinho', 'sorrindo_', 'sorri_', 'sonhos', 'son_', 'solto_', 'solo_', 'sofro', 'sofrimento_', 'sofreu_', 'sofrem_', 'sofia', 'socialismo_', 'social', 'sociais', 'sobrinha_', 'snap_', 'smp', 'smc_', 'sites_', 'siso_', 'sis', 'sintam_', 'sinal', 'simpatia_', 'silva', 'sil_', 'siiiiim_', 'siiiiiim_', 'significado_', 'sigla_', 'sigam_', 'siga_', 'sico', 'show', 'shopping_', 'shawol_', 'sexy_', 'sextou_', 'sexo_', 'setembro', 'ses_', 'server_', 'servem', 'seriam_', 'serei_', 'serasi_', 'separadas_', 'separa_', 'seok_', 'seo_', 'sentiu_', 'sentirei_', 'sentimentos_', 'sentimento', 'sentidos_', 'sentia_', 'senti', 'sentem_', 'sentado_', 'sentada_', 'senta_', 'sensato', 'sensacional_', 'sens_', 'senhorzinho_', 'send_', 'senado_', 'senado', 'semin_', 'semestres_', 'semestre_', 'seguiu_', 'seguir', 'seguidores', 'segui', 'segue', 'seda', 'secret_', 'seco_', 'secar_', 'seca_', 'score_', 'says_', 'saude_', 'sara_', 'sapatao_', 'sangrar_', 'sames', 'same_', 'salvei_', 'salvador_', 'salnorabo', 'salada_', 'sal_', 'saiu', 'sair', 'saio', 'sabrina_', 'russo_', 'ruindade_', 'rssss', 'rsrs_', 'roubando_', 'rouba_', 'rotina', 'rota_', 'rostinho_', 'romance_', 'rom_', 'rolar', 'rolando', 'rodada_', 'rock_', 'rm_', 'rlx_', 'river_', 'rito', 'risco', 'rie', 'ricas_', 'ribeiro_', 'rias', 'reza_', 'revoltada_', 'revista_', 'revisada_', 'reverter_', 'retrocesso', 'reto', 'reta_', 'resumindo_', 'responsabilidade_', 'respondo_', 'respondido_', 'respondemos_', 'responde', 'respirar_', 'respeitar_', 'resolve_', 'reputa_', 'representando_', 'representa_', 'repito_', 'repetir_', 'repete_', 'repensar_', 'renovar_', 'renovado_', 'renan_', 'remete_', 'remedio_', 'relembrar_', 'relaxar_', 'relaxa_', 'relacionamentos_', 'relacionamento_', 'relacionadas_', 'rel_', 'regular_', 'regra_', 'registrado_', 'reeleito', 'redor_', 'recuso_', 'reconhecer_', 'reconhe_', 'recomendo', 'reclamar_', 'reclamar', 'reality_', 'rea', 'raquel_', 'rapariga_', 'rap_', 'ran_', 'ramos_', 'raiva', 'rain_', 'radiante_', 'quina_', 'quietinha_', 'questoes_', 'queridos_', 'querido', 'querer', 'quente_', 'queixar_', 'queimou_', 'queda_', 'quebrou_', 'quebra_', 'quantos_', 'qualidade_', 'quadrinhos', 'quadra_', 'qr_', 'qq_', 'qlqr_', 'pz_', 'puts_', 'pular_', 'puderem_', 'publica_', 'psicologia_', 'psico_', 'psic_', 'proximo_', 'proxima_', 'provocar_', 'provoca_', 'provedor_', 'prorrogado_', 'propaganda_', 'prontinho', 'proibido_', 'profissionalismo', 'profissionais_', 'procurei_', 'procurar', 'procurando_', 'proco_', 'processa_', 'privado', 'prioridade_', 'printer_', 'principal_', 'princ_', 'primeiros_', 'primeiras_', 'pride_', 'prias_', 'pria', 'presidencial_', 'presidencia_', 'preparo_', 'preparei_', 'prepara_', 'preocupes_', 'preocupar', 'prender_', 'pregando_', 'preferido_', 'preferido', 'preferida_', 'preferia_', 'preferi_', 'preferem_', 'prefer_', 'preconceituosos_', 'precisares_', 'precisa', 'prazer_', 'prayforbrazil', 'praia', 'praga_', 'pp_', 'poxaa', 'power_', 'poucas_', 'potinho_', 'potencial_', 'postura_', 'postar', 'postado_', 'posiciona_', 'portuguesa_', 'portugu_', 'porte_', 'porn_', 'pop_', 'ponta_', 'ponha_', 'ponderar_', 'politicas_', 'politicamente_', 'polis_', 'poderia', 'poca', 'pobreza_', 'po', 'pm_', 'plot_', 'play_', 'plateia_', 'pl_', 'pitico_', 'pista_', 'pirata_', 'pique_', 'piorar', 'pinto_', 'pinta_', 'piercing_', 'picou_', 'pico_', 'piada', 'pia_', 'pfvr', 'pfv', 'pf_', 'pf', 'petr_', 'petistas_', 'pessoalmente', 'pessimo_', 'pessimista_', 'pesquisar', 'pescocinho_', 'pesada', 'perros_', 'perna_', 'permuta_', 'periscope_', 'perigoso', 'pergunto_', 'perguntem_', 'perguntei_', 'perguntas_', 'perguntas', 'pergunta', 'perfil', 'perfeito_', 'perfeitamente_', 'pereira_', 'perdido_', 'perdida_', 'perdendo_', 'perdemos_', 'perco_', 'percebo_', 'percebido_', 'pequena', 'pensou_', 'pensem_', 'pense_', 'pensado_', 'peixe_', 'pego_', 'pedro_', 'pedimos_', 'peda_', 'pb_', 'pay_', 'pavilh_', 'pauta_', 'passe', 'passava_', 'passagem_', 'pas_', 'participe_', 'participando_', 'pariu_', 'paredes', 'parede_', 'parecido_', 'parecendo_', 'pare_', 'parceira_', 'paralelo_', 'parabens', 'pao_', 'pano_', 'panico_', 'palmeiras_', 'palestra_', 'paix_', 'painho_', 'pai', 'page_', 'pagamento_', 'pagam_', 'paga_', 'padre_', 'paciente_', 'ozinho_', 'oxi_', 'oxal_', 'own_', 'over_', 'ouviu_', 'ouro_', 'otimista_', 'other_', 'osso_', 'osol', 'ortogr_', 'original_', 'origem_', 'orienta_', 'orgulhosa_', 'orgulho', 'organizado_', 'organizada_', 'org_', 'oral_', 'opinar_', 'oooo_', 'oo_', 'onte_', 'onda_', 'on', 'omg', 'omen_', 'oliveira_', 'olhou_', 'olha', 'oleosidade_', 'ola_', 'ol', 'oie', 'oh', 'off', 'oferecem_', 'oferece_', 'ofensas_', 'ofender_', 'oes_', 'oe_', 'odeio', 'ocorrido_', 'obvio_', 'obviamente_', 'observo_', 'obrigat_', 'obrigando_', 'obrigadaaa_', 'obrigad_', 'obras_', 'obra_', 'obgg', 'nus_', 'nulo', 'nude_', 'nu_', 'ntico_', 'ntica_', 'novinha_', 'novidade_', 'notei_', 'nota', 'norte_', 'normal', 'nordestino_', 'nordestina_', 'nomes_', 'nnc_', 'nina_', 'nima_', 'nil_', 'nico', 'nicho_', 'nia', 'ngm', 'ney_', 'nervoso_', 'nerdcast_', 'nenem_', 'negro_', 'necessidade_', 'necesito_', 'ndrome_', 'ndo_', 'ndio_', 'nd_', 'nd', 'ncer_', 'natureza_', 'nasceu_', 'nariz_', 'namoro', 'namorando', 'namora', 'nadja', 'nacionais_', 'muuuito_', 'musical_', 'musica', 'mundooo', 'muitooo_', 'muitoo', 'muita', 'mtt_', 'mtmt_', 'msgs_', 'mozi_', 'mozao', 'movimento_', 'mov_', 'moto_', 'mostrei_', 'morta', 'morrendo', 'mores_', 'moreira_', 'morando_', 'moral', 'moradores_', 'morador_', 'moleque_', 'mole_', 'moderado_', 'modelos_', 'moda_', 'mochila_', 'mobiliado_', 'mmo_', 'mm', 'mlr', 'miss_', 'mira_', 'miojo', 'mini_', 'mimos_', 'mimimi', 'milico_', 'milena_', 'miguel_', 'migo', 'migas_', 'midcast_', 'mi', 'mh_', 'mete_', 'metas_', 'meta_', 'mentirinha_', 'mentirem_', 'menina', 'memo_', 'melissa_', 'melhorem_', 'melhoras', 'meias_', 'medica_', 'media_', 'mbc_', 'mau', 'matematica_', 'mate_', 'mataria_', 'massagem_', 'mass_', 'masculino_', 'mario_', 'marii_', 'marido_', 'margarida_', 'marcou_', 'marco', 'marcar', 'mar_', 'manuela_', 'manu_', 'manha_', 'mande_', 'mandava_', 'mandassem_', 'man_', 'mama_', 'malvadas_', 'maltratar_', 'malta_', 'mals_', 'malia_', 'maldito_', 'malandragem_', 'mala', 'maisumavez_', 'mainha_', 'magrinho_', 'magoarem_', 'magoar_', 'magno_', 'magali_', 'maf_', 'mae_', 'madrugar_', 'madrinha_', 'madrid_', 'machuca_', 'machista_', 'machismo_', 'macacos_', 'lwnd_', 'lvl_', 'lutas_', 'luscas_', 'luansantanatv_', 'luansantana_', 'luanetes', 'luan_', 'lua_', 'lua', 'lu', 'lover_', 'loucura_', 'lopes_', 'long_', 'loko_', 'lojas_', 'loiros_', 'loco_', 'livro', 'livres_', 'livre', 'liter_', 'listinha_', 'lise', 'lindinho_', 'lindinhas_', 'limite_', 'liguei_', 'light_', 'ligam_', 'liga', 'lido', 'libera_', 'lias_', 'levantar', 'les_', 'leo_', 'lenha_', 'len_', 'lembrava_', 'lembrar', 'leitura_', 'leiam_', 'legenda', 'leco_', 'lcool_', 'lc_', 'lbuns_', 'lavar_', 'lavada_', 'larga_', 'lar', 'lance_', 'lage_', 'kp_', 'know_', 'kkkkkkkkkkkkkk_', 'kit_', 'king_', 'killin_', 'kate_', 'karen_', 'kakakaka', 'jurem_', 'jurei_', 'jurava_', 'juntos', 'junta_', 'julia', 'julgar_', 'juc_', 'juan_', 'jovem', 'jornalista_', 'jornalismo_', 'jogador_', 'joelho_', 'jodie_', 'jikooka_', 'jikook_', 'jennifer_', 'jeff_', 'jaque_', 'jantando_', 'jaja_', 'jaemin_', 'iu_', 'isys_', 'isentos_', 'isent_', 'isa', 'ironia_', 'irma_', 'irm', 'iriam_', 'investir_', 'investimentos_', 'inventa_', 'inveja_', 'inveja', 'intoler_', 'internado_', 'interior_', 'interessar_', 'interessante', 'interessa_', 'inten_', 'insta', 'inst_', 'insiste_', 'insensati_', 'inseguro_', 'insegura_', 'inscrevi', 'inscrever_', 'inscrever', 'inomin_', 'inimigos_', 'informar_', 'informado_', 'infantil_', 'inevit_', 'indico_', 'indecisa_', 'incomodo_', 'incomodar', 'inchada_', 'inbox_', 'imudou_', 'impulso_', 'impotente_', 'importante', 'imploro', 'impediu_', 'impeachment_', 'imaturo_', 'imagino', 'imagens_', 'iludir_', 'igualdade_', 'igr_', 'ignorada_', 'ignora_', 'idoso_', 'ido', 'idiotas_', 'idiota', 'identifico_', 'identifica_', 'identidade_', 'ideal_', 'icon', 'ia', 'humor', 'humilde_', 'humanidade_', 'humanidade', 'hum_', 'hr_', 'hq_', 'hp_', 'houver_', 'hoseok_', 'horrores_', 'horror_', 'horror', 'horrivel', 'hope_', 'homem', 'hola_', 'hobi_', 'hitler_', 'high_', 'hidrata_', 'hetero_', 'hesites', 'hero_', 'henrique_', 'hem_', 'help', 'heart_', 'hawk_', 'hard_', 'hang_', 'hahahahah_', 'hahahaha', 'hahahah', 'guria_', 'guess_', 'guas_', 'guarda_', 'grupos_', 'grossa_', 'grita_', 'gripada', 'grima_', 'grima', 'gravei_', 'graus_', 'gratuitas_', 'grato', 'gracinha_', 'gp_', 'gozar_', 'governadora_', 'governa_', 'gourmet', 'gostoso_', 'gostem_', 'gostar', 'gosta', 'gorda_', 'google_', 'gokabum', 'god_', 'glr_', 'gloss_', 'girls_', 'girando_', 'gira', 'gino_', 'ginas_', 'gina_', 'gif_', 'gicos_', 'gica_', 'geralmente_', 'gentileza_', 'genas_', 'gb_', 'garotas_', 'garden_', 'garantir_', 'garantindo_', 'ganhe', 'ganharam_', 'ganham_', 'ganha', 'gang_', 'games_', 'gaga_', 'gabriela_', 'gabi_', 'ga_', 'furo_', 'furo', 'furar_', 'fundo', 'funcionaram_', 'fuder_', 'fuder', 'fudendo_', 'ft_', 'fsp_', 'fs_', 'friends', 'fred_', 'francisco_', 'fran_', 'fps_', 'foz_', 'fox_', 'fotinhas_', 'fotinha_', 'fosse', 'fortnite_', 'formato_', 'fone', 'fome', 'folhas_', 'fofoca_', 'fofinhas_', 'fofinha_', 'fodido', 'fodeu_', 'foder', 'fode_', 'fodasse_', 'fodase_', 'focar_', 'fluir_', 'flr_', 'flores_', 'flop_', 'flertando_', 'fizesse_', 'fizemos_', 'fixe', 'fisk_', 'fiques_', 'fique', 'fio_', 'financia_', 'finalizou_', 'finalizar_', 'fina', 'fifa_', 'fiel_', 'ficatemer_', 'ficaram', 'ferrou_', 'ferro_', 'ferrado_', 'feriad_', 'fere_', 'fer_', 'feminino_', 'felizinho_', 'felizes', 'feitos_', 'feito', 'feio', 'feedback_', 'fdp', 'fdd', 'fazeres_', 'favorita_', 'fascismo', 'farra_', 'fantasia_', 'fanfarra_', 'famoso_', 'faltar', 'faltando_', 'falou', 'falo', 'falha_', 'falava_', 'facebook', 'fa', 'ez_', 'extremos_', 'extraordin_', 'extra_', 'explodir', 'explicou_', 'explicar', 'exo', 'existisse_', 'existia_', 'exige_', 'exclu', 'evito_', 'evita_', 'eventos_', 'euros_', 'eucalipto_', 'estupro_', 'estudo_', 'estudantes_', 'estudante_', 'estranha_', 'estima_', 'estarmos_', 'estarei_', 'estando_', 'estaduais_', 'est', 'essencial_', 'essenciais_', 'esquina_', 'esquema_', 'esquecendo_', 'espinhas_', 'espero', 'esperei_', 'esperar', 'esperando', 'espera', 'espelho', 'especulando_', 'especifico_', 'especificamente_', 'especialista_', 'espec_', 'espanhol_', 'espalha_', 'esgotam_', 'esfregar_', 'escutei_', 'escuta_', 'escuta', 'escrevi_', 'escreve_', 'esconder_', 'escolheu_', 'escolhendo_', 'escolhas_', 'escolha', 'escolaridade_', 'escolar_', 'escadas_', 'error_', 'errei_', 'erradas', 'erguida_', 'eq_', 'envolvidos', 'enviei_', 'envie_', 'entrou', 'entristece_', 'entrei_', 'entrando_', 'entrado_', 'entrada_', 'entendo', 'entendido_', 'entende', 'entanto_', 'ensinar_', 'enorme_', 'enorme', 'enjoo_', 'engenharia_', 'enfia_', 'energias_', 'encontro_', 'encheram_', 'encantada_', 'empresas_', 'empres_', 'empate_', 'empata_', 'emocional', 'emocionado_', 'elite_', 'elesim_', 'elenao_', 'eleita_', 'eleger_', 'eleger', 'eitaa_', 'eiou_', 'efe_', 'eeee_', 'ee', 'edu_', 'ecr_', 'economia_', 'econ_', 'eae_', 'duvidas_', 'duvida_', 'dura', 'dupla_', 'dudu_', 'dps', 'dormiu', 'dorama', 'dono', 'dona_', 'doguinho', 'dog_', 'doeu', 'doer', 'doce_', 'diziam_', 'divulgue_', 'divulgou', 'divulgar_', 'divis_', 'divirta', 'divertido_', 'divertido', 'divertida_', 'diversas_', 'ditas_', 'distante_', 'disse', 'disfarsada_', 'discutido_', 'discute_', 'discretamente_', 'discordo_', 'dirige_', 'direto', 'direta_', 'directioners_', 'dirceu_', 'din_', 'diminuir_', 'digita_', 'digas', 'dificuldade_', 'diferentes', 'dialogo_', 'dg_', 'df', 'devfest_', 'deves_', 'devemos_', 'determinada_', 'detalhe_', 'destru_', 'destrancada_', 'despeda_', 'desmerecer_', 'desmente_', 'desisto', 'desista_', 'desgosto_', 'desesperado', 'desenvolver_', 'desenhos_', 'desempenho_', 'deseja', 'descobre_', 'descer_', 'descendo_', 'descarregar_', 'descansa_', 'desafio_', 'desacelere_', 'desabafo_', 'deputados', 'deputadas_', 'deprimido_', 'depressivas_', 'depressao_', 'depositar_', 'depender_', 'denguinho', 'demore_', 'demorado_', 'demonstrar_', 'demonstra_', 'democrata_', 'demasiado_', 'delicia_', 'del_', 'deixo', 'deixem_', 'deixa', 'deitada_', 'defensores_', 'deem_', 'dedicada_', 'decentes_', 'ddd_', 'datas_', 'dani', 'curtindo_', 'curti_', 'cursos_', 'curso', 'cursinho_', 'curar_', 'cura_', 'cupons_', 'cuo_', 'cumprir_', 'culpada_', 'culpa', 'culo', 'cuidem_', 'cuidando_', 'cuba_', 'cry', 'criticas_', 'criticar_', 'cristiano_', 'crist_', 'cris_', 'criou_', 'crime_', 'criando_', 'criancinha_', 'criados_', 'criada_', 'cres_', 'crente_', 'cozinha', 'covinhas', 'covers', 'covarde_', 'costuma_', 'cosplays_', 'corte_', 'cortaram_', 'corrupto_', 'corremos_', 'corpo', 'core_', 'corda_', 'cor_', 'cor', 'coquetel', 'copa', 'convites_', 'convidado_', 'convidada_', 'conversava_', 'convencer', 'conv_', 'controlar_', 'contrato_', 'contrario_', 'continuar', 'continente_', 'contempor_', 'contei_', 'contas_', 'contando_', 'construir_', 'constr_', 'constipado_', 'considerar_', 'considerando_', 'consertar_', 'consentimento_', 'conseguiu', 'consegui', 'conquistar_', 'conjunto_', 'conheci_', 'conhec_', 'congelando_', 'confusa', 'conflito_', 'confirmo_', 'confia_', 'conex_', 'cone_', 'concordo', 'concorde_', 'concertos_', 'con', 'comunista_', 'comunista', 'comunismo_', 'comunica_', 'comum_', 'computador_', 'compro_', 'compras_', 'complicada_', 'compat_', 'compartilhem', 'compartilhe_', 'compartilhe', 'compartilha_', 'coming_', 'comidas_', 'comenta_', 'comemora_', 'comecem_', 'comeback_', 'comeback', 'comboio_', 'combo_', 'coluna_', 'colo_', 'coletivo_', 'colegas', 'colega_', 'colada_', 'colabora_', 'coitado_', 'coitada_', 'coimbra_', 'coca_', 'cobertas_', 'cntg_', 'cnico_', 'cnh_', 'club_', 'clicksummitpt_', 'clicksummitpt', 'clicar_', 'claras_', 'claramente_', 'citei_', 'ciropresidente_', 'circuito_', 'cir_', 'cinemas_', 'cidad_', 'chuveiro_', 'chuu_', 'chupa', 'choro', 'chora', 'choque_', 'chocada_', 'chique_', 'chester_', 'cheiroso', 'chegou', 'chegarem_', 'chegar', 'chatinho_', 'chatear_', 'chateada', 'chata', 'chanyeol_', 'chantagem_', 'chance', 'chamamos_', 'chama', 'cf', 'cervejas_', 'certinho_', 'certa', 'centro', 'celebrando_', 'cel_', 'ceis_', 'ceis', 'cearense', 'cdb_', 'cbfe_', 'caso', 'casinha_', 'casaco_', 'carteira_', 'carros_', 'carro', 'carreira_', 'caros_', 'carol', 'carioca_', 'carinhosa_', 'carinha', 'caridade_', 'cardi_', 'caraca', 'car_', 'car', 'capital_', 'capazes_', 'capacidade_', 'capacete_', 'canta_', 'canta', 'canso_', 'cansa_', 'caneta_', 'candidatura_', 'candidato', 'canal', 'camiseta_', 'caminh_', 'camila_', 'camera_', 'calor', 'calmo_', 'calend_', 'calar', 'cala_', 'caindo_', 'caguei', 'cagou_', 'cae_', 'cadelinha_', 'cadeiras_', 'cadeira_', 'cachorros_', 'by_', 'bvio_', 'but_', 'buscar_', 'buscar', 'burra', 'burgu_', 'bunda_', 'buenos_', 'bruxa_', 'bru_', 'brother_', 'brotar_', 'bronn_', 'bro_', 'britney_', 'brit_', 'brinco_', 'brincar', 'brilhante_', 'brigar_', 'brigado_', 'brigadeiro_', 'brigada', 'brigad_', 'brasilia_', 'brasileiros', 'bras_', 'brancos_', 'brancas_', 'bradescard_', 'br', 'boys_', 'bottom_', 'borges_', 'bons', 'bonossauro_', 'bonitinhos_', 'bon', 'bommmmm_', 'bolo_', 'bolinha_', 'boletos_', 'boleia_', 'bol_', 'bo_', 'bloqueou_', 'bloquear_', 'bloqueado_', 'bloqueada_', 'block', 'blica_', 'bito_', 'bitch_', 'bish_', 'bio_', 'bike_', 'bighit_', 'bicho', 'bichinhos_', 'bichinho', 'bica_', 'biblioteca', 'bia', 'bey_', 'bemmm_', 'belchior_', 'beijos', 'beijo', 'beijar_', 'bebo', 'bea_', 'bcf_', 'battle_', 'bater_', 'barzinhos_', 'barulho_', 'barreira_', 'barato_', 'banquinho_', 'banho', 'bandidos_', 'bancada_', 'ban', 'baixinho_', 'baixei_', 'baita_', 'bah', 'back_', 'baby', 'babaca_', 'aznavour_', 'axie_', 'away_', 'avril_', 'aviso', 'avisar', 'avisado_', 'avisa_', 'avalia_', 'autoriza_', 'autorit_', 'aut_', 'aumenta_', 'atualizei_', 'atualizar_', 'att', 'atrasado', 'atrasada_', 'atras_', 'atra_', 'atos_', 'ativa_', 'atitude_', 'atingiu_', 'atendendo_', 'atacando_', 'ataca_', 'ata_', 'assunto', 'assiste_', 'assist_', 'assina_', 'asas_', 'artistas_', 'artist_', 'artes_', 'arrumo_', 'arrependimento_', 'arrasou_', 'arrasada_', 'arranca_', 'arquivo_', 'armas_', 'arm_', 'argumentar_', 'arei_', 'araujo_', 'aranha_', 'aram_', 'apura_', 'aproximar_', 'aproveita', 'aprova_', 'apresenta_', 'aprendendo_', 'aposto_', 'aposta_', 'apoiaria_', 'apoiadores_', 'apoiador_', 'aplica_', 'apertado', 'apertadinho', 'aparelho_', 'aparecia_', 'aparece', 'apar_', 'apaixonar_', 'apaixonada', 'apago_', 'apaga_', 'antigos_', 'antigamente_', 'antiga_', 'anota_', 'anitta', 'animar_', 'animais', 'animado_', 'anima_', 'angustiada_', 'ang_', 'anel_', 'andr_', 'andas_', 'andando_', 'analise_', 'analisar_', 'anal_', 'amos', 'amon_', 'amiguinhos_', 'amiguinhas_', 'american_', 'amento_', 'amem_', 'amar', 'amamos_', 'amamos', 'amam', 'amado_', 'alvo_', 'alves_', 'alv', 'altura_', 'altos_', 'alterar_', 'alterando_', 'altera_', 'allan_', 'aline_', 'aline', 'aliena_', 'alias_', 'alexandre_', 'alem_', 'alegrias_', 'alegria', 'alegre_', 'aleat_', 'alckmin_', 'alcan_', 'ajudou_', 'aiii_', 'aids_', 'aia_', 'ahhhhh_', 'ahh_', 'ahaha_', 'ahah_', 'aguentou_', 'aguento', 'aguentando_', 'aguardo_', 'aguardem_', 'aguardamos_', 'agua_', 'agressiva_', 'agradecer_', 'agradar_', 'afundar_', 'affff_', 'afff_', 'afa_', 'aee_', 'aec_', 'ae', 'advogados_', 'adulto_', 'adotar_', 'adota_', 'adoramos_', 'admitiu_', 'admiro_', 'adiantar_', 'adaptar_', 'acreditei_', 'aconteceram_', 'acompanho_', 'acompanhei_', 'acompanhamento_', 'acompanhado_', 'achei', 'acheeeeei_', 'ache_', 'acha', 'ach_', 'aceitando_', 'acalmar_', 'acalma_', 'acabam_', 'acabado_', 'abusada_', 'absolutamente_', 'abracei_', 'aborto_', 'abertos_', 'aberto_', 'abertas_', 'abelhas_', 'abc_', 'abandonar_', 'abaixo', 'ab_', 'ab', 'aafazenda', 'aaaah_', 'aaaaaaaaaaaa_', 'aaaaaaaaaaa_', 'aaaaaaaaaa_', 'aaaaaaaaa_', 'aaaaaaa', ' ....... ', ' ... ...', '  .. ', 'zuquinho_', 'zumbis_', 'zorp_', 'zoom_', 'zone_', 'zoiudinha', 'zoas', 'zoan', 'zoado_', 'zoada_', 'zoa_', 'zn_', 'zlatan_', 'zkkzkkkkkk_', 'zipado_', 'zip_', 'zio_', 'zinhos_', 'zinho_', 'zia_', 'zezao_', 'zes_', 'zerin_', 'zerado_', 'zera_', 'zeppelin_', 'zenker_', 'zenfone', 'zendaya_', 'zen_', 'zelita', 'zelador_', 'ze_', 'zaq_', 'zap', 'zaniolo_', 'zangada_', 'zanetti_', 'zamboti_', 'zaira_', 'zago', 'za_', 'yves_', 'yuru_', 'yuri_', 'yupi_', 'yunsilva_', 'yungue_', 'yumestar_', 'yudi_', 'yt_', 'youtubers_', 'youtoba_', 'your_', 'young_', 'youjin_', 'you', 'yotube_', 'yoseob_', 'york_', 'yoq', 'yoonjo_', 'yoonie_', 'yoongi', 'yoon_', 'yong_', 'yogananda_', 'yo_', 'yo', 'ynyn_', 'yixing_', 'yha_', 'yh_', 'yh', 'yess', 'yep', 'yeiiiiii_', 'yebin_', 'yeap_', 'yeahhh_', 'yazzy_', 'yasuo_', 'yass_', 'yasemiin_', 'yaru_', 'yangyang', 'yang_', 'yan_', 'yaassss_', 'yaaaa_', 'xwed_', 'xuxuzinho_', 'xuxuxi_', 'xuxu', 'xusto_', 'xtil_', 'xpto_', 'xoxo_', 'xonos_', 'xona_', 'xolamais_', 'xiqueta_', 'xinguem_', 'xingando_', 'xing_', 'ximenag_', 'ximas', 'xima', 'xim_', 'xiii_', 'xicas_', 'xeyalan_', 'xenofobicos_', 'xenof_', 'xefe_', 'xd', 'xcom_', 'xbx_', 'xbox_', 'xau', 'xarope_', 'xadrez', 'wyolo_', 'wynonnaearp_', 'wynonna_', 'ws_', 'wowiowio', 'wow_', 'worst_', 'worry_', 'world_', 'working_', 'word_', 'woohee_', 'wonwoo_', 'wolfgang_', 'woge_', 'woe', 'wl', 'wj_', 'wizard_', 'witzel_', 'winffer_', 'win_', 'wilson_', 'william', 'whittaker', 'whitening_', 'whispering_', 'where_', 'where', 'whatsmock_', 'whats_', 'wgm', 'wf', 'wetzel_', 'welle_', 'well_', 'wek_', 'weeabos_', 'websites_', 'website_', 'webnamoro_', 'webfeio', 'webdevelopment_', 'webdesign_', 'webcomic_', 'webamigas_', 'web_', 'wattpad_', 'waters_', 'warpzone_', 'war_', 'wallpapers_', 'wallauer_', 'walking_', 'waits_', 'wadih_', 'wacom_', 'vzs', 'vvv', 'vverissimo_', 'vtf', 'vsf_', 'vsf', 'vsc', 'vrdd', 'vqievgou_', 'vozniaki_', 'vozao_', 'vov_', 'vouuu_', 'vots_', 'votariam_', 'votaria', 'votarem_', 'votarei', 'votados_', 'voos_', 'voo_', 'voo', 'vontri', 'vontadinha_', 'vomos_', 'vomitando_', 'voltou', 'voltes', 'voltei', 'volte_', 'voltaste_', 'voltassem_', 'voltaria_', 'voltares_', 'voltarem', 'voltaram_', 'voltaram', 'voltamos_', 'voltaaaar', 'voleinosportv_', 'voi_', 'voce', 'vocabul_', 'voando_', 'voadoras_', 'voado_', 'voa', 'vo', 'vm_', 'vlws_', 'vlh_', 'vizinhos_', 'vizinho_', 'vizinhan_', 'vizinha_', 'vivo', 'vivi', 'viveu_', 'viverrrrr_', 'vivermelhor', 'viveria', 'viverem_', 'viveram', 'viver', 'vivendo', 'vivenciar_', 'vive_', 'vivam_', 'vitorioso_', 'vitoria_', 'vitoria', 'vitimizar', 'vitimiza_', 'vitao_', 'vitamina_', 'visualiza_', 'visual_', 'visuais_', 'vista', 'visse_', 'visita', 'visibilidade', 'visar_', 'visao_', 'virus_', 'virtual', 'virou', 'virose_', 'virj_', 'viria_', 'virgem_', 'virasse_', 'virarem_', 'viraram_', 'virar', 'virando', 'viramos_', 'viralizou_', 'vip_', 'vip', 'violet_', 'violento_', 'violenta_', 'violencia_', 'vio_', 'vintage_', 'vinncent', 'vinini', 'vinil_', 'vinha_', 'vingt_', 'vingan_', 'vingadores_', 'vindos_', 'vindas_', 'vind', 'vinculo_', 'vincent_', 'vina_', 'vin_', 'vimos_', 'vimeo_', 'villamassa_', 'viiiii_', 'view_', 'viesses_', 'vierem_', 'vieram_', 'viemos_', 'vieiram_', 'vieira_', 'vids_', 'vidinha_', 'videojogos', 'videography_', 'videoclip', 'vidaaa', 'victorh_', 'victor_', 'viciei_', 'viciada_', 'vices_', 'vicente_', 'viavel_', 'viapiana_', 'viajo_', 'viajei_', 'viajar', 'viaja', 'viagens', 'viagem', 'viado', 'viadinho_', 'viad_', 'vhs', 'vetar_', 'vetando_', 'vestinha_', 'vestida', 'vestibular', 'vestibulanda_', 'vermelha', 'verifique_', 'verifico_', 'verga_', 'veremos_', 'verem_', 'vereadora_', 'verdades_', 'verdadeiro', 'verdadeirafuncao_', 'verd_', 'verbena_', 'verbal', 'verba_', 'ventress_', 'ventos_', 'ventilar_', 'venha', 'venezuelano_', 'venenosas_', 'vendido_', 'vendida_', 'vendi_', 'vendermos_', 'venderam_', 'vendendo_', 'vendedor_', 'vende', 'vendas_', 'vendas', 'venda', 'vencido_', 'venceu', 'venceria_', 'venceram_', 'vencem_', 'ven_', 'velocidade_', 'velhote_', 'velhinhas_', 'velhacos', 'velhaaa_', 'velberan_', 'velaaaaa_', 'vejo', 'vegetariano', 'vegetar_', 'veem_', 'vcccc', 'vazoudenovo_', 'vazia', 'vazar_', 'vaza_', 'vasca_', 'varioooos', 'variar_', 'varandas', 'varanda_', 'varal_', 'vara_', 'vaquinha_', 'vaquinha', 'vapor_', 'vao', 'vans_', 'van_', 'vamosss_', 'vamosjuntos', 'vamoooooooooooo_', 'valve', 'valorizei_', 'valorizam_', 'valladolid_', 'valhalla_', 'valgamos_', 'valeus', 'valendo', 'valeeeu_', 'valdir_', 'vaina_', 'vagina', 'vagas_', 'vagas', 'vagabundos_', 'vagabundo_', 'vagabunda_', 'vag_', 'vacilo', 'vacilaram_', 'vacilando_', 'vacil_', 'vaa_', 'utts_', 'utilizadores_', 'utica_', 'utero_', 'usufruir_', 'usos_', 'userzinho', 'usem_', 'usea_', 'usasse', 'usarei_', 'usado_', 'usado', 'us', 'ursula_', 'urso_', 'ursinho', 'ursal_', 'urgentemente', 'urgente_', 'urg_', 'urea_', 'urbana_', 'urach_', 'upf_', 'up_', 'unpopular_', 'unnie_', 'universidades_', 'universidade_', 'universes_', 'uniu_', 'unit', 'unir', 'unipampa_', 'union_', 'uniforme_', 'unificados_', 'unido_', 'unidades', 'unica_', 'uni', 'unha', 'unfunny_', 'unfollow', 'unfold_', 'unesp', 'underbust_', 'uncountable_', 'unb_', 'unb', 'una_', 'umdiaeuaindavou_', 'umbral_', 'umal_', 'uma_', 'ultrajado_', 'ultimos_', 'ultimo_', 'ultima', 'ukelele_', 'uk_', 'uitoutaf', 'uia', 'ui_', 'uhum', 'uhull_', 'uhgo_', 'uheueheudjdjjjjjjkkk', 'uhaoiuehiaehu', 'ufsm_', 'ufsc_', 'ufba_', 'uema_', 'ubispo_', 'uashusahuasuasuauhss', 'uai_', 'uai', 'uahuaehae', 'uab', 'uaaaaaaau_', 'tyler_', 'tyler', 'two_', 'twitters_', 'twitiii', 'twist_', 'twice_', 'twice', 'tweetou_', 'tweeter_', 'tweetei_', 'tweetar_', 'tweetar', 'tweetando_', 'twd_', 'tw_', 'tvtime_', 'tv', 'tuuuudo', 'tuuudo_', 'tutorial_', 'tutoriais_', 'turne_', 'turmafeiracosplay', 'turma', 'turismo_', 'turco_', 'tur_', 'tupperware_', 'tupi_', 'tunes_', 'tulio_', 'tulio', 'tuiteros_', 'tuitei_', 'tuit_', 'tuit', 'tugu_', 'tuf_', 'tudinho_', 'tudinho', 'tudi_', 'tubar_', 'tts_', 'tt', 'tsunami_', 'tst', 'truque_', 'truco_', 'trt_', 'troye_', 'trouxe', 'trouxas_', 'trouxa_', 'trout_', 'trotineta_', 'troquei', 'troque_', 'tropa_', 'trolls_', 'trolls', 'troikas_', 'trocentas_', 'trocadeestilos', 'tro_', 'tristwe', 'tristona_', 'tristona', 'tristinho_', 'tristinho', 'tristinha', 'tristi', 'tristes', 'tristeee_', 'trist_', 'trist', 'triple_', 'trip_', 'trio_', 'trincou_', 'trimestre', 'trilha_', 'trilh_', 'trigo_', 'tricken_', 'tribunal_', 'trevosas_', 'trevo', 'trevas_', 'treva_', 'tretas_', 'treta_', 'treta', 'tres_', 'trens_', 'trends_', 'trend_', 'trem_', 'trejoo_', 'treinos_', 'treino_', 'treino', 'treinem_', 'trecho_', 'trazendo_', 'travestis_', 'tratarem_', 'tratar_', 'tratando_', 'tratamentos_', 'tratam_', 'traria_', 'trap_', 'transtornos_', 'transtorno_', 'transporte_', 'transmitida_', 'transmiss_', 'translator_', 'transformou_', 'transfiro_', 'transf_', 'transcidadania', 'transbordando_', 'transar', 'tranquilamente_', 'tranquilamente', 'tranquila', 'trancar_', 'trancar', 'tran', 'tralo_', 'trajet_', 'trajar', 'trainer', 'trago_', 'traga_', 'trag_', 'traduzindo_', 'traduzido_', 'tradu_', 'tradicionalistas_', 'tradicionais', 'tradi_', 'tracks_', 'trabson_', 'trabalhos', 'trabalhistas_', 'trabalhava_', 'trabalhadores_', 'trabalhadores', 'trabalhadora', 'tpm_', 'tozz_', 'toya_', 'toy_', 'toxico_', 'touquinha', 'tou', 'totalit_', 'total', 'tot_', 'tossir_', 'tossi_', 'tosse', 'tosco', 'torturados_', 'torturada_', 'tortuga', 'tortos_', 'torto', 'torrent_', 'torre_', 'tornou_', 'torno_', 'torneios_', 'torneio_', 'tornaria_', 'tormenta_', 'torci_', 'torcendo', 'torce_', 'toquei_', 'topou', 'topissima_', 'topinho_', 'topei_', 'topar_', 'top', 'toodles_', 'too_', 'tony_', 'tonha_', 'tona_', 'tomo', 'tomlinson_', 'tomate', 'tomarem_', 'tomam_', 'tomada_', 'tomada', 'toma', 'tom', 'tokki_', 'together_', 'todoscombolsonaro', 'today', 'tocaste_', 'tocando_', 'toby_', 'tmbm', 'tmb', 'tm_', 'tlm_', 'tlg_', 'tks_', 'tks', 'tivessem_', 'titulos_', 'tissue', 'tis', 'tiririca_', 'tiririca', 'tirei', 'tire_', 'tirasse_', 'tiraria_', 'tirarem_', 'tirar', 'tirado', 'tipos_', 'tipos', 'tiny_', 'tinta_', 'tinc_', 'timos_', 'timmy', 'times_', 'times', 'timeline_', 'time', 'timbre_', 'timaaaassss', 'tim_', 'til', 'tiii_', 'tigrinho', 'tieppo', 'tida_', 'thumb_', 'threads_', 'thing_', 'thiago', 'theux_', 'theseus_', 'theodoro_', 'them_', 'thc_', 'thata_', 'that', 'thanksss_', 'thanks_', 'thanks', 'thali_', 'thaiialmeida_', 'th_', 'tge', 'tgc_', 'tg_', 'tg', 'textinho_', 'text_', 'testez_', 'testemunha_', 'testam_', 'test_', 'tesouro_', 'tesla_', 'terroristas', 'terras_', 'terr_', 'terq_', 'tero_', 'termog_', 'terminei', 'terminar', 'terminantemente_', 'terminam_', 'terminada_', 'termina_', 'teria', 'terceir_', 'tera_', 'teoria_', 'teologia_', 'teo_', 'tento', 'tentem_', 'tentativa_', 'tentativa', 'tenso_', 'tensa', 'tenkiu', 'tenhoooo', 'tenhoo_', 'tenhas_', 'tenhamos_', 'tenga_', 'tendinite_', 'tendeu_', 'tendendo_', 'tendenciosas_', 'tendencia_', 'tende_', 'tenda_', 'tena_', 'ten_', 'tempura_', 'tempooooo_', 'tempestade_', 'tempero_', 'temperamentos_', 'temmerzinho', 'temin_', 'temia', 'temer', 'temamos_', 'tema', 'telmo_', 'teller', 'tell_', 'teleton', 'telepizza_', 'telecom_', 'tele_', 'tele', 'telas_', 'tela', 'tel_', 'tel', 'teja_', 'teixeira_', 'teistes_', 'teias_', 'tegus', 'tedio_', 'teddy', 'ted_', 'ted', 'tecnicas_', 'tecnicamente_', 'tecla_', 'technicolors_', 'tech_', 'teatro_', 'teaso_', 'teaser_', 'teamtini_', 'teamanitta', 'teach_', 'tds_', 'tds', 'tdo_', 'tdm', 'tcsjfk_', 'tchauzinho_', 'tcc_', 'tbmmm_', 'tbmmm', 'tbh_', 'tay_', 'tavam_', 'tatuou_', 'tattoos_', 'tattoo_', 'tattoo', 'tatiiii_', 'tas_', 'tarra_', 'taroni_', 'targa_', 'tarefas', 'tardio', 'tard_', 'tarc_', 'tarados', 'tarada', 'tapete_', 'tape_', 'tapas_', 'tapa', 'tap_', 'tantoo', 'tampouco_', 'tampinha_', 'tamos', 'tame', 'tambaba_', 'tamanho', 'tals_', 'tals', 'talquinho_', 'talks_', 'talentosas_', 'talentosa_', 'talentos_', 'tale', 'takeaway', 'tai_', 'tah_', 'taeyong_', 'taetae_', 'taetae', 'taekook_', 'taehyung', 'tae', 'tadinhos', 'tadinhas_', 'taco_', 'taao_', 'szszsz_', 'szeckir_', 'swings_', 'sweat_', 'swan_', 'swag', 'suzie_', 'suti_', 'sustentar_', 'suspendeu', 'suscr_', 'surto_', 'surtei_', 'surtada_', 'surta', 'surrreal', 'surreal_', 'surreais_', 'surprised', 'surprise_', 'surpreendo', 'surpreendida_', 'surpreendesse_', 'surpreende', 'surgiu_', 'surgindo', 'sure_', 'surdinhos_', 'surani_', 'suprir_', 'suprema_', 'supreender', 'supostamente_', 'supostamente', 'suposta_', 'suportar_', 'suportar', 'suplicy_', 'suplicy', 'superf_', 'superei_', 'superado_', 'superabra_', 'supera', 'sungjoy_', 'sundor', 'sun_', 'sun', 'sumiu', 'sumiro_', 'sumiram_', 'sumir_', 'sumir', 'sumida_', 'sulista', 'sul', 'suju_', 'suji_', 'sujeita_', 'sujeira', 'sujei_', 'sugw_', 'sugou_', 'sugerir_', 'sugerir', 'sugerimos_', 'sugerido_', 'sugar_', 'sugando_', 'suga_', 'sufoco_', 'suellen_', 'sucks_', 'sucesso', 'sucessivamente_', 'subway_', 'substitui_', 'substitu_', 'submeteram_', 'subiram_', 'subela_', 'sub_', 'suar_', 'style_', 'stuff', 'studio_', 'strogonoff', 'strip', 'strg_', 'stressou', 'stremar_', 'stream_', 'storytelling_', 'storas_', 'stones_', 'stoltz_', 'stirling_', 'stima_', 'stikadinhos_', 'sticos_', 'stico', 'stickers_', 'sthe_', 'sthe', 'stf_', 'step_', 'steam', 'steakhouse_', 'stbbb_', 'status_', 'stars_', 'starbucks_', 'star_', 'stans_', 'stannnnnnnn_', 'standup_', 'stands_', 'stand_', 'stan', 'stalker_', 'stalkear_', 'stalkear', 'staff_', 'sso_', 'ssimos_', 'ssimos', 'ssima', 'ssicos_', 'ssicos', 'ssico_', 'ssico', 'ssemos_', 'srry', 'sr_', 'squad', 'sprite_', 'spray_', 'spot_', 'sportv_', 'sporting_', 'spoilers_', 'spoiler_', 'spirit_', 'spice_', 'spfc_', 'spera_', 'spears', 'speaker_', 'spc', 'souza_', 'sousab_', 'sousa', 'sound_', 'sound', 'soulmates_', 'soulmate_', 'soucis', 'soubessem_', 'soube_', 'sossego', 'sos', 'sorvete_', 'sortuda', 'sorteos_', 'sorteo', 'sorteio_', 'sorteeee_', 'sorteeee', 'sortear_', 'sorrisos_', 'sorrisin_', 'sorrirem_', 'sorrindo', 'sorria_', 'soqria_', 'soooo_', 'sooo_', 'sony_', 'sonsa_', 'sonsa', 'sons_', 'sons', 'sonora_', 'sonora', 'sonn_', 'soninho_', 'sonhou_', 'sonhei', 'sonhava_', 'sonhar', 'sonhando_', 'sonhamos_', 'song_', 'sondagem_', 'sonambula_', 'sonae_', 'some', 'sombrios_', 'somar_', 'solteiros_', 'solteiro', 'soltar', 'solta_', 'solicitados_', 'solicita_', 'solasso_', 'solamente_', 'solado_', 'sol', 'soh_', 'sogro', 'sogra_', 'softzinha_', 'softblocks_', 'sofro_', 'sofrimento', 'sofrido_', 'sofrida_', 'sofreram_', 'sofrer', 'sofrencia_', 'sofrencia', 'sofremos', 'sofre', 'sofiane', 'sofi_', 'soeder_', 'sodadi_', 'socorro', 'soco', 'sociologia_', 'sociol_', 'socialista_', 'soc_', 'sobrou', 'sobrinho_', 'sobrinha', 'sobrevive_', 'sobreviv_', 'sobrenatural_', 'sobrenaturais_', 'sobremesas_', 'sobras_', 'sobraria_', 'sobradinho_', 'sobraaa', 'sobra_', 'sobeeeee', 'sobe', 'soakoskaosk_', 'soacha_', 'snow', 'snickers_', 'sn_', 'smulders', 'smrookie_', 'smite_', 'smart_', 'smart', 'slk', 'slexie_', 'slc_', 'slb', 'skt_', 'sksksksksksksksksksk', 'sksksksksksksksksk_', 'sksksksks', 'sksks_', 'skoob_', 'skksksksks', 'skjdkkkkk', 'skitles_', 'skins_', 'skate_', 'skaf_', 'sjdnshjsnsbsbsnbsbsn', 'sjc_', 'sjajajakwnw', 'situacao_', 'sitos_', 'sitios_', 'sitiocachoeirinha_', 'sisa_', 'sirvo_', 'siqueira_', 'sio_', 'sinute_', 'sinusite_', 'sintricare_', 'sintra_', 'sintra', 'sintetizou_', 'sintaxe_', 'sinop_', 'sino_', 'sinmmm_', 'sinistro_', 'sinho_', 'singular_', 'sings_', 'singela_', 'sines_', 'sindicato_', 'sinceramente', 'sincera_', 'sincera', 'since_', 'sinalizar', 'sinais_', 'sin_', 'simult_', 'simulam_', 'simula_', 'simplista_', 'simplificada_', 'simpatizando', 'simpatico', 'simpatica_', 'simpatia', 'simo', 'simmmmmmmmmm_', 'simmmmm_', 'simmmm_', 'simmm', 'similar_', 'simguru_', 'silvio_', 'silvia', 'silvestrin_', 'silinder', 'silfer_', 'silenciei_', 'silenciei', 'silenciar_', 'silenciada_', 'silencia_', 'silence_', 'silas_', 'silamet_', 'siiimmmm_', 'siiimmm_', 'siiim_', 'siiiiiiiim_', 'signo_', 'significativas_', 'significa', 'sigaaaaa_', 'sicos_', 'sico_', 'sic_', 'sia_', 'si', 'shsush', 'showz_', 'shows_', 'showlivreday_', 'shounen_', 'shops_', 'shoot_', 'shksbddkb_', 'shiu', 'shitai', 'shit_', 'shirts_', 'shippo_', 'shipper_', 'shippando_', 'shipo_', 'ship_', 'shingeki_', 'shinee_', 'shhshss', 'shhhhhsss_', 'shevine', 'sher_', 'shayenne_', 'sharman_', 'shadrago_', 'shadow_', 'shades_', 'sgrxs_', 'sgg_', 'sforos_', 'sfl_', 'sff', 'sf_', 'sexa_', 'severa_', 'setores_', 'setor_', 'setlist_', 'set', 'sesso_', 'sessions_', 'sesc_', 'serviu_', 'serviam_', 'serve', 'sertanejo_', 'serrapilheira_', 'serrano_', 'serra_', 'serr', 'series_', 'seriado_', 'seriada_', 'sergipe_', 'serginho_', 'serena_', 'serce', 'sequestro_', 'sequencia_', 'separou_', 'separo_', 'separar_', 'separadamente', 'seny_', 'sentou_', 'sento_', 'sentisse_', 'sentiremos_', 'sentido', 'sentes_', 'sentem', 'sentei_', 'sentava_', 'sentar_', 'sentando_', 'senso', 'sensibilidade_', 'sensatos_', 'sensatos', 'sensato_', 'sensatez_', 'sensatez', 'sensacionalista', 'sensacionais_', 'senhoritaa_', 'senhorita_', 'senhoreseservos_', 'senhores', 'senhor', 'senhas_', 'senha_', 'senao_', 'senadorsp', 'sempreee_', 'semirames_', 'semifinais_', 'semelhava_', 'semelhantes_', 'semelhan_', 'semanas', 'semanal_', 'selvatica_', 'selvagem_', 'selinho_', 'selera_', 'selena_', 'sej_', 'seila_', 'seguros', 'seguro', 'segurando_', 'segurado_', 'segundou_', 'segundou', 'segundosol', 'segundos', 'segundinha', 'segundas_', 'segundas', 'segundadetremurasdv_', 'segundadasbocas_', 'seguirem_', 'seguirei', 'seguintes_', 'seguindo', 'seguiflores_', 'seguidos_', 'seguidas', 'seguida', 'seguia_', 'seguia', 'segui_', 'segredos', 'seg_', 'seferovic', 'seeu_', 'seem_', 'see_', 'sedm_', 'sedenta_', 'sede_', 'secund_', 'secular_', 'secreto_', 'secreto', 'sec', 'sebosas_', 'sea_', 'sdl_', 'scruton', 'scoa_', 'schweppes_', 'schneider_', 'scaras_', 'scar_', 'sb_', 'sax_', 'savy_', 'savescorpion', 'save_', 'saudoso_', 'saudadinha_', 'saudadessssssssssss', 'saudadessss', 'satisfeita_', 'satisfeita', 'satan_', 'sasa_', 'sartre_', 'sarmento_', 'sarinha_', 'sargento_', 'sarcasmo_', 'sarc_', 'sarau_', 'saranyas_', 'saraiva', 'sar_', 'saquinhos_', 'saporra_', 'sapatos_', 'sapatonas_', 'sapatinho_', 'sapatilhas', 'saozinha_', 'santo_', 'santinha', 'santana_', 'santa_', 'sansone_', 'sans_', 'sanrezende_', 'sanma_', 'sanguinus_', 'sangria_', 'sandro_', 'sanctas_', 'sanchez_', 'samurai_', 'samuel_', 'sampaio_', 'samo_', 'sames_', 'same', 'samduba_', 'salvo_', 'salvo', 'salve_', 'salve', 'salvar', 'salva_', 'salva', 'saltos_', 'saloio_', 'salgadossp_', 'sales_', 'salem_', 'sale_', 'salbo_', 'sala', 'sal', 'saibam_', 'sai', 'sagrados_', 'sagitariana', 'sagada_', 'safernet_', 'safadeza', 'saesaw_', 'saebom_', 'sadias', 'sacou_', 'sacanagem_', 'sacanagem', 'sacada_', 'saca_', 'sabr', 'sabor_', 'sabias_', 'sabiaaaa_', 'sabemos_', 'sabemos', 'sabedoria', 'sabar', 'sabadooo_', 'sabadoes_', 'sabadodetremurasdv_', 'rvores', 'rvore_', 'rust_', 'ruralista', 'runway_', 'runcrosstrail', 'rumo_', 'ruiva_', 'ruiva', 'ruins', 'ruims_', 'ruimmm', 'rugg', 'rudo_', 'rude_', 'rubiuuus_', 'rubiuh_', 'rubens_', 'ruas_', 'ru_', 'rtp_', 'rtate_', 'rsrssssss_', 'rsrsr', 'rsrs', 'rsrrs_', 'rr_', 'rpgs_', 'rp_', 'royal_', 'roxo_', 'roupinhas_', 'roupa', 'roulotes_', 'rouca_', 'roubou_', 'roubem_', 'roubei', 'roubado_', 'roubada_', 'rouanet_', 'rotura_', 'roto', 'rotina_', 'rotelli_', 'roteiro', 'roteador_', 'rosto', 'rossetto_', 'rosna_', 'rosinha_', 'rosav_', 'rosane_', 'roraima_', 'room', 'romeu', 'romero_', 'romanticamen', 'romances_', 'roman_', 'rolo_', 'roles_', 'rolado_', 'rola_', 'roger_', 'rog_', 'roexit_', 'roer_', 'rodrigo_', 'rodovi_', 'rodopiar_', 'rodinha_', 'rodeada_', 'rodas_', 'rodar_', 'rod_', 'rochs_', 'rochaa_', 'robs_', 'robinson_', 'robini_', 'robert_', 'rob_', 'rob', 'roast_', 'rmino_', 'rmarques_', 'rlx', 'rl_', 'rj', 'riverdale', 'rivalidade_', 'ritualzinho', 'rito_', 'ritmo_', 'rita_', 'rita', 'riscos_', 'riscala_', 'risca_', 'riquinho', 'riot_', 'rios', 'riodotwitter', 'rindo', 'rina_', 'rim_', 'rigon_', 'rifa_', 'riezinha', 'ridiculo', 'ride_', 'rick_', 'richa_', 'ricarduzusa', 'rica', 'ribeiros_', 'ribeira', 'rial_', 'ri', 'rguer_', 'rgio_', 'rgica_', 'rgica', 'rg_', 'rf_', 'rezultate', 'rezende_', 'rezar_', 'rework', 'revoltou_', 'revoltado_', 'revitalizados_', 'revistadeimprensa_', 'revisor_', 'revisa_', 'revis_', 'reviews_', 'revendo_', 'revelador', 'reusables_', 'reuni_', 'retweets_', 'retuite_', 'retrospectivabear_', 'retrogrado_', 'retribuisem_', 'retribu', 'retrato_', 'retrasada_', 'retr_', 'retornamos_', 'retocar_', 'reto_', 'retiro', 'retirada_', 'retida', 'retardados_', 'retardado_', 'retardada_', 'resumos_', 'resumir_', 'resum_', 'resultando_', 'restrito', 'restream', 'resto', 'restar_', 'restantes_', 'ressalto_', 'resqu_', 'respostas_', 'respostas', 'resposta', 'responsabilizar_', 'responsabilidades_', 'respondo', 'respondido', 'respondendo', 'responda_', 'respire_', 'respirabilidade_', 'respeitoso_', 'respeito', 'respeitem_', 'respeitava_', 'respeitar', 'respeitado', 'respaldo_', 'resolvido_', 'resolveu_', 'resolveu', 'resolvessem_', 'resmungao_', 'resistir', 'resisti_', 'resis', 'resfriada_', 'reservas_', 'resenha_', 'requisitada_', 'requiao_', 'repugnantes_', 'reprovo_', 'reproduz_', 'reprisados_', 'reprimir', 'representou_', 'representativos', 'representatividade', 'representante_', 'representam_', 'representado', 'repres_', 'reposta', 'reportar_', 'reportagens_', 'repolho_', 'replies_', 'repleto_', 'repleta_', 'repita_', 'repita', 'repetidos', 'repetid_', 'repercuss_', 'repasse_', 'repassando_', 'reparei_', 'reparei', 'repararam_', 'reparado_', 'repara_', 'rep_', 'renunciar_', 'renovando_', 'renovada', 'renjun', 'rendus_', 'rendido_', 'rendeu_', 'render_', 'rende_', 'renatafreitaas_', 'renatac_', 'renata', 'renascimento_', 'remunerados_', 'remoendo_', 'remix_', 'remarcou_', 'remarcar_', 'remains_', 'remadas_', 'rema', 'relutante_', 'relles_', 'relinchar', 'religiosidade_', 'religi_', 'relevante_', 'relevante', 'relev_', 'relaxante_', 'relaxado_', 'relatou_', 'relacionada_', 'reja_', 'reizinho_', 'reis_', 'reis', 'reinstala_', 'reinar_', 'reinar', 'reinado_', 'rei_', 'rei', 'regulando_', 'regulamentou_', 'regulamentar_', 'regra', 'registros_', 'registrar_', 'regina_', 'regina', 'regarder_', 'regarde_', 'regarde', 'regado_', 'regadas_', 'rega_', 'refuta_', 'refrigerante_', 'refri_', 'refrescante_', 'reformulada_', 'reformista_', 'reforma_', 'reflitam_', 'reflexos_', 'reflex_', 'refletir', 'reflection_', 'refinadas_', 'refil_', 'referir_', 'referindo_', 'referente_', 'reference_', 'refeit_', 'refazer_', 'ref_', 'reescrita_', 'reencontrar', 'reeleito_', 'reelei_', 'reelegeu_', 'reeleger_', 'reelege_', 'reduz_', 'redondo_', 'redondeza_', 'redobrar_', 'redigida_', 'redesky_', 'rede', 'recupero_', 'recuperei_', 'recuperar_', 'recupera_', 'records_', 'recordem_', 'recorde_', 'record_', 'reconsidere_', 'reconsiderar_', 'reconhecida_', 'reconheci_', 'reconheceu_', 'reconhecerem_', 'reconhecem_', 'reconhece_', 'recompondo', 'recompensas_', 'recomendei_', 'recomendando_', 'recomendadora_', 'recome', 'recolher_', 'reclamou', 'reclamem_', 'reclamando', 'reclamam_', 'reclama_', 'reckel_', 'reciprocidade_', 'recinto_', 'recife_', 'recife', 'recesso_', 'receptivo_', 'recentes_', 'recentemente_', 'receitas_', 'receio_', 'recebo', 'recebia_', 'recebesse_', 'receber', 'recebe_', 'recebe', 'receb_', 'recalcularam_', 'recados_', 'rebuli_', 'rebula_', 'rebro_', 'reboque_', 'rebeli_', 'rebecca_', 'rebater', 'rebaixe_', 'rebaixa_', 'reativei_', 'reassistir_', 'realmente', 'really_', 'realizou_', 'realizei_', 'realizar_', 'realizamos_', 'realizada_', 'realizada', 'realista_', 'realidade', 'reajustar_', 'reais', 'reagir_', 'reafirmado_', 'reactfirenze_', 're', 'rdias_', 'rcito_', 'rca_', 'rc_', 'rc', 'rbitros', 'rbara_', 'razao_', 'ravena_', 'raven_', 'rave_', 'rava_', 'raupp_', 'rasteiro_', 'rasquei_', 'raspei_', 'raspando_', 'raso_', 'rasgada_', 'rascunhos_', 'raros_', 'raro', 'rapzin', 'rapunzel_', 'rapta_', 'rapper_', 'rapidooo', 'rapido_', 'raphael_', 'rapaz', 'rao_', 'ranqueada_', 'rankeds_', 'ranger_', 'rancoroso_', 'rancor_', 'rancisco_', 'ramo_', 'ramiro_', 'rame_', 'ram_', 'ralar_', 'raissa_', 'raios', 'raio', 'rainha', 'raicha', 'rafinha_', 'rafhael_', 'rafaela_', 'rafael_', 'rafaatl_', 'rafa_', 'radio_', 'radinho_', 'radical_', 'radicais_', 'radiante', 'racionamento_', 'rachando', 'rabo_', 'rabiscar_', 'rabiscados_', 'rabiscado_', 'rabiola_', 'rabault_', 'rabaca_', 'ra', 'quote_', 'quoi', 'quiz_', 'quiz', 'quite_', 'quitar_', 'quisesse_', 'quiseram', 'quisera', 'quis', 'quiridaaaa', 'quintocanal_', 'quintaaaaaa', 'quimioterapia_', 'quilo_', 'quietinha', 'quichelorraine_', 'quichedelorraine_', 'quiche_', 'quicando_', 'questionando_', 'questao_', 'quesito_', 'queroooooo_', 'querooooo', 'querooo', 'queridinha_', 'queridas_', 'querida', 'queriam', 'queriaaa', 'quereres_', 'quereer_', 'quentinhoss_', 'quentinho', 'quentinha_', 'quente', 'quelia_', 'quelespique_', 'quela_', 'queixas_', 'queixarse_', 'queixa_', 'queiram_', 'queira', 'queimei_', 'queimada_', 'queima_', 'quei_', 'queenvals_', 'queeeeee_', 'queeee_', 'quedas_', 'quebrei_', 'quebrar_', 'quebrar', 'quebrando', 'quebrados_', 'quebrada_', 'quebrada', 'quartel_', 'quantacafeina', 'qualqer_', 'quality_', 'qualidade', 'qual_', 'quadros_', 'quadrilha_', 'quadrado', 'qro', 'qrem_', 'qqq', 'qqlr_', 'qqer_', 'qnto_', 'qnt_', 'qmo', 'qideianinja', 'qando_', 'pycones', 'puxar_', 'puxado_', 'puxa_', 'puxa', 'puuhh', 'putz', 'putssss_', 'putos_', 'putassos_', 'putas_', 'putas', 'putaquepariu_', 'putaquepariu', 'putangina_', 'putaena', 'put_', 'pushawardsmaywards', 'puro', 'purinho_', 'puramente_', 'pura', 'pupi_', 'puntos_', 'punir_', 'pulso_', 'pulserinha', 'pulsar_', 'pulos_', 'pulo_', 'pulm_', 'pulando_', 'pufav_', 'pudim', 'pudessem_', 'pudesse', 'puder', 'pude_', 'pucrs_', 'pucca', 'publico', 'publicidade_', 'publicar', 'publicando_', 'pubg_', 'pubg', 'ptralhasnunca_', 'ptralha_', 'ptnuncamais_', 'ptnao_', 'ptm_', 'ptista_', 'ptimo_', 'pta_', 'psychill_', 'pssss_', 'pssoas_', 'pssa_', 'pss', 'psn_', 'psl_', 'psl', 'psiqui_', 'psilvaa_', 'psicopata_', 'psicologico_', 'pse', 'psdb', 'proximo', 'provocador_', 'provincianismo_', 'proveitoso', 'prove_', 'provavelmente', 'provas', 'provar', 'provadofazendeiro_', 'provadefogo', 'prouni_', 'proud', 'protesto_', 'protestar', 'proteja_', 'proteja', 'protege_', 'proteg_', 'prote', 'protagonista_', 'prostituto_', 'prossigo_', 'propus_', 'propuls_', 'proprio_', 'propostas', 'proposta', 'proposito_', 'propositalmente', 'proposital_', 'propositadamente_', 'proporcional', 'proporcionado_', 'proporciona_', 'proponho_', 'propagarem_', 'propagam_', 'pronuncio_', 'pronunciar_', 'prontid_', 'pron_', 'prompts_', 'prompto_', 'promocional_', 'promocionais_', 'prometer_', 'promete', 'prologarem_', 'projeto', 'projectos_', 'project_', 'proibir_', 'progresso_', 'progressista_', 'progredindo_', 'programadas_', 'profundo', 'professores', 'professoras_', 'professor', 'profes_', 'prof', 'produzir_', 'produzimos_', 'produtos_', 'produtor_', 'produto', 'produtivo', 'produtiva_', 'produtiva', 'procure_', 'procurava_', 'procurarei_', 'procuram_', 'prociss_', 'processou_', 'processar_', 'proc_', 'probleminhas', 'problem', 'proba_', 'privvvv', 'privilegiados_', 'privatizar_', 'pris_', 'prioridade', 'prints_', 'printar_', 'print', 'principais_', 'princesinha_', 'princesas_', 'prince_', 'primos_', 'primitivos_', 'primeros_', 'prime_', 'prime', 'primavera', 'primas', 'primaaaa_', 'pri', 'prfv', 'preview_', 'prevenido', 'preven_', 'prevale_', 'preto', 'pretinha', 'pretendo', 'pretendem_', 'pretende_', 'preta_', 'presunto', 'prestes_', 'prestativa_', 'prestataire_', 'prestar', 'prestam_', 'presta_', 'presta', 'pressionada_', 'pressa_', 'preso_', 'preso', 'presidenta_', 'presentinho', 'presencial', 'presa_', 'prepot_', 'preparados_', 'preparado', 'preparadissimos', 'preocupem', 'preocupante_', 'preocupadona', 'preocupado', 'preocupadas_', 'prende_', 'premium_', 'premium', 'prejudicar', 'preju_', 'pregada_', 'prega_', 'prega', 'preferiria_', 'preferirem_', 'preferir_', 'preferidas_', 'preferencia_', 'prefeitura_', 'prefeito', 'predio_', 'prediletos_', 'predadores', 'preconceituosa_', 'precisei_', 'precisavam_', 'precisarmos_', 'precisaram_', 'precis_', 'precis', 'precip_', 'preciosos_', 'precioso', 'preciosidades_', 'preceito_', 'prbns_', 'prazo', 'pray_', 'pravoc_', 'prato_', 'praticava_', 'praticando_', 'prateleira_', 'prata_', 'prantos', 'praises', 'praias', 'practicamos', 'pracinha_', 'pr', 'pqmeudeus_', 'pprt', 'ppps_', 'ppp_', 'ppm_', 'ppereira_', 'pp', 'poxilda_', 'poxaaaa', 'poxaaa_', 'povoa_', 'povin_', 'pousamos_', 'pouquinho', 'pouqu_', 'poupe', 'pote_', 'potatoez_', 'postmalone_', 'posters', 'postarei_', 'postaram_', 'postamos_', 'postada_', 'possam_', 'positivamente_', 'positiva_', 'positiva', 'posicionamento', 'posicao_', 'posey_', 'portugueses_', 'portf_', 'portaria', 'porreira_', 'porrah_', 'porraaaaaaaaaa', 'porraaaaa_', 'porraaaa_', 'porquinhos', 'porqu_', 'porqu', 'porq_', 'pornografia_', 'pornocracy_', 'porno_', 'porno', 'porem_', 'porco_', 'porcentagens_', 'porcarias_', 'porcaria_', 'por_', 'popzinhos_', 'populoso_', 'populista_', 'populismo', 'popularidade_', 'poppy_', 'poppy', 'pool_', 'pontuais_', 'ponto', 'pontinhos_', 'pontica_', 'ponte_', 'pontadas_', 'ponho_', 'poncho_', 'poncho', 'ponce_', 'pomeras_', 'pomada_', 'pomada', 'politizar_', 'politizada_', 'politicos', 'policial_', 'polemica_', 'polati_', 'polarizando_', 'polariza_', 'pokerface_', 'pok_', 'poiz_', 'poisonous_', 'poison', 'points_', 'pohapoussey_', 'poetas_', 'poeta_', 'poesia_', 'poem_', 'poe_', 'podre_', 'podosfera_', 'podias_', 'podermos_', 'poderiam_', 'poderemos_', 'poderem_', 'podendo_', 'podeeeeeeeee_', 'podcasters_', 'podcastbr', 'pod_', 'pod', 'pobrezinho_', 'pobres_', 'pobre', 'poa_', 'pnr_', 'pneus_', 'plus_', 'plss', 'pls_', 'pll', 'plim_', 'plen_', 'pleito_', 'please_', 'plaza_', 'playstation_', 'playplus_', 'playlist_', 'player_', 'playboy', 'plaus_', 'plataforma_', 'plaqueta_', 'plant_', 'planilha_', 'planejei_', 'planejar_', 'planejado_', 'planeado_', 'planalto_', 'pkdpfskk_', 'pk', 'pj_', 'pj', 'pixar_', 'pivara_', 'pitoquinho_', 'piticos_', 'pitico', 'pitelzinho', 'pitard_', 'pitanga_', 'pistola_', 'pisei_', 'pisarem_', 'pisada_', 'pisa_', 'pirulito', 'pirs_', 'pirobo', 'piriri_', 'piratear_', 'piratas_', 'piranhas_', 'piranha_', 'piquito', 'pipoca_', 'pipel', 'piora_', 'piora', 'pintou_', 'pintei_', 'pintar_', 'pinguinzada_', 'pinguei_', 'pincel_', 'pin_', 'pimposinho', 'pilsner_', 'piloto_', 'pilm_', 'pilhada_', 'pilha_', 'pijamas_', 'pijama_', 'piha_', 'pietra_', 'piercing', 'pida_', 'picos_', 'picareta_', 'picado_', 'piau_', 'pianissimo_', 'piangers_', 'piam_', 'piadinhas_', 'piadinha_', 'phone_', 'philo', 'pha_', 'ph_', 'pfvrrr', 'pfff_', 'pff_', 'pfeiffer_', 'pezinhos', 'peuvent_', 'pettel_', 'pets', 'petra', 'petitoso_', 'petistas', 'petisco', 'peti_', 'peter_', 'peter', 'pete_', 'petardo_', 'pet_', 'pester', 'pessoinhas_', 'pessoais_', 'pessimismo_', 'pessima_', 'pesquiso_', 'pesoa_', 'pesadas_', 'pesad_', 'pes_', 'perturbar_', 'pertence_', 'perten_', 'perspectivas_', 'personalizando_', 'personalizados_', 'personalizado_', 'personaliza_', 'personalidade_', 'persistiu', 'persistir_', 'perseveran_', 'perseguir_', 'perseguida', 'persegui_', 'perroooos_', 'perro_', 'perrengue_', 'perplexa_', 'pero_', 'pero', 'perninhas_', 'pernilongo', 'pernas', 'pernambuco_', 'permitiu_', 'permitir_', 'permitindo_', 'permitido_', 'permanentes_', 'permaneceram_', 'perla_', 'perigoso_', 'perigosa_', 'periferia_', 'perguntinhas_', 'perguntam_', 'perguntado', 'perguntaasss_', 'performances_', 'performance_', 'perfeitos_', 'perfeito', 'perfeita_', 'perfei_', 'pere_', 'perdoar', 'perdoam_', 'perdoa', 'perdidos_', 'perdido', 'perdidinha_', 'perdia_', 'perdi', 'perdeu', 'perdeste', 'perderam_', 'perder', 'perceberem_', 'percebendo_', 'percebemos_', 'percebem_', 'percebe_', 'perante_', 'perai_', 'pequna_', 'pequenos', 'pequenininho_', 'pequenininho', 'pequeninas_', 'pequenas_', 'pequenas', 'peoximos_', 'pentel_', 'penteando_', 'penteados_', 'pentagna_', 'pense', 'pensasse_', 'pensamos_', 'pensamentos', 'penis', 'peninha_', 'penha_', 'pend_', 'penalte_', 'penalte', 'pen_', 'peludas_', 'pelucias_', 'peluche_', 'pellets', 'peliar_', 'pele_', 'pelamor_', 'peladao_', 'pelacore_', 'peixoto_', 'peixinho', 'peixes_', 'peitos_', 'peito', 'peitar_', 'peido_', 'pegue_', 'pegadinha_', 'pegadinha', 'peg', 'pedroso_', 'pedro', 'pedra_', 'pedidos_', 'pedem', 'pedagogos', 'pedacinhos_', 'pedacinho_', 'pecar_', 'pec_', 'pdt_', 'pdf_', 'pcdob_', 'pc', 'pazzz', 'pazes_', 'pavos_', 'pav_', 'pausa_', 'paulistano_', 'paulista', 'paulinhaaaaa_', 'pauline_', 'paul', 'pau', 'patry_', 'patrocinar_', 'patrocinamos_', 'patrocinadores_', 'patrocinador_', 'patroc_', 'patroa_', 'patrim_', 'pato_', 'patifes_', 'patentear_', 'patati_', 'patat_', 'pat', 'pastor_', 'pastilha_', 'pastel', 'passou', 'passiva_', 'passinho_', 'passinato', 'passeios_', 'passeia_', 'passasse_', 'passas_', 'passarinho_', 'passares_', 'passaram_', 'passaportes_', 'passando', 'passamos_', 'passagens_', 'passado', 'passada', 'pasito_', 'pase_', 'pascon_', 'pasado_', 'pasa', 'pas', 'parvos_', 'parvo', 'partiu', 'partilhou_', 'partilhei_', 'partilhar_', 'partilhamos_', 'partilha', 'partidas_', 'partida_', 'participou_', 'participo_', 'participem_', 'participativo_', 'participarem_', 'participamos_', 'particip_', 'partes_', 'part_', 'parra', 'parou', 'paro_', 'paro', 'parnamirim_', 'parlamentares_', 'park_', 'paris_', 'paridade_', 'pares_', 'parentes', 'parente', 'pareja_', 'paredes_', 'parede', 'pareceram_', 'parecen_', 'parda_', 'parcelo_', 'parcelar', 'parcela_', 'parceiro_', 'parceiras', 'paraty', 'parassem_', 'parasse_', 'pararam', 'paranoia_', 'parando_', 'paranagu', 'parana_', 'paran_', 'paramahansa_', 'param_', 'paralisa_', 'paraiso_', 'paraguai_', 'paragem', 'parae', 'parada', 'parabenizar_', 'parabeeeeeeens_', 'paraa_', 'par', 'paquet_', 'papo', 'paper_', 'papelzinho_', 'papel', 'papear', 'panos_', 'pangua_', 'panfletando_', 'panela_', 'pandora_', 'pandinha_', 'pandan_', 'panda_', 'pammtavares', 'palminhas', 'palito_', 'palha_', 'pale_', 'palcos_', 'palco_', 'palavrascruzadas_', 'palavras', 'palavra', 'palabras_', 'palabradebruxa', 'palabra_', 'pala', 'pal_', 'pakas_', 'painhoooo', 'paige', 'paia_', 'paia', 'pah_', 'pague_', 'pagou', 'pagos_', 'pagodinho_', 'pagava_', 'pagar', 'pagamento', 'pagada_', 'paes_', 'padroeira_', 'padrinhos_', 'padrim', 'padaria_', 'pada_', 'pacote_', 'packs_', 'package_', 'pac_', 'pa', 'oz_', 'oxentesam_', 'oxee_', 'oxe', 'owen_', 'overwatch_', 'ovas_', 'ouvintes_', 'ouvinte_', 'ouvido_', 'ouvem_', 'outubrorosa', 'outr_', 'ousadia_', 'ourinho_', 'oui_', 'otoni_', 'otina_', 'otario', 'otaria_', 'otaria', 'otakulandi_', 'osts_', 'osorio_', 'oso_', 'oscilar_', 'oscar_', 'ortola_', 'ortiz', 'oro_', 'ornn_', 'orix_', 'originais_', 'oriente_', 'orgulhosos_', 'orgulhoso_', 'orgulhosinho_', 'orgulhogabie', 'orgia_', 'organizando_', 'organizadores_', 'organizado', 'organiza_', 'org', 'orem', 'orelha_', 'orelha', 'ordunoa_', 'ordem_', 'oraremos_', 'orando_', 'oramos', 'oq', 'optei_', 'ops_', 'opressor_', 'oppa_', 'oposto_', 'oposta_', 'opositores', 'oposi_', 'oportunista_', 'oportunidade', 'opo_', 'opni_', 'opinion_', 'opiniao_', 'opiniao', 'opinar', 'operando_', 'opera_', 'oper_', 'open_', 'opaaa_', 'opaa', 'ooowww_', 'ooooooo_', 'ooooo', 'ooo_', 'ooo', 'ooga_', 'onubense', 'only_', 'only', 'onlines', 'onibus_', 'onibus', 'onemoretime', 'once_', 'onaro_', 'omiss_', 'ome_', 'ombros_', 'omanel_', 'olvid_', 'oliver_', 'oliveiras_', 'olive_', 'olhos', 'olhinho_', 'olhinho', 'olhes_', 'olheiras_', 'olhava_', 'olhares_', 'olharam_', 'olhar', 'olhadinha_', 'olhada', 'olguin', 'oleada_', 'olar_', 'okayyyy', 'oikkkk_', 'oiiiiiiiii', 'oiiii_', 'oiii', 'oieeeee_', 'ogi_', 'oftalmologista', 'oficina_', 'offline_', 'official_', 'ofereceu_', 'oferecer_', 'oferecendo_', 'ofensas', 'oemcristo_', 'odora_', 'odndisndo_', 'odio_', 'odio', 'odiei_', 'odiando', 'odiado', 'odeiam_', 'odeia', 'odd_', 'ocupo_', 'ocupado_', 'ocupado', 'ocupada_', 'oculos_', 'october_', 'ocorreu_', 'ocorreria_', 'ocorrer_', 'ocorre_', 'ocean_', 'oc_', 'obteve_', 'observo', 'observando_', 'obscuro_', 'obscura_', 'obrigam_', 'obrigadooo_', 'obrigadoo_', 'obrigadoo', 'obrigadaaaaaa_', 'obrigadaaaaa', 'obrigadaaaa_', 'obrigadaaa', 'obrigadaa_', 'obrigadaa', 'obrigaaaaaaada', 'objetos_', 'objetivo', 'objection_', 'obggg', 'obeso_', 'ob', 'oasis_', 'oafazenda_', 'oados_', 'oa_', 'ny_', 'nuxada_', 'nuvens_', 'nutricionista_', 'nun', 'numvaleu_', 'numeros', 'numas_', 'nulos_', 'nucleo_', 'nubando_', 'ntese_', 'nss_', 'nsito_', 'nsia_', 'nrem_', 'novinho_', 'novembro', 'november', 'novela', 'novato_', 'novafotodoperfil', 'novaer_', 'nov', 'noun_', 'notou', 'notlikethis_', 'notis_', 'notificou', 'notebooks_', 'note_', 'notasse_', 'nostalgia_', 'nosss_', 'nosportv_', 'nosotros_', 'nosegundoturno', 'nosa_', 'norwegian_', 'noruegu_', 'noruega_', 'normani_', 'normalidade_', 'norma_', 'norenmin', 'nordestinos', 'noq_', 'noprimeiroturno_', 'nope', 'noob_', 'noo_', 'nomees_', 'nom_', 'nojo', 'nojentos_', 'nojentinha_', 'nojenta', 'noix_', 'noivinho', 'noita_', 'nois_', 'noi_', 'nogueira_', 'nofixado_', 'nobrega_', 'nobel_', 'noastra', 'nn', 'nmrl_', 'niver', 'nitidamente_', 'niteroi', 'nite_', 'nique', 'nios_', 'nintendo_', 'ninguem', 'ningen_', 'nimos_', 'nike_', 'nightflyers_', 'night_', 'nig_', 'nicos_', 'nicos', 'nicolly_', 'nicky_', 'nicki_', 'nick_', 'nick', 'niciodata_', 'nicasdeumjogador_', 'nicas_', 'nic', 'niall', 'nhonhonho_', 'nhamos_', 'nhaa_', 'nh_', 'ngelo', 'ngc_', 'ngartos', 'ng', 'nfl_', 'nfimo_', 'neymar_', 'next_', 'newark', 'new_', 'neurose_', 'neura_', 'networking_', 'netshoes_', 'nete', 'netcine_', 'neta_', 'net', 'nessinha_', 'nessaa_', 'nervous_', 'nervoso', 'nervosa', 'neros_', 'nero_', 'nereida_', 'nerds_', 'nerde_', 'nerd_', 'neos_', 'nenis_', 'neni_', 'nenenzinhos_', 'nenens_', 'nenem', 'nelson_', 'neh', 'neguinho_', 'neguinho', 'neguei', 'negra_', 'negra', 'negocio_', 'negativa', 'negado_', 'nega_', 'neg_', 'nefer_', 'neeeeceeee', 'necessidades_', 'necessario', 'necessariamente_', 'ndole_', 'ndnfnfnf_', 'ndice_', 'nde_', 'ndalo_', 'nda_', 'nctwhat_', 'ncipe_', 'ncipe', 'ncial_', 'nchworld_', 'nc', 'nazistas_', 'nazista_', 'nazareth_', 'nayoung', 'nayara_', 'naver_', 'navarrete', 'naum_', 'naum', 'nature', 'naturalmente_', 'naturalizar_', 'naturaliza_', 'naturaleza_', 'naturalcomooiogurte', 'nathy_', 'nathaliaduclos_', 'nath_', 'nath', 'natal', 'nata_', 'nat_', 'nat', 'nasceram_', 'nascer_', 'nascer', 'nasal_', 'nasa_', 'naro_', 'narcissist', 'naoooo_', 'naoo', 'nanzinhorenan_', 'naninha', 'nanda_', 'namorasse', 'namoras_', 'namorares_', 'namorar', 'namoralzinha', 'namoradx_', 'namoradinha', 'namo_', 'naked_', 'naju_', 'naiaraazevedo_', 'nah_', 'nafox', 'nadjacampe_', 'nadinha_', 'nadinha', 'nadie_', 'nadav_', 'nadaaa', 'nacionalmente', 'nachos_', 'nabi_', 'naba_', 'naao_', 'naaaan_', 'naaaa_', 'naaa', 'myllena_', 'mxxxxx_', 'mx_', 'mwrda_', 'mvno_', 'mvb_', 'muuuuuuuito_', 'muuuuuuuita_', 'muuuito', 'muuto_', 'mutual_', 'mutcho_', 'mussolini_', 'musicbox', 'musica_', 'music_', 'museos_', 'musculoso_', 'muro_', 'murilo_', 'murilo', 'munik_', 'municip_', 'muni_', 'mundinho', 'mundial', 'multinacional_', 'multi_', 'multa_', 'mulo_', 'mulo', 'muitoooo_', 'muitoo_', 'muitas', 'muitao_', 'muitamuitamuitamuita', 'muit_', 'muieee_', 'muida_', 'muerta_', 'mudem_', 'mude', 'mudaste_', 'mudarem_', 'mudando', 'mudamos_', 'mudam', 'mucho_', 'mtttt_', 'mtoooo_', 'mtoooo', 'mtl_', 'msng_', 'msmo_', 'msg_', 'msg', 'ms_', 'mrsilva_', 'mrd_', 'mq_', 'mpt', 'mpido_', 'mpf_', 'mpbs', 'mpar', 'mozzarella_', 'mozao_', 'moyashi_', 'moving_', 'movimenta_', 'move_', 'mouse_', 'moura', 'motta_', 'motores_', 'motoqueiros_', 'motoqueiros', 'motivo', 'motivado_', 'motivada_', 'motiva_', 'motion_', 'mota_', 'mostrem_', 'mostre_', 'mostraram_', 'mostra', 'most_', 'moshpitar_', 'moscao', 'mosaico_', 'mos', 'mortinho_', 'mortinha_', 'morria_', 'morri_', 'morri', 'morrestes_', 'morre', 'morram', 'morra_', 'morou_', 'moro', 'moretti_', 'morete_', 'mores', 'moreno_', 'moreno', 'morder', 'mordendo_', 'morava_', 'morasse_', 'morar', 'moranod_', 'moranguinho_', 'morango_', 'moram', 'moradia_', 'mor_', 'mor', 'mop_', 'moooooorde_', 'moon_', 'montes', 'monteirolucas_', 'montei_', 'monte', 'montarei_', 'montagem_', 'mont_', 'monstroooo_', 'monstra', 'monlevade_', 'mongol_', 'mongando_', 'mongagu_', 'monas_', 'monagoras_', 'mon_', 'momoi', 'momoa', 'momo', 'mometos_', 'momentos', 'molusco', 'molinho_', 'molho_', 'moksori_', 'moito_', 'moira_', 'moins_', 'moikana', 'moida', 'mogli_', 'mofo_', 'moedinhas_', 'moedas_', 'moeda_', 'modo', 'modinha_', 'modificar_', 'moderna_', 'moderar_', 'moderados', 'modem_', 'moda', 'mod_', 'mochilar_', 'mochilao_', 'mnzn_', 'mnr_', 'mn', 'mmm_', 'mml_', 'mlres_', 'mlr_', 'mlkin', 'mlb_', 'mizzyscketchii', 'mizera_', 'mixer_', 'misturar_', 'misoginia_', 'misericuerdia_', 'mirianpereira_', 'mirely_', 'mirantes_', 'miranda_', 'mion_', 'miojo_', 'minyul_', 'minuto_', 'minuto', 'minutinhos_', 'minta_', 'minorias', 'minja_', 'ministerios_', 'minino_', 'minina_', 'minimo_', 'minimizado_', 'minima_', 'mingsi_', 'minaj', 'min', 'mimos', 'mimizenta_', 'mimimi_', 'mimim_', 'mimi', 'mimar', 'mima', 'miller_', 'mille_', 'militares', 'militar', 'militantes_', 'milhoes_', 'milagres_', 'mike_', 'mika_', 'mika', 'migxs_', 'miguin_', 'migues_', 'migs_', 'migos_', 'migaa', 'miei_', 'midas', 'mid_', 'mico', 'michelly', 'michele_', 'michel_', 'micah_', 'micaela', 'mic_', 'miar_', 'miami_', 'miado_', 'mhz_', 'mglxx_', 'mgff', 'mg', 'mexmu', 'mexi_', 'mexer', 'mexe_', 'mexe', 'meuuuuu_', 'meuracistasecreto_', 'meudeus_', 'meuanivers_', 'meua_', 'metropolitana_', 'meti_', 'meteres_', 'meteor_', 'metendo_', 'metendo', 'metal_', 'metade', 'mestrado_', 'mestra_', 'messi_', 'messes_', 'mesquita_', 'mesquinha_', 'mesoz_', 'mesmos_', 'mesmooo_', 'mesmokkkkk', 'mesmoa_', 'mesm_', 'mesada_', 'merquior', 'mero', 'mermo', 'meritocracia_', 'merida_', 'mergulhar_', 'merenda', 'merecido_', 'merecida_', 'merecer_', 'merecemos_', 'merecedores_', 'meras_', 'mera_', 'meodeos_', 'menu_', 'mentz_', 'mentiroso_', 'mentirosa', 'mentiras_', 'mentiraaaa', 'mentira', 'mention_', 'mention', 'mentalidade', 'mental', 'mentais_', 'mensurar_', 'menstrua_', 'mensalidade_', 'mensagenzinhas_', 'mensagens', 'mensagem', 'menparte_', 'menospreciada_', 'menores_', 'meno_', 'meninxs', 'meninas', 'meninadorio_', 'menezesf_', 'mene_', 'mending_', 'mendes_', 'mendes', 'mencionar_', 'men_', 'memoria_', 'membro_', 'melodys_', 'melodia', 'mello_', 'melioras_', 'melhores', 'melhore_', 'melhorasss', 'melhorassem_', 'melhoraram_', 'melhorando_', 'melhorando', 'melatonina_', 'melati', 'meirelles_', 'meias', 'mei_', 'mehenrique_', 'megapack_', 'megaman_', 'meetup_', 'meeeeo_', 'medroso_', 'meditem_', 'medita_', 'medico_', 'medicinal_', 'medicina_', 'medicamentos_', 'mede_', 'medalhas', 'mecatr_', 'mecanica', 'mec_', 'meangirlsday', 'meajudem_', 'mea_', 'mdsss_', 'mdss', 'mds', 'mdb_', 'mcu_', 'mce_', 'mc_', 'mbito_', 'mazucora_', 'mayonese_', 'mayarasccp_', 'maya_', 'maxx_', 'maxax_', 'max_', 'matr_', 'matou', 'matos_', 'matina_', 'matias_', 'mateuszito_', 'matem', 'mateiro_', 'matei_', 'match_', 'matasse', 'matado_', 'mata', 'masterchef', 'massacrou', 'massacra_', 'maself_', 'maself', 'marx_', 'marvel_', 'marvel', 'marujos', 'martins_', 'martin_', 'marta_', 'marrar_', 'marrap_', 'marques_', 'marquei_', 'marota_', 'marmota_', 'marly_', 'mariza_', 'marissol_', 'marisol_', 'mario', 'marinha_', 'mariftx_', 'marielle', 'marico_', 'mariana_', 'mari', 'marfofa', 'mareanie_', 'marcos_', 'marconi', 'marcolatra_', 'marciocaniello', 'marcial_', 'marcelle', 'marcelinha_', 'marcamos_', 'marcad_', 'maravilhosas_', 'maravilha_', 'maratonar_', 'maranata_', 'maracuj', 'maraca_', 'mar', 'maquinita_', 'maquinas_', 'maquillalia_', 'maquiagem_', 'maquiador_', 'maquiada_', 'mapu', 'mapa', 'maos_', 'maori_', 'mao_', 'manuten_', 'manus_', 'manuell_', 'manuela', 'manualmente', 'mantive', 'manteve_', 'manter', 'mantenho_', 'manteiga_', 'mant_', 'mans_', 'manoooo_', 'manon_', 'manja_', 'manipuladora_', 'manipulada_', 'manipula_', 'maninhos_', 'maninho_', 'manilaaaaa', 'manifestem', 'maniana_', 'mania_', 'mangas', 'mang', 'maneiras_', 'maneira', 'mandioca_', 'mandicrb_', 'mandato_', 'mandas_', 'mandarim', 'mandaram_', 'mandamelo', 'mandam_', 'manda', 'manchete_', 'manchester_', 'manchas_', 'manaus_', 'manas_', 'manaaa', 'mana', 'man', 'mamoste', 'mammy_', 'mamar_', 'mamai_', 'mamae_', 'mamae', 'mam', 'malzao_', 'malvadas', 'maluca', 'maltratando_', 'maltratado_', 'maltrata_', 'malta', 'malhava_', 'maldita_', 'maldisposta_', 'maldade_', 'malas', 'malandro_', 'malafaia', 'mala_', 'maknae_', 'maker_', 'maju_', 'majors_', 'maiza_', 'maix_', 'maix', 'maissssss', 'maisgeek_', 'maisasilvatv_', 'maisanicholas_', 'maio_', 'maincra_', 'main_', 'maicon_', 'mai_', 'mahomes', 'mahmous_', 'magro_', 'magrinho', 'magra_', 'magoando_', 'magoada_', 'mago', 'magn_', 'magicamente_', 'mafiosa_', 'mafia_', 'mafalda_', 'maestra', 'madruga_', 'madrinha', 'madeira_', 'mad_', 'macumba_', 'macor', 'maconheiro_', 'maconha_', 'macio', 'machuquei_', 'machucaram_', 'machucar_', 'machucar', 'machucando_', 'machucadas_', 'machucada_', 'macho_', 'macho', 'macarena', 'macaquinho_', 'macacossss', 'macacos', 'macaco_', 'macaco', 'macac_', 'macabra_', 'mac_', 'maas_', 'lyvinha_', 'ly_', 'lwndwksi_', 'lwaysot', 'luxo', 'lux_', 'luu_', 'lutou_', 'lutar', 'lutamos_', 'lurdes_', 'lupa_', 'luosi_', 'lun_', 'lulista_', 'luki_', 'luiza_', 'luiz_', 'luis_', 'lugares', 'luco_', 'luciana_', 'luce_', 'luccascorrea_', 'lucas', 'luca_', 'luba', 'luanna_', 'luann_', 'luancastro', 'luaazevedo_', 'ltimos', 'lsonabo_', 'ls_', 'lrosa_', 'lplol_', 'lowkey_', 'lowcarb_', 'low_', 'loveat', 'lovato_', 'louis', 'loucurada_', 'loucos_', 'louco_', 'loucas_', 'loucas', 'loucamente_', 'lou_', 'lotou_', 'lotada_', 'lost_', 'lorraine_', 'lorenzo_', 'lorenza_', 'lorena_', 'loredo_', 'lopping_', 'loots_', 'looping_', 'looooonnnngooooooooo', 'looneytunes_', 'looney_', 'longos_', 'longer_', 'longa', 'londrina_', 'londrina', 'lolo_', 'lolladay_', 'lolla_', 'lokai_', 'lojinhas_', 'loja', 'loiro_', 'loirinho', 'loirinha', 'logoooooo', 'locksdl_', 'locatelli_', 'localizei', 'localizar_', 'locais_', 'lobo_', 'lobbista_', 'lob_', 'lmaoooo_', 'llucas_', 'llipe_', 'lkkkkkkkk_', 'lkkkk', 'lk_', 'ljr_', 'lize_', 'liza_', 'lixou', 'lixosa', 'lixos_', 'lixos', 'lixandre_', 'lixado_', 'livrou_', 'livros', 'livrinho', 'livrarias_', 'livedodark_', 'liuz_', 'literatura_', 'literalmente', 'literal_', 'listo_', 'listar_', 'lisp', 'lisonjeado_', 'lisonjeada', 'liso_', 'lisiane_', 'lisete_', 'lises_', 'lisaaaa_', 'lisa_', 'lis_', 'lira_', 'linux_', 'lins_', 'links', 'linkedin_', 'linhas_', 'linha', 'linguagem_', 'lingua_', 'lindx_', 'lindos', 'lindoooo', 'lindona_', 'lindinhos_', 'lindinhoooo_', 'lindinho', 'lindinha_', 'lindinha', 'lindamente_', 'lindaaaaa', 'lincoln', 'lince', 'limpei_', 'limpa', 'limonada_', 'limitado_', 'liminar_', 'lima', 'likes_', 'likelaleyenda', 'ligou_', 'ligou', 'lightstick_', 'lights', 'ligavam_', 'ligarem_', 'ligar', 'ligando_', 'ligamentos_', 'ligadinha_', 'ligada', 'life', 'lidos_', 'liderar_', 'lideran_', 'lidas_', 'lidando_', 'lida_', 'lico', 'liceu_', 'licen_', 'liceeee_', 'lica', 'libro_', 'libras_', 'libra_', 'libertar_', 'libertador_', 'libert_', 'liberar_', 'liberalismo_', 'liberado_', 'liberada_', 'libby_', 'li', 'lhes_', 'lgr_', 'lgbts_', 'lgbtqwert_', 'lgbtq_', 'lf_', 'lez_', 'lexa_', 'lewnd_', 'lewandowski_', 'leves_', 'levei_', 'levava_', 'levasse_', 'levares_', 'levarei_', 'levantou_', 'levando', 'levamos_', 'letterboxd_', 'letivo_', 'leticiasantos_', 'leti_', 'let_', 'lessons_', 'leram_', 'ler', 'leouf_', 'leosinho_', 'leopinheiro_', 'leontolstoi_', 'leonor_', 'leoni_', 'leonel_', 'leone_', 'leon_', 'leo', 'lentes_', 'lente_', 'lentamente', 'lenta_', 'lendo', 'lenda_', 'leme', 'lembrou_', 'lembrese_', 'lembrarmos_', 'lembraria_', 'lembrarei_', 'lembram_', 'lembrado', 'lembrada', 'lek_', 'lek', 'leitor_', 'leito_', 'leiteminho_', 'leiteee_', 'leite', 'leiria_', 'leiliana_', 'leila_', 'legodaparatudo', 'lego_', 'legitimas', 'legendando', 'legenda_', 'legend_', 'legalizar_', 'legalizada_', 'legadao_', 'leeteuk_', 'leeeeeer_', 'leeeeeeento_', 'lee_', 'led_', 'lectura_', 'leao_', 'leandromartins_', 'league', 'lds_', 'ld_', 'lculo', 'lbuns', 'lazarento', 'lay_', 'lavozargentina_', 'lavoisier_', 'lavo_', 'lavei_', 'lavando_', 'lavagens_', 'lavagens', 'lautertjornal', 'lauren_', 'lauren', 'laura', 'late_', 'latas_', 'lasco_', 'lascada_', 'lasanha_', 'las', 'larycas_', 'larry_', 'larissa_', 'larguinhas_', 'largo', 'laranja', 'lara_', 'laque_', 'land_', 'lanche', 'lana_', 'lamentavelmente_', 'lamentando_', 'lambes_', 'lala_', 'laka_', 'lajsksjkkkkkk_', 'laissa_', 'laina_', 'laico_', 'laia', 'lagum_', 'lagougoutte_', 'lago_', 'lages', 'lady_', 'ladrao_', 'ladr_', 'lados', 'ladino_', 'ladinho_', 'ladies_', 'lactose', 'lacrou_', 'lacres_', 'lacrar_', 'lacradora_', 'laborat_', 'laan_', 'laaaaa_', 'kyuto_', 'kyun', 'kys_', 'kyiv', 'kuro_', 'ku_', 'kst_', 'ksndhbz_', 'ksksksks_', 'kskse', 'kskkdks', 'kskdjss_', 'kshdksh_', 'kshdksh', 'kryp_', 'krugers_', 'krl_', 'krl', 'kooknamora_', 'kookie_', 'kookie', 'koi_', 'koe_', 'know', 'knockback_', 'knock_', 'knk_', 'klas_', 'klarolinereunion', 'kkkskskskks', 'kkkksksksksk', 'kkkkkl_', 'kkkkkkmentira', 'kkkkkkkkkkkkkkkkkk_', 'kkkkkkkkkkkkkkkkkk', 'kkkkkkkkkkkkkkkkk_', 'kkkkkkkkkkkkkkk_', 'kkkkkkkkkkkkkk', 'kkkkkkkkkkkkk_', 'kkkkkkkkkkkk_', 'kkkkkkkkkkk', 'kkkkkkkkkk', 'kkkkkkkk', 'kkkkkkkbsksjak_', 'kkkkkdkdhsksolslslsl', 'kkkjkkkkk', 'kkkjkjk', 'kkkjjsk', 'kkkjjkkkk_', 'kkkjjjjkkkkkkkkkk_', 'kkfkdk_', 'kkakakakakkaak_', 'kjjjjjjjjjjjjjjjjjj', 'kjdkcckldclck_', 'kitty_', 'kiojin_', 'kino_', 'kingdom_', 'kindness', 'kinder_', 'kimtae_', 'kim_', 'killers', 'kill_', 'kilings_', 'kiko_', 'kika_', 'kiitos', 'kihyun_', 'kid_', 'ki_', 'khkjkjkkkk', 'kgs_', 'kg_', 'kfkdkf', 'kesha', 'kensa_', 'ken_', 'kemuel_', 'kemta_', 'kefera_', 'keep_', 'kedsonvictor_', 'kdkckskwkxkaks_', 'kdjdnsnsmdkssmsksk_', 'kda_', 'kbm', 'katachi_', 'karol_', 'karma_', 'karma', 'karit_', 'kanal_', 'kamaitachi_', 'kamaitachi', 'kakakakakakakkaa_', 'kakakakaka_', 'kaique', 'kailer_', 'kah_', 'ka_', 'ka', 'jviens_', 'jvictor_', 'juventude_', 'justoooooooo', 'justo_', 'justificativa', 'justi_', 'juro', 'jura', 'jupxt', 'junto', 'juntinhos_', 'juntei_', 'juntando_', 'juniors_', 'junior_', 'junhyung_', 'junhoe', 'jungwoo_', 'jung_', 'june_', 'july_', 'juliana_', 'julho_', 'julgue', 'julgo_', 'julgaram_', 'julgam_', 'jules_', 'jul_', 'jujuba_', 'juiin', 'judici_', 'judiando_', 'judiado_', 'judeu_', 'juba_', 'ju', 'jsjasjaks', 'joyce_', 'jovens_', 'jovens', 'joutjout_', 'jota_', 'joshua_', 'jornal_', 'jornal', 'jornais_', 'jornada_', 'jorge_', 'jorge', 'jor_', 'joonie_', 'joohyun_', 'jonghyun_', 'joke', 'jojo_', 'joinville_', 'joint', 'joinha_', 'joinha', 'john_', 'johannah_', 'joguineo_', 'joguei_', 'jogos', 'jogavam_', 'jogarmos_', 'jogaram_', 'jogadores', 'joga', 'jog_', 'joey_', 'joel_', 'jobs_', 'joazevedo_', 'joaoguilherme_', 'joao_', 'joao', 'joanaviveiros_', 'jndiretakkkk', 'jkajdjaksks_', 'jiwoo_', 'jiwon_', 'jisung_', 'jiren_', 'jinyoung_', 'jingyu_', 'jingle_', 'jimmycrf', 'jimin', 'jikooka', 'jihyo_', 'jie_', 'jhopes_', 'jhessyf_', 'jhdksks', 'jess_', 'jeremias_', 'jeon_', 'jennie_', 'jeitooo_', 'jeitinho', 'jeans', 'jean_', 'jbg_', 'jb_', 'jay_', 'jax_', 'jasmine_', 'jardim_', 'japa_', 'japa', 'jaoribeiroo_', 'jantares_', 'janet_', 'janelas_', 'janela_', 'janela', 'janeiro_', 'jane_', 'jan', 'jamtattoo_', 'jalser_', 'jairo_', 'jailton_', 'jadna_', 'jadepicon_', 'jackson_', 'jack', 'jaca_', 'izuku_', 'izone_', 'iziii_', 'izi_', 'ivv_', 'iuahoeiuhaoeiuohaoie', 'itiii_', 'itiii', 'itens_', 'itatiaia_', 'italiana', 'itaboray_', 'itabirito_', 'issu_', 'issac_', 'issa_', 'israeeeelllll_', 'isolado_', 'isjsijsjs_', 'isentas_', 'isen_', 'isdead_', 'isadoramillen_', 'isabella_', 'isabela_', 'isaac_', 'isa_', 'irritei_', 'irritar_', 'irrita_', 'ironic_', 'irmos_', 'irlanda_', 'irem_', 'irei', 'ira_', 'iptv_', 'ipatinga', 'ip_', 'ios_', 'iohana_', 'io_', 'invitar_', 'invista', 'investigar', 'investigado_', 'investida_', 'investe_', 'inves_', 'inverso_', 'inverno_', 'inverdade_', 'invento_', 'inventar_', 'inventam_', 'invalidarem_', 'invad_', 'inundar', 'intsiro_', 'introdu_', 'intolerancia_', 'intima_', 'intervers_', 'intervalo_', 'intervalo', 'interno', 'internautas_', 'internamente', 'internacional_', 'interessem_', 'interesse', 'interessantes', 'interessado_', 'interessadas_', 'interessadas', 'interativa_', 'interagiam_', 'intera_', 'inter_', 'intenso_', 'intensidade_', 'intense_', 'intensa_', 'intencional_', 'intencionado_', 'inteligentissima_', 'inteligentes_', 'inteligente', 'intelig_', 'inteles_', 'inteirinha_', 'inteiramente_', 'inteira', 'integrar_', 'integrante_', 'integra_', 'intacto', 'intacta', 'insustent_', 'insuportavel', 'insuport_', 'insultaram_', 'insultar', 'instrui_', 'institui_', 'instisfeito_', 'inspirou_', 'inspirei_', 'inspirador_', 'insonia_', 'insonia', 'insisto_', 'insistiu_', 'insistir_', 'insistimos_', 'insistido', 'insistem_', 'insignificantes_', 'insetos_', 'inseguran_', 'insegura', 'inscrito_', 'inscrito', 'inscrevi_', 'inscreveu_', 'inscrevem_', 'insano_', 'inquieto', 'inquieta', 'input_', 'inovador_', 'inocentes_', 'inocente_', 'inktoberday', 'inktober', 'inkrush_', 'inkling_', 'ink_', 'injustamente', 'inje_', 'inimigo_', 'inimigo', 'iniciativa_', 'inicial', 'inicia_', 'inho_', 'inha_', 'ingredientes_', 'inglaterra_', 'ingenuo_', 'infraestrutura_', 'informe_', 'informativos_', 'informaram', 'informar', 'informados_', 'inform_', 'info_', 'influenciado_', 'influ_', 'inflamar', 'inflamada', 'infestade_', 'infestada_', 'infernal_', 'inferior_', 'infeliz', 'infelismente_', 'infantis', 'infantilidade_', 'infantil', 'inf_', 'inexplic_', 'inevitavel_', 'inesperado_', 'inesperada_', 'inesinha_', 'industria_', 'indoloro_', 'individuais_', 'indiv_', 'indispon_', 'indiretas_', 'indiquem_', 'indios_', 'indignados_', 'indignada_', 'indie_', 'indice_', 'indicavam_', 'indicado_', 'india', 'indeterminado', 'indepedente_', 'indentifico', 'incrivelmente_', 'incrivel_', 'incrivel', 'incoveniente_', 'inconveniente_', 'inconformada_', 'incondicionalmente_', 'incondicional_', 'incompleto', 'incompar_', 'incomodo', 'incomodando_', 'incomodando', 'incomoda_', 'incluso_', 'incluir_', 'incita_', 'incerto', 'incentivou', 'incentivos_', 'incentivo_', 'incentivaram_', 'incapacitado_', 'incapacidade_', 'inara', 'inapto_', 'inalada_', 'inacredit_', 'inaceit_', 'in', 'imprest_', 'impressora_', 'impressive_', 'impressionada_', 'imprensa_', 'impot_', 'impostos', 'importo_', 'importavam_', 'importava', 'importantissimo_', 'importantes_', 'importado', 'importa', 'imploro_', 'implorando_', 'implica_', 'implementar_', 'implantar_', 'imperial_', 'imperd_', 'impedir', 'impedindo_', 'impedimento_', 'impede_', 'impec_', 'impatia_', 'impactado_', 'impactada', 'imp_', 'imovie', 'imm_', 'imitando_', 'imigrante_', 'imers_', 'imei_', 'imediata', 'imbecilidade_', 'imbecil_', 'imaxe_', 'imaturos', 'imaginou_', 'imaginei_', 'imagine_', 'imaginar', 'imagin_', 'imagem', 'im', 'ily_', 'ilustrei_', 'ilustradoria_', 'ilustra_', 'iluminando_', 'iluminador_', 'iludo_', 'iludindo', 'iludida_', 'iludida', 'ilude', 'ilha_', 'ilga', 'iletrado_', 'ikon_', 'iitti_', 'ii_', 'iha_', 'igualzinho', 'igualmente_', 'igual', 'ignoro_', 'ignoras', 'ignoraram_', 'ignorar', 'ignorante', 'ignorando_', 'ignorancia_', 'ignnorado', 'igiysgaiyegiag_', 'ifood_', 'ieqa_', 'ie', 'idosos_', 'idoso', 'idosa', 'idolatro_', 'idola_', 'idol_', 'idk', 'idiotices_', 'ides_', 'ideologicas_', 'identifiquei_', 'identidade', 'idem_', 'ideia', 'ide_', 'ide', 'idd_', 'idade_', 'icon_', 'iceup_', 'ica', 'ibras_', 'iberanime_', 'ibccrim_', 'iasmin', 'ias_', 'ian_', 'iamos_', 'iam', 'iago', 'iaaaeeeee_', 'hyunjoo_', 'hyunjin', 'hyuk_', 'hyuck_', 'hyperlapse_', 'hype', 'hypada_', 'hyojung_', 'hyojin_', 'hyejoo_', 'hwarang_', 'hurley', 'hummmmmm_', 'humilharam_', 'humilhar', 'humilhada_', 'humilha_', 'humano', 'humanizar_', 'humanismo', 'humaninho', 'hum', 'hugo_', 'hue_', 'huashuashuashua', 'huahahahhahahs', 'htente_', 'hsushsuha_', 'hsushs', 'hsuahs', 'hshshshshs', 'hshshs_', 'hshshahahahahahshaha', 'hrsdeciro_', 'hq', 'hpg_', 'how_', 'houvesse', 'houve', 'hotel_', 'hospitalizada_', 'hosp_', 'hoseok', 'hortali_', 'horrorosa_', 'horrores', 'horrivel_', 'horrendous', 'hormonas', 'horizon_', 'horinha_', 'hook_', 'hooj_', 'honraram_', 'hongbin_', 'honey_', 'honesto_', 'honestamente_', 'honesta_', 'homossexualidade_', 'homofobicos', 'homofobico_', 'homenzinho_', 'homens', 'homenagem_', 'home_', 'hom_', 'holz_', 'holland_', 'holistic_', 'holding_', 'hold_', 'hojeeee', 'hoeas_', 'hmmmm_', 'hmm_', 'hm', 'hitler', 'hitar', 'historia', 'hipocritas_', 'hipocri', 'hipnose_', 'hip_', 'hino_', 'himym', 'hiii', 'hihih', 'hihi', 'hidratar_', 'hiberna_', 'hiaguinho_', 'hha', 'hg', 'heyy_', 'hextec', 'hesite_', 'hesitar', 'herpes_', 'herpes', 'heron', 'hero', 'hermes', 'hermanos_', 'hereditary_', 'here_', 'heran_', 'help_', 'helo_', 'hello_', 'helllloooo', 'hellix_', 'hellenx_', 'helena_', 'hel', 'heim_', 'hehehhe_', 'hehehhe', 'hehehehe_', 'hehehe', 'headset_', 'headphones_', 'he_', 'he', 'hd', 'hbd_', 'hazir_', 'haz_', 'hawksdeavor_', 'haveria_', 'haver', 'have_', 'hava_', 'hauhauhauhauhuhauha_', 'haudhsush_', 'hauahauhau_', 'hauahauaua', 'hauahaha', 'hauah_', 'hauagauahau_', 'hauaauaah_', 'haters', 'hatas_', 'haste_', 'hasta_', 'hashtags_', 'hashtag_', 'harsh_', 'harrypotter', 'hardware_', 'happyjiminday_', 'happyjiminday', 'happy_', 'happy', 'hanzen_', 'hanwon_', 'hannah_', 'hangover_', 'hana', 'hamb_', 'hallyday_', 'halloween', 'hai_', 'hahshajshahshahha', 'hahhhhahahaha', 'hahhahahhahahha', 'hahha', 'hahahhaha_', 'hahahha_', 'hahahaiuh', 'hahahahha_', 'hahahahaja_', 'hahahahahhaha_', 'hahahahahahahaha_', 'hahahahahahahah_', 'hahahahahaha_', 'hahahahahah', 'hahaha', 'hahah_', 'hahah', 'hahaah_', 'hahaa_', 'haddadizinho_', 'haddadera_', 'haddaddy', 'hadassa_', 'hacker_', 'hack_', 'hachimitsu_', 'habitual_', 'habilita_', 'habilidades_', 'habilidade_', 'habibs_', 'habbo_', 'haag_', 'gzr_', 'gw_', 'gust_', 'gus_', 'gurizinho_', 'gurizadinha_', 'gurias_', 'gurias', 'guk_', 'guitarra_', 'guitar_', 'guinha_', 'guima_', 'guilherme_', 'guga_', 'guess', 'guerreiroo_', 'guento', 'guenta_', 'gude_', 'guaxinim_', 'guaximim_', 'guas', 'guariroba_', 'guardado_', 'guaracy_', 'guajajara_', 'guacamole_', 'gua', 'gta_', 'gstv', 'grupinho_', 'gruen_', 'grudinho_', 'grudeee_', 'grudados_', 'gruda_', 'grr_', 'grosseria', 'grl_', 'gritos_', 'grito_', 'gritaria', 'gritar_', 'grip_', 'gringo_', 'grimes_', 'grilo_', 'greysanatomy_', 'gregory', 'gregar_', 'grega_', 'greeicy', 'grazas_', 'gray_', 'graxinha_', 'grave', 'gravat', 'gravasse_', 'gravando_', 'gravados_', 'gravadora_', 'gratuitos_', 'gratuito_', 'gratuita', 'grato_', 'grata', 'grand_', 'grana_', 'gran_', 'gramascomsabor_', 'grama_', 'gram_', 'grafito', 'grafa_', 'grade_', 'grada_', 'gracinhaaaaa_', 'gracinha', 'gracias', 'graca_', 'grabiel_', 'gpes', 'gozou', 'gozem_', 'gozam', 'gozado_', 'governos_', 'governante_', 'governados_', 'governador', 'governado_', 'governabilidade_', 'gotrump', 'gotas_', 'gotar_', 'got', 'gostozin_', 'gostou', 'gostosao_', 'gostosa_', 'gostosa', 'gostos_', 'gostos', 'gostinho_', 'gostinho', 'gostem', 'gostasse_', 'gostas_', 'gostarem_', 'gostamos_', 'gordof_', 'gordinho_', 'gordas_', 'gordao_', 'gorda', 'gopher_', 'gooooo', 'google', 'gonzacar_', 'goncalves_', 'gon_', 'gomont_', 'golpista_', 'goliveira_', 'goleadas_', 'goldenretriever', 'gold', 'golang_', 'golang', 'gokabum_', 'goiaba_', 'goi_', 'gogogo_', 'gogo_', 'godoy_', 'gobr_', 'goals_', 'goagax_', 'gnito_', 'gm_', 'gloria_', 'gloria', 'globoplay_', 'globe', 'glicose_', 'gleise_', 'glaucia_', 'glad', 'giz_', 'gith_', 'girlgroup', 'girl', 'giotwitter', 'gios', 'gioguerra_', 'gio', 'ginecologistas_', 'gil', 'gigi_', 'gigantescas', 'gifzinho', 'gif', 'gico', 'gicas_', 'gica', 'gia', 'ghibli', 'gguozinho', 'ggukie_', 'gguk_', 'gfc_', 'geysla_', 'gets_', 'gesto_', 'gestaoclick_', 'gest_', 'gerar_', 'geraldo_', 'geradores_', 'georgina_', 'george_', 'geografia_', 'geogr_', 'gentr_', 'gently_', 'gentis_', 'gentilissima', 'gentili_', 'gentileza', 'gentil_', 'gentes_', 'genteeee_', 'genial_', 'genial', 'gengiva_', 'generalizar_', 'generalizar', 'gen_', 'gemid_', 'geloboq', 'gelo_', 'gelman', 'gelados_', 'gege', 'geek_', 'gebte_', 'geane_', 'gcfinnewark_', 'gc_', 'gays', 'gaucha', 'gatos_', 'gatinho', 'gatas_', 'gat_', 'gastei', 'gastam_', 'gasparzinho_', 'garotos', 'garoto', 'garmonbozia_', 'garibaldi_', 'garcez_', 'garantida_', 'garantia_', 'garanta_', 'garagem', 'garage_', 'garados_', 'gap_', 'ganzas', 'ganhou', 'ganhei', 'ganhasse_', 'ganhas_', 'ganhariam_', 'ganhando', 'ganhador_', 'ganhado_', 'gang', 'ganas_', 'gan_', 'gamer_', 'gamer', 'gamepass_', 'galhofas_', 'galero_', 'galerinha', 'galego_', 'galdino_', 'gado', 'gabspontes_', 'gabs', 'gabriel_', 'gabri_', 'gabinete_', 'gabims_', 'gabbatista_', 'gabarito_', 'fznd', 'fxt_', 'fvarias_', 'fux_', 'futurista_', 'futuramente_', 'futebol', 'furtado', 'furou_', 'furioso_', 'furei_', 'fura_', 'funk_', 'funk', 'funer_', 'fundamental_', 'funcionaria_', 'funcionar', 'funciona', 'funai_', 'fun_', 'fumo', 'fumar_', 'fumando_', 'fuma_', 'fulana_', 'fuii', 'fugiu_', 'fugindo_', 'fugar_', 'fudeu', 'fudendo', 'fude_', 'fude', 'fu_', 'fto_', 'ft', 'fruto_', 'frutinha_', 'fruta_', 'frustrar', 'frustrante_', 'frustrado_', 'frustra_', 'fronteira_', 'frontal_', 'from_', 'fritou', 'frisk_', 'frisar_', 'frigging_', 'friend', 'fresquinho', 'fresh_', 'frescor_', 'frequentemente_', 'frequentador_', 'freixo_', 'freitas_', 'freije_', 'freezer_', 'freelas_', 'freefire', 'fredsemedi_', 'fred', 'frear_', 'freak_', 'fraude_', 'frasco_', 'fraquinho_', 'franfrann_', 'francesinhas_', 'franceses_', 'franca_', 'fran', 'frame_', 'fralde_', 'fragoso_', 'fragateiro_', 'fraco_', 'fraca', 'fr_', 'fps', 'foxlife_', 'fovo_', 'fotografias_', 'fotinho_', 'fotinha', 'fot_', 'fosso_', 'fossemos_', 'forza_', 'fortnite', 'fortemente_', 'fortalecer_', 'fortalece_', 'foro_', 'forno_', 'formos_', 'formiguinha_', 'formiguinha', 'formatei_', 'formas_', 'formarem_', 'formar', 'formandos_', 'formando_', 'formado_', 'forever_', 'forem_', 'ford_', 'force_', 'forca_', 'forahaddad', 'foquem_', 'foodeat', 'fontes_', 'fontana_', 'fonseca_', 'fones', 'fomiii', 'fomentam_', 'fomeeeee', 'fomba_', 'folly', 'follow_', 'follow', 'folclore_', 'folcl_', 'fogos', 'fog_', 'fofx_', 'fofos_', 'fofos', 'fofoqueiro_', 'fofoletos_', 'fofocas_', 'fofis_', 'fofinhos', 'fofinho', 'fofinha', 'fofi', 'fofas_', 'fodida_', 'fodida', 'fodi', 'fodeu', 'foderam_', 'fodendo_', 'fodem_', 'fodasi_', 'fodase', 'fodam_', 'fodam', 'fodah_', 'fodaaaaaaaaaaaaaaa', 'focou', 'focar', 'focando_', 'focado_', 'foca_', 'fobia_', 'fm_', 'flw_', 'flw', 'fluxo_', 'flowers', 'flourenco_', 'florzinha_', 'florzinha', 'florian_', 'florescer_', 'flor_', 'flopou', 'flopar', 'flopada_', 'flood', 'flicker_', 'flesch', 'flaxflu_', 'flavio_', 'flavia_', 'flananico_', 'flamengo', 'flag', 'fla_', 'fk_', 'fizeste_', 'fizerem_', 'fizeram', 'fixe_', 'fixa_', 'fixa', 'fitadiavam_', 'fita', 'fisioterapia_', 'fisica_', 'first_', 'firmes', 'firme_', 'firmado_', 'fiques', 'fiquem', 'fino_', 'finjo_', 'finjo', 'fingir', 'fingindo_', 'fingia_', 'findsoso_', 'findeeee', 'financiar_', 'finals_', 'finalmente', 'finalizei_', 'finalistas', 'finalidade_', 'fina_', 'fin_', 'filtro_', 'filtrar_', 'filtrando_', 'filosofiaaaaa_', 'filosofia_', 'filosofia', 'filmow_', 'filmei', 'filme', 'filler_', 'filipinha_', 'filipe_', 'filhotes_', 'filhote_', 'filhona_', 'filhinhos_', 'filhas_', 'filhas', 'filha', 'filas', 'filadafrente', 'fila', 'figuras_', 'figura_', 'fighting', 'fies_', 'fics_', 'fico', 'ficha', 'ficava_', 'ficatemer', 'ficas_', 'ficas', 'ficarmos_', 'ficares_', 'ficara', 'ficanadja', 'ficaaa_', 'fian_', 'fhd_', 'fgks_', 'fgc_', 'fg_', 'fever_', 'feto_', 'fetichista_', 'fetal_', 'fetal', 'festival', 'festiva_', 'festinha', 'festejo_', 'festejar_', 'fervo', 'fervendo_', 'ferreirinha_', 'ferrada', 'ferimentos_', 'fera_', 'feo_', 'feminista_', 'feminismo_', 'feminismo', 'feminina_', 'feminina', 'feminilidade_', 'felizzz', 'felizona_', 'felizinho', 'felizinha_', 'felizinea', 'felizidades_', 'felizdiadascrian_', 'felipefranca_', 'feliiz_', 'feitos', 'feitas_', 'feios_', 'feij_', 'feias_', 'feia_', 'feels', 'feeling_', 'feedback', 'fedorentooooooo_', 'federal', 'fed_', 'fed', 'fechou_', 'fechou', 'fecharam_', 'fechamento_', 'fechados_', 'fechado', 'fechada_', 'febril_', 'febre', 'feat_', 'fe_', 'fdps_', 'fddd', 'fdd_', 'fdb', 'fda_', 'fd_', 'fd', 'fcc_', 'fc', 'fbe_', 'fbd_', 'fb', 'fazzz_', 'faziam_', 'fazerparaaprender_', 'fazerem_', 'fazendo', 'fazenda_', 'faze_', 'faxinageral_', 'favorite_', 'favoritas_', 'favores_', 'favorece_', 'favoraveis_', 'favoor', 'favo', 'favelado_', 'favela', 'fav', 'fauxy_', 'fatou', 'fatos', 'fato', 'fastidio_', 'fases_', 'fase', 'fascistaah_', 'farta_', 'farrapos', 'farmac_', 'faremos_', 'fantasy_', 'fantasias_', 'fantasiar', 'fansign_', 'fans_', 'fanpage_', 'fanfics_', 'fanfic_', 'fanfarr_', 'fandom', 'fanatismo_', 'fanarts_', 'fanart_', 'famosos_', 'famosas_', 'famigerado_', 'fama_', 'faltou', 'faltei_', 'faltava_', 'faltando', 'faltado_', 'falsooooooooo_', 'falso_', 'false_', 'falsamente_', 'falsa_', 'faloss', 'falido_', 'falho_', 'falhei', 'falhe', 'falem_', 'falei', 'falecendo_', 'falavam_', 'falas', 'falanu_', 'falante_', 'falamos_', 'falamos', 'falam', 'falador', 'falado_', 'faixa_', 'fahur_', 'faf_', 'fado_', 'fade_', 'fadas_', 'fadada_', 'fada_', 'faculdades_', 'facul', 'factos_', 'factos', 'factor_', 'facto_', 'fact_', 'facista', 'facilita', 'facilidade_', 'fachada', 'faceboook_', 'facco_', 'facas_', 'facada', 'fabula_', 'fabricante_', 'fabr_', 'fabio_', 'fabiano_', 'eyeliner_', 'exxxtrema_', 'extremista_', 'extrema_', 'externamente_', 'extens_', 'expulso_', 'expulsei_', 'expresso_', 'expressar_', 'expostas_', 'exposi_', 'expo_', 'explorar_', 'explodir_', 'explodindo_', 'explicit_', 'explicamos_', 'explicamelo', 'explanaram_', 'explanar_', 'expl_', 'expirou_', 'experimentou_', 'experimentem_', 'experimentei_', 'experimentar_', 'expedita', 'expectativa_', 'expande_', 'exorbitante_', 'existo', 'existiu_', 'existiu', 'existirem_', 'existido', 'existentes_', 'exigir_', 'exigimos_', 'exibir_', 'exercitar_', 'exercer_', 'exerce_', 'exemplos_', 'exemple', 'exelente_', 'execu_', 'exclusivos_', 'exclusivamente_', 'exclusiva_', 'exclusiva', 'excluiu', 'excluir', 'exceto_', 'excesso_', 'excel_', 'exce_', 'exatos_', 'exatid_', 'exatas_', 'exames_', 'exaltar_', 'exagero_', 'exagerei', 'exagerado_', 'ewww_', 'ew_', 'evoluiu', 'evoluir_', 'evolui', 'evolu_', 'evitem_', 'evite_', 'evitar', 'evitada_', 'evil_', 'evergarden_', 'ever_', 'evento', 'evellenst_', 'eveline_', 'evangelistaa_', 'evangelho_', 'evaaa', 'euzinha_', 'euuuuu', 'euuu', 'euu_', 'eurovision_', 'euros', 'europa_', 'euphoria', 'eunha', 'eunbinha_', 'euijin_', 'euejsijejddj_', 'eua_', 'eua', 'etore_', 'eternos_', 'eterno_', 'eterno', 'eternamente', 'eterna', 'etec_', 'etapa_', 'et_', 'estupidos_', 'estupidamente_', 'estupida_', 'estudo', 'estudei_', 'estude_', 'estudando_', 'estrume', 'estrilinhas_', 'estressar_', 'estressante_', 'estressando', 'estressadinha', 'estressada', 'estrelinha', 'estrelas', 'estrelada', 'estrear_', 'estrategia_', 'estrat_', 'estranh_', 'estrangeiro_', 'estraguei_', 'estragou_', 'estrago_', 'estragar_', 'estragado_', 'estraga_', 'estraga', 'estouu_', 'estourou', 'estoucomciro_', 'estoque_', 'estomago_', 'estocolmo_', 'estivesse_', 'estivesse', 'estiver', 'estiquei_', 'estimular_', 'estimulante_', 'esticou_', 'esticam_', 'esteu_', 'estetosc_', 'ester_', 'estendiiiido_', 'estejas_', 'estejamos_', 'estejam_', 'estatuto_', 'estat_', 'estapeada_', 'estantedanine', 'estante_', 'estamosjuntos_', 'estaleiros_', 'estagnado', 'estagio_', 'estadual', 'estabilizar_', 'estabilidade_', 'estabelecimento_', 'ess_', 'esquizo_', 'esquivou_', 'esquisito_', 'esquetes_', 'esquerdistas_', 'esquerdadesesperada', 'esqueceu', 'esqueceram_', 'esqueceomundolafora_', 'esquecendo', 'esquec_', 'espumando_', 'esposinho_', 'esposa_', 'esportiva_', 'esporro_', 'espont_', 'esponja_', 'espn', 'espirrar_', 'espiritualidade_', 'espetinho_', 'espetacular_', 'espetacular', 'espessura_', 'espertinhos_', 'esperta_', 'espermatoz_', 'esperem_', 'esperei', 'esperava', 'esperano_', 'esperamos', 'esperam_', 'espeon', 'especially', 'especiais_', 'espancada', 'espanca_', 'espalhem_', 'espalhar_', 'espalhando_', 'esmurrar_', 'eslbpl_', 'esl_', 'eshop_', 'esgotar_', 'esgotada', 'esganar_', 'esfria_', 'esfregando_', 'esfirra', 'esfigmoman_', 'esfaqueado_', 'escute_', 'escutava_', 'escutar', 'escutada_', 'esculacho_', 'escudinho_', 'escroto_', 'escrota_', 'escritorio_', 'escrit_', 'escrevi', 'escreveu_', 'escreveu', 'escrevendo_', 'escrevemos_', 'escravoceta_', 'escravas_', 'escondida_', 'escondeu_', 'esconderam_', 'esconder', 'escondendo_', 'esconde_', 'esconde', 'escolhi_', 'escolhi', 'escolheu', 'escolheram_', 'escolher', 'escolhemos_', 'escolhe_', 'escolham_', 'escolas_', 'escolaa', 'esclavas_', 'escassez_', 'escapou_', 'escapar_', 'escanteio_', 'escalei_', 'escalando_', 'escalada_', 'esc_', 'esbarrar_', 'erva_', 'errou_', 'errores_', 'erro', 'errei', 'errar', 'errando_', 'erramos', 'errada', 'errad_', 'err_', 'erp_', 'erika_', 'ergam_', 'ereto', 'eres_', 'eramos_', 'equipecinco', 'equipas_', 'equipamentos_', 'equipamento_', 'equip_', 'equilibrar_', 'epoca_', 'episodio', 'epifania_', 'ep', 'eopseo_', 'eooiu_', 'eonnie_', 'eoiu_', 'enxerguem_', 'enxergue_', 'enxergo_', 'enxergar_', 'enxerga_', 'envolvidao_', 'envolver', 'envio_', 'envio', 'enviando_', 'enviam_', 'enviado_', 'envergonhada_', 'envergadura_', 'envenenar_', 'entusiasmo_', 'entupa_', 'entulho_', 'entristeceu_', 'entrevistas_', 'entrevistas', 'entrevistadora_', 'entrevist_', 'entretenham', 'entregas_', 'entregas', 'entregarla', 'entregaram_', 'entregar_', 'entregar', 'entrega', 'entraram_', 'entraram', 'entrar', 'entrance', 'entramos_', 'entonces_', 'enterrou_', 'entenderiam_', 'entenderam', 'entendemos_', 'entendem_', 'entendedor_', 'entendam_', 'entendam', 'entenda', 'entar_', 'entao', 'ensinando_', 'ensaio_', 'ens_', 'enrolando_', 'enrolada_', 'enraizado_', 'enquete_', 'enquete', 'enormes_', 'enlouque_', 'enjoozinho_', 'enjoei_', 'enjoado_', 'enhorabona_', 'engui_', 'engravidar', 'engordou_', 'engordo_', 'engordei_', 'engordei', 'engordada', 'engolisse_', 'engolir_', 'engoli_', 'english_', 'england_', 'engenheiro_', 'engano_', 'enganar_', 'enganado_', 'enganada_', 'enfrentar', 'enfrei_', 'enfiou_', 'enfiava_', 'enfiar_', 'enfiado_', 'enfermeira_', 'enfatizei_', 'energinhas', 'enem_', 'enem', 'enel_', 'endom_', 'endoidar_', 'endgame_', 'endeusar_', 'encostasse_', 'encostar_', 'encontros_', 'encontre_', 'encontrava_', 'encontraram_', 'encontrando_', 'encontramos_', 'encomendei_', 'encomenda_', 'enciumada_', 'encheu_', 'encherem_', 'enchendo_', 'enche_', 'encerro_', 'encarregue', 'encanto_', 'encantar_', 'encanta_', 'encaminho_', 'encaminhar_', 'encaminhada_', 'encaixar_', 'encaixa_', 'enaltece_', 'empurrar_', 'emprestou_', 'emprestei_', 'emprestasses_', 'emprestado_', 'empresta_', 'empresta', 'emprego', 'emprededora', 'empolguei_', 'empolguei', 'empolgou_', 'empolgada_', 'empolada_', 'empatado_', 'empatada_', 'empad_', 'emp_', 'emotiva', 'emoticon', 'emote_', 'emojis_', 'emocionei_', 'emocionar_', 'emocionante_', 'emocionalmente_', 'emocional_', 'emocionada_', 'embuste_', 'emborrachado_', 'embasamento_', 'emane_', 'emagreces_', 'emagre_', 'elxs', 'elsa_', 'elogios_', 'elogio', 'elogie_', 'elogiaram_', 'elogiar_', 'elliott_', 'elitismo_', 'eliminados_', 'elimina_', 'elidia_', 'elidehsbzjzh_', 'elias_', 'elevador_', 'eleva_', 'eletricidade_', 'eletr_', 'elenaovaiganharnogri', 'eleja_', 'eleitos', 'eleitores', 'eleitoral', 'eleitorais_', 'eleitorais', 'eleitorado_', 'eleitora_', 'eleitas_', 'eleita', 'elegido_', 'elegeu_', 'elegeu', 'elegeram_', 'elegem_', 'elege', 'elefante', 'elee', 'elastique_', 'elabora_', 'ejeoariwi', 'eixos_', 'ein', 'eike_', 'eiiiitaa', 'ei', 'ehehhehehhe', 'eheheheheheh_', 'egoista', 'egoist', 'egang', 'eficiente_', 'efici_', 'eficaz_', 'eff', 'efeitos_', 'efeito', 'ef_', 'ef', 'educado_', 'educadas_', 'edu', 'edro', 'editores_', 'editora_', 'editar_', 'edit_', 'edison_', 'edcela_', 'edb_', 'ed', 'economizar_', 'economista_', 'economicamente_', 'ecobooking_', 'eca_', 'ec_', 'ebenso', 'ebd_', 'eb', 'eats_', 'ease_', 'earp_', 'eai_', 'eagorajose_', 'each_', 'eac', 'dying_', 'dy_', 'dxa_', 'dx_', 'dwmais_', 'duvidas', 'duvidar', 'duterte_', 'durou_', 'durmo', 'durmi_', 'durmi', 'durmam_', 'durava_', 'dura_', 'duplicou', 'duplicado_', 'duo_', 'dummy', 'duma_', 'dum_', 'dulos_', 'dulos', 'dubzinho_', 'dublador_', 'dual_', 'dt', 'dskober_', 'dsclp_', 'dsclp', 'dsa_', 'ds_', 'dry_', 'dropou_', 'dropei', 'drone_', 'drogar_', 'drogaaa', 'dreamjob', 'dreaming_', 'drawlloween_', 'drasticamente_', 'dramione_', 'dramins_', 'dramaqueen_', 'drama_', 'dragoran_', 'drag_', 'dra_', 'dpj_', 'dpapede', 'doyu_', 'downy_', 'doutorado_', 'douglas_', 'doug_', 'douceur', 'dou', 'dossi_', 'doses_', 'dorsey', 'dormirrrr', 'dormino_', 'dorm', 'dorian_', 'doria_', 'dora', 'doq_', 'dops_', 'dopamina_', 'doou_', 'door', 'doodle_', 'donos_', 'done_', 'donapivara_', 'domingos_', 'dominando', 'domicio_', 'domic_', 'dolos', 'doloroso', 'dolorido', 'dolorida_', 'dolor_', 'dolinha', 'dolar_', 'doidos_', 'doido_', 'doidinho_', 'doida_', 'doida', 'doid_', 'doi', 'doggos_', 'dog', 'doesse_', 'doentinho_', 'doentinha', 'doentes_', 'doendo', 'doe_', 'dodoi_', 'dodge_', 'dod_', 'documento_', 'document_', 'doctorwho_', 'docentes_', 'doce', 'doc_', 'dobro_', 'dobro', 'dobrei', 'dobrar_', 'dobrar', 'dobrando_', 'dnvo', 'dnovo_', 'dnd_', 'dna_', 'dmm', 'dmais_', 'dlc_', 'dkskk', 'dkahskaks_', 'dj', 'dizp_', 'dizia_', 'diy_', 'divulgando_', 'divulgamos_', 'divulgada_', 'divulga_', 'divorciados_', 'divina_', 'dividiram_', 'dividir_', 'dividida_', 'divide_', 'divertir_', 'diversos_', 'diverg_', 'diva_', 'ditos_', 'dito', 'ditaduras_', 'ditador_', 'ditado_', 'disturbing_', 'distros_', 'distrito_', 'distritais_', 'distributed_', 'distribuiu_', 'distribuir_', 'distrair_', 'distra_', 'distantes', 'distancinha_', 'distanciamento_', 'dissoooooo_', 'disses_', 'disser_', 'disrup_', 'disputou_', 'disputas_', 'disputa_', 'disponibilizou_', 'dispensou', 'disney', 'disgra_', 'discutindo_', 'discussao_', 'discurtir_', 'discos_', 'discordei_', 'discorde_', 'discordar', 'discordamos_', 'disc_', 'disband_', 'disappointed_', 'dirk_', 'dirigir_', 'dirigi_', 'diretos_', 'diretoria_', 'diretora_', 'directioner_', 'direcionando_', 'dir_', 'diquinha_', 'dios', 'diogo_', 'dinoussaru_', 'dinner_', 'dinis_', 'diniiz_', 'dinheiros', 'dinda_', 'diminutivo_', 'diminie', 'dimension_', 'dimas_', 'dimana_', 'dima_', 'dilma', 'digos_', 'digo', 'digno', 'digna_', 'digito_', 'digitei_', 'digitar', 'digitam_', 'digerir_', 'digamos_', 'difusor_', 'dificuldades_', 'dificilmente_', 'diferencial_', 'diferencial', 'difere_', 'difere', 'difamando_', 'difama_', 'diego_', 'didim', 'didaticamente_', 'did_', 'dicupa_', 'dico', 'dicion_', 'dicas', 'dibujarte_', 'diaz_', 'diarreia_', 'diariamente_', 'diariamente', 'diaria_', 'diana_', 'dialogar', 'dialoga_', 'diagn_', 'diadovendedor_', 'diabo_', 'diabeteeeees_', 'diaaaaaaaaaa', 'diaaaa_', 'diaaa', 'dhhshshshshhsdhb_', 'dfm_', 'dff', 'devolvido_', 'devolvido', 'devolves_', 'devochka_', 'devias_', 'devagar_', 'dev_', 'deusssss_', 'deuso_', 'deusa_', 'deuces', 'detran_', 'detesta_', 'determinados_', 'determina_', 'detective_', 'detectar_', 'detec_', 'detalhar_', 'desvios_', 'desviar_', 'desvendar_', 'desuni_', 'desumilde_', 'destruindo_', 'destruidora_', 'destra', 'destino_', 'destaques_', 'destacam', 'desrespeito_', 'desrespeitar_', 'desprezo_', 'despreza', 'despreparada_', 'desprender_', 'despertou_', 'despertam_', 'desperta_', 'desperdi_', 'despencar_', 'despedir_', 'despedir', 'despedidas', 'despedida', 'despedes_', 'despachar_', 'desonestos_', 'desolador_', 'desolado_', 'desolada_', 'desolada', 'desobedi_', 'desnutrido_', 'desnud_', 'desnecess_', 'desmoronar_', 'desmorona_', 'desmereci_', 'desmentiu_', 'desmentida_', 'desmato', 'desmaiar_', 'desliguei_', 'desligou_', 'desligar_', 'desleixo_', 'desktop_', 'desisto_', 'desistirem_', 'desistir', 'desisti', 'desistas_', 'desinstalando_', 'desinstala_', 'desinforma_', 'desiludir_', 'desiludidos_', 'desiludido_', 'desigualdade', 'desidratar', 'desgraceira_', 'desgastada_', 'desfecho_', 'desfazer_', 'desestruturalizar_', 'desespero', 'desesperados_', 'desesperador_', 'desesperadas_', 'desesperada', 'desenvolvimentoweb', 'desenvolvimentistas', 'desentendimentos_', 'desempregado', 'desejou_', 'desejei_', 'desejas', 'desejando_', 'desejamos_', 'desejam_', 'desejado_', 'deseja_', 'desdentado_', 'descutindo_', 'desculpem', 'desculpei', 'desculpas', 'desculpar_', 'desculpaaaaaaa', 'desculpaaaaaa_', 'descri_', 'descrever_', 'descordas_', 'descordar', 'descontrolado_', 'descontroladas_', 'descontra_', 'desconto_', 'desconto', 'descontinuado_', 'descontei_', 'desconsolo_', 'desconsiderando_', 'desconfiado', 'descompactar_', 'descolando_', 'descobriu_', 'descerem_', 'descer', 'desce_', 'descaso_', 'descartado_', 'descarreguei_', 'descarregadas_', 'descansem_', 'desbloqueia', 'desativou_', 'desativei_', 'desatenta_', 'desastrosas_', 'desastrosa_', 'desastrosa', 'desastre_', 'desastre', 'desapontada_', 'desapegar_', 'desaparecidos', 'desaparecido_', 'desaparecida', 'desapaixonei_', 'desanimou', 'desanimado_', 'desanimada', 'desanima_', 'desanco_', 'desamor_', 'desafios_', 'desafio', 'desacredito_', 'desacreditado_', 'desacreditada_', 'desabaria', 'desabar_', 'desabafem_', 'desabafe_', 'desabafando_', 'derxim_', 'derrubasse_', 'derrubar_', 'derrubado_', 'derrotou_', 'derrotaria_', 'derrotar', 'derrota_', 'derreteu_', 'der', 'deputador_', 'deputadas', 'deprimir_', 'deprimidos_', 'depressivinho', 'depressiva_', 'depressa_', 'deppis_', 'depositado_', 'depositada_', 'deporte_', 'depila_', 'dependente_', 'dependendo_', 'depende', 'depend_', 'departamento_', 'deparo_', 'denunciarem_', 'denunciar_', 'dentu', 'dentinhos_', 'dentes_', 'denteo_', 'dente_', 'denovo_', 'dengosa', 'dengo', 'dende_', 'demorou', 'demores_', 'demore', 'demoraram_', 'demorar_', 'demoram_', 'demora', 'demonstro', 'demonstrei_', 'demonstre_', 'demonstrarem_', 'demonstram_', 'demonio_', 'demon_', 'democratizar_', 'democraticamente', 'democracia', 'demo_', 'demi', 'demasiadamente_', 'demandas_', 'demaaaais_', 'demaaaaais_', 'delucav_', 'dell_', 'delirar_', 'deliciosas_', 'deliciosa_', 'delice_', 'deletar_', 'delator', 'delan_', 'deixou', 'deixaste', 'deixassem_', 'deixas_', 'deixaria_', 'deixaram', 'deixando', 'deitei_', 'deitar', 'deitadinha_', 'deita_', 'degusta_', 'definir_', 'definindo_', 'definido', 'definidas_', 'defense_', 'defendem_', 'defeitos_', 'defecou_', 'deep_', 'deee_', 'dedos_', 'dedinhos_', 'dedinhos', 'dedicados_', 'dedicadas_', 'dedica_', 'decolando', 'declarou', 'declarar_', 'declarando_', 'declara_', 'decisivo_', 'decisao_', 'decido', 'decidiram_', 'decidir_', 'decidir', 'decidido_', 'decide_', 'decidam_', 'decepcionei', 'decepcionante_', 'decepcionando', 'decadente_', 'decadas_', 'debut_', 'deboraaa_', 'debater', 'debatepe_', 'debate', 'dear_', 'dead', 'ddy_', 'ddr', 'dddroga', 'dcd_', 'dca', 'dc', 'dboa', 'dayane_', 'date_', 'datafolha_', 'dasilva_', 'darmos_', 'darkness_', 'dark_', 'daria_', 'darem_', 'dapai_', 'daora_', 'daora', 'danoninho_', 'daniela', 'daniel_', 'dani_', 'dando', 'dandara_', 'dancar_', 'danadinha_', 'damous_', 'damos_', 'dame_', 'dale_', 'dakaichi_', 'daily_', 'dahora_', 'dade_', 'daddy_', 'daddy', 'dada_', 'dad', 'daciolo', 'dabc_', 'cypher_', 'cynthia_', 'cyber', 'cy_', 'cvsd_', 'cvs_', 'cutilo', 'cuti_', 'cute', 'custodio_', 'custo_', 'custar_', 'custando_', 'cuspisse_', 'cuscar', 'curvas_', 'curto', 'curtiu', 'curtisse_', 'curtir', 'curtinhas_', 'curtidas_', 'curtida_', 'curti', 'curte', 'curtas_', 'curtas', 'curtam_', 'curtaapagina', 'curta_', 'cursos', 'cursar_', 'curriculo', 'curr_', 'curitiba', 'curious_', 'curiosos_', 'curioso_', 'curiosito', 'curiosidades_', 'curiosidade', 'curiosamente_', 'curiosa_', 'curada_', 'cuo', 'cunhado_', 'cunhado', 'cunhada_', 'cumpriu_', 'cumpririam_', 'cumprir', 'cumprimentos', 'cumprimento_', 'cumprimentar_', 'cumprimenta_', 'cumpre_', 'cultural_', 'culto_', 'culpe_', 'culpar_', 'culpando_', 'cuide_', 'cuidar', 'cuidado', 'cuellar', 'ctrs_', 'ctg_', 'ctg', 'cteres_', 'cst_', 'css_', 'cruzes_', 'cruze_', 'cruzadinha_', 'cruzadica_', 'cruzada_', 'cruz_', 'crusoe_', 'crunchyroll_', 'cruelty_', 'cruel', 'crtz_', 'crossing_', 'cronopio_', 'cronograma_', 'cronofobico', 'crlh_', 'crl', 'crivella_', 'criticar', 'critical_', 'critica', 'critas', 'crit_', 'cristiane_', 'cristallis_', 'cristalina_', 'cristal_', 'criptomoedas_', 'crio_', 'criminal_', 'criminais_', 'criei', 'criaturas_', 'criatividade_', 'criativa_', 'criaram', 'criancinhas_', 'criado', 'crescido_', 'crescer', 'crescendo_', 'cresce_', 'cren_', 'cremoso_', 'creminho_', 'cremilde', 'creme_', 'creia_', 'crc_', 'crack_', 'cpm_', 'cpbrunida_', 'cpbr_', 'cozinho_', 'cozida_', 'coza_', 'coz_', 'coxinhas', 'coxinha_', 'coxinha', 'covinhas_', 'couts_', 'couple_', 'cots_', 'coto', 'cotada_', 'cota_', 'costumo_', 'costumam_', 'costelas', 'costas', 'costar_', 'cosplayer_', 'cosmetologia_', 'coser_', 'cory_', 'cortisol_', 'corticoide_', 'cortei_', 'corte', 'cortares_', 'cortarei_', 'cortando_', 'cortador_', 'cortado_', 'cortado', 'corrupto', 'corrupta_', 'corrigir_', 'corrigir', 'corrigi_', 'corrido_', 'corrida_', 'corrida', 'corri_', 'correu_', 'correta_', 'correta', 'correspondido_', 'corresponder_', 'correria_', 'correria', 'correios_', 'correia_', 'correi_', 'corredores_', 'corredor_', 'correct_', 'corra_', 'corporal_', 'corp_', 'coronel_', 'coritiba_', 'corinthians_', 'corinthians', 'cores', 'coreografias_', 'coreografia_', 'coreia_', 'coreano', 'coral_', 'corajosa_', 'coragem', 'coracao_', 'corac_', 'coquezinho_', 'copos_', 'copo', 'copa_', 'convoquei_', 'convocou', 'convocada_', 'conviver_', 'convites', 'convite_', 'convida_', 'convertendo_', 'conversavamos_', 'conversas', 'conversamos_', 'convencido_', 'convenci_', 'conven_', 'controlado_', 'contribu_', 'contre_', 'contrataram_', 'contratar_', 'contrapartidas_', 'contram_', 'contos_', 'continuem_', 'continuarmos_', 'continuarem_', 'continuando_', 'continuam_', 'continuam', 'continuado_', 'continenteonline', 'contexto', 'contes_', 'contento_', 'contente', 'contenha_', 'contendo_', 'contemporan_', 'contato', 'contatinho_', 'contatei_', 'contas', 'contar', 'contada_', 'contacomagente', 'contabiliza_', 'consumia_', 'consultar_', 'consulta_', 'consulta', 'consult_', 'construindo_', 'constela_', 'constar_', 'constantes_', 'consome', 'consolo_', 'consoles_', 'consolar_', 'consoante_', 'consist_', 'consiga_', 'considerei_', 'considera_', 'conservadores', 'conservadoras_', 'conservadora_', 'conservador_', 'consequentemente_', 'consequente_', 'consequencia_', 'consequ_', 'conselhos_', 'consejos_', 'conseguires_', 'conseguiram_', 'conseguindi_', 'conseguido_', 'conseguem', 'consecutivo_', 'consecutivas_', 'consciente', 'consagrado_', 'conquistou_', 'conquistando_', 'conquistados', 'conquista_', 'connaitre_', 'conjuntura_', 'coniventes_', 'coninhas_', 'conhecimento_', 'conhecia', 'conheceu_', 'conhecesse_', 'conheces_', 'conheces', 'conhecendo_', 'conhecendo', 'conhecemos_', 'conhecem_', 'conhecem', 'congresso', 'congrats_', 'confusos_', 'confusa_', 'confus_', 'confunde_', 'conforto', 'conforta_', 'conformista_', 'conforme_', 'confirmado_', 'confirmado', 'confirmada_', 'confirma', 'confiram_', 'confio', 'configura_', 'confie_', 'confident', 'confiar_', 'confiar', 'confiante_', 'confi_', 'confessa_', 'conferir_', 'conferir', 'conferida_', 'confere_', 'confere', 'conectar_', 'conduza_', 'conduta', 'condizente_', 'condensado_', 'conde_', 'concretizado', 'concordia', 'concordei_', 'concordaste', 'concordamos_', 'concodo_', 'conclus_', 'concluido_', 'conclu_', 'conciliador_', 'concerto', 'concentrado_', 'conceitual_', 'conceitos_', 'conceito', 'concei_', 'con_', 'comunismo', 'comunicar_', 'comunicar', 'comunic_', 'comumente_', 'computador', 'comprove_', 'comprovante_', 'compromisso_', 'compromisso', 'compromissada_', 'compris', 'comprimento_', 'compridos', 'compreens_', 'compreendida_', 'compreendi_', 'compreenda_', 'compraram_', 'comprar', 'comprando_', 'compramos_', 'compram_', 'comprado_', 'comprada_', 'compra', 'compr_', 'composto_', 'compositor_', 'comportem', 'complicou', 'complicidade_', 'complica_', 'complexos', 'complexo_', 'completou_', 'completas_', 'completamos_', 'completa', 'compila_', 'competitivo_', 'competentes_', 'competente_', 'compete', 'compet_', 'compensasse_', 'compensar', 'compensa_', 'compartilhou_', 'compartilho_', 'comparte_', 'compareceu_', 'comparecer_', 'comparece_', 'compare_', 'comparar', 'comparado_', 'compactue_', 'compactuam_', 'comp_', 'comofas_', 'common_', 'coming', 'comigooo', 'cometer_', 'cometer', 'cometendo_', 'cometa_', 'cometa', 'comercializados_', 'comercial_', 'comento_', 'comentei_', 'comente_', 'comente', 'comentada_', 'comendo_', 'comen_', 'comemoro_', 'comemorei_', 'comemore_', 'comemorar_', 'comemorando_', 'comece_', 'comboios_', 'comboio', 'combinou_', 'combinat_', 'combinando_', 'combinando', 'combinamos_', 'combinado_', 'combater_', 'combate_', 'combam_', 'comassim_', 'comam_', 'coma_', 'com_', 'com', 'colors_', 'colorido', 'colorida_', 'colocou_', 'colocares_', 'colocaram_', 'colocar', 'colocamos_', 'colinho_', 'colinho', 'coligados_', 'colgu', 'colete_', 'colei', 'coleguinha_', 'colegas_', 'colecionador_', 'colch_', 'colapso_', 'coladas', 'colaborar_', 'cokr_', 'coitado', 'coitada', 'coisin', 'coisada_', 'coisad_', 'coincidentemente_', 'cofre_', 'coffe_', 'cof', 'coer_', 'coelho_', 'coe_', 'codorninha', 'codorna_', 'code_', 'code', 'coco_', 'cochile', 'cochilar', 'coca', 'cobro_', 'cobro', 'cobran_', 'cobrador_', 'cobie_', 'cobertura_', 'coa_', 'cnv_', 'cntgo_', 'cnica_', 'cn', 'cmo_', 'cmgg', 'clube', 'clmp_', 'clique_', 'clipes_', 'clipe_', 'clima', 'clients_', 'cliente_', 'clicou_', 'clickbait_', 'cleycianne_', 'clc_', 'classificar', 'classifica_', 'class_', 'claros_', 'claro', 'clarissa_', 'clariadinha_', 'claretiano_', 'clareamento_', 'clara_', 'clara', 'clamor_', 'clama_', 'civis_', 'civil_', 'cius_', 'ciumes_', 'city_', 'cities_', 'citem_', 'cite_', 'citas_', 'citar_', 'citados_', 'cita_', 'cirooo_', 'ciromitoemseulugarde', 'ciristas_', 'cirinho_', 'cirilla', 'circunstancia_', 'circunst_', 'circulando_', 'circo', 'cirandinha_', 'ciranda_', 'cipher_', 'cinza_', 'cintra', 'cintia_', 'cinema', 'cimerrr', 'cimer', 'cimeet_', 'cigarra_', 'cientista_', 'cient_', 'cielo', 'cie_', 'cidreira_', 'cidades_', 'ciclos_', 'ciclo_', 'ciclano_', 'cias', 'chuunibyou_', 'chuto_', 'chute_', 'chutaria_', 'churrascos_', 'churras_', 'chupar_', 'chula', 'chuchus_', 'chuchu', 'chrome', 'chovesse', 'chover_', 'chover', 'chovendo_', 'chove', 'chova_', 'chorinhos_', 'chore_', 'chorarem_', 'choraram_', 'chorani', 'chorae_', 'chor_', 'chocolates', 'chocolate', 'chiquititas', 'chiquita_', 'chip_', 'chip', 'chineza', 'chinesa_', 'chinalli_', 'chimarr_', 'chill_', 'child_', 'chifre_', 'chicote_', 'chico_', 'chiclete_', 'chica', 'chessus_', 'chen_', 'chelitarmx_', 'cheirosinha_', 'cheirinho_', 'cheirinho', 'cheirar_', 'cheiradorzinho_', 'cheira_', 'cheira', 'cheios_', 'chegue_', 'chegue', 'chegay_', 'chegasse_', 'chegamos_', 'chegado_', 'chefinha_', 'chefe_', 'chefe', 'checking_', 'checarmos_', 'checamos_', 'chazinho_', 'chaves_', 'chave', 'chato', 'chatinha', 'chateou_', 'chatear', 'chateado_', 'chateadissima_', 'chatea_', 'charo_', 'charles_', 'charles', 'charadas_', 'char_', 'chapiscando_', 'chapado_', 'chapa_', 'chao_', 'changkyun_', 'chanceeeeee_', 'chan', 'champions_', 'champignon', 'chamou', 'chamarem_', 'chamaram_', 'chamada', 'chala_', 'chagas_', 'chaewon_', 'ch', 'cfh_', 'cfb_', 'cfae_', 'ceu_', 'cestos_', 'cestitam', 'cervejinha', 'certos_', 'cert_', 'cereja_', 'cerebro', 'cerebrais_', 'cereal_', 'cer_', 'cep_', 'central_', 'centradas_', 'centr_', 'centenas_', 'centauro_', 'cenoura_', 'cenas', 'cena', 'cemig_', 'celulares_', 'celebrar_', 'celebra', 'celasco_', 'cela_', 'cegos_', 'cegos', 'cegas_', 'cegas', 'cegamente_', 'ceder_', 'cech_', 'cec_', 'cear', 'ceaea', 'ce', 'cdfcd_', 'cde_', 'cda', 'cd', 'ccxp', 'ccnc', 'cce', 'ccbs_', 'ccb_', 'ccat', 'cca_', 'cbe_', 'cb_', 'caxias_', 'cavar_', 'cavalcante', 'cavalca_', 'cavalares_', 'cavalair_', 'caval_', 'cav_', 'causo_', 'causas_', 'causando_', 'causadas_', 'causa', 'catupiry', 'catumbi_', 'catsoulieris_', 'catrice_', 'catos_', 'catinho_', 'catequista_', 'catarse_', 'catalanes', 'castro_', 'castigo', 'castanho_', 'castanhari_', 'cassia_', 'casinhas_', 'cash_', 'casellato_', 'casava_', 'casaram_', 'casar_', 'casamento', 'casais_', 'casagrande_', 'casada_', 'casacos', 'carvalho_', 'cartolafc', 'cartinha_', 'carteiro_', 'carteirinhas_', 'carteirinha_', 'cartaz_', 'cartas_', 'carris', 'carrego_', 'carregar_', 'carregando_', 'carrega', 'carpete', 'carpenter_', 'caroninha_', 'carolina_', 'carola', 'carne', 'carnaxide', 'carnaval_', 'carnaval', 'carmo_', 'carlos_', 'carlinha_', 'carisma_', 'carisma', 'carinhosa', 'carinhos', 'carinho', 'caril_', 'caridosa_', 'carguinho_', 'carga_', 'carestia_', 'carente_', 'carencia_', 'cards_', 'carcavelos_', 'carbono_', 'caraw_', 'caratismo', 'carater', 'caras_', 'caranguejo_', 'carambolas', 'caramba', 'caralllllhoooooo_', 'caralhooooos_', 'caralhoooooooooo', 'caralhoooooooo', 'caralhoooo_', 'caralgo_', 'carai', 'caragua_', 'caraca_', 'caraaai_', 'captar_', 'capone_', 'capoeira_', 'capita', 'capilar_', 'capeta', 'capazzzzz_', 'capaz', 'capa_', 'cao_', 'cantou_', 'cantores_', 'cantor', 'cantarolando_', 'cantaram_', 'cantar', 'cantanhede_', 'cantam', 'cantagalo_', 'cant_', 'cansei_', 'cansando_', 'cano_', 'cannot_', 'canetinha_', 'canecas', 'candidatos', 'candidates_', 'candidatei', 'candidatar', 'candidata_', 'cancelem_', 'cancelar_', 'cancelados_', 'cancelado_', 'cancelado', 'cancelada', 'canais_', 'canada_', 'canad_', 'canad', 'cana_', 'can_', 'camz_', 'camtil_', 'campus_', 'campinas_', 'campeonato', 'campeao', 'campanhas_', 'camp_', 'camobronx', 'camiseta', 'caminhando_', 'caminha_', 'camila', 'cami_', 'camarim_', 'camara_', 'camale_', 'calunia_', 'calopsita_', 'calmos_', 'calmaria_', 'callmedomi_', 'calle_', 'california_', 'calibra_', 'calham_', 'calha_', 'caldo_', 'caldinho_', 'caldas_', 'calar_', 'calado_', 'caixote_', 'caixa_', 'cairia_', 'caioooo_', 'caindo', 'caimbra_', 'caido_', 'caiam', 'cai', 'cah_', 'caguei_', 'cagarem_', 'cagarem', 'cagar', 'cagada_', 'cagaaa_', 'caga_', 'cafunerio_', 'cafun_', 'cafezinhos', 'cafezinho_', 'cafet_', 'cafe_', 'caf', 'caes_', 'caer_', 'cadernos_', 'cadernos', 'caderno_', 'caderninho_', 'cadeia_', 'cadeado_', 'cade_', 'cadastro_', 'cadastrei_', 'cadastrar_', 'cadak_', 'cacos_', 'cachorros', 'cachorrinhos_', 'cachorrada_', 'cachear_', 'cacetinhos_', 'cacete_', 'cacau_', 'cabulosa_', 'cabritinha_', 'cabrero_', 'cabrao', 'cabral_', 'cabeza', 'caber_', 'cabelos_', 'cabeleireiro_', 'cabedal_', 'cabecinha_', 'cabdidatos_', 'caaaara_', 'ca', 'bvias_', 'bvdsjhdvbjh_', 'buzzfeed_', 'buteco_', 'bussyboy_', 'busquei_', 'busque', 'business', 'burras_', 'burras', 'burguer_', 'burger_', 'buracos_', 'buraco_', 'buraco', 'buque', 'buqu_', 'buongiorno_', 'bundas_', 'bumboiz_', 'buldog_', 'bujo', 'bugada_', 'bues_', 'buenosdias_', 'budista_', 'budaa_', 'bucle_', 'buckley', 'buchinho', 'buceta_', 'buceen_', 'bubl_', 'btsnametropolitana', 'bts', 'btob_', 'bruxo_', 'brusinha_', 'brusinha', 'brunodm_', 'bruna_', 'brufen_', 'brubs_', 'broxantes_', 'browns_', 'brotp_', 'broto_', 'brotando_', 'broma_', 'brofazsol_', 'brodis_', 'bro', 'brisei_', 'brinquinhos_', 'brinquedinhos_', 'brinks_', 'brinks', 'bringing_', 'brindes_', 'brinde_', 'brincalh_', 'brincadeiras_', 'brilho_', 'brilhante', 'brilhando_', 'briguei_', 'brigas_', 'brigaduh', 'brigadooo_', 'brigado', 'brigadas_', 'briga', 'bricia_', 'brgd_', 'breno', 'breja_', 'breathe', 'breaking_', 'break_', 'bre_', 'brazil_', 'brazil', 'bravisimo_', 'brasiu', 'brasileiras_', 'brasileir_', 'branquelo_', 'brandon_', 'branco', 'brancas', 'braincast_', 'braga', 'bp_', 'bozos_', 'bozonaro', 'bozonada_', 'bozolixo_', 'boyz_', 'boytje_', 'boys', 'boyfriend_', 'boy', 'boxe_', 'box_', 'boutiquetocadaloba_', 'boulos', 'botou_', 'botinha_', 'botei_', 'botei', 'boteco', 'bote_', 'botaram_', 'botando_', 'bosto_', 'boss_', 'bosque_', 'boso_', 'bosco_', 'borrei_', 'borracha_', 'borra_', 'borocox', 'boreal_', 'bordo_', 'borbulhas_', 'boquinha_', 'booyah_', 'bootcamp_', 'boorralooooooo', 'boooommmmm_', 'booktubers_', 'book_', 'book', 'booga', 'bonzinho_', 'bonzinho', 'bonoro', 'bonoloro_', 'bonitinhoooo_', 'bonitinho', 'bonitinha_', 'bonitinha', 'bonitin_', 'bonitas_', 'bonitaa_', 'bonita', 'bonica', 'boneca_', 'bonde_', 'bondade_', 'bon_', 'bomdiaounao', 'bomdia_', 'bomdia', 'bombinha_', 'bomba_', 'bolzonaldo', 'bolsot_', 'bolsonoro', 'bolsonazi_', 'bolsominions_', 'bolsominion', 'bolsom_', 'bolsodoria', 'bolsas_', 'bolsanaro_', 'bols_', 'bols', 'boloro_', 'bolonaro_', 'bolo', 'bolle_', 'bolinhas', 'bolhas_', 'bolha', 'boleto_', 'boleto', 'boleira_', 'boladissimo', 'boladissima', 'boku_', 'boii_', 'body_', 'bodo_', 'bodi_', 'bode', 'bochecha_', 'bocejar_', 'bocas_', 'bocado_', 'bocado', 'bobossauro', 'bobo_', 'bobinho', 'bobeira', 'bobao_', 'bob_', 'boas', 'bnana_', 'bm_', 'blusitas_', 'blusinha_', 'blusinha', 'blues_', 'blues', 'blssd', 'bloqueio', 'bloqueia_', 'bloqueia', 'bloqueei_', 'bloqueava_', 'bloqueados_', 'bloqueado', 'bloq_', 'blockchain_', 'blockb', 'blitz_', 'blicos_', 'blia_', 'blame_', 'blake_', 'blackwitch_', 'blackpinkinyourarea_', 'blackpink_', 'blackjewel_', 'blablacar_', 'bkkk_', 'bk_', 'bjssssss', 'bjsss', 'bjs', 'bjobjo', 'bjar_', 'bj', 'bixurras_', 'bits_', 'bitos_', 'bitoca_', 'bito', 'bissexual_', 'bissexual', 'bispo_', 'biscoitos', 'biscoito_', 'biscoito', 'biscate', 'bisav_', 'biquinho_', 'biologia', 'binnie_', 'bina_', 'bimestre', 'biloca_', 'bill_', 'bilion_', 'bilhetes_', 'bilh_', 'bilete_', 'bilete', 'bikim', 'bike', 'biiancat_', 'bigode', 'bienvenue_', 'bienvenido_', 'bien', 'biee_', 'bide', 'bicos_', 'bicoito', 'bicicleta_', 'bichinhos', 'bichinha_', 'bicha_', 'biceps_', 'bicas_', 'bibou_', 'bibosco_', 'bibi_', 'bias_', 'bianco_', 'bi_', 'bgs', 'bglh_', 'bff_', 'bff', 'bfaa_', 'bfa_', 'bezerra_', 'beyonc_', 'beuda_', 'bettiol_', 'betternow', 'bettercallsaul_', 'beto_', 'bete_', 'bestializado_', 'besteira', 'besta_', 'beso_', 'bese_', 'berro', 'berrei_', 'berrando', 'bermuda_', 'berguna', 'berenice_', 'beraquet_', 'benzinho_', 'benzinho', 'bens_', 'benjamin', 'benjamim', 'benfica_', 'bener_', 'beneficiando_', 'benedito_', 'bende_', 'ben_', 'bemvinda', 'belxs_', 'bellamy_', 'bella_', 'belisquei', 'believe_', 'beliebers', 'beleza', 'belem_', 'belas_', 'beja_', 'beisbol_', 'beijinho_', 'beijinho', 'beija_', 'beibi', 'beest_', 'beeemmm_', 'beeem_', 'beeem', 'beeeeeem_', 'becomejnj_', 'beck_', 'bece_', 'bebo_', 'bebezudinho_', 'bebezinho_', 'bebezinha_', 'bebessauda', 'bebes', 'bebelinho', 'bebel_', 'bebam_', 'beatz_', 'bear_', 'bdf_', 'bda', 'bcd_', 'bcb_', 'bcae_', 'bby', 'bbq', 'bbibbi_', 'bbf_', 'bbcs_', 'bbcba_', 'bbath_', 'bazei', 'bazas', 'bazarem', 'bazar_', 'baza_', 'bavaria', 'battleground_', 'batizada_', 'batista_', 'batido_', 'batida_', 'bati_', 'batessem', 'bater', 'batem_', 'bate', 'batatas_', 'batalla', 'batalhas', 'batalha_', 'bat_', 'bastos_', 'bastidores_', 'bastava_', 'bassoli_', 'basica', 'baseava_', 'baseada_', 'barzinho_', 'barulhos_', 'barradas_', 'barraco_', 'barra_', 'barra', 'barney_', 'barco_', 'barbaridades_', 'barba', 'barb_', 'baratos_', 'barato', 'baratinhos_', 'baratinho_', 'baratinha_', 'baratas_', 'bar', 'baque_', 'bao_', 'banqueiro_', 'banners_', 'banheiro_', 'bangtan_', 'bandonou', 'bandidodeestima_', 'bandido_', 'bandeja_', 'bandeiras_', 'bandas_', 'banda_', 'bancos_', 'bancar_', 'baltazar_', 'ballons_', 'ballet_', 'ballet', 'baldes_', 'balde_', 'bala_', 'bal_', 'bakugou_', 'baker_', 'baiz', 'baixou', 'baixinha_', 'baixas_', 'baixada_', 'bairro_', 'bairro', 'baile_', 'baile', 'baianos_', 'baianos', 'baiana', 'bai_', 'bagun_', 'bagulho_', 'baguio_', 'bagosss', 'bagagem_', 'baga_', 'bafaf_', 'bados_', 'bada', 'bad', 'bacia_', 'bacanas_', 'babyyy_', 'baby_', 'babegirl_', 'babe_', 'babados_', 'babados', 'babacona_', 'azsalsjz_', 'azevedo_', 'azelia_', 'azedas_', 'azealia_', 'azarenta_', 'azar_', 'azambuja_', 'aycaramba', 'axl_', 'aww_', 'awn_', 'awkward_', 'awesome_', 'avvv_', 'avoa_', 'avisei_', 'avisaremos_', 'avisando_', 'avisam', 'avila_', 'aviao_', 'avia_', 'avenida_', 'avatar', 'avancem', 'avalie_', 'ava_', 'av', 'autoritarismo', 'autora_', 'autom_', 'autoestima_', 'autocobran_', 'autocarros_', 'australiana_', 'aus', 'aurora_', 'aumentou_', 'aumentou', 'aumentar_', 'aumentar', 'aulinha_', 'aulaaaa', 'auge_', 'audio_', 'au', 'atuais_', 'atuais', 'atua_', 'attack_', 'attack', 'atropleada', 'atropelado_', 'atropelada', 'atriz_', 'atrasou_', 'atrasos_', 'atraso_', 'atrasar_', 'atrasar', 'atrapalhando_', 'atrapalhando', 'atraiu_', 'atps', 'atora_', 'ator_', 'atoa_', 'atividades_', 'atividade_', 'ativar_', 'atitude', 'atirem_', 'atirar_', 'atirando_', 'atirada_', 'atinge_', 'atibaia_', 'aterrorizante', 'atentos', 'atento_', 'atento', 'atenta_', 'atendimentos_', 'atendentes_', 'atenciosos_', 'atenciosas', 'atenciosa', 'atelier', 'ate', 'ataques_', 'ataques', 'atacaste_', 'atacante_', 'atacando', 'atacado_', 'atacado', 'atacada_', 'atacada', 'astronomicamente_', 'astrologia_', 'astral_', 'aste_', 'assusto_', 'assustados_', 'assustadoras_', 'assustador', 'assustado_', 'assusta_', 'assuntos_', 'assumiu_', 'assumir', 'assumindo_', 'assumido', 'asssita_', 'assombra', 'assistir', 'assistindo', 'assistia', 'assisti', 'assista_', 'assine_', 'assentam_', 'assassino_', 'assassinei_', 'assassinato_', 'assassinadas', 'aspectos_', 'aspecto_', 'ashdhsfkadsjfas_', 'ash_', 'asfsafsafcsfc_', 'asfalto_', 'asd_', 'asaventurasdepoliana', 'asap_', 'aruba_', 'aruan_', 'artista_', 'artimanhas_', 'artigo', 'arthbr_', 'artesanato_', 'artesanais_', 'art', 'arsenal_', 'arrumou_', 'arrumei_', 'arroz_', 'arrow_', 'arrogantemente_', 'arriscou_', 'arriscar_', 'arriscado', 'arrepiada_', 'arrependo_', 'arrependimento', 'arrependidos_', 'arrependida_', 'arrependeu_', 'arrepender_', 'arrepende_', 'arrepende', 'arredores_', 'arrebentou', 'arrebento', 'arrebentaram_', 'arrebentar_', 'arrebenta_', 'arrasa', 'arranja_', 'arranhar_', 'arrancar_', 'arrancando_', 'arraial_', 'arquivos_', 'arquivos', 'arq', 'aroucha_', 'aro_', 'armyselcaday_', 'armygas_', 'arminha_', 'arminha', 'armazenamento', 'armas', 'armario_', 'armando_', 'armamentista_', 'armamentista', 'armadura_', 'arlindao_', 'arlequina_', 'arizona_', 'aristogatas', 'arin_', 'ari', 'arguile', 'argentinos_', 'argentino_', 'argentina_', 'aretes', 'ares_', 'ardendo', 'arau_', 'aracaju_', 'aquecimento_', 'aquecer_', 'aquarela_', 'aqu_', 'apx_', 'apuros_', 'apto_', 'aproximando_', 'aprox_', 'aproveitem_', 'aproveitei_', 'aproveite', 'aproveitando_', 'aprovar_', 'aprovados', 'aprovada_', 'aprofundado_', 'apresentei_', 'apresentamos_', 'apresentam_', 'apresentadores_', 'aprendo_', 'aprendizados_', 'aprendizado', 'aprendimos_', 'aprendido_', 'aprendido', 'aprendi', 'aprendeu', 'aprendeste_', 'aprenderem_', 'aprender', 'aprendemos_', 'aprendam_', 'apredejando_', 'apredam_', 'aprecio', 'apreciem', 'apreciei_', 'apreciados', 'apreciada_', 'apr', 'apple_', 'apostilas_', 'apostei_', 'apostas_', 'apostar', 'apostando_', 'aposta', 'aponta_', 'apoiou_', 'apoiei_', 'apoie_', 'apoiaram_', 'apoiadorx_', 'apoiadora_', 'apoiado_', 'apoiada_', 'apis_', 'apetite_', 'apertou_', 'apertadinho_', 'apertadas', 'aperta_', 'aperta', 'aperfei_', 'apelidos', 'apegar', 'apega_', 'apega', 'apavorada', 'apavora', 'apartedealgograndios', 'aparentar', 'apareciendo', 'apareci_', 'apareci', 'aparecerem_', 'apareceram_', 'aparecendo_', 'aparecem', 'aparec', 'apare_', 'apanhei_', 'apanha', 'apaixonou_', 'apaixonei_', 'apaixonado_', 'apaixonadinha_', 'apaixonad_', 'apagou_', 'apaga', 'apa_', 'anyways_', 'anxos_', 'anus_', 'anunciou_', 'anunciamos_', 'anunciado_', 'antropologia_', 'antropol_', 'antoniokern_', 'antitet_', 'antigas_', 'antifascismo', 'anticast', 'antibi_', 'anti', 'anteriormente_', 'anteriores_', 'anteriores', 'anterior', 'anteontem_', 'antecipado_', 'antecipa_', 'anteced_', 'antao_', 'antagonista_', 'anta_', 'answer_', 'ansiosos', 'ansioso_', 'ansiosas_', 'ansiosa', 'ansiedades_', 'ansiedade', 'ans_', 'anotei_', 'anotar', 'anotamos_', 'anotado_', 'anoooss_', 'anon_', 'anne_', 'anna_', 'anjoo_', 'anjinhooo', 'aniversarios_', 'aniversariante_', 'aniverday_', 'aniquila_', 'aninho', 'aninha_', 'animem_', 'animei_', 'anime_', 'anime', 'animava_', 'animar', 'animada', 'anilha_', 'angustias_', 'angustiante_', 'angustiante', 'angustiado_', 'angelus_', 'angels', 'angelim_', 'angel_', 'anestesiada', 'anessapeixoto_', 'anem_', 'anem', 'aneeeim_', 'anedota_', 'android_', 'andressa', 'andreia_', 'andrei_', 'andrecferreira_', 'andrea_', 'andr', 'ando', 'andi_', 'andes_', 'andei_', 'ande_', 'anda', 'and_', 'anciosooo', 'anatomiadegrey_', 'anatomia_', 'anaooo_', 'anao', 'analiziramo_', 'analisamos_', 'analfabetos_', 'anahikari_', 'ana', 'amu', 'ams_', 'amr', 'ampulheta_', 'ampliar_', 'ampliada_', 'amplamente_', 'ampla_', 'amostragem_', 'amostra_', 'amortedeivanilitch_', 'amorrrr_', 'amorosos_', 'amoroso_', 'amorosa_', 'amorn', 'amore', 'amooor_', 'amoooo_', 'amoooo', 'amn_', 'amistad', 'amiiiga_', 'amiguinha_', 'amigavel_', 'amigaaa_', 'ami_', 'americas', 'americana', 'amentos', 'amentais_', 'amenize', 'amendoim_', 'ameircana_', 'amed_', 'ame_', 'ambobo_', 'ambientes_', 'ambiente', 'ambiental_', 'ambientais_', 'ambassador', 'amba_', 'amazing_', 'amaz_', 'amasse_', 'amasse', 'amassar_', 'amas', 'amarula', 'amarelo_', 'amarelas_', 'amarela_', 'amanheci_', 'amando_', 'amandareiis', 'amanda_', 'amadora_', 'amadora', 'amada_', 'amaciava', 'alwaysbesidetheboyza', 'alvo', 'alvez_', 'alvarenga_', 'alvalaxia_', 'aluno_', 'alunas_', 'aluna_', 'aluguei_', 'alucinantes_', 'alturas_', 'alternando', 'altas_', 'alt_', 'alpha_', 'aloy_', 'alone_', 'alo_', 'almoco_', 'almocar', 'almejava_', 'almeida_', 'almeida', 'almeid_', 'almah_', 'alma', 'allix_', 'alliance', 'alley_', 'allbotox_', 'allannnnnn', 'allace_', 'aliviar', 'aliviada_', 'alivia_', 'alisei_', 'alimentem_', 'alimentando_', 'alimentado', 'aliexpress_', 'alienados_', 'alienada_', 'aliaram_', 'aliaos_', 'alian', 'aliados_', 'alho_', 'alheio_', 'alfa_', 'alerta_', 'alergia_', 'alemanha', 'aleijas_', 'aleijada_', 'alegrinha', 'alegrias', 'alegre', 'alegrarem_', 'alegadamente_', 'aleatoria_', 'aleajactaest_', 'ale', 'alcool', 'alckmer_', 'alckimin_', 'alcance_', 'alcance', 'album_', 'alarma_', 'alargar_', 'alargador_', 'alana_', 'alan_', 'aladdin_', 'al', 'akshkahja_', 'akilo', 'akele_', 'akei_', 'akame_', 'ajxjkdkdk', 'ajuuyuu', 'ajustes_', 'ajudou', 'ajudo_', 'ajudem', 'ajudei', 'ajude', 'ajudaria_', 'ajudando', 'ajudado_', 'ajeita_', 'ajdjksjd_', 'ajax', 'aja_', 'aj_', 'aj', 'aizawa', 'aiudaa', 'airbus_', 'aindaaa_', 'aime_', 'aimda_', 'aiiiii_', 'aii_', 'aiala_', 'aiaia', 'ahuu_', 'ahuahuahuhd', 'ahshashhsa_', 'ahshahshahsha_', 'ahs_', 'ahora_', 'ahhhhhh_', 'ahhahahahahah_', 'ahh', 'ahgabong_', 'ahead_', 'ahdjshsj_', 'ahdjajjdahdajhs', 'ahdhahdhahdhahshdhsh', 'ahauhauha_', 'ahauauau_', 'ahahhahsa', 'ahahhahahaha', 'ahahhahaa_', 'ahahahah_', 'ahahahaahhahahahahah', 'ahahah', 'ahaam_', 'agustiada_', 'agulhada_', 'aguirre_', 'aguentei_', 'aguentando', 'aguenta_', 'aguardemos_', 'aguarde_', 'aguardar', 'aguarda_', 'agt_', 'agressivo_', 'agregar_', 'agredido_', 'agradecimentos_', 'agradecido', 'agradecida', 'agradeci_', 'agradeceu', 'agradecer', 'agradece', 'agradavelmente_', 'agradando_', 'agradam_', 'agradado_', 'agrada_', 'agrad_', 'agosto_', 'agorinha_', 'agorafobia_', 'agoraehaddad', 'agooora_', 'agoniante_', 'agonia', 'agite_', 'agir', 'agindo_', 'agente_', 'agendamentos_', 'agency', 'agasalhos_', 'agarrado_', 'again_', 'afundou_', 'afundado_', 'aftas_', 'afta_', 'afsoc_', 'afogou_', 'aflige_', 'afli_', 'afirmar_', 'afirmando', 'afirma_', 'afins_', 'afinidade_', 'afilhado', 'afi_', 'affffffff_', 'afffffff_', 'affff', 'afetuosas_', 'afeto_', 'afetasse_', 'afetando_', 'afetadas_', 'afb_', 'afazenda_', 'afasto', 'afastava_', 'afastarem_', 'afastamos_', 'afastamento_', 'afasta_', 'afasta', 'aew_', 'aereas_', 'aee', 'aecio_', 'adx', 'advogado_', 'advinha_', 'adulta_', 'adoto_', 'adotem_', 'adormeci', 'adormeceuu_', 'adormecer_', 'adore_', 'adorar_', 'adorar', 'adora_', 'ador_', 'adooooram_', 'adolescentes_', 'adolescente_', 'adolescente', 'adoecer', 'adoecendo_', 'admitir_', 'admitir', 'admirei_', 'admir_', 'administrativo_', 'administradora_', 'administrador_', 'adlertenorio_', 'adjetivos_', 'adinho_', 'adilson_', 'adicionar_', 'adicionando_', 'adicionamos_', 'adiante_', 'adianta', 'adiando_', 'adiada_', 'adeussss_', 'adeusnofapssetember', 'adesivos_', 'aderiu_', 'aderir_', 'adequado_', 'adequada_', 'adepto_', 'adenizia_', 'adeiiii', 'adaptava_', 'adaptada_', 'adapta_', 'adalvaro_', 'ad_', 'acusando_', 'acusado_', 'acumulando_', 'acumulada_', 'activo_', 'activision_', 'activia_', 'activadas_', 'act_', 'acs_', 'acrescentar_', 'acreditou_', 'acreditem_', 'acredite_', 'acreditassem_', 'acreditar', 'acreditam_', 'acostumem_', 'acostumei_', 'acostumando', 'acostumada', 'acordou_', 'acordem_', 'acorde_', 'acordava_', 'acordaram_', 'acordadooooo_', 'acordado', 'acordadissima', 'acorda', 'acontecimentos', 'acontecido_', 'aconselho_', 'acompanhei', 'acompanhando_', 'acompanhando', 'acompanhamos_', 'acompanham_', 'acompanhada', 'acompanha', 'acompanh_', 'acolhido_', 'acolheremos_', 'acoldadu', 'acoado', 'acirrado_', 'acima', 'acidente_', 'achas_', 'acharem_', 'achar', 'achando', 'acessibilidade_', 'acesse_', 'acesse', 'acessar', 'acess_', 'acervo_', 'acertou_', 'acertarem', 'acertar_', 'acertando_', 'acertam', 'acender_', 'acemmm', 'aceitou_', 'aceitem_', 'aceitei_', 'aceitava_', 'aceitarem_', 'aceitar', 'aceitado_', 'ace_', 'acalmar', 'acaboooooou_', 'acabem_', 'acabei', 'acabe_', 'acabe', 'acabasse_', 'acabarem_', 'acabaram', 'acabando', 'acabamos_', 'acabado', 'acabadas_', 'acabada_', 'abuso_', 'abuse', 'absurdos', 'absurdo_', 'absurdo', 'absurdas_', 'absurdamente_', 'absorver_', 'absoluta', 'abriu_', 'abrisse_', 'abrir', 'abrindo_', 'abrindo', 'abriela_', 'abri', 'abreu_', 'abreu', 'abres_', 'abreeza', 'aborto', 'abortado_', 'abortado', 'abordar_', 'abordagem_', 'aborda_', 'abondo', 'abomino_', 'ablack_', 'abg', 'abertura_', 'abertos', 'abertas', 'aberta', 'abelhinha_', 'abecassis_', 'abe', 'abdominal_', 'abdicar_', 'abatida_', 'abandonou_', 'abandonarem_', 'abandonarei_', 'abandonar', 'abandonados', 'abandonada', 'abalou_', 'abalado_', 'abaixou_', 'abaixo_', 'aba', 'aalmeida_', 'aah_', 'aafazenda_', 'aaeca_', 'aaeb', 'aac_', 'aaam_', 'aaai_', 'aaah', 'aaae_', 'aaaaggg_', 'aaaaaii_', 'aaaaaaaaaaaaaaaah', 'aaaaaaaaaaaaaaaaaaau', 'aaaaaaaaaaaaa', 'aaaaaaaaaaaa', 'aaaaaa', '.. ', '..', ' ...................', ' ................ ', ' ............ ', ' ...........', ' ......... ', ' ........', ' .......', ' ... ...............', '  ... ']\n"
          ],
          "name": "stdout"
        }
      ]
    },
    {
      "cell_type": "code",
      "metadata": {
        "id": "T4rCT4zrPF1P",
        "colab": {
          "base_uri": "https://localhost:8080/"
        },
        "outputId": "1612ff84-8b76-4734-883f-a6212a41bf40"
      },
      "source": [
        "ids = tokenizer.encode('i am happy')\n",
        "ids"
      ],
      "execution_count": null,
      "outputs": [
        {
          "output_type": "execute_result",
          "data": {
            "text/plain": [
              "[170, 207, 9759]"
            ]
          },
          "metadata": {
            "tags": []
          },
          "execution_count": 351
        }
      ]
    },
    {
      "cell_type": "code",
      "metadata": {
        "id": "4H4_8IzRPSlB",
        "colab": {
          "base_uri": "https://localhost:8080/",
          "height": 35
        },
        "outputId": "646b7b0f-3b6b-4952-ae6a-a2ea430d5e08"
      },
      "source": [
        "text = tokenizer.decode(ids)\n",
        "text"
      ],
      "execution_count": null,
      "outputs": [
        {
          "output_type": "execute_result",
          "data": {
            "application/vnd.google.colaboratory.intrinsic+json": {
              "type": "string"
            },
            "text/plain": [
              "'i am happy'"
            ]
          },
          "metadata": {
            "tags": []
          },
          "execution_count": 352
        }
      ]
    },
    {
      "cell_type": "code",
      "metadata": {
        "id": "Wix-FNg1PYij"
      },
      "source": [
        "data_inputs = [tokenizer.encode(sentence) for sentence in data_clean]"
      ],
      "execution_count": null,
      "outputs": []
    },
    {
      "cell_type": "code",
      "metadata": {
        "id": "S5DEe4p3Pi3n",
        "colab": {
          "base_uri": "https://localhost:8080/"
        },
        "outputId": "ea256e35-cbc5-4d98-b728-8dc051470eaf"
      },
      "source": [
        "for _ in range(10):\n",
        "  print(data_inputs[random.randint(0, len(data_inputs) - 1)])"
      ],
      "execution_count": null,
      "outputs": [
        {
          "output_type": "stream",
          "text": [
            "[301, 7, 2820, 1606, 4, 454, 918, 242, 66, 3, 14043]\n",
            "[2, 404, 684, 115, 13779, 1, 203, 2807, 6, 23, 1, 11376, 1416, 4, 214, 2188]\n",
            "[2, 270, 2553, 1, 17, 1, 12, 844, 1372, 49, 3517]\n",
            "[2, 980, 5473, 14029]\n",
            "[53, 1376, 13008, 11750]\n",
            "[2, 76, 731, 39, 194, 1, 5, 1, 5460, 1, 9, 719, 360, 54, 9, 4, 920, 7, 5, 1, 5267]\n",
            "[14, 1461, 50, 10, 961, 739]\n",
            "[12436, 1139, 19, 89, 8771]\n",
            "[2, 16, 13422]\n",
            "[103, 11, 5487, 324, 20, 14, 2910, 7, 627]\n"
          ],
          "name": "stdout"
        }
      ]
    },
    {
      "cell_type": "markdown",
      "metadata": {
        "id": "Ysb2uib8n6b3"
      },
      "source": [
        "### Padding"
      ]
    },
    {
      "cell_type": "code",
      "metadata": {
        "id": "xTRmL5MAP4iT",
        "colab": {
          "base_uri": "https://localhost:8080/"
        },
        "outputId": "8336dcbb-d9b0-4a53-a7c4-28d914d06a08"
      },
      "source": [
        "max_len = max([len(sentence) for sentence in data_inputs])\n",
        "max_len"
      ],
      "execution_count": null,
      "outputs": [
        {
          "output_type": "execute_result",
          "data": {
            "text/plain": [
              "45"
            ]
          },
          "metadata": {
            "tags": []
          },
          "execution_count": 355
        }
      ]
    },
    {
      "cell_type": "code",
      "metadata": {
        "id": "lT02JMV1QWLZ"
      },
      "source": [
        "data_inputs = tf.keras.preprocessing.sequence.pad_sequences(data_inputs,\n",
        "                                                            value = 0,\n",
        "                                                            padding = 'post',\n",
        "                                                            maxlen=max_len)"
      ],
      "execution_count": null,
      "outputs": []
    },
    {
      "cell_type": "code",
      "metadata": {
        "id": "E5X5g9IPQtZV",
        "colab": {
          "base_uri": "https://localhost:8080/"
        },
        "outputId": "2b57b634-9d9d-43da-c9e5-d55abe01feab"
      },
      "source": [
        "for _ in range(10):\n",
        "  print(data_inputs[random.randint(0, len(data_inputs) - 1)])"
      ],
      "execution_count": null,
      "outputs": [
        {
          "output_type": "stream",
          "text": [
            "[13961     0     0     0     0     0     0     0     0     0     0     0\n",
            "     0     0     0     0     0     0     0     0     0     0     0     0\n",
            "     0     0     0     0     0     0     0     0     0     0     0     0\n",
            "     0     0     0     0     0     0     0     0     0]\n",
            "[ 731    5 1486 1651    0    0    0    0    0    0    0    0    0    0\n",
            "    0    0    0    0    0    0    0    0    0    0    0    0    0    0\n",
            "    0    0    0    0    0    0    0    0    0    0    0    0    0    0\n",
            "    0    0    0]\n",
            "[   2   14    6  337    1  461 1784   66  873    0    0    0    0    0\n",
            "    0    0    0    0    0    0    0    0    0    0    0    0    0    0\n",
            "    0    0    0    0    0    0    0    0    0    0    0    0    0    0\n",
            "    0    0    0]\n",
            "[   22    71   108     5  2924    26   143  1400   156  8637  1460     7\n",
            "  1434     1 11507    11     5     7  1191    11  8233  8932     0     0\n",
            "     0     0     0     0     0     0     0     0     0     0     0     0\n",
            "     0     0     0     0     0     0     0     0     0]\n",
            "[1153 9234    0    0    0    0    0    0    0    0    0    0    0    0\n",
            "    0    0    0    0    0    0    0    0    0    0    0    0    0    0\n",
            "    0    0    0    0    0    0    0    0    0    0    0    0    0    0\n",
            "    0    0    0]\n",
            "[ 1717     8    21   367     4     5     1     8 13653   642    62 10546\n",
            "     0     0     0     0     0     0     0     0     0     0     0     0\n",
            "     0     0     0     0     0     0     0     0     0     0     0     0\n",
            "     0     0     0     0     0     0     0     0     0]\n",
            "[ 222  668 3581    1 3322  452    0    0    0    0    0    0    0    0\n",
            "    0    0    0    0    0    0    0    0    0    0    0    0    0    0\n",
            "    0    0    0    0    0    0    0    0    0    0    0    0    0    0\n",
            "    0    0    0]\n",
            "[   2    5    1  199  273  134  945   12  272   68 3111    0    0    0\n",
            "    0    0    0    0    0    0    0    0    0    0    0    0    0    0\n",
            "    0    0    0    0    0    0    0    0    0    0    0    0    0    0\n",
            "    0    0    0]\n",
            "[   2   23    6    3   58  135    5    1    3   58  675 2322  141  793\n",
            "    0    0    0    0    0    0    0    0    0    0    0    0    0    0\n",
            "    0    0    0    0    0    0    0    0    0    0    0    0    0    0\n",
            "    0    0    0]\n",
            "[    2   355    41  7345     1   174  1050  1314     3  2379  1803   580\n",
            "  3628 13839     0     0     0     0     0     0     0     0     0     0\n",
            "     0     0     0     0     0     0     0     0     0     0     0     0\n",
            "     0     0     0     0     0     0     0     0     0]\n"
          ],
          "name": "stdout"
        }
      ]
    },
    {
      "cell_type": "markdown",
      "metadata": {
        "id": "T4Ac7EXNNblp"
      },
      "source": [
        "### Divisão da base de dados em treinamento e teste\n",
        "\n"
      ]
    },
    {
      "cell_type": "code",
      "metadata": {
        "id": "PsKVKiSzRnw-"
      },
      "source": [
        "train_inputs, test_inputs, train_labels, test_labels = train_test_split(data_inputs,\n",
        "                                                                        data_labels,\n",
        "                                                                        test_size=0.3,\n",
        "                                                                        stratify = data_labels)"
      ],
      "execution_count": null,
      "outputs": []
    },
    {
      "cell_type": "code",
      "metadata": {
        "id": "-EoypKYBSRQR",
        "colab": {
          "base_uri": "https://localhost:8080/"
        },
        "outputId": "779e9f3c-05df-4e06-bbf5-a77cd5ad71f4"
      },
      "source": [
        "train_inputs[0]"
      ],
      "execution_count": null,
      "outputs": [
        {
          "output_type": "execute_result",
          "data": {
            "text/plain": [
              "array([    2, 13193,  8322,     4,    34,    20,   152,  1002,     0,\n",
              "           0,     0,     0,     0,     0,     0,     0,     0,     0,\n",
              "           0,     0,     0,     0,     0,     0,     0,     0,     0,\n",
              "           0,     0,     0,     0,     0,     0,     0,     0,     0,\n",
              "           0,     0,     0,     0,     0,     0,     0,     0,     0],\n",
              "      dtype=int32)"
            ]
          },
          "metadata": {
            "tags": []
          },
          "execution_count": 359
        }
      ]
    },
    {
      "cell_type": "code",
      "metadata": {
        "id": "NOcpln8ySYG6",
        "colab": {
          "base_uri": "https://localhost:8080/"
        },
        "outputId": "389a63b3-4c00-4914-a3ba-10b2302f8a2a"
      },
      "source": [
        "train_inputs.shape"
      ],
      "execution_count": null,
      "outputs": [
        {
          "output_type": "execute_result",
          "data": {
            "text/plain": [
              "(5250, 45)"
            ]
          },
          "metadata": {
            "tags": []
          },
          "execution_count": 360
        }
      ]
    },
    {
      "cell_type": "code",
      "metadata": {
        "id": "O7UxvSamScbx",
        "colab": {
          "base_uri": "https://localhost:8080/"
        },
        "outputId": "758cc6d1-0956-4ea5-960f-46724f848766"
      },
      "source": [
        "train_labels.shape"
      ],
      "execution_count": null,
      "outputs": [
        {
          "output_type": "execute_result",
          "data": {
            "text/plain": [
              "(5250,)"
            ]
          },
          "metadata": {
            "tags": []
          },
          "execution_count": 361
        }
      ]
    },
    {
      "cell_type": "code",
      "metadata": {
        "id": "HVnuy5MQShQ7",
        "colab": {
          "base_uri": "https://localhost:8080/"
        },
        "outputId": "75f41936-c61b-4d95-f272-3c15c7d56fc9"
      },
      "source": [
        "test_inputs.shape"
      ],
      "execution_count": null,
      "outputs": [
        {
          "output_type": "execute_result",
          "data": {
            "text/plain": [
              "(2250, 45)"
            ]
          },
          "metadata": {
            "tags": []
          },
          "execution_count": 362
        }
      ]
    },
    {
      "cell_type": "code",
      "metadata": {
        "id": "xBH05YZrSm2h",
        "colab": {
          "base_uri": "https://localhost:8080/"
        },
        "outputId": "bd129094-be4b-40a3-9559-539873cb9606"
      },
      "source": [
        "test_labels.shape"
      ],
      "execution_count": null,
      "outputs": [
        {
          "output_type": "execute_result",
          "data": {
            "text/plain": [
              "(2250,)"
            ]
          },
          "metadata": {
            "tags": []
          },
          "execution_count": 363
        }
      ]
    },
    {
      "cell_type": "markdown",
      "metadata": {
        "id": "kWu6hLDG_UJZ"
      },
      "source": [
        "# Etapa 3: Construção do modelo"
      ]
    },
    {
      "cell_type": "code",
      "metadata": {
        "id": "xEATIsKmTFs3"
      },
      "source": [
        "class DCNN(tf.keras.Model):\n",
        "\n",
        "  def __init__(self,\n",
        "               vocab_size,\n",
        "               emb_dim=128,\n",
        "               nb_filters=50,\n",
        "               ffn_units=512,\n",
        "               nb_classes=2,\n",
        "               dropout_rate=0.1,\n",
        "               training=True,\n",
        "               name=\"dcnn\"):\n",
        "    super(DCNN, self).__init__(name=name)\n",
        "\n",
        "    self.embedding = layers.Embedding(vocab_size, emb_dim)\n",
        "\n",
        "    self.bigram = layers.Conv1D(filters=nb_filters, kernel_size=2, padding='same', activation='relu')\n",
        "\n",
        "    self.trigram = layers.Conv1D(filters=nb_filters, kernel_size=3, padding='same', activation='relu')\n",
        "\n",
        "    self.fourgram = layers.Conv1D(filters=nb_filters, kernel_size=4, padding='same', activation='relu')\n",
        "\n",
        "    self.pool = layers.GlobalMaxPool1D()\n",
        "\n",
        "    self.dense_1 = layers.Dense(units = ffn_units, activation = 'relu')\n",
        "    self.dropout = layers.Dropout(rate = dropout_rate)\n",
        "    if nb_classes == 2:\n",
        "      self.last_dense = layers.Dense(units = 1, activation = 'sigmoid')\n",
        "    else:\n",
        "      self.last_dense = layers.Dense(units = nb_classes, activation = 'softmax')\n",
        "\n",
        "  def call(self, inputs, training):\n",
        "    x = self.embedding(inputs)\n",
        "    x_1 = self.bigram(x)\n",
        "    x_1 = self.pool(x_1)\n",
        "    x_2 = self.trigram(x)\n",
        "    x_2 = self.pool(x_2)\n",
        "    x_3 = self.fourgram(x)\n",
        "    x_3 = self.pool(x_3)\n",
        "\n",
        "    merged = tf.concat([x_1, x_2, x_3], axis = -1) # (batch_size, 3 * nb_filters)\n",
        "    merged = self.dense_1(merged)\n",
        "    merged = self.dropout(merged, training)\n",
        "    output = self.last_dense(merged)\n",
        "\n",
        "    return output"
      ],
      "execution_count": null,
      "outputs": []
    },
    {
      "cell_type": "markdown",
      "metadata": {
        "id": "92XbAZ9E1AMS"
      },
      "source": [
        "# Etapa 4: Treinamento"
      ]
    },
    {
      "cell_type": "markdown",
      "metadata": {
        "id": "B8cfYwHME-m0"
      },
      "source": [
        "## Configuração dos parâmetros"
      ]
    },
    {
      "cell_type": "code",
      "metadata": {
        "id": "5VNPb5mFZsC8",
        "colab": {
          "base_uri": "https://localhost:8080/"
        },
        "outputId": "a6f13069-a4ae-42f5-c61c-1ce5addb0fee"
      },
      "source": [
        "vocab_size = tokenizer.vocab_size\n",
        "vocab_size"
      ],
      "execution_count": null,
      "outputs": [
        {
          "output_type": "execute_result",
          "data": {
            "text/plain": [
              "14185"
            ]
          },
          "metadata": {
            "tags": []
          },
          "execution_count": 365
        }
      ]
    },
    {
      "cell_type": "code",
      "metadata": {
        "id": "0MVJ_3QRZ3Nn",
        "colab": {
          "base_uri": "https://localhost:8080/"
        },
        "outputId": "144fe584-383b-44a2-ca84-dee56f7cb6c8"
      },
      "source": [
        "emb_dim = 200\n",
        "nb_filters = 100\n",
        "ffn_units = 256\n",
        "batch_size = 64\n",
        "nb_classes = len(set(train_labels))\n",
        "nb_classes"
      ],
      "execution_count": null,
      "outputs": [
        {
          "output_type": "execute_result",
          "data": {
            "text/plain": [
              "2"
            ]
          },
          "metadata": {
            "tags": []
          },
          "execution_count": 366
        }
      ]
    },
    {
      "cell_type": "code",
      "metadata": {
        "id": "ntBWbJPZaUng"
      },
      "source": [
        "dropout_rate = 0.2\n",
        "nb_epochs = 20"
      ],
      "execution_count": null,
      "outputs": []
    },
    {
      "cell_type": "markdown",
      "metadata": {
        "id": "Nddzr1kA7UHC"
      },
      "source": [
        "## Treinamento"
      ]
    },
    {
      "cell_type": "code",
      "metadata": {
        "id": "yjSh-7HNaxX3"
      },
      "source": [
        "Dcnn = DCNN(vocab_size=vocab_size, emb_dim=emb_dim, nb_filters=nb_filters,\n",
        "            ffn_units=ffn_units, nb_classes=nb_classes, dropout_rate=dropout_rate)"
      ],
      "execution_count": null,
      "outputs": []
    },
    {
      "cell_type": "code",
      "metadata": {
        "id": "j_Gj5koycHqd"
      },
      "source": [
        "if nb_classes == 2:\n",
        "  Dcnn.compile(loss='binary_crossentropy', optimizer='adam', metrics=['accuracy'])\n",
        "else:\n",
        "  Dcnn.compile(loss='sparse_categorical_crossentropy', optimizer='adam', metrics=['accuracy'])"
      ],
      "execution_count": null,
      "outputs": []
    },
    {
      "cell_type": "code",
      "metadata": {
        "id": "L5s8GUMncejB"
      },
      "source": [
        "checkpoint_path = \"./\"\n",
        "ckpt = tf.train.Checkpoint(Dcnn=Dcnn)\n",
        "ckpt_manager = tf.train.CheckpointManager(ckpt, checkpoint_path, max_to_keep=5)\n",
        "if ckpt_manager.latest_checkpoint:\n",
        "  ckpt.restore(ckpt_manager.latest_checkpoint)\n",
        "  print('Latest checkpoint restored')"
      ],
      "execution_count": null,
      "outputs": []
    },
    {
      "cell_type": "code",
      "metadata": {
        "id": "02etzYLydVEi",
        "colab": {
          "base_uri": "https://localhost:8080/",
          "height": 735
        },
        "outputId": "13561fdd-b711-4e0a-9faf-2ec60459039f"
      },
      "source": [
        "history = Dcnn.fit(train_inputs, train_labels,\n",
        "                   batch_size = batch_size,\n",
        "                   epochs = nb_epochs,\n",
        "                   verbose = 1,\n",
        "                   validation_split = 0.10)\n",
        "ckpt_manager.save()"
      ],
      "execution_count": null,
      "outputs": [
        {
          "output_type": "stream",
          "text": [
            "Epoch 1/20\n",
            "74/74 [==============================] - 4s 37ms/step - loss: 0.6754 - accuracy: 0.5617 - val_loss: 0.5335 - val_accuracy: 0.7124\n",
            "Epoch 2/20\n",
            "74/74 [==============================] - 2s 29ms/step - loss: 0.3610 - accuracy: 0.8564 - val_loss: 0.6019 - val_accuracy: 0.7124\n",
            "Epoch 3/20\n",
            "74/74 [==============================] - 2s 29ms/step - loss: 0.1095 - accuracy: 0.9635 - val_loss: 0.7862 - val_accuracy: 0.7200\n",
            "Epoch 4/20\n",
            "74/74 [==============================] - 2s 29ms/step - loss: 0.0485 - accuracy: 0.9804 - val_loss: 0.9522 - val_accuracy: 0.7105\n",
            "Epoch 5/20\n",
            "74/74 [==============================] - 2s 28ms/step - loss: 0.0241 - accuracy: 0.9895 - val_loss: 1.0364 - val_accuracy: 0.6933\n",
            "Epoch 6/20\n",
            "74/74 [==============================] - 2s 28ms/step - loss: 0.0178 - accuracy: 0.9931 - val_loss: 1.1302 - val_accuracy: 0.6914\n",
            "Epoch 7/20\n",
            "74/74 [==============================] - 2s 28ms/step - loss: 0.0185 - accuracy: 0.9905 - val_loss: 1.2062 - val_accuracy: 0.6990\n",
            "Epoch 8/20\n",
            "74/74 [==============================] - 2s 28ms/step - loss: 0.0172 - accuracy: 0.9927 - val_loss: 1.2294 - val_accuracy: 0.6838\n",
            "Epoch 9/20\n",
            "74/74 [==============================] - 2s 28ms/step - loss: 0.0181 - accuracy: 0.9903 - val_loss: 1.2624 - val_accuracy: 0.7010\n",
            "Epoch 10/20\n",
            "74/74 [==============================] - 2s 28ms/step - loss: 0.0158 - accuracy: 0.9918 - val_loss: 1.3116 - val_accuracy: 0.6971\n",
            "Epoch 11/20\n",
            "74/74 [==============================] - 2s 28ms/step - loss: 0.0172 - accuracy: 0.9909 - val_loss: 1.3369 - val_accuracy: 0.6990\n",
            "Epoch 12/20\n",
            "74/74 [==============================] - 2s 28ms/step - loss: 0.0166 - accuracy: 0.9926 - val_loss: 1.3660 - val_accuracy: 0.6914\n",
            "Epoch 13/20\n",
            "74/74 [==============================] - 2s 28ms/step - loss: 0.0151 - accuracy: 0.9909 - val_loss: 1.4568 - val_accuracy: 0.6838\n",
            "Epoch 14/20\n",
            "74/74 [==============================] - 2s 28ms/step - loss: 0.0132 - accuracy: 0.9928 - val_loss: 1.4512 - val_accuracy: 0.6857\n",
            "Epoch 15/20\n",
            "74/74 [==============================] - 2s 28ms/step - loss: 0.0114 - accuracy: 0.9941 - val_loss: 1.5117 - val_accuracy: 0.6857\n",
            "Epoch 16/20\n",
            "74/74 [==============================] - 2s 28ms/step - loss: 0.0149 - accuracy: 0.9916 - val_loss: 1.5443 - val_accuracy: 0.6895\n",
            "Epoch 17/20\n",
            "74/74 [==============================] - 2s 28ms/step - loss: 0.0124 - accuracy: 0.9930 - val_loss: 1.5718 - val_accuracy: 0.6895\n",
            "Epoch 18/20\n",
            "74/74 [==============================] - 2s 29ms/step - loss: 0.0152 - accuracy: 0.9914 - val_loss: 1.6094 - val_accuracy: 0.6895\n",
            "Epoch 19/20\n",
            "74/74 [==============================] - 2s 29ms/step - loss: 0.0127 - accuracy: 0.9938 - val_loss: 1.6276 - val_accuracy: 0.6838\n",
            "Epoch 20/20\n",
            "74/74 [==============================] - 2s 29ms/step - loss: 0.0132 - accuracy: 0.9924 - val_loss: 1.6778 - val_accuracy: 0.6895\n"
          ],
          "name": "stdout"
        },
        {
          "output_type": "execute_result",
          "data": {
            "application/vnd.google.colaboratory.intrinsic+json": {
              "type": "string"
            },
            "text/plain": [
              "'./ckpt-1'"
            ]
          },
          "metadata": {
            "tags": []
          },
          "execution_count": 371
        }
      ]
    },
    {
      "cell_type": "markdown",
      "metadata": {
        "id": "16Gn6JhJKXDK"
      },
      "source": [
        "# Etapa 5: Avaliação do modelo"
      ]
    },
    {
      "cell_type": "markdown",
      "metadata": {
        "id": "5s8GGVE11r2z"
      },
      "source": [
        "## Avaliação"
      ]
    },
    {
      "cell_type": "code",
      "metadata": {
        "id": "_2saJAr81TUy",
        "colab": {
          "base_uri": "https://localhost:8080/"
        },
        "outputId": "7e924395-4efe-4463-b7be-ae5a3b1bca26"
      },
      "source": [
        "results = Dcnn.evaluate(test_inputs, test_labels, batch_size=batch_size)\n",
        "print(results)"
      ],
      "execution_count": null,
      "outputs": [
        {
          "output_type": "stream",
          "text": [
            "36/36 [==============================] - 0s 7ms/step - loss: 1.6267 - accuracy: 0.6884\n",
            "[1.6266560554504395, 0.6884444355964661]\n"
          ],
          "name": "stdout"
        }
      ]
    },
    {
      "cell_type": "code",
      "metadata": {
        "id": "LNM3RVwO11Ph"
      },
      "source": [
        "y_pred_test = Dcnn.predict(test_inputs)"
      ],
      "execution_count": null,
      "outputs": []
    },
    {
      "cell_type": "code",
      "metadata": {
        "id": "dwYfU4bA19yZ",
        "colab": {
          "base_uri": "https://localhost:8080/"
        },
        "outputId": "5e09adf4-aa64-4f30-8e4f-2450c7417b3d"
      },
      "source": [
        "y_pred_test"
      ],
      "execution_count": null,
      "outputs": [
        {
          "output_type": "execute_result",
          "data": {
            "text/plain": [
              "array([[4.6852283e-02],\n",
              "       [4.2771748e-03],\n",
              "       [3.7634433e-03],\n",
              "       ...,\n",
              "       [5.4152474e-06],\n",
              "       [6.1805570e-04],\n",
              "       [8.3414829e-01]], dtype=float32)"
            ]
          },
          "metadata": {
            "tags": []
          },
          "execution_count": 374
        }
      ]
    },
    {
      "cell_type": "code",
      "metadata": {
        "id": "cr3rYEy72Ps4"
      },
      "source": [
        "y_pred_test = (y_pred_test > 0.5)"
      ],
      "execution_count": null,
      "outputs": []
    },
    {
      "cell_type": "code",
      "metadata": {
        "id": "LIT82QfF2bNV",
        "colab": {
          "base_uri": "https://localhost:8080/"
        },
        "outputId": "b4a4e88a-ab3f-401f-b4d5-2e1f57ec835c"
      },
      "source": [
        "y_pred_test"
      ],
      "execution_count": null,
      "outputs": [
        {
          "output_type": "execute_result",
          "data": {
            "text/plain": [
              "array([[False],\n",
              "       [False],\n",
              "       [False],\n",
              "       ...,\n",
              "       [False],\n",
              "       [False],\n",
              "       [ True]])"
            ]
          },
          "metadata": {
            "tags": []
          },
          "execution_count": 376
        }
      ]
    },
    {
      "cell_type": "code",
      "metadata": {
        "id": "sXthDpw92eig",
        "colab": {
          "base_uri": "https://localhost:8080/"
        },
        "outputId": "3b2d2bba-67f7-46f1-9b71-7dc4afa08ed9"
      },
      "source": [
        "test_labels"
      ],
      "execution_count": null,
      "outputs": [
        {
          "output_type": "execute_result",
          "data": {
            "text/plain": [
              "array([0, 0, 1, ..., 0, 0, 1])"
            ]
          },
          "metadata": {
            "tags": []
          },
          "execution_count": 377
        }
      ]
    },
    {
      "cell_type": "code",
      "metadata": {
        "id": "hlLBYrco2oQp",
        "colab": {
          "base_uri": "https://localhost:8080/"
        },
        "outputId": "91f1f9b1-3f15-411b-f520-5266c3f4b4e3"
      },
      "source": [
        "from sklearn.metrics import confusion_matrix\n",
        "cm = confusion_matrix(test_labels, y_pred_test)\n",
        "cm"
      ],
      "execution_count": null,
      "outputs": [
        {
          "output_type": "execute_result",
          "data": {
            "text/plain": [
              "array([[795, 330],\n",
              "       [371, 754]])"
            ]
          },
          "metadata": {
            "tags": []
          },
          "execution_count": 378
        }
      ]
    },
    {
      "cell_type": "code",
      "metadata": {
        "id": "xBuMH2CC24Gf",
        "colab": {
          "base_uri": "https://localhost:8080/",
          "height": 282
        },
        "outputId": "2bbf15cf-e93d-4289-a501-4de95e00db84"
      },
      "source": [
        "sns.heatmap(cm, annot=True)"
      ],
      "execution_count": null,
      "outputs": [
        {
          "output_type": "execute_result",
          "data": {
            "text/plain": [
              "<matplotlib.axes._subplots.AxesSubplot at 0x7fbc7adc0d90>"
            ]
          },
          "metadata": {
            "tags": []
          },
          "execution_count": 379
        },
        {
          "output_type": "display_data",
          "data": {
            "image/png": "[encoded data removed]",
            "text/plain": [
              "<Figure size 432x288 with 2 Axes>"
            ]
          },
          "metadata": {
            "tags": [],
            "needs_background": "light"
          }
        }
      ]
    },
    {
      "cell_type": "code",
      "metadata": {
        "id": "soGrESYl3TH4",
        "colab": {
          "base_uri": "https://localhost:8080/"
        },
        "outputId": "04e03339-77c1-4bb6-b450-58a638cb4322"
      },
      "source": [
        "history.history.keys()sentiment"
      ],
      "execution_count": null,
      "outputs": [
        {
          "output_type": "execute_result",
          "data": {
            "text/plain": [
              "dict_keys(['loss', 'accuracy', 'val_loss', 'val_accuracy'])"
            ]
          },
          "metadata": {
            "tags": []
          },
          "execution_count": 380
        }
      ]
    },
    {
      "cell_type": "code",
      "metadata": {
        "id": "EyfSXNtR3dGp",
        "colab": {
          "base_uri": "https://localhost:8080/",
          "height": 312
        },
        "outputId": "6f4631b9-304a-451b-b5db-a4edcd0c757d"
      },
      "source": [
        "plt.plot(history.history['loss'])\n",
        "plt.plot(history.history['val_loss'])\n",
        "plt.title('Model loss progress during training and validation')\n",
        "plt.xlabel('Epoch')\n",
        "plt.ylabel('Losses')\n",
        "plt.legend(['Training loss', 'Validation loss'])"
      ],
      "execution_count": null,
      "outputs": [
        {
          "output_type": "execute_result",
          "data": {
            "text/plain": [
              "<matplotlib.legend.Legend at 0x7fbc7b2177d0>"
            ]
          },
          "metadata": {
            "tags": []
          },
          "execution_count": 381
        },
        {
          "output_type": "display_data",
          "data": {
            "image/png": "[encoded data removed]",
            "text/plain": [
              "<Figure size 432x288 with 1 Axes>"
            ]
          },
          "metadata": {
            "tags": [],
            "needs_background": "light"
          }
        }
      ]
    },
    {
      "cell_type": "code",
      "metadata": {
        "id": "S8DR5LnM4Xjz",
        "colab": {
          "base_uri": "https://localhost:8080/",
          "height": 312
        },
        "outputId": "e2e3bc69-a591-435e-fd91-6e96a13b8f5c"
      },
      "source": [
        "plt.plot(history.history['accuracy'])\n",
        "plt.plot(history.history['val_accuracy'])\n",
        "plt.title('Model accuracy progress during training and validation')\n",
        "plt.xlabel('Epoch')\n",
        "plt.ylabel('Accuracy')\n",
        "plt.legend(['Training accuracy', 'Validation accuracy'])"
      ],
      "execution_count": null,
      "outputs": [
        {
          "output_type": "execute_result",
          "data": {
            "text/plain": [
              "<matplotlib.legend.Legend at 0x7fbb4a5effd0>"
            ]
          },
          "metadata": {
            "tags": []
          },
          "execution_count": 382
        },
        {
          "output_type": "display_data",
          "data": {
            "image/png": "[encoded data removed]",
            "text/plain": [
              "<Figure size 432x288 with 1 Axes>"
            ]
          },
          "metadata": {
            "tags": [],
            "needs_background": "light"
          }
        }
      ]
    },
    {
      "cell_type": "markdown",
      "metadata": {
        "id": "ClI0nAoj1vdk"
      },
      "source": [
        "## Previsões"
      ]
    },
    {
      "cell_type": "code",
      "metadata": {
        "id": "oeGl73bb5J2D",
        "colab": {
          "base_uri": "https://localhost:8080/"
        },
        "outputId": "648fdbbb-f95e-491f-dbc1-7c2865058eb6"
      },
      "source": [
        "text = 'i hate you'\n",
        "text = tokenizer.encode(text)\n",
        "text"
      ],
      "execution_count": null,
      "outputs": [
        {
          "output_type": "execute_result",
          "data": {
            "text/plain": [
              "[170, 2632, 4939]"
            ]
          },
          "metadata": {
            "tags": []
          },
          "execution_count": 383
        }
      ]
    },
    {
      "cell_type": "code",
      "metadata": {
        "id": "jYqKGfnZ5aGX",
        "colab": {
          "base_uri": "https://localhost:8080/"
        },
        "outputId": "891d2d10-0508-4cb0-f2ec-621d69067311"
      },
      "source": [
        "Dcnn(np.array([text]), training=False).numpy()"
      ],
      "execution_count": null,
      "outputs": [
        {
          "output_type": "execute_result",
          "data": {
            "text/plain": [
              "array([[0.9303558]], dtype=float32)"
            ]
          },
          "metadata": {
            "tags": []
          },
          "execution_count": 384
        }
      ]
    },
    {
      "cell_type": "markdown",
      "metadata": {
        "id": "_RR8TZKsbAgV"
      },
      "source": [
        "#Explicação Final\n",
        "\n",
        "- Após executar um treinamento de 20 epochs foi observador uma accuracy de 69% de eficiencia ao ***aplicar redes neurais Convolucionais*** a base de dados do twitter em português."
      ]
    }
  ]
}