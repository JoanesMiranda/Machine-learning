{
  "nbformat": 4,
  "nbformat_minor": 0,
  "metadata": {
    "accelerator": "GPU",
    "colab": {
      "name": "Aplicando Redes Neural Recorrente a base de dados Twitter em portugues.ipynb",
      "provenance": [],
      "collapsed_sections": [],
      "include_colab_link": true
    },
    "kernelspec": {
      "display_name": "Python 3",
      "name": "python3"
    }
  },
  "cells": [
    {
      "cell_type": "markdown",
      "metadata": {
        "id": "view-in-github",
        "colab_type": "text"
      },
      "source": [
        "<a href=\"https://colab.research.google.com/github/JoanesMiranda/Machine-learning/blob/master/Aplicando_Redes_Neural_Recorrente_a_base_de_dados_Twitter_em_portugues.ipynb\" target=\"_parent\"><img src=\"https://colab.research.google.com/assets/colab-badge.svg\" alt=\"Open In Colab\"/></a>"
      ]
    },
    {
      "cell_type": "markdown",
      "metadata": {
        "id": "XmXGRAYvX144"
      },
      "source": [
        "#Unifacisa Centro Universitario\n",
        "\n",
        "- **Curso:** Pós-Graduação em Ciência de Dados.\n",
        "- **Disciplina:**  Processamento de Linguagem Natural.\n",
        "- **Professor:** Jones Granatyr.\n",
        "- **Aluno:** Joanes Miranda de Souto.\n"
      ]
    },
    {
      "cell_type": "markdown",
      "metadata": {
        "id": "EJ6zhycx-LJa"
      },
      "source": [
        "# Etapa 1: Importação das bibliotecas"
      ]
    },
    {
      "cell_type": "code",
      "metadata": {
        "id": "1dfpd7ulxMFP"
      },
      "source": [
        "# Teoria CNN para textos\n",
        "# Classificação de sentimentos com CNN\n",
        "# Teoria RNN\n",
        "# Classificação de sentimentos com RNN\n",
        "# Geração de novos textos com RNN\n",
        "\n",
        "# Transformer\n",
        "# Tradutor de idiomas: EN -> PT\n",
        "# BERT\n",
        "# Q&A\n",
        "# Orange\n",
        "\n",
        "# Base de dados\n",
        "# https://drive.google.com/file/d/1dEhKrvPTli4NK7Aaa2lACx2NvjVwWf9d/view?usp=sharing\n",
        "\n",
        "import numpy as np\n",
        "import math\n",
        "import re\n",
        "import pandas as pd\n",
        "from bs4 import BeautifulSoup\n",
        "from google.colab import drive\n",
        "import zipfile\n",
        "import seaborn as sns\n",
        "import spacy as sp\n",
        "import string\n",
        "import random\n",
        "import spacy\n",
        "import matplotlib.pyplot as plt"
      ],
      "execution_count": 76,
      "outputs": []
    },
    {
      "cell_type": "code",
      "metadata": {
        "id": "R4kTMj5HWat7",
        "colab": {
          "base_uri": "https://localhost:8080/"
        },
        "outputId": "09706445-d408-42ee-a60d-76a3a363bc13"
      },
      "source": [
        "!python3 -m spacy download pt"
      ],
      "execution_count": 77,
      "outputs": [
        {
          "output_type": "stream",
          "text": [
            "Requirement already satisfied: pt_core_news_sm==2.2.5 from https://github.com/explosion/spacy-models/releases/download/pt_core_news_sm-2.2.5/pt_core_news_sm-2.2.5.tar.gz#egg=pt_core_news_sm==2.2.5 in /usr/local/lib/python3.7/dist-packages (2.2.5)\n",
            "Requirement already satisfied: spacy>=2.2.2 in /usr/local/lib/python3.7/dist-packages (from pt_core_news_sm==2.2.5) (2.2.4)\n",
            "Requirement already satisfied: numpy>=1.15.0 in /usr/local/lib/python3.7/dist-packages (from spacy>=2.2.2->pt_core_news_sm==2.2.5) (1.19.5)\n",
            "Requirement already satisfied: murmurhash<1.1.0,>=0.28.0 in /usr/local/lib/python3.7/dist-packages (from spacy>=2.2.2->pt_core_news_sm==2.2.5) (1.0.5)\n",
            "Requirement already satisfied: setuptools in /usr/local/lib/python3.7/dist-packages (from spacy>=2.2.2->pt_core_news_sm==2.2.5) (54.2.0)\n",
            "Requirement already satisfied: plac<1.2.0,>=0.9.6 in /usr/local/lib/python3.7/dist-packages (from spacy>=2.2.2->pt_core_news_sm==2.2.5) (1.1.3)\n",
            "Requirement already satisfied: preshed<3.1.0,>=3.0.2 in /usr/local/lib/python3.7/dist-packages (from spacy>=2.2.2->pt_core_news_sm==2.2.5) (3.0.5)\n",
            "Requirement already satisfied: tqdm<5.0.0,>=4.38.0 in /usr/local/lib/python3.7/dist-packages (from spacy>=2.2.2->pt_core_news_sm==2.2.5) (4.41.1)\n",
            "Requirement already satisfied: catalogue<1.1.0,>=0.0.7 in /usr/local/lib/python3.7/dist-packages (from spacy>=2.2.2->pt_core_news_sm==2.2.5) (1.0.0)\n",
            "Requirement already satisfied: thinc==7.4.0 in /usr/local/lib/python3.7/dist-packages (from spacy>=2.2.2->pt_core_news_sm==2.2.5) (7.4.0)\n",
            "Requirement already satisfied: wasabi<1.1.0,>=0.4.0 in /usr/local/lib/python3.7/dist-packages (from spacy>=2.2.2->pt_core_news_sm==2.2.5) (0.8.2)\n",
            "Requirement already satisfied: srsly<1.1.0,>=1.0.2 in /usr/local/lib/python3.7/dist-packages (from spacy>=2.2.2->pt_core_news_sm==2.2.5) (1.0.5)\n",
            "Requirement already satisfied: requests<3.0.0,>=2.13.0 in /usr/local/lib/python3.7/dist-packages (from spacy>=2.2.2->pt_core_news_sm==2.2.5) (2.23.0)\n",
            "Requirement already satisfied: cymem<2.1.0,>=2.0.2 in /usr/local/lib/python3.7/dist-packages (from spacy>=2.2.2->pt_core_news_sm==2.2.5) (2.0.5)\n",
            "Requirement already satisfied: blis<0.5.0,>=0.4.0 in /usr/local/lib/python3.7/dist-packages (from spacy>=2.2.2->pt_core_news_sm==2.2.5) (0.4.1)\n",
            "Requirement already satisfied: importlib-metadata>=0.20; python_version < \"3.8\" in /usr/local/lib/python3.7/dist-packages (from catalogue<1.1.0,>=0.0.7->spacy>=2.2.2->pt_core_news_sm==2.2.5) (3.10.1)\n",
            "Requirement already satisfied: urllib3!=1.25.0,!=1.25.1,<1.26,>=1.21.1 in /usr/local/lib/python3.7/dist-packages (from requests<3.0.0,>=2.13.0->spacy>=2.2.2->pt_core_news_sm==2.2.5) (1.24.3)\n",
            "Requirement already satisfied: certifi>=2017.4.17 in /usr/local/lib/python3.7/dist-packages (from requests<3.0.0,>=2.13.0->spacy>=2.2.2->pt_core_news_sm==2.2.5) (2020.12.5)\n",
            "Requirement already satisfied: chardet<4,>=3.0.2 in /usr/local/lib/python3.7/dist-packages (from requests<3.0.0,>=2.13.0->spacy>=2.2.2->pt_core_news_sm==2.2.5) (3.0.4)\n",
            "Requirement already satisfied: idna<3,>=2.5 in /usr/local/lib/python3.7/dist-packages (from requests<3.0.0,>=2.13.0->spacy>=2.2.2->pt_core_news_sm==2.2.5) (2.10)\n",
            "Requirement already satisfied: typing-extensions>=3.6.4; python_version < \"3.8\" in /usr/local/lib/python3.7/dist-packages (from importlib-metadata>=0.20; python_version < \"3.8\"->catalogue<1.1.0,>=0.0.7->spacy>=2.2.2->pt_core_news_sm==2.2.5) (3.7.4.3)\n",
            "Requirement already satisfied: zipp>=0.5 in /usr/local/lib/python3.7/dist-packages (from importlib-metadata>=0.20; python_version < \"3.8\"->catalogue<1.1.0,>=0.0.7->spacy>=2.2.2->pt_core_news_sm==2.2.5) (3.4.1)\n",
            "\u001b[38;5;2m✔ Download and installation successful\u001b[0m\n",
            "You can now load the model via spacy.load('pt_core_news_sm')\n",
            "\u001b[38;5;2m✔ Linking successful\u001b[0m\n",
            "/usr/local/lib/python3.7/dist-packages/pt_core_news_sm -->\n",
            "/usr/local/lib/python3.7/dist-packages/spacy/data/pt\n",
            "You can now load the model via spacy.load('pt')\n"
          ],
          "name": "stdout"
        }
      ]
    },
    {
      "cell_type": "code",
      "metadata": {
        "colab": {
          "base_uri": "https://localhost:8080/",
          "height": 35
        },
        "id": "0s8u890hxtSl",
        "outputId": "4c91ddab-ab90-44dd-905c-7093290ce09d"
      },
      "source": [
        "%tensorflow_version 2.x\n",
        "import tensorflow as tf\n",
        "tf.__version__"
      ],
      "execution_count": 78,
      "outputs": [
        {
          "output_type": "execute_result",
          "data": {
            "application/vnd.google.colaboratory.intrinsic+json": {
              "type": "string"
            },
            "text/plain": [
              "'2.4.1'"
            ]
          },
          "metadata": {
            "tags": []
          },
          "execution_count": 78
        }
      ]
    },
    {
      "cell_type": "code",
      "metadata": {
        "id": "Z9C_Vycux_4G"
      },
      "source": [
        "from tensorflow.keras import layers\n",
        "import tensorflow_datasets as tfds"
      ],
      "execution_count": 79,
      "outputs": []
    },
    {
      "cell_type": "markdown",
      "metadata": {
        "id": "WN8EilQG-cwa"
      },
      "source": [
        "# Etapa 2: Pré-processamento dos dados"
      ]
    },
    {
      "cell_type": "markdown",
      "metadata": {
        "id": "52CTV4_q-hpX"
      },
      "source": [
        "## Carregamento dos arquivos"
      ]
    },
    {
      "cell_type": "code",
      "metadata": {
        "id": "fmWWefFpTAUp"
      },
      "source": [
        "train_data = pd.read_csv('/content/Train50.csv', delimiter=\";\")"
      ],
      "execution_count": 80,
      "outputs": []
    },
    {
      "cell_type": "code",
      "metadata": {
        "colab": {
          "base_uri": "https://localhost:8080/"
        },
        "id": "IH2qPu020S-O",
        "outputId": "c128d72e-3ca4-443d-ef88-e45894c0925b"
      },
      "source": [
        "train_data.shape"
      ],
      "execution_count": 81,
      "outputs": [
        {
          "output_type": "execute_result",
          "data": {
            "text/plain": [
              "(50000, 5)"
            ]
          },
          "metadata": {
            "tags": []
          },
          "execution_count": 81
        }
      ]
    },
    {
      "cell_type": "code",
      "metadata": {
        "colab": {
          "base_uri": "https://localhost:8080/",
          "height": 206
        },
        "id": "ipULVOik0kIv",
        "outputId": "72a4db90-d0b8-4069-f3a3-b82c0187d488"
      },
      "source": [
        "train_data.head()"
      ],
      "execution_count": 82,
      "outputs": [
        {
          "output_type": "execute_result",
          "data": {
            "text/html": [
              "<div>\n",
              "<style scoped>\n",
              "    .dataframe tbody tr th:only-of-type {\n",
              "        vertical-align: middle;\n",
              "    }\n",
              "\n",
              "    .dataframe tbody tr th {\n",
              "        vertical-align: top;\n",
              "    }\n",
              "\n",
              "    .dataframe thead th {\n",
              "        text-align: right;\n",
              "    }\n",
              "</style>\n",
              "<table border=\"1\" class=\"dataframe\">\n",
              "  <thead>\n",
              "    <tr style=\"text-align: right;\">\n",
              "      <th></th>\n",
              "      <th>id</th>\n",
              "      <th>tweet_text</th>\n",
              "      <th>tweet_date</th>\n",
              "      <th>sentiment</th>\n",
              "      <th>query_used</th>\n",
              "    </tr>\n",
              "  </thead>\n",
              "  <tbody>\n",
              "    <tr>\n",
              "      <th>0</th>\n",
              "      <td>1050785521201541121</td>\n",
              "      <td>@Laranjito76 A pessoa certa para isso seria o ...</td>\n",
              "      <td>Fri Oct 12 16:29:25 +0000 2018</td>\n",
              "      <td>1</td>\n",
              "      <td>:)</td>\n",
              "    </tr>\n",
              "    <tr>\n",
              "      <th>1</th>\n",
              "      <td>1050785431955140608</td>\n",
              "      <td>@behin_d_curtain Para mim, é precisamente o co...</td>\n",
              "      <td>Fri Oct 12 16:29:04 +0000 2018</td>\n",
              "      <td>1</td>\n",
              "      <td>:)</td>\n",
              "    </tr>\n",
              "    <tr>\n",
              "      <th>2</th>\n",
              "      <td>1050785401248645120</td>\n",
              "      <td>Vou fazer um video hoje... estou pensando em f...</td>\n",
              "      <td>Fri Oct 12 16:28:56 +0000 2018</td>\n",
              "      <td>1</td>\n",
              "      <td>:)</td>\n",
              "    </tr>\n",
              "    <tr>\n",
              "      <th>3</th>\n",
              "      <td>1050785370982547461</td>\n",
              "      <td>aaaaaaaa amei tanto essas polaroids, nem sei e...</td>\n",
              "      <td>Fri Oct 12 16:28:49 +0000 2018</td>\n",
              "      <td>1</td>\n",
              "      <td>:)</td>\n",
              "    </tr>\n",
              "    <tr>\n",
              "      <th>4</th>\n",
              "      <td>1050785368902131713</td>\n",
              "      <td>Valoriza o coração do menininho que vc tem. El...</td>\n",
              "      <td>Fri Oct 12 16:28:49 +0000 2018</td>\n",
              "      <td>1</td>\n",
              "      <td>:)</td>\n",
              "    </tr>\n",
              "  </tbody>\n",
              "</table>\n",
              "</div>"
            ],
            "text/plain": [
              "                    id  ... query_used\n",
              "0  1050785521201541121  ...         :)\n",
              "1  1050785431955140608  ...         :)\n",
              "2  1050785401248645120  ...         :)\n",
              "3  1050785370982547461  ...         :)\n",
              "4  1050785368902131713  ...         :)\n",
              "\n",
              "[5 rows x 5 columns]"
            ]
          },
          "metadata": {
            "tags": []
          },
          "execution_count": 82
        }
      ]
    },
    {
      "cell_type": "code",
      "metadata": {
        "colab": {
          "base_uri": "https://localhost:8080/",
          "height": 206
        },
        "id": "-lcG4i170rHC",
        "outputId": "d8ce9511-3c4d-42a9-df37-7260bf3d0dde"
      },
      "source": [
        "train_data.tail()"
      ],
      "execution_count": 83,
      "outputs": [
        {
          "output_type": "execute_result",
          "data": {
            "text/html": [
              "<div>\n",
              "<style scoped>\n",
              "    .dataframe tbody tr th:only-of-type {\n",
              "        vertical-align: middle;\n",
              "    }\n",
              "\n",
              "    .dataframe tbody tr th {\n",
              "        vertical-align: top;\n",
              "    }\n",
              "\n",
              "    .dataframe thead th {\n",
              "        text-align: right;\n",
              "    }\n",
              "</style>\n",
              "<table border=\"1\" class=\"dataframe\">\n",
              "  <thead>\n",
              "    <tr style=\"text-align: right;\">\n",
              "      <th></th>\n",
              "      <th>id</th>\n",
              "      <th>tweet_text</th>\n",
              "      <th>tweet_date</th>\n",
              "      <th>sentiment</th>\n",
              "      <th>query_used</th>\n",
              "    </tr>\n",
              "  </thead>\n",
              "  <tbody>\n",
              "    <tr>\n",
              "      <th>49995</th>\n",
              "      <td>1046762827053232128</td>\n",
              "      <td>:( é tão lindo que dói https://t.co/GqnpgyWWxB</td>\n",
              "      <td>Mon Oct 01 14:04:40 +0000 2018</td>\n",
              "      <td>0</td>\n",
              "      <td>:(</td>\n",
              "    </tr>\n",
              "    <tr>\n",
              "      <th>49996</th>\n",
              "      <td>1046762813362966529</td>\n",
              "      <td>@veraluciarj Pois é.. tenho problema c/ \"coisa...</td>\n",
              "      <td>Mon Oct 01 14:04:37 +0000 2018</td>\n",
              "      <td>0</td>\n",
              "      <td>:(</td>\n",
              "    </tr>\n",
              "    <tr>\n",
              "      <th>49997</th>\n",
              "      <td>1046762806392082432</td>\n",
              "      <td>eu te amo tanto minja vidinha meu bem mais pre...</td>\n",
              "      <td>Mon Oct 01 14:04:35 +0000 2018</td>\n",
              "      <td>0</td>\n",
              "      <td>:(</td>\n",
              "    </tr>\n",
              "    <tr>\n",
              "      <th>49998</th>\n",
              "      <td>1046762752071618560</td>\n",
              "      <td>@itsLary @jessboluda Pfvor :(</td>\n",
              "      <td>Mon Oct 01 14:04:22 +0000 2018</td>\n",
              "      <td>0</td>\n",
              "      <td>:(</td>\n",
              "    </tr>\n",
              "    <tr>\n",
              "      <th>49999</th>\n",
              "      <td>1046762735340584962</td>\n",
              "      <td>@Renk_lol Passa ano Entra ano Eu nao desisto d...</td>\n",
              "      <td>Mon Oct 01 14:04:18 +0000 2018</td>\n",
              "      <td>0</td>\n",
              "      <td>:(</td>\n",
              "    </tr>\n",
              "  </tbody>\n",
              "</table>\n",
              "</div>"
            ],
            "text/plain": [
              "                        id  ... query_used\n",
              "49995  1046762827053232128  ...         :(\n",
              "49996  1046762813362966529  ...         :(\n",
              "49997  1046762806392082432  ...         :(\n",
              "49998  1046762752071618560  ...         :(\n",
              "49999  1046762735340584962  ...         :(\n",
              "\n",
              "[5 rows x 5 columns]"
            ]
          },
          "metadata": {
            "tags": []
          },
          "execution_count": 83
        }
      ]
    },
    {
      "cell_type": "code",
      "metadata": {
        "colab": {
          "base_uri": "https://localhost:8080/"
        },
        "id": "qs3Sxcs9003F",
        "outputId": "4fee4fe8-f129-43c6-f40a-4d908d479cf3"
      },
      "source": [
        "train_data.sentiment.unique()"
      ],
      "execution_count": 84,
      "outputs": [
        {
          "output_type": "execute_result",
          "data": {
            "text/plain": [
              "array([1, 0])"
            ]
          },
          "metadata": {
            "tags": []
          },
          "execution_count": 84
        }
      ]
    },
    {
      "cell_type": "code",
      "metadata": {
        "colab": {
          "base_uri": "https://localhost:8080/",
          "height": 334
        },
        "id": "0je-FuRH05dp",
        "outputId": "81dd1fbc-12e5-4d46-e405-33e2a4ad7a54"
      },
      "source": [
        "sns.countplot(train_data.sentiment);"
      ],
      "execution_count": 85,
      "outputs": [
        {
          "output_type": "stream",
          "text": [
            "/usr/local/lib/python3.7/dist-packages/seaborn/_decorators.py:43: FutureWarning: Pass the following variable as a keyword arg: x. From version 0.12, the only valid positional argument will be `data`, and passing other arguments without an explicit keyword will result in an error or misinterpretation.\n",
            "  FutureWarning\n"
          ],
          "name": "stderr"
        },
        {
          "output_type": "display_data",
          "data": {
            "image/png": "[encoded data removed]",
            "text/plain": [
              "<Figure size 432x288 with 1 Axes>"
            ]
          },
          "metadata": {
            "tags": [],
            "needs_background": "light"
          }
        }
      ]
    },
    {
      "cell_type": "code",
      "metadata": {
        "id": "9yhFKqD6TSWC"
      },
      "source": [
        "test_data = pd.read_csv(\"/content/Test.csv\",delimiter=\";\")"
      ],
      "execution_count": 86,
      "outputs": []
    },
    {
      "cell_type": "code",
      "metadata": {
        "colab": {
          "base_uri": "https://localhost:8080/",
          "height": 206
        },
        "id": "iz4_kdXcNrK_",
        "outputId": "953635fd-71c1-44bb-8b46-d85a2609d1d9"
      },
      "source": [
        "test_data.head()"
      ],
      "execution_count": 87,
      "outputs": [
        {
          "output_type": "execute_result",
          "data": {
            "text/html": [
              "<div>\n",
              "<style scoped>\n",
              "    .dataframe tbody tr th:only-of-type {\n",
              "        vertical-align: middle;\n",
              "    }\n",
              "\n",
              "    .dataframe tbody tr th {\n",
              "        vertical-align: top;\n",
              "    }\n",
              "\n",
              "    .dataframe thead th {\n",
              "        text-align: right;\n",
              "    }\n",
              "</style>\n",
              "<table border=\"1\" class=\"dataframe\">\n",
              "  <thead>\n",
              "    <tr style=\"text-align: right;\">\n",
              "      <th></th>\n",
              "      <th>id</th>\n",
              "      <th>tweet_text</th>\n",
              "      <th>tweet_date</th>\n",
              "      <th>sentiment</th>\n",
              "      <th>query_used</th>\n",
              "    </tr>\n",
              "  </thead>\n",
              "  <tbody>\n",
              "    <tr>\n",
              "      <th>0</th>\n",
              "      <td>1029536486021099522</td>\n",
              "      <td>@Gazo1a Nossa! Muito obrigada :)</td>\n",
              "      <td>Wed Aug 15 01:13:20 +0000 2018</td>\n",
              "      <td>1</td>\n",
              "      <td>:)</td>\n",
              "    </tr>\n",
              "    <tr>\n",
              "      <th>1</th>\n",
              "      <td>1029536496368406528</td>\n",
              "      <td>@BerzGamer vai pa puta que te pariu :)</td>\n",
              "      <td>Wed Aug 15 01:13:23 +0000 2018</td>\n",
              "      <td>1</td>\n",
              "      <td>:)</td>\n",
              "    </tr>\n",
              "    <tr>\n",
              "      <th>2</th>\n",
              "      <td>1029536531655131137</td>\n",
              "      <td>QUER MAIS DESCONTOS? (14/08) ⭐⭐⭐⭐⭐ 🌐 Confira n...</td>\n",
              "      <td>Wed Aug 15 01:13:31 +0000 2018</td>\n",
              "      <td>1</td>\n",
              "      <td>:)</td>\n",
              "    </tr>\n",
              "    <tr>\n",
              "      <th>3</th>\n",
              "      <td>1029536560117678081</td>\n",
              "      <td>EU VOU PEGAR VCS, ME AJUDEM GALERA, PELO AMOR ...</td>\n",
              "      <td>Wed Aug 15 01:13:38 +0000 2018</td>\n",
              "      <td>1</td>\n",
              "      <td>:)</td>\n",
              "    </tr>\n",
              "    <tr>\n",
              "      <th>4</th>\n",
              "      <td>1029536605852377088</td>\n",
              "      <td>Estávamos em casa do Zé e eu estava a morrer d...</td>\n",
              "      <td>Wed Aug 15 01:13:49 +0000 2018</td>\n",
              "      <td>1</td>\n",
              "      <td>:)</td>\n",
              "    </tr>\n",
              "  </tbody>\n",
              "</table>\n",
              "</div>"
            ],
            "text/plain": [
              "                    id  ... query_used\n",
              "0  1029536486021099522  ...         :)\n",
              "1  1029536496368406528  ...         :)\n",
              "2  1029536531655131137  ...         :)\n",
              "3  1029536560117678081  ...         :)\n",
              "4  1029536605852377088  ...         :)\n",
              "\n",
              "[5 rows x 5 columns]"
            ]
          },
          "metadata": {
            "tags": []
          },
          "execution_count": 87
        }
      ]
    },
    {
      "cell_type": "code",
      "metadata": {
        "colab": {
          "base_uri": "https://localhost:8080/"
        },
        "id": "70F6_Qg9Nb20",
        "outputId": "0be150fa-8108-4068-97b3-7e2b483e614e"
      },
      "source": [
        "test_data.shape"
      ],
      "execution_count": 88,
      "outputs": [
        {
          "output_type": "execute_result",
          "data": {
            "text/plain": [
              "(5000, 5)"
            ]
          },
          "metadata": {
            "tags": []
          },
          "execution_count": 88
        }
      ]
    },
    {
      "cell_type": "code",
      "metadata": {
        "colab": {
          "base_uri": "https://localhost:8080/"
        },
        "id": "4TGNfarsNkb1",
        "outputId": "9e6270c2-a944-463a-ad23-ebd7690b6f92"
      },
      "source": [
        "test_data.sentiment.unique()"
      ],
      "execution_count": 89,
      "outputs": [
        {
          "output_type": "execute_result",
          "data": {
            "text/plain": [
              "array([1, 0])"
            ]
          },
          "metadata": {
            "tags": []
          },
          "execution_count": 89
        }
      ]
    },
    {
      "cell_type": "code",
      "metadata": {
        "colab": {
          "base_uri": "https://localhost:8080/",
          "height": 334
        },
        "id": "Wr4JUrsPNgi1",
        "outputId": "34d93852-d32a-4e3d-c0f9-964118cf7590"
      },
      "source": [
        "sns.countplot(test_data.sentiment);"
      ],
      "execution_count": 90,
      "outputs": [
        {
          "output_type": "stream",
          "text": [
            "/usr/local/lib/python3.7/dist-packages/seaborn/_decorators.py:43: FutureWarning: Pass the following variable as a keyword arg: x. From version 0.12, the only valid positional argument will be `data`, and passing other arguments without an explicit keyword will result in an error or misinterpretation.\n",
            "  FutureWarning\n"
          ],
          "name": "stderr"
        },
        {
          "output_type": "display_data",
          "data": {
            "image/png": "[encoded data removed]",
            "text/plain": [
              "<Figure size 432x288 with 1 Axes>"
            ]
          },
          "metadata": {
            "tags": [],
            "needs_background": "light"
          }
        }
      ]
    },
    {
      "cell_type": "markdown",
      "metadata": {
        "id": "6CsZKJx1-2Ep"
      },
      "source": [
        "## Pré-processamento"
      ]
    },
    {
      "cell_type": "markdown",
      "metadata": {
        "id": "FLWayJ-5-7nN"
      },
      "source": [
        "### Limpeza"
      ]
    },
    {
      "cell_type": "code",
      "metadata": {
        "id": "hgcKJ8jo2IAU"
      },
      "source": [
        "data = train_data"
      ],
      "execution_count": 91,
      "outputs": []
    },
    {
      "cell_type": "code",
      "metadata": {
        "id": "3fttIwLyTpby"
      },
      "source": [
        "data.drop(['id', 'tweet_date', 'query_used'], axis = 1, inplace=True)"
      ],
      "execution_count": 92,
      "outputs": []
    },
    {
      "cell_type": "code",
      "metadata": {
        "colab": {
          "base_uri": "https://localhost:8080/",
          "height": 206
        },
        "id": "-rn747Zk2gwp",
        "outputId": "647829cd-ebf8-47d6-feb2-5756d3b5b849"
      },
      "source": [
        "data.head()"
      ],
      "execution_count": 93,
      "outputs": [
        {
          "output_type": "execute_result",
          "data": {
            "text/html": [
              "<div>\n",
              "<style scoped>\n",
              "    .dataframe tbody tr th:only-of-type {\n",
              "        vertical-align: middle;\n",
              "    }\n",
              "\n",
              "    .dataframe tbody tr th {\n",
              "        vertical-align: top;\n",
              "    }\n",
              "\n",
              "    .dataframe thead th {\n",
              "        text-align: right;\n",
              "    }\n",
              "</style>\n",
              "<table border=\"1\" class=\"dataframe\">\n",
              "  <thead>\n",
              "    <tr style=\"text-align: right;\">\n",
              "      <th></th>\n",
              "      <th>tweet_text</th>\n",
              "      <th>sentiment</th>\n",
              "    </tr>\n",
              "  </thead>\n",
              "  <tbody>\n",
              "    <tr>\n",
              "      <th>0</th>\n",
              "      <td>@Laranjito76 A pessoa certa para isso seria o ...</td>\n",
              "      <td>1</td>\n",
              "    </tr>\n",
              "    <tr>\n",
              "      <th>1</th>\n",
              "      <td>@behin_d_curtain Para mim, é precisamente o co...</td>\n",
              "      <td>1</td>\n",
              "    </tr>\n",
              "    <tr>\n",
              "      <th>2</th>\n",
              "      <td>Vou fazer um video hoje... estou pensando em f...</td>\n",
              "      <td>1</td>\n",
              "    </tr>\n",
              "    <tr>\n",
              "      <th>3</th>\n",
              "      <td>aaaaaaaa amei tanto essas polaroids, nem sei e...</td>\n",
              "      <td>1</td>\n",
              "    </tr>\n",
              "    <tr>\n",
              "      <th>4</th>\n",
              "      <td>Valoriza o coração do menininho que vc tem. El...</td>\n",
              "      <td>1</td>\n",
              "    </tr>\n",
              "  </tbody>\n",
              "</table>\n",
              "</div>"
            ],
            "text/plain": [
              "                                          tweet_text  sentiment\n",
              "0  @Laranjito76 A pessoa certa para isso seria o ...          1\n",
              "1  @behin_d_curtain Para mim, é precisamente o co...          1\n",
              "2  Vou fazer um video hoje... estou pensando em f...          1\n",
              "3  aaaaaaaa amei tanto essas polaroids, nem sei e...          1\n",
              "4  Valoriza o coração do menininho que vc tem. El...          1"
            ]
          },
          "metadata": {
            "tags": []
          },
          "execution_count": 93
        }
      ]
    },
    {
      "cell_type": "code",
      "metadata": {
        "id": "ufHeTh612mev"
      },
      "source": [
        "X = data.iloc[:, 0].values"
      ],
      "execution_count": 94,
      "outputs": []
    },
    {
      "cell_type": "code",
      "metadata": {
        "colab": {
          "base_uri": "https://localhost:8080/"
        },
        "id": "8i6-FOPH2zrS",
        "outputId": "d7ae8812-490e-43eb-e785-c3a3645e7d79"
      },
      "source": [
        "X"
      ],
      "execution_count": 95,
      "outputs": [
        {
          "output_type": "execute_result",
          "data": {
            "text/plain": [
              "array(['@Laranjito76 A pessoa certa para isso seria o vale e azevedo :)',\n",
              "       '@behin_d_curtain Para mim, é precisamente o contrário :) Vem a chuva e vem a boa disposição :)',\n",
              "       'Vou fazer um video hoje... estou pensando em falar um pouco sobre o novo meta do CSGO e sobre a pagina https://t.co/5RjhKnj0oh Alguem tem uma sugestao? Queria falar sobre algo do cenario nacional :D',\n",
              "       ...,\n",
              "       'eu te amo tanto minja vidinha meu bem mais precioso me desculpa ser uma péssima utted mas eu te amo mais que tudo nem palavras é capaz de explicar o tamanho do amor que sinto por ti :(((( https://t.co/4ND7F203et',\n",
              "       '@itsLary @jessboluda Pfvor :(',\n",
              "       '@Renk_lol Passa ano Entra ano Eu nao desisto do NA :('],\n",
              "      dtype=object)"
            ]
          },
          "metadata": {
            "tags": []
          },
          "execution_count": 95
        }
      ]
    },
    {
      "cell_type": "code",
      "metadata": {
        "colab": {
          "base_uri": "https://localhost:8080/"
        },
        "id": "vxb9dUzY22O7",
        "outputId": "45fd6bd0-537a-4ecb-e80c-b5cf4ab699e4"
      },
      "source": [
        "X.shape"
      ],
      "execution_count": 96,
      "outputs": [
        {
          "output_type": "execute_result",
          "data": {
            "text/plain": [
              "(50000,)"
            ]
          },
          "metadata": {
            "tags": []
          },
          "execution_count": 96
        }
      ]
    },
    {
      "cell_type": "code",
      "metadata": {
        "colab": {
          "base_uri": "https://localhost:8080/"
        },
        "id": "G1xQNeQC253m",
        "outputId": "8a07d51a-640b-4f7c-8d54-981d2a876f2b"
      },
      "source": [
        "type(X)"
      ],
      "execution_count": 97,
      "outputs": [
        {
          "output_type": "execute_result",
          "data": {
            "text/plain": [
              "numpy.ndarray"
            ]
          },
          "metadata": {
            "tags": []
          },
          "execution_count": 97
        }
      ]
    },
    {
      "cell_type": "code",
      "metadata": {
        "colab": {
          "base_uri": "https://localhost:8080/"
        },
        "id": "AubTH1vn2_FX",
        "outputId": "d7bc191e-3e53-48f1-ae88-ee2a159d109a"
      },
      "source": [
        "y = data.iloc[:, 1].values\n",
        "y"
      ],
      "execution_count": 98,
      "outputs": [
        {
          "output_type": "execute_result",
          "data": {
            "text/plain": [
              "array([1, 1, 1, ..., 0, 0, 0])"
            ]
          },
          "metadata": {
            "tags": []
          },
          "execution_count": 98
        }
      ]
    },
    {
      "cell_type": "code",
      "metadata": {
        "id": "w_b_QPYQ3Ep-"
      },
      "source": [
        "from sklearn.model_selection import train_test_split\n",
        "X, _, y, _ = train_test_split(X, y, test_size = 0.85, stratify = y)"
      ],
      "execution_count": 99,
      "outputs": []
    },
    {
      "cell_type": "code",
      "metadata": {
        "colab": {
          "base_uri": "https://localhost:8080/"
        },
        "id": "k2f37zL63qWd",
        "outputId": "a04c3e39-5eaa-4d2b-9bd3-2821cef7f057"
      },
      "source": [
        "X.shape"
      ],
      "execution_count": 100,
      "outputs": [
        {
          "output_type": "execute_result",
          "data": {
            "text/plain": [
              "(7500,)"
            ]
          },
          "metadata": {
            "tags": []
          },
          "execution_count": 100
        }
      ]
    },
    {
      "cell_type": "code",
      "metadata": {
        "colab": {
          "base_uri": "https://localhost:8080/"
        },
        "id": "XJm3bSbL3t6M",
        "outputId": "6c2c77ae-c8ba-4787-e8d6-1af61ef5883d"
      },
      "source": [
        "y.shape"
      ],
      "execution_count": 101,
      "outputs": [
        {
          "output_type": "execute_result",
          "data": {
            "text/plain": [
              "(7500,)"
            ]
          },
          "metadata": {
            "tags": []
          },
          "execution_count": 101
        }
      ]
    },
    {
      "cell_type": "code",
      "metadata": {
        "colab": {
          "base_uri": "https://localhost:8080/"
        },
        "id": "wt7qG0FC3xMJ",
        "outputId": "37304b33-9c9e-4b73-b5fe-32323623afde"
      },
      "source": [
        "unique, counts = np.unique(y, return_counts=True)\n",
        "unique, counts"
      ],
      "execution_count": 102,
      "outputs": [
        {
          "output_type": "execute_result",
          "data": {
            "text/plain": [
              "(array([0, 1]), array([3750, 3750]))"
            ]
          },
          "metadata": {
            "tags": []
          },
          "execution_count": 102
        }
      ]
    },
    {
      "cell_type": "code",
      "metadata": {
        "id": "H7FmwPT14sW-"
      },
      "source": [
        "def clean_tweets(tweet):\n",
        "  tweet = BeautifulSoup(tweet, 'lxml').get_text()\n",
        "  tweet = re.sub(r\"@[A-Za-z0-9]+\", ' ', tweet)\n",
        "  tweet = re.sub(r\"https?://[A-Za-z0-9./]+\", ' ', tweet)\n",
        "  tweet = re.sub(r\"[^a-zA-Z.!?]\", ' ', tweet)\n",
        "  tweet = re.sub(r\" +\", ' ', tweet)\n",
        "  return tweet"
      ],
      "execution_count": 103,
      "outputs": []
    },
    {
      "cell_type": "code",
      "metadata": {
        "id": "cHmUE8DZOOUR"
      },
      "source": [
        "text = '@behin_d_curtain :D Para :( mim, http://www.iaexpert.com.br é precisamente o contrário :) Vem a chuva e vem a boa disposição :)'"
      ],
      "execution_count": 104,
      "outputs": []
    },
    {
      "cell_type": "code",
      "metadata": {
        "colab": {
          "base_uri": "https://localhost:8080/",
          "height": 35
        },
        "id": "MP-hnjvy5BIC",
        "outputId": "93349a88-e828-46cb-f41b-c22455be88ce"
      },
      "source": [
        "text = clean_tweets(text)\n",
        "text"
      ],
      "execution_count": 105,
      "outputs": [
        {
          "output_type": "execute_result",
          "data": {
            "application/vnd.google.colaboratory.intrinsic+json": {
              "type": "string"
            },
            "text/plain": [
              "' d curtain D Para mim precisamente o contr rio Vem a chuva e vem a boa disposi o '"
            ]
          },
          "metadata": {
            "tags": []
          },
          "execution_count": 105
        }
      ]
    },
    {
      "cell_type": "code",
      "metadata": {
        "colab": {
          "base_uri": "https://localhost:8080/"
        },
        "id": "Kz3QRjtKWtDW",
        "outputId": "e1577780-a067-4121-93f4-831faf20668b"
      },
      "source": [
        "pln = spacy.load('pt')\n",
        "pln"
      ],
      "execution_count": 106,
      "outputs": [
        {
          "output_type": "execute_result",
          "data": {
            "text/plain": [
              "<spacy.lang.pt.Portuguese at 0x7f9a62b77ed0>"
            ]
          },
          "metadata": {
            "tags": []
          },
          "execution_count": 106
        }
      ]
    },
    {
      "cell_type": "code",
      "metadata": {
        "id": "as-SxDtI7sBP"
      },
      "source": [
        "stop_words = sp.lang.pt.STOP_WORDS"
      ],
      "execution_count": 107,
      "outputs": []
    },
    {
      "cell_type": "code",
      "metadata": {
        "colab": {
          "base_uri": "https://localhost:8080/"
        },
        "id": "s3O0rC3u7xyN",
        "outputId": "f3c65bd8-1bad-455a-8bac-a4ec7065d977"
      },
      "source": [
        "print(stop_words)"
      ],
      "execution_count": 108,
      "outputs": [
        {
          "output_type": "stream",
          "text": [
            "{'menos', 'tem', 'uma', 'tarde', 'pelo', 'tanta', 'daquele', 'eu', 'dar', 'sob', 'para', 'próprio', 'naquele', 'longe', 'aqueles', 'após', 'sobre', 'sete', 'nos', 'tudo', 'breve', 'me', 'aos', 'são', 'têm', 'novo', 'estiveram', 'também', 'deverá', 'embora', 'nossa', 'conhecido', 'neste', 'à', 'vêm', 'cima', 'eventual', 'meio', 'está', 'aqui', 'antes', 'isto', 'tenho', 'através', 'oito', 'tal', 'terceiro', 'nenhuma', 'exemplo', 'estivemos', 'seu', 'menor', 'muito', 'quanto', 'de', 'novos', 'tivestes', 'tendes', 'era', 'vossos', 'comprido', 'sei', 'você', 'porquê', 'custa', 'pelas', 'cá', 'cedo', 'por', 'sabe', 'poder', 'dez', 'os', 'seus', 'tente', 'quieta', 'sois', 'enquanto', 'ou', 'vossas', 'dezassete', 'debaixo', 'pouco', 'essa', 'estas', 'quinta', 'local', 'podem', 'vais', 'tuas', 'dezoito', 'usar', 'querem', 'des', 'tentei', 'nunca', 'vosso', 'pode', 'vezes', 'porque', 'favor', 'minhas', 'faz', 'vai', 'sua', 'nada', 'tipo', 'eles', 'aquelas', 'geral', 'ligado', 'bem', 'estar', 'desse', 'tanto', 'como', 'estado', 'faço', 'esse', 'naquela', 'te', 'esses', 'lá', 'pela', 'inicio', 'cujo', 'cento', 'saber', 'outros', 'foram', 'coisa', 'já', 'seria', 'tais', 'lugar', 'foste', 'último', 'ali', 'fomos', 'certeza', 'quarto', 'deve', 'apoio', 'diz', 'aquele', 'algo', 'tua', 'comprida', 'vossa', 'fazia', 'estes', 'mês', 'grande', 'porém', 'iniciar', 'fui', 'qual', 'dizem', 'vos', 'põem', 'vem', 'todo', 'meses', 'teve', 'terceira', 'entre', 'deste', 'parece', 'valor', 'em', 'próxima', 'questão', 'outra', 'teus', 'contudo', 'és', 'zero', 'isso', 'então', 'uns', 'mais', 'catorze', 'fazes', 'daquela', 'estava', 'vinte', 'segunda', 'fim', 'possível', 'oitava', 'que', 'ambas', 'direita', 'ele', 'fostes', 'fazer', 'logo', 'obrigado', 'esta', 'sistema', 'cinco', 'todos', 'certamente', 'caminho', 'outras', 'aí', 'posição', 'fazeis', 'vão', 'na', 'parte', 'tiveram', 'minha', 'nossos', 'quinze', 'se', 'pouca', 'final', 'acerca', 'apoia', 'conselho', 'dos', 'pois', 'quê', 'cuja', 'no', 'tão', 'primeiro', 'nesse', 'da', 'essas', 'nuns', 'tive', 'for', 'onze', 'ao', 'põe', 'boa', 'estás', 'máximo', 'desta', 'tu', 'doze', 'grandes', 'numa', 'dois', 'bom', 'sim', 'demais', 'quarta', 'maiorias', 'pontos', 'fará', 'tempo', 'estive', 'sétimo', 'não', 'vários', 'vez', 'ademais', 'vindo', 'ora', 'sétima', 'pegar', 'número', 'onde', 'toda', 'dá', 'nova', 'dezasseis', 'diante', 'três', 'falta', 'inclusive', 'nesta', 'ver', 'umas', 'este', 'poderá', 'portanto', 'nossas', 'das', 'apontar', 'duas', 'sempre', 'depois', 'nível', 'mal', 'sou', 'ser', 'dessa', 'vocês', 'puderam', 'aquilo', 'as', 'desde', 'estivestes', 'até', 'novas', 'num', 'dentro', 'tentaram', 'temos', 'ontem', 'baixo', 'aquela', 'pelos', 'sexto', 'somente', 'quais', 'segundo', 'obrigada', 'ir', 'pôde', 'quatro', 'mesmo', 'dezanove', 'meu', 'tivemos', 'mil', 'estará', 'sem', 'maioria', 'nove', 'quem', 'mas', 'tens', 'com', 'além', 'do', 'nessa', 'contra', 'ainda', 'elas', 'meus', 'possivelmente', 'ter', 'quinto', 'muitos', 'assim', 'talvez', 'agora', 'posso', 'fazem', 'vós', 'é', 'conhecida', 'área', 'dizer', 'lhe', 'algumas', 'maior', 'devem', 'ambos', 'atrás', 'dão', 'estiveste', 'disso', 'podia', 'momento', 'nosso', 'cada', 'treze', 'apenas', 'vinda', 'nas', 'esteve', 'ela', 'nós', 'porquanto', 'corrente', 'usa', 'todas', 'próximo', 'nem', 'suas', 'veja', 'estão', 'estou', 'vens', 'um', 'povo', 'qualquer', 'quero', 'adeus', 'quer', 'lado', 'irá', 'bastante', 'foi', 'ponto', 'tentar', 'primeira', 'quieto', 'relação', 'oitavo', 'grupo', 'fez', 'fora', 'números', 'alguns', 'sexta', 'seis', 'forma', 'às', 'só', 'somos', 'fazemos', 'quando', 'tiveste', 'perto', 'partir', 'teu'}\n"
          ],
          "name": "stdout"
        }
      ]
    },
    {
      "cell_type": "code",
      "metadata": {
        "colab": {
          "base_uri": "https://localhost:8080/"
        },
        "id": "5bYoV0pD70yQ",
        "outputId": "15d79af8-ee52-455e-ebb6-c01bd1b4fbbe"
      },
      "source": [
        "len(stop_words)"
      ],
      "execution_count": 109,
      "outputs": [
        {
          "output_type": "execute_result",
          "data": {
            "text/plain": [
              "413"
            ]
          },
          "metadata": {
            "tags": []
          },
          "execution_count": 109
        }
      ]
    },
    {
      "cell_type": "code",
      "metadata": {
        "colab": {
          "base_uri": "https://localhost:8080/",
          "height": 35
        },
        "id": "vGHvLXiJ9qQC",
        "outputId": "1931c760-9e9b-4c6c-e19b-85f064948b6b"
      },
      "source": [
        "string.punctuation"
      ],
      "execution_count": 110,
      "outputs": [
        {
          "output_type": "execute_result",
          "data": {
            "application/vnd.google.colaboratory.intrinsic+json": {
              "type": "string"
            },
            "text/plain": [
              "'!\"#$%&\\'()*+,-./:;<=>?@[\\\\]^_`{|}~'"
            ]
          },
          "metadata": {
            "tags": []
          },
          "execution_count": 110
        }
      ]
    },
    {
      "cell_type": "code",
      "metadata": {
        "id": "Zk-HcIoT7-hh"
      },
      "source": [
        "def clean_tweets2(tweet):\n",
        "  tweet = tweet.lower()\n",
        "  document = pln(tweet)\n",
        "\n",
        "  words = []\n",
        "  for token in document:\n",
        "    words.append(token.text)\n",
        "\n",
        "  words = [word for word in words if word not in stop_words and word not in string.punctuation]\n",
        "  words = ' '.join([str(element) for element in words])\n",
        "\n",
        "  return words"
      ],
      "execution_count": 111,
      "outputs": []
    },
    {
      "cell_type": "code",
      "metadata": {
        "colab": {
          "base_uri": "https://localhost:8080/",
          "height": 35
        },
        "id": "JNvx3x408hTK",
        "outputId": "1b3a2b2f-ef1f-48d8-87ae-6a57947eeb61"
      },
      "source": [
        "text2 = clean_tweets2(text)\n",
        "text2"
      ],
      "execution_count": 112,
      "outputs": [
        {
          "output_type": "execute_result",
          "data": {
            "application/vnd.google.colaboratory.intrinsic+json": {
              "type": "string"
            },
            "text/plain": [
              "'  d curtain d mim precisamente o contr rio a chuva e a disposi o'"
            ]
          },
          "metadata": {
            "tags": []
          },
          "execution_count": 112
        }
      ]
    },
    {
      "cell_type": "code",
      "metadata": {
        "id": "L6eJcZog-Ze1"
      },
      "source": [
        "data_clean = [clean_tweets2(clean_tweets(tweet)) for tweet in X]"
      ],
      "execution_count": 113,
      "outputs": []
    },
    {
      "cell_type": "code",
      "metadata": {
        "id": "0NwcYJTLJ1hq",
        "colab": {
          "base_uri": "https://localhost:8080/"
        },
        "outputId": "f3e85f1f-1489-4d16-e5b7-886697a5326b"
      },
      "source": [
        "for _ in range(10):\n",
        "  print(data_clean[random.randint(0, len(data_clean) - 1)])"
      ],
      "execution_count": 114,
      "outputs": [
        {
          "output_type": "stream",
          "text": [
            "pr hist ria comidas eram diferentes e n o eram refinadas ent o duro dentes siso eram ajuda comer o passar deixaram usados chegando a haver gente j a d\n",
            "  falei pro pai e ficou boladissimo\n",
            "  twt aii mana n tenta vc vc importante vdd agrade o pq sorrio vdd\n",
            "  tbm preocupa ficar a bolha coisas continuarem est o ...\n",
            "tragam o denny duquette voltaaaaaaaaaaaaa e o mark e a lexie\n",
            "  maconha e psiquiatra mitomania trat vel\n",
            "queria so comer cuzinho hj p\n",
            "dia gente linda saiu resultado l blog top comentarista setembro parab ns ana i. j. mercury j entrei contato voc via email pra n o sorteado ...\n",
            "  fica\n",
            "  resposta n o necess rio tico e teco perceber ... basta s tico\n"
          ],
          "name": "stdout"
        }
      ]
    },
    {
      "cell_type": "code",
      "metadata": {
        "id": "NHDdk6OyKPTF"
      },
      "source": [
        "data_labels = y"
      ],
      "execution_count": 115,
      "outputs": []
    },
    {
      "cell_type": "code",
      "metadata": {
        "id": "sCwBVu_-KS6x"
      },
      "source": [
        "data_labels[data_labels == 4] = 1"
      ],
      "execution_count": 116,
      "outputs": []
    },
    {
      "cell_type": "code",
      "metadata": {
        "id": "HnEu3ydNKdtW",
        "colab": {
          "base_uri": "https://localhost:8080/"
        },
        "outputId": "b1855c70-1c40-47d2-d724-2019aeff764d"
      },
      "source": [
        "data_labels"
      ],
      "execution_count": 117,
      "outputs": [
        {
          "output_type": "execute_result",
          "data": {
            "text/plain": [
              "array([1, 0, 0, ..., 1, 0, 0])"
            ]
          },
          "metadata": {
            "tags": []
          },
          "execution_count": 117
        }
      ]
    },
    {
      "cell_type": "code",
      "metadata": {
        "id": "amKqM8FjKgT-",
        "colab": {
          "base_uri": "https://localhost:8080/"
        },
        "outputId": "a4f4a20f-3c91-4f8a-d42c-bf07c594e09e"
      },
      "source": [
        "np.unique(data_labels)"
      ],
      "execution_count": 118,
      "outputs": [
        {
          "output_type": "execute_result",
          "data": {
            "text/plain": [
              "array([0, 1])"
            ]
          },
          "metadata": {
            "tags": []
          },
          "execution_count": 118
        }
      ]
    },
    {
      "cell_type": "markdown",
      "metadata": {
        "id": "GTKZ5fUh_Kxz"
      },
      "source": [
        "### Tokenização"
      ]
    },
    {
      "cell_type": "code",
      "metadata": {
        "id": "8XI8WWOFNiJ8",
        "colab": {
          "base_uri": "https://localhost:8080/"
        },
        "outputId": "c5cd0dc2-40ed-4b1c-a2bc-fc860984d2ad"
      },
      "source": [
        "2**16"
      ],
      "execution_count": 119,
      "outputs": [
        {
          "output_type": "execute_result",
          "data": {
            "text/plain": [
              "65536"
            ]
          },
          "metadata": {
            "tags": []
          },
          "execution_count": 119
        }
      ]
    },
    {
      "cell_type": "code",
      "metadata": {
        "id": "s55Dd-UqNncW",
        "colab": {
          "base_uri": "https://localhost:8080/"
        },
        "outputId": "af4b2041-575a-4abc-e687-11ee63dc9c39"
      },
      "source": [
        "import math\n",
        "math.pow(2, 16)"
      ],
      "execution_count": 120,
      "outputs": [
        {
          "output_type": "execute_result",
          "data": {
            "text/plain": [
              "65536.0"
            ]
          },
          "metadata": {
            "tags": []
          },
          "execution_count": 120
        }
      ]
    },
    {
      "cell_type": "code",
      "metadata": {
        "id": "dwE2jYo2MkaZ"
      },
      "source": [
        "tokenizer = tfds.deprecated.text.SubwordTextEncoder.build_from_corpus(data_clean, target_vocab_size=2**16)"
      ],
      "execution_count": 121,
      "outputs": []
    },
    {
      "cell_type": "code",
      "metadata": {
        "id": "CV2y2U1gOl2W",
        "colab": {
          "base_uri": "https://localhost:8080/"
        },
        "outputId": "e002d20b-a64d-4344-f7dd-ce45bddc7fe0"
      },
      "source": [
        "tokenizer.vocab_size"
      ],
      "execution_count": 122,
      "outputs": [
        {
          "output_type": "execute_result",
          "data": {
            "text/plain": [
              "14135"
            ]
          },
          "metadata": {
            "tags": []
          },
          "execution_count": 122
        }
      ]
    },
    {
      "cell_type": "code",
      "metadata": {
        "id": "FG1e9KoWOvx0",
        "colab": {
          "base_uri": "https://localhost:8080/"
        },
        "outputId": "7f429e7f-2bbb-486a-aebe-ea1b68838d74"
      },
      "source": [
        "print(tokenizer.subwords)"
      ],
      "execution_count": 123,
      "outputs": [
        {
          "output_type": "stream",
          "text": [
            "['o_', '  ', 'a_', 'e_', 'n_', 's_', 'pra_', 't_', 'd_', 'm_', 'voc_', 'q_', 'vou_', 'to_', 'j_', 'dia_', 'queria_', 'vc_', 'pq_', ' ... ', 'p_', 'nao_', 'gente_', 'est_', 'v_', 'tamb_', 'hoje_', 'ai_', 'c_', 'triste_', 'amo_', 'ta_', 'acho_', 'at_', 'ficar_', 'melhor_', 'es_', 'l_', 'pessoas_', 'ent_', 'pro_', 'vel_', ' ...', 'rio_', 'b_', 'vida_', 'f_', 'feliz_', 'tava_', 'ncia_', 'cara_', 'pessoa_', 'mt_', 'amor_', 'algu_', 'espero_', 'mim_', 'deus_', 'casa_', 'fico_', 'falar_', 'fica_', 'votar_', 'vamos_', 'tinha_', 'so_', 'coisas_', 'h_', 'come_', 'ciro_', 'pt_', 'mundo_', 'dia', 'semana_', 'ria_', 'pr_', 'gosto_', 'medo_', 'sinto_', 'noite_', 'anos_', 'hj_', 'ia_', 'fiquei_', 'ja_', 'tbm_', 'consigo_', 'ah_', 'parab_', 'eh_', 'ano_', '. ', 'pa_', 'ns_', 'mano_', 'amiga_', 'quase_', 'oi_', 'linda_', 'dio_', 'cora_', 'bolsonaro_', 'hora_', 'fa_', 'triste', 'dormir_', 'vi_', 'brasil_', 'vcs_', 'infelizmente_', 'falando_', ' .. ', 'turno_', 'pior_', 'deu_', 'ningu_', 'cabe_', 'amanh_', 'preciso_', 'elei_', 'amo', 'saudades_', 'saudade_', 'sair_', 'fiz_', 'bar_', 'haddad_', 'aula_', 'ar_', 'mim', 'cil_', 'seja_', 'merda_', 'dif_', 'dias_', 'sendo_', 'foto_', 'fala_', 'foo_', 'deixar_', 'verdade_', 'quiser_', 'poxa_', 'passar_', 'olha_', 'lindo_', 'hoje', 'fazendo_', 'estamos_', 'vontade_', 'voltar_', 'pena_', 'muita_', 'foda_', 'deixa_', 'conseguir_', 'voto_', 'realmente_', 'r_', 'desculpa_', 'amigos_', 'sentindo_', 'pol_', 'mto_', 'fam_', 'conta_', 'trabalho_', 'show_', 'outro_', 'acordei_', 'vel', 'vejo_', 'oq_', 'incr_', 'hist_', 'disse_', 'candidato_', 'alguma_', 'achei_', 'abra_', 'sonho_', 'ruim_', 'lia_', 'i_', 'fosse_', 'escola_', 'dormir', 'deo_', 'td_', 'rua_', 'pai_', 'galera_', 'comigo_', 'comer_', 'gente', 'causa_', 'anivers_', 'agr_', 'twitter_', 'tica_', 'pra', 'certo_', 'ajudar_', 'vida', 'ti_', 'tb_', 'porra_', 'perder_', 'crian_', 'caso_', 'anjo_', 'acabei_', 'sorte_', 'situa_', 'precisa_', 'ok_', 'jogo_', 'ficou_', 'dm_', 'twt_', 'tao_', 'rios_', 'real_', 'pensar_', 'passa_', 'opini_', 'nenhum_', 'mesma_', 'in_', 'chegar_', 'al_', 'vendo_', 'tiver_', 'sozinha_', 'ler_', 'la_', 'jogar_', 'chorar_', 'amor', 'amigo_', 'ajuda_', 'vdd_', 'tenha_', 'pensando_', 'odeio_', 'nen_', 'entendo_', 'algum_', 'voc', 'viraviraciro_', 'tomar_', 'sica_', 'mulher_', 'lembro_', 'legal_', 'jeito_', 'irm_', 'indo_', 'horr_', 'conversar_', 'chamar_', ' .... ', 'perdi_', 'mudar_', 'manh_', 'levar_', 'consegui_', 'acha_', 'rio', 'qu_', 'ouvir_', 'nica_', 'chama_', 'achar_', 'votos_', 'tou_', 'problema_', 'horas_', 'ganhar_', 'filme_', 'estudar_', 'esperan_', 'casa', 'aguento_', 'acordar_', 'acabou_', 'queria', 'pedir_', 'nome_', 'falou_', 'celular_', 'caralho_', 'ado_', 'acredito_', 'vota_', 'tirar_', 'tbm', 'sentir_', 'sdds_', 'outubro_', 'not_', 'mandar_', 'linda', 'inktober_', 'entendi_', 'deixou_', 'chorando_', ' ..', 'ximo_', 'vc', 'tr_', 'ssima_', 'sai_', 'rt_', 'precisar_', 'poss_', 'muitas_', 'melhores_', 'falei_', 'dor_', 'cara', 'cabelo_', 'bozo_', 'amar_', 'aaaa_', 'vergonha_', 'vamo_', 'valeu_', 'sabia_', 'rias_', 'pros_', 'objetivos_', 'nico_', 'mo_', 'melhor', 'gostaria_', 'frente_', 'fotos_', 'feliz', 'existe_', 'entender_', 'cu_', 'claro_', 'canal_', 'aulas_', 'almo_', 'voz_', 'volta_', 'tristeza_', 'resultado_', 'puta_', 'prova_', 'ol_', 'noite', 'ngm_', 'menina_', 'manda_', 'gosta_', 'educa_', 'dinheiro_', 'dando_', 'continuar_', 'colocar_', 'cio_', 'cia_', 'chega_', 'chance_', 'ate_', 'adoro_', 'x_', 'votei_', 'sabem_', 'sa_', 'presidente_', 'poderia_', 'pe_', 'parar_', 'ne_', 'morrer_', 'k_', 'igual_', 'es', 'dou_', 'dm', 'cmg_', 'certo', 'assistir_', 'vir_', 'verdade', 'veis_', 'vcs', 'turno', 'trabalhar_', 'super_', 'semana', 'rela_', 'quis_', 'postar_', 'pessoal_', 'partido_', 'oh_', 'nao', 'meninas_', 'lindo', 'kkkkk_', 'junto_', 'homem_', 'gra_', 'gostar_', 'gnt_', 'g_', 'feito_', 'feira_', 'falo_', 'entrar_', 'direito_', 'deus', 'conseguiste_', 'concretizar_', 'comprar_', 'ciro', 'am_', 'voce_', 'u_', 'timo_', 'tico_', 'tentando_', 'tendo_', 'temporada_', 'sono_', 'simplesmente_', 'sido_', 'quest_', 'passei_', 'op_', 'msm_', 'merece_', 'ltima_', 'lembrar_', 'importante_', 'ideia_', 'hj', 'hahaha_', 'gostava_', 'domingo_', 'deos_', 'conhecer_', 'conhe_', 'anjo', 'anjinho_', 'ando_', 'alguem_', 'acontecer_', 'votou_', 'vivo_', 'viver_', 'veio_', 'serio_', 'saiu_', 'respeito_', 'querendo_', 'passando_', 'passado_', 'mulheres_', 'morrendo_', 'miga_', 'marina_', 'mano', 'love_', 'li_', 'kkkk_', 'kkkk', 'kkk_', 'imagina_', 'gostei_', 'fique_', 'evento_', 'esperando_', 'digo_', 'deveria_', 'consegue_', 'carinho_', 'bts_', 'aten_', 'ana_', 'acontece_', 'vou', 'tweet_', 'to', 'tivesse_', 'tamo_', 'sozinha', 'site_', 'senti_', 'rosa_', 'resposta_', 'redes_', 'pt', 'provavelmente_', 'posta_', 'passou_', 'pais_', 'ok', 'nordeste_', 'namorado_', 'merda', 'mat_', 'infelizmente', 'im_', 'haha_', 'governo_', 'ganha_', 'frase_', 'filha_', 'fato_', 'errado_', 'elen_', 'eleitores_', 'ei_', 'discurso_', 'diferente_', 'desenho_', 'democracia_', 'comigo', 'campanha_', 'boas_', 'amiga', 'acabar_', 'viu_', 'vale_', 'time_', 'the_', 'prio_', 'penso_', 'obg_', 'melhorar_', 'matar_', 'maneira_', 'mandei_', 'mana_', 'lixo_', 'link_', 'internet_', 'gay_', 'foda', 'ficar', 'fds_', 'fc_', 'exatamente_', 'esqueci_', 'escrever_', 'eleito_', 'dps_', 'dormi_', 'ditadura_', 'discutir_', 'crise_', 'corpo_', 'continua_', 'conte_', 'coiso_', 'cil', 'cheguei_', 'brasil', 'bb_', 'bb', 'assisti_', 'app_', 'amigo', 'amigas_', 'ae_', 'adianta_', 'aconteceu_', 'acaba_', 'aaa_', 'viu', 'trabalho', 'tima_', 'tenta_', 'tempos_', 'tb', 'sorte', 'sociais_', 'sinto', 'seguir_', 'querer_', 'po_', 'pessoas', 'perfil_', 'mero_', 'mente_', 'ma_', 'ltimo_', 'leva_', 'lar_', 'juro_', 'gio_', 'forte_', 'fofa_', 'ficam_', 'facebook_', 'escolher_', 'entao_', 'deputado_', 'curso_', 'crush_', 'conseguiu_', 'chorei_', 'carro_', 'calma_', 'caiu_', 'ca_', 'brasileiro_', 'bgs_', 'apesar_', 'ano', 'amigos', 'ajudar', 'abrir_', 'you_', 'visto_', 'vim_', 'top_', 'teria_', 'tento_', 'sp_', 'sorriso_', 'sono', 'sonhei_', 'si_', 'segue_', 'sdd_', 'saudade', 'sabendo_', 'resto_', 'raiva_', 'projeto_', 'presente_', 'pqp_', 'poxa', 'pergunta_', 'pensei_', 'pensa_', 'peguei_', 'passar', 'ouvindo_', 'orgulho_', 'olhar_', 'namorada_', 'mundo', 'mudan_', 'minutos_', 'mensagem_', 'mae_', 'luta_', 'lucas_', 'lembrei_', 'lan_', 'kkk', 'jogo', 'humano_', 'funciona_', 'fascista_', 'explicar_', 'escola', 'engra_', 'durante_', 'direitos_', 'dio', 'diferen_', 'dica_', 'desgra_', 'der_', 'dei_', 'contato_', 'concordo_', 'comida_', 'comecei_', 'coisas', 'cm_', 'cidade_', 'ce_', 'cansada_', 'caf_', 'bora_', 'bado_', 'apoiar_', 'apaixonada_', 'ai', 'afinal_', 'af_', 'af', 'acordo_', 'whatsapp_', 'volta', 'viol_', 'twt', 'total_', 'til_', 'tambem_', 'sigo_', 'santos_', 'rie_', 'responder_', 'real', 'reais_', 'qualidade_', 'ps_', 'preocupa_', 'porta_', 'poca_', 'perdeu_', 'perceber_', 'pedindo_', 'paulo_', 'participar_', 'olho_', 'normal_', 'news_', 'nen', 'metade_', 'menino_', 'medo', 'mds_', 'mando_', 'madrugada_', 'livros_', 'live_', 'kkkkkk_', 'kkkkk', 'juntos_', 'jimin_', 'iti_', 'irei_', 'informa_', 'imagino_', 'foto', 'finalmente_', 'fernando_', 'feriado_', 'faculdade_', 'ex_', 'esquece_', 'especial_', 'epis_', 'dizendo_', 'diferentes_', 'desculpe_', 'decepcionada_', 'decep_', 'cuidado_', 'cu', 'coragem_', 'conversa_', 'contr_', 'chorar', 'chora_', 'cheio_', 'chegou_', 'cena_', 'candidatos_', 'cama_', 'boca_', 'beleza_', 'ba_', 'av_', 'aula', 'apoiando_', 'anos', 'amorzinho_', 'amizade_', 'amanha_', 'ama_', 'acredita_', 'achando_', 'vidas_', 'tiro_', 'tirei_', 'tio_', 'tadinho_', 'sinceramente_', 'sicas_', 'saudades', 'sala_', 'saindo_', 'rs_', 'rs', 'rosa', 'rir_', 'relaxa_', 'rede_', 'rea_', 'propostas_', 'professor_', 'presidente', 'pregui_', 'prefiro_', 'precisava_', 'precisando_', 'pq', 'porto_', 'porra', 'podemos_', 'plano_', 'pido_', 'piada_', 'pessoa', 'pesado_', 'pena', 'pedido_', 'pc_', 'pau_', 'par_', 'pagar_', 'paci_', 'opa_', 'olhos_', 'olhada_', 'mt', 'milh_', 'mentira_', 'meninos_', 'massa_', 'maravilhoso_', 'lula_', 'loja_', 'livro_', 'ler', 'jo_', 'jesus_', 'imposs_', 'humor_', 'gua_', 'gostou_', 'ganhou_', 'ganhei_', 'fundo_', 'fone_', 'fome_', 'fique', 'filho_', 'fascismo_', 'faria_', 'faltar_', 'excelente_', 'esperar_', 'entra_', 'empresa_', 'doente', 'devo_', 'descobri_', 'data_', 'dan_', 'conversar', 'conheci_', 'conhece_', 'congresso_', 'comprei_', 'cola_', 'cmg', 'certa_', 'cd_', 'cal_', 'br_', 'blico_', 'beb_', 'bater_', 'baixa_', 'atr_', 'at', 'assunto_', 'agrade_', 'acontecendo_', 'acabo_', 'aaaaaa_', 'xima_', 'vista_', 'viagem_', 'via_', 'tulo_', 'tomara_', 'tira_', 'ta', 'sozinho_', 'soubesse_', 'social_', 'simone_', 'sica', 'semanas_', 'sejam_', 'sao_', 'salvar_', 'saco_', 'ria', 'responde_', 'recomendo_', 'receber_', 'quiser', 'querido_', 'professora_', 'pria_', 'preconceito_', 'praia_', 'pouquinho_', 'post_', 'pobre_', 'pm_', 'pior', 'pesquisa_', 'pedi_', 'passe_', 'odeio', 'nulo_', 'nota_', 'ninguem_', 'natal_', 'motivos_', 'motivo_', 'morro_', 'moro_', 'monte_', 'militar_', 'migo_', 'mica_', 'mes_', 'merdas_', 'mensagens_', 'maria_', 'manh', 'ideias_', 'haddad', 'grupos_', 'gostoso_', 'gosto', 'gera_', 'gato_', 'frases_', 'ficando_', 'felicidade_', 'falar', 'experi_', 'estudando_', 'errado', 'errada_', 'encontrar_', 'elenao_', 'edi_', 'dores_', 'culpa_', 'ctz_', 'creio_', 'corrup_', 'continuo_', 'coment_', 'coisinha_', 'chocolate_', 'cheiro_', 'cheia_', 'ch_', 'cama', 'cabelo', 'bra_', 'bozo', 'bolsonaro', 'bolha_', 'blog_', 'bf_', 'apartamento_', 'aparece_', 'ansiedade_', 'amos_', 'acreditar_', 'aconteceu', 'acompanhar_', 'aceita_', 'aaaaa_', 'z_', 'votem_', 'votando_', 'votam_', 'vit_', 'vira_', 'via', 'venha_', 'vencer_', 'velho_', 'vao_', 'ultima_', 'twitter', 'tweets_', 'tt_', 'trechos_', 'totalmente_', 'torcendo_', 'tomei_', 'tico', 'ti', 'texto_', 'terra_', 'terminar_', 'teremos_', 'tela_', 'suficiente_', 'sofrendo_', 'simaria', 'significa_', 'sexo_', 'servi_', 'sensa_', 'seguran_', 'roupa_', 'rosto_', 'realidade_', 'raz_', 'rafa_', 'quiserem_', 'qnd_', 'puto_', 'prova', 'pronto_', 'professores_', 'privil_', 'principalmente_', 'possa_', 'playlist_', 'pesquisas_', 'perfeito_', 'percebi_', 'passo_', 'passagem_', 'outro', 'novamente_', 'nordestino_', 'nojo_', 'neg_', 'ne', 'ncia', 'muda_', 'mpn_', 'mostrar_', 'morte_', 'morrer', 'morar_', 'mina_', 'min_', 'miga', 'meia_', 'maravilhosa_', 'mandando_', 'man_', 'luz_', 'lista_', 'like_', 'ligar_', 'liga_', 'lendo_', 'kk', 'jogos_', 'jogando_', 'jeito', 'interesse_', 'instagram_', 'insta_', 'ingresso_', 'inferno_', 'ignor_', 'ido_', 'idade_', 'horror_', 'hor_', 'hey_', 'hein_', 'hahahaha_', 'gios_', 'gata_', 'frente', 'fingir_', 'fila_', 'ficaria_', 'fica', 'felizes_', 'federal_', 'falam_', 'fala', 'etc_', 'estranho_', 'estaria_', 'esque_', 'esp_', 'eram_', 'entrou_', 'durmo_', 'doente_', 'divulgar_', 'dispon_', 'dilma_', 'diga_', 'desenhar_', 'desculpa', 'deram_', 'deixem_', 'deixei_', 'deixaram_', 'defender_', 'culos_', 'crian', 'correr_', 'contar_', 'comunidade_', 'compra_', 'compartilhar_', 'col_', 'chuva_', 'choro_', 'chorando', 'casal_', 'capaz_', 'caos_', 'cai_', 'bonito_', 'bonita_', 'beb', 'banho_', 'bandeira_', 'bad_', 'avisa_', 'atual_', 'assistindo_', 'artigo_', 'arte_', 'arrumar_', 'argumento_', 'are_', 'aq_', 'aproveitar_', 'apagar_', 'an_', 'amea_', 'amanh', 'ajude_', 'ajuda', 'ahh_', 'acreditando_', 'aceitar_', 'aben_', ' ....', 'ya_', 'votos', 'vote_', 'votar', 'volto_', 'voltar', 'vo_', 'vive_', 'viva_', 'venham_', 'valeu', 'vaga_', 'uso_', 'usando_', 'ultimamente_', 'trocar_', 'tristeza', 'trata_', 'tranquila_', 'tra_', 'torcer_', 'toma_', 'tmb_', 'timo', 'taehyung_', 'stico_', 'stica_', 'sonhos_', 'solu_', 'soft_', 'sla_', 'simples_', 'sente_', 'senado_', 'saud_', 'saiba_', 'ruim', 'rj_', 'risco_', 'resultados_', 'resposta', 'respondeu_', 'resolve_', 'resist_', 'representa_', 'recuperar_', 'querida_', 'putz_', 'pura_', 'proposta_', 'programa_', 'profissional_', 'problemas_', 'problem_', 'primeiros_', 'preso_', 'pre_', 'prazer_', 'praticamente_', 'postei_', 'positivo_', 'plena_', 'piores_', 'personagem_', 'perguntou_', 'perguntas_', 'perdendo_', 'perde_', 'pequena_', 'pense_', 'pensamento_', 'paz_', 'paula_', 'parecer_', 'paran_', 'paix_', 'ouvir', 'ouvi_', 'ordem_', 'oportunidade_', 'onda_', 'on_', 'obs_', 'ns', 'novamente', 'nio_', 'nia_', 'nenhum', 'nene_', 'negros_', 'nego_', 'necess_', 'nadja_', 'mudei_', 'mta_', 'msm', 'moral_', 'momentos_', 'modo_', 'mesmos_', 'merecia_', 'melhoras_', 'mau_', 'marcar_', 'marca_', 'mandou_', 'lugares_', 'louca_', 'longo_', 'lol_', 'lisboa_', 'limite_', 'lidar_', 'lia', 'lgbt_', 'leve_', 'lembra_', 'legal', 'kk_', 'is_', 'inteligente_', 'inteiro_', 'ingl_', 'independente_', 'importa_', 'imaginar_', 'ignorante_', 'id_', 'hrs_', 'horrivel_', 'hitler_', 'hein', 'harry_', 'guria_', 'gr_', 'goste_', 'gostam_', 'gomes_', 'gina_', 'garota_', 'futuro_', 'ficamos_', 'felizmente_', 'felicidades', 'fav_', 'fase_', 'faltar', 'fake_', 'explica_', 'existem_', 'exist_', 'estiver_', 'estima_', 'estejam_', 'esteja_', 'estavam_', 'estarei_', 'esquerda_', 'espera_', 'espa_', 'entrega_', 'ensino_', 'enfim_', 'energia_', 'enem_', 'encontrei_', 'emprego_', 'el_', 'eita_', 'doar_', 'dms_', 'dito_', 'devia_', 'destru_', 'desespero_', 'decis_', 'day_', 'criar_', 'costas_', 'cores_', 'cor_', 'convencer_', 'consiga_', 'considera_', 'conseguindo_', 'conseguia_', 'consci_', 'comprou_', 'comer', 'comendo_', 'colegas_', 'cl_', 'cias_', 'ci_', 'chegando_', 'chama', 'celular', 'cc_', 'cb_', 'casamento_', 'cap_', 'campo_', 'caf', 'bue_', 'brasileiros_', 'branco_', 'bosta_', 'bolso_', 'bola_', 'bicho_', 'be_', 'bc_', 'basta_', 'base_', 'baixar_', 'autocarro', 'assistiu_', 'apresentar_', 'apresenta_', 'aprendi_', 'aparentemente_', 'aparecer_', 'antigo_', 'ansiosa_', 'anjinho', 'anime_', 'andar_', 'amoedo_', 'amei_', 'amava_', 'alto_', 'agradecer_', 'afazenda', 'acordar', 'yt_', 'youtube_', 'xingando_', 'we_', 'votado_', 'vontade', 'viver', 'viram_', 'vir', 'viagem', 'vergonha', 'vemos_', 'vei_', 'usamos_', 'tv_', 'trouxe_', 'treino', 'trazer_', 'trabalhar', 'todinho_', 'tocar_', 'tml_', 'ticos_', 'tenham_', 'tema_', 'telefone_', 'tattoo_', 'tantos_', 'tamanho_', 'tae_', 'surpresa_', 'sugest_', 'suficiente', 'sucesso_', 'subiu_', 'sonhar_', 'sofrendo', 'smp_', 'sito_', 'simmm_', 'shipp_', 'serem_', 'sentido_', 'senhor_', 'seja', 'seguindo_', 'sdds', 'sabia', 'ruins_', 'rolar_', 'rolando_', 'rindo_', 'rica_', 'ri_', 'resumo_', 'resultado', 'respeitar_', 'regi_', 'refer_', 'redor_', 'recebi_', 'quartas_', 'quantos_', 'quantas_', 'qm_', 'psicol_', 'provas_', 'profiss_', 'procurar_', 'procurando_', 'processo_', 'preocupada_', 'preciso', 'precisamos_', 'precioso_', 'pras_', 'poucos_', 'posto_', 'postar', 'possamos_', 'portugu_', 'portugal_', 'porqu_', 'porem_', 'podcast_', 'pets_', 'pesquisar_', 'pergunto_', 'perd_', 'per_', 'pensamentos_', 'pegou_', 'pede_', 'passada_', 'passa', 'paro_', 'parei_', 'papel_', 'outubro', 'oque_', 'oportunidades_', 'online_', 'olhem_', 'okay_', 'oficial_', 'of_', 'odeia_', 'obgd_', 'novembro_', 'notifica_', 'normal', 'nimo_', 'nima_', 'ngm', 'nd_', 'ncio_', 'musica_', 'music_', 'msg_', 'morreu_', 'morreu', 'mm_', 'mimos_', 'migo', 'mico_', 'mi_', 'mh_', 'mesma', 'merece', 'meme_', 'manha_', 'mandem_', 'mam_', 'mail_', 'lutando_', 'lo_', 'lindos_', 'lica_', 'levei_', 'levantar_', 'letra_', 'lembre_', 'lembrando_', 'lei_', 'lbum_', 'lavar_', 'kkkkkkkkk_', 'kkkkkkk', 'kkkkkk', 'justamente_', 'jungkook_', 'it_', 'iria_', 'interessante_', 'inten_', 'insegura_', 'ingressos_', 'influ_', 'inferno', 'importar_', 'imagem_', 'houve_', 'haver_', 'hahahahaha_', 'ha_', 'gravar_', 'governador_', 'good_', 'go_', 'gl_', 'garanto_', 'ganhou', 'ganhar', 'game_', 'fzr_', 'frio_', 'frequ_', 'franc_', 'forte', 'fofo_', 'fizeram_', 'fio_', 'filmes_', 'ficou', 'ficado_', 'felicidades_', 'feia', 'fdp_', 'fascista', 'farei_', 'familiares_', 'faltou_', 'ez_', 'extremamente_', 'exo_', 'existir_', 'estudo_', 'estilo_', 'estadual_', 'esperando', 'esfor_', 'escutar_', 'ep_', 'enviar_', 'eleitos_', 'eleitor_', 'ee_', 'ec_', 'dormiu', 'dormindo_', 'doce_', 'divulga_', 'dividir_', 'disse', 'diferente', 'df_', 'desistir_', 'desenhos_', 'desejo_', 'dera_', 'deixa', 'deitada_', 'defesa_', 'defendendo_', 'decidir_', 'dados_', 'daciolo_', 'curta_', 'cuida_', 'crime_', 'correndo_', 'corre_', 'considero_', 'conseguido_', 'conhecer', 'confort_', 'confira_', 'confian_', 'conferir_', 'concorda_', 'con_', 'companhia_', 'comida', 'comeback_', 'colocando_', 'coloca_', 'coitado_', 'cinema_', 'chuva', 'chefe_', 'chato_', 'chateada_', 'chamado_', 'cenas_', 'ceis_', 'carreira_', 'carol_', 'caro_', 'car_', 'capital_', 'capa_', 'campe_', 'camisa_', 'camila_', 'cachorro_', 'cabo_', 'buscar_', 'busca_', 'burra_', 'bu_', 'bravo', 'branca_', 'botar_', 'bons_', 'bonita', 'blusa_', 'bio_', 'bico_', 'bichinho_', 'bi_', 'besteira_', 'beber_', 'bandido_', 'banco_', 'bah_', 'bad', 'avi_', 'auto_', 'aulas', 'ataque_', 'ata_', 'assustada_', 'artistas_', 'army_', 'ar', 'aprender_', 'apareceu_', 'anular_', 'andr_', 'amores_', 'amizades_', 'alimenta_', 'alias_', 'alegria_', 'aleat_', 'aiii_', 'aiai_', 'ahahah_', 'ahah_', 'agr', 'afff_', 'add_', 'acho', 'achava_', 'acham_', 'acha', 'acesso_', 'abri_', ' .', 'zap_', 'ximas_', 'xico_', 'voto', 'votaram_', 'voltou_', 'voltei_', 'voces_', 'voce', 'vlw_', 'vis_', 'virtual_', 'virar_', 'vila_', 'viajar_', 'vers_', 'venho_', 'vender_', 'veis', 'vasco_', 'uso', 'unica_', 'uni_', 'unhas', 'unfollow_', 'unf_', 'udio_', 'turma_', 'tranquilo_', 'tour_', 'torna_', 'tomou_', 'tl_', 'tiverem_', 'tirou_', 'tirando_', 'tirado_', 'tinham_', 'tica', 'this_', 'thalita_', 'testa_', 'terror_', 'termos_', 'terem_', 'tempinho_', 'teclado_', 'tantas_', 'tag_', 'tadinha_', 'surtar_', 'suplicy_', 'sul_', 'stream_', 'stories_', 'ssimo_', 'spera_', 'sonho', 'sol_', 'sol', 'sofrer_', 'sociedade_', 'sobra_', 'sinal_', 'simm_', 'silva_', 'sil_', 'sico_', 'sexy_', 'setembro_', 'servir_', 'serei_', 'sentimento_', 'sentido', 'sentada_', 'sensacional_', 'sen_', 'selca_', 'segundadetremurasdv_', 'sdd', 'sangue_', 'sandy_', 'salva_', 'sabes_', 'rua', 'rola_', 'ro_', 'responsabilidade_', 'respondi_', 'respira_', 'resolvi_', 'resolver_', 'repetir_', 'rem_', 'relaxar_', 'relacionamento_', 'registrado_', 'recomenda_', 'recentemente_', 'rec_', 'realidade', 'rapaz_', 'rafael_', 'ra_', 'quina_', 'queronotvz_', 'queridos_', 'queijo_', 'quebrei_', 'quantidade_', 'qria_', 'pudesse_', 'puder_', 'psol_', 'psicologia_', 'proteger_', 'prop_', 'prometo_', 'projetos_', 'produto_', 'produ_', 'procure_', 'print_', 'primo_', 'previs_', 'preto_', 'presid_', 'presen_', 'preparado_', 'preocupado_', 'prefeito_', 'precisam_', 'precisa', 'pouquinho', 'possibilidade_', 'posicionar_', 'ponta_', 'politico_', 'politica_', 'podes_', 'poderia', 'po', 'pleno_', 'plataforma_', 'planos_', 'piorar', 'pintar_', 'piercing_', 'pfvr_', 'pfv', 'pf_', 'pessoalmente_', 'pessoal', 'pertinho_', 'pernas_', 'perguntar_', 'perdido_', 'pensar', 'pedro_', 'pediu_', 'paulista_', 'passeio_', 'partiu_', 'parou_', 'parada_', 'parabens_', 'papo_', 'palavras_', 'painho_', 'pai', 'pago_', 'padr_', 'ozinho_', 'ouviu_', 'ot_', 'or_', 'oq', 'one_', 'olhando_', 'olha', 'ofender_', 'oe_', 'odiar_', 'obras_', 'obg', 'numero_', 'notei_', 'notas_', 'norte_', 'nordestinos_', 'nois_', 'narra_', 'nariz_', 'namoral_', 'namora_', 'my_', 'mutuals_', 'mundial', 'mulher', 'movimento_', 'mouse_', 'mostrando_', 'morto_', 'morto', 'morta_', 'morre_', 'moral', 'mora_', 'mis_', 'minoria_', 'metro_', 'meros_', 'mentira', 'mds', 'mata_', 'macho_', 'lutar_', 'lu_', 'los_', 'lindinho', 'lima', 'ligo_', 'lido_', 'liberdade_', 'levando_', 'leio_', 'lego_', 'legais_', 'lbuns_', 'larry_', 'lament_', 'lados_', 'la', 'klabin_', 'kkkkkkkkkk_', 'kkkkkkkk_', 'kit_', 'kg_', 'kabum_', 'juntas_', 'jovemdoano_', 'jogar', 'jeitinho_', 'jair_', 'isa_', 'inventar_', 'internet', 'interior_', 'inteira_', 'insta', 'injusti_', 'informar_', 'indo', 'importantes_', 'imagina', 'igual', 'idiota_', 'humanos_', 'humano', 'humanidade', 'hospital_', 'hm_', 'he_', 'hard_', 'happy', 'halloween_', 'hahaha', 'haha', 'guarda_', 'governar_', 'google_', 'girl_', 'gico_', 'gica_', 'gastar_', 'garotas_', 'ganham_', 'gaga_', 'gabriel_', 'gabi_', 'fundo', 'fun_', 'fuma_', 'fuder_', 'from_', 'fracos_', 'fortes_', 'fome', 'foder_', 'focar_', 'fiquem_', 'ficha_', 'ficava_', 'ficaram_', 'feminista_', 'federal', 'fechar_', 'fechado_', 'fds', 'fb_', 'fazenda_', 'fascismo', 'fant_', 'familia_', 'falou', 'falem_', 'falei', 'fada_', 'facto_', 'facebook', 'face_', 'exceto_', 'exato_', 'exatamente', 'etc', 'estudou_', 'estuda_', 'estivesse_', 'estao_', 'est', 'espelho_', 'esfregar_', 'escrito_', 'escolha_', 'erro_', 'equipe_', 'entro_', 'entrevista_', 'entrei_', 'entregar_', 'entendeu_', 'entende_', 'enorme_', 'enfrentar_', 'enfiar_', 'encontrou_', 'encomenda_', 'empatia_', 'emo_', 'elogio_', 'elesim_', 'eleger_', 'elege_', 'economia_', 'duvido_', 'droga', 'dr_', 'dorme_', 'dor', 'domingo', 'doido_', 'doida_', 'doi_', 'doguinho_', 'doeu_', 'dnv_', 'dnv', 'dms', 'ditadura', 'distrito_', 'disseram_', 'disposta_', 'discursos_', 'discord_', 'direto_', 'diretamente_', 'direito', 'dinheiro', 'digam_', 'dificil_', 'dico_', 'dicas', 'dias', 'di_', 'deveriam_', 'desesperada', 'desejando_', 'desculpas_', 'desafio_', 'depress_', 'dep_', 'deixe_', 'dedo_', 'dedicar_', 'decidiu_', 'decepcionar_', 'debate_', 'dai_', 'cute', 'curte_', 'cuo_', 'crist_', 'cr_', 'cozinha_', 'cortar_', 'copa_', 'conversando_', 'continue_', 'contigo', 'contas_', 'conta', 'consigo', 'conseguiram_', 'conseguir', 'conosco_', 'confiar_', 'confiante_', 'concordar_', 'complicado_', 'completamente_', 'compara_', 'comi_', 'comente_', 'comentarista_', 'coloquei_', 'colar_', 'cobrar_', 'clima_', 'clientes_', 'claro', 'cigarro_', 'cia', 'chorei', 'choque_', 'chocada_', 'cheio', 'chego_', 'chega', 'chave_', 'chances_', 'chamei_', 'chame_', 'chamada_', 'cf_', 'cf', 'centro_', 'cen_', 'cear_', 'carteira_', 'cartao_', 'cart_', 'carinho', 'caras_', 'caramba_', 'caralho', 'caracter_', 'cansei_', 'can_', 'camiseta_', 'calor_', 'cala_', 'cadeira_', 'cad_', 'ca', 'bukkake_', 'bro_', 'brincando_', 'brincadeira_', 'briga_', 'brasileiros', 'boulos', 'bota_', 'bosta', 'bolsominions_', 'bolsominion_', 'bolsa_', 'boleto_', 'blz_', 'bia_', 'benfica_', 'bela_', 'bebe', 'beat_', 'bateria_', 'batendo_', 'bate_', 'banheiro_', 'bancada_', 'baita_', 'bahia_', 'bagulho_', 'azul_', 'automaticamente_', 'au_', 'atualmente_', 'atrasado_', 'atitudes_', 'atendimento_', 'assumir_', 'arrancar_', 'arma_', 'ariana_', 'areia_', 'aproveita_', 'aposto_', 'apanhar_', 'apaixonado_', 'antiga_', 'animal_', 'animais_', 'animada_', 'and_', 'amiguinhos_', 'amigar_', 'amada_', 'alves_', 'alma_', 'alem_', 'ajudando_', 'ain_', 'ahhh_', 'ah', 'aguento', 'aguardando_', 'aff_', 'ae', 'adorei_', 'ado', 'adas_', 'ada', 'acordou_', 'acontecido_', 'aceito_', 'acabaram_', 'acabar', 'acabando_', 'ac_', 'abaixo_', 'aaaah_', 'aaaaaaaaaaaaaaaaaaaa', 'aaaa', 'aa_', ' .......', ' ..... ', '  .. ', 'zona_', 'zinho_', 'ze_', 'yg_', 'y_', 'xingar_', 'ximos_', 'xenofobia_', 'xd_', 'wpp', 'wow_', 'with_', 'will_', 'w_', 'votaria_', 'voltando_', 'vivo', 'virou_', 'viraviraciro', 'vip_', 'vini_', 'vinho_', 'vil_', 'videos_', 'video_', 'vi', 'vestir_', 'vestido_', 'verde_', 'venezuela_', 'vencimento_', 'vdd', 'vas_', 'valer_', 'valentina_', 'va_', 'uva_', 'usufruir_', 'usou_', 'usava_', 'unhas_', 'troquei_', 'troca_', 'tristinha_', 'trist_', 'treta_', 'treinos_', 'transmiss_', 'tranquilo', 'trailer_', 'trabalhando_', 'trabalhando', 'trabalha_', 'tortura_', 'tomando_', 'tom_', 'toa_', 'tis_', 'tirem_', 'tinha', 'time', 'timas_', 'thread_', 'thiago_', 'theus_', 'textos_', 'testes_', 'terminei_', 'termina_', 'tentou_', 'tentem_', 'tentativa_', 'temas_', 'telem_', 'teis_', 'tcc_', 'tatuagem_', 'tapas_', 'tadinho', 'tadinha', 'surpreender_', 'superchefinhos_', 'superar_', 'story_', 'stora_', 'stor_', 'stan_', 'ss_', 'spotify_', 'sp', 'sozinho', 'solta_', 'solo_', 'solicita_', 'soft', 'sofia_', 'sof_', 'sl_', 'sites_', 'sinta_', 'simples', 'simp_', 'signo_', 'sigam_', 'siga_', 'sicos_', 'shows_', 'sexual_', 'serve_', 'seres_', 'sentindo', 'sentimentos_', 'sentar_', 'sensata_', 'senhora_', 'seguiu_', 'sede_', 'saude_', 'same_', 'salvo_', 'salvador_', 'sair', 'saio_', 'rumores_', 'rpg_', 'roubou_', 'rom_', 'rolou', 'rol_', 'rito_', 'rios', 'ries_', 'ries', 'rie', 'rias', 'rever_', 'retorno_', 'respostas_', 'respons_', 'responder', 'respondendo_', 'respeita_', 'repassar_', 'renovar_', 'renan_', 'religioso_', 'rejei_', 'regular_', 'reflex_', 'red_', 'recupera_', 'reclamar_', 'receitas_', 'recebe_', 'reais', 'rani', 'ran_', 'rainha_', 'querido', 'querer', 'quente_', 'qro_', 'qq_', 'qlqr_', 'qdo_', 'pv_', 'putrailham_', 'puro_', 'punho_', 'pude_', 'publicar_', 'ptista_', 'psl_', 'psic_', 'psdb_', 'prox_', 'propaganda_', 'produtos_', 'pro', 'princesa_', 'princesa', 'princ_', 'prima_', 'pressa_', 'press_', 'presa_', 'preparada_', 'preocupada', 'prega_', 'preferido_', 'pouqu_', 'posts_', 'poste_', 'postando_', 'post', 'posse_', 'positivas_', 'posi_', 'port_', 'porrada_', 'popula_', 'policial_', 'podias_', 'pod_', 'pobreza_', 'please', 'pizza_', 'pido', 'piadas_', 'piada', 'petista_', 'pesado', 'pesadelo', 'perna_', 'pergunta', 'perfume_', 'perfeito', 'perfeita_', 'perdoa_', 'perdidos_', 'perdemos_', 'percebo_', 'percebe_', 'pequeno_', 'pequenininho_', 'pensava_', 'pensado_', 'peito', 'pedir', 'paulo', 'patr_', 'passava_', 'passando', 'passada', 'partida_', 'participar', 'participando_', 'parem_', 'parede_', 'parecendo_', 'pare_', 'paquet_', 'palestra_', 'palco_', 'pais', 'paint_', 'pagou_', 'pagina_', 'pagam_', 'paga_', 'ow_', 'original_', 'omg_', 'om_', 'olhei_', 'olhe_', 'olhadinha_', 'ola_', 'oii_', 'ofertas_', 'oferecer_', 'ofere_', 'odio_', 'ocorrer_', 'ocorre_', 'obviamente_', 'obrigar_', 'obra_', 'nsito_', 'now_', 'novinha_', 'novidades_', 'nn_', 'nis_', 'nicos_', 'nibus_', 'neto_', 'netflix_', 'netflix', 'net_', 'nerd_', 'nenem', 'nene', 'negra_', 'nct_', 'ncias_', 'ncias', 'nazista_', 'nasci_', 'namoro_', 'namoradinho_', 'namorada', 'namjoon_', 'nacional_', 'museu_', 'mundial_', 'mudou_', 'mts_', 'mtmtmt_', 'mpada_', 'mp_', 'morena_', 'moi_', 'mito_', 'minuto_', 'minorias_', 'milhares_', 'michael_', 'mexer_', 'mexe_', 'meter_', 'met_', 'mesmas_', 'merecem_', 'mera_', 'mentiu_', 'mentalmente_', 'mensagem', 'melhora_', 'meias_', 'mc_', 'max_', 'maturidade_', 'material_', 'matem_', 'marketing_', 'mariana_', 'mari', 'maravilhoso', 'maravilha_', 'mara_', 'mara', 'mao_', 'manter_', 'mang_', 'mandar', 'mana', 'mala_', 'mala', 'magro_', 'magrinho_', 'machistas_', 'luz', 'ltimas_', 'longa', 'livre_', 'livre', 'lista', 'lindas', 'lind_', 'limpa_', 'ligaram_', 'liga', 'lida_', 'libera_', 'lgbt', 'levas_', 'leva', 'let_', 'leia_', 'le_', 'las_', 'larga_', 'lady_', 'kkkkkkkkkkkkkkkkkkkk', 'kkkkkkkkkkkk_', 'kkkkkkk_', 'kassandra_', 'justo_', 'junto', 'jovem_', 'jornalismo_', 'joguei_', 'jogamos_', 'jogador_', 'joelho_', 'joe_', 'joao_', 'jin_', 'jimin', 'jikook_', 'ji_', 'jantar_', 'janeiro_', 'jamais_', 'iz_', 'irmao_', 'irm', 'iphone_', 'interna_', 'interessar_', 'inteiro', 'inscrever_', 'inocente_', 'inktober', 'inimigo_', 'indeciso_', 'inc_', 'imudou_', 'imprensa_', 'impedir_', 'impeachment_', 'imenso_', 'imbecil_', 'imaginando_', 'ignorar_', 'ignorantes_', 'ig_', 'ido', 'ideia', 'ibope_', 'ia', 'hyunjin_', 'house_', 'hoseok_', 'hora', 'honra_', 'homof_', 'hmm_', 'hip_', 'hino_', 'hetero_', 'hero_', 'hehehe_', 'hehehe', 'hehe', 'hahahahahaha_', 'hadad_', 'guerra_', 'grossa_', 'gritar_', 'grita_', 'gripe_', 'greve_', 'grava_', 'grata_', 'gostando_', 'gordinho_', 'god_', 'glr_', 'globo_', 'gio', 'geografia_', 'gentil', 'general_', 'gcf_', 'gays_', 'gatos_', 'garganta_', 'garantir_', 'ganhado_', 'galera', 'gado_', 'futuro', 'futebol_', 'funcionar_', 'fumar_', 'fudida_', 'fuck_', 'ft_', 'frita_', 'frio', 'fraca_', 'fr_', 'fotos', 'formatura_', 'formar_', 'fone', 'fofo', 'fodida_', 'fodida', 'foco_', 'foca_', 'fisicamente_', 'fiquei', 'fins_', 'filhos_', 'fifa_', 'festa_', 'ferro_', 'feriado', 'felicidade', 'feita_', 'feia_', 'febre_', 'fe', 'fbd_', 'favorita_', 'favela_', 'fatos_', 'fardo_', 'far_', 'faltava_', 'faltam_', 'falava_', 'falaram_', 'facil_', 'faca_', 'extremos_', 'evitar_', 'estudei_', 'estranha_', 'estaremos_', 'estados_', 'esqueceu_', 'esquecer_', 'espero', 'especialista_', 'escuto_', 'escura_', 'escrevi_', 'escrever', 'escolheu_', 'escolha', 'escolar_', 'entristece_', 'entrar', 'entendo', 'entender', 'ensinou_', 'ensina_', 'ensaio_', 'enfia_', 'encontro_', 'encher_', 'emoji_', 'emocional_', 'email_', 'emagreci_', 'elenunca', 'eleitos', 'eleitoral_', 'eleita_', 'elegeu_', 'ein_', 'ego_', 'econ_', 'ece_', 'eae_', 'dublar_', 'droga_', 'drama_', 'dono_', 'doendo_', 'dizia_', 'diva_', 'disposi_', 'direitinho_', 'dios_', 'diminuir_', 'diferentes', 'dicas_', 'dialogar_', 'diabo_', 'diaaaa', 'diaaa_', 'diaa_', 'devido_', 'deu', 'desnecess_', 'desligar_', 'desisti_', 'desesperada_', 'desejar_', 'desculpar_', 'descobrir_', 'descobrir', 'descer_', 'desabafar_', 'desabafar', 'deputados_', 'depende_', 'depende', 'deo', 'democracia', 'democr_', 'delicia_', 'deixo_', 'deixar', 'deixando_', 'deitar_', 'deem_', 'declara_', 'decepcionada', 'dava_', 'dark_', 'daria_', 'dani_', 'custo_', 'curto_', 'curtiu_', 'curtir_', 'curtindo_', 'curiosa_', 'culpada_', 'culpa', 'culo_', 'cuidar_', 'cuba_', 'ctg_', 'ctg', 'crush', 'criatividade_', 'cortei_', 'correios_', 'copo_', 'convite_', 'conversas_', 'continuam_', 'contigo_', 'conter_', 'contam_', 'constitui_', 'consequ_', 'consciente_', 'conhecimento', 'conhece', 'confesso_', 'confere_', 'cone_', 'condi_', 'concurso_', 'conclus_', 'comum_', 'compartilho_', 'compartilhando_', 'comparar_', 'comentar_', 'comemorando_', 'combina_', 'colocado_', 'cole_', 'coiso', 'coisinhas_', 'cobra_', 'co_', 'cnsg_', 'clicar_', 'clica_', 'claramente_', 'cirinho', 'cios_', 'cidad_', 'chico_', 'chegou', 'chegam_', 'chaves_', 'chato', 'chata_', 'chamar', 'chamam_', 'cfa', 'certinho_', 'certas_', 'certa', 'central_', 'ceis', 'categoria_', 'cat_', 'casos_', 'casaco_', 'carros_', 'caro', 'carinha_', 'caraca_', 'capazes_', 'canto_', 'cansa_', 'candidatas_', 'cancela_', 'campos_', 'cam_', 'cair_', 'cagando_', 'cadeiras_', 'cachorrinha_', 'cachorra_', 'cacete_', 'cabelinho_', 'bvio_', 'but_', 'bus_', 'burro_', 'bullying_', 'bruna_', 'bruna', 'brother_', 'brigar_', 'brigada_', 'brasileira_', 'bras_', 'bozonaro', 'boulos_', 'bonito', 'bola', 'boca', 'bobo_', 'bo_', 'blue_', 'block_', 'blica_', 'bjs_', 'bjs', 'biologia_', 'bichinho', 'biblioteca_', 'belo_', 'beline_', 'bel_', 'beijos', 'beijo_', 'bebi_', 'beber', 'bebe_', 'bea_', 'bd_', 'bateu_', 'batalha_', 'basicamente_', 'baseada_', 'baixas_', 'baixa', 'bagun_', 'bado', 'bada_', 'bacana_', 'baby_', 'azar_', 'aviso_', 'avisar_', 'aumentar_', 'atualiza_', 'att_', 'atoa_', 'ato_', 'atividade_', 'ataca_', 'assuntos_', 'assunto', 'arruma_', 'arrepender_', 'arranjar_', 'arm_', 'aram_', 'aqu_', 'aproveitem_', 'aparecida_', 'apaixonei_', 'ap_', 'antipetismo_', 'antigos_', 'antigamente_', 'anti_', 'ansiosa', 'anna_', 'aniver_', 'anime', 'animar_', 'angustiada_', 'andre_', 'andando_', 'anda_', 'ana', 'amorzinho', 'amiguinho_', 'amigas', 'amg_', 'amentos_', 'amavam', 'amaria_', 'amam_', 'alunos_', 'aluno_', 'alta_', 'alguma', 'algum', 'alex_', 'alegria', 'aki_', 'ahaha_', 'aguentar_', 'aguardar_', 'aguardamos_', 'agress_', 'afundou_', 'afim_', 'adotar_', 'adoro', 'adorava_', 'adinha_', 'adiantar_', 'ada_', 'acredito', 'acordada_', 'acorda_', 'aconteceram_', 'acontecer', 'acompanhando_', 'acompanham_', 'acima_', 'achou_', 'acaso_', 'academia_', 'acabou', 'acabando', 'acabado_', 'abuso_', 'absurdo', 'abstin_', 'abre_', 'ab_', 'aaaaaaaaa_', 'aaaaaa', 'aaa', '... ', '  .... ', '  ... ', 'zoar_', 'zoada_', 'zoa_', 'zen_', 'yasmin_', 'xuxu_', 'xuxu', 'xixi_', 'xingo_', 'ximo', 'xima', 'xica_', 'xbox_', 'wwe_', 'wtf_', 'wow', 'woe', 'white_', 'whats_', 'whats', 'what_', 'wesley_', 'wendy_', 'wars_', 'wannable_', 'wanessa_', 'vult_', 'vulneraveis_', 'vulgo_', 'vsf', 'vs_', 'votarem_', 'vota', 'voo_', 'volte_', 'voltaria_', 'voltamos_', 'voltado_', 'voces', 'voa_', 'vo', 'vizinhos_', 'vizinhan_', 'vizinha_', 'vivi_', 'viva', 'visto', 'visitar_', 'visita_', 'viscolycra_', 'virgem_', 'virem_', 'viramos_', 'virada_', 'violencia_', 'views_', 'vier_', 'video', 'viajar', 'viaja_', 'viagens_', 'vestibular', 'vermelho_', 'verificar_', 'veremos_', 'venezuela', 'vendas_', 'venceu', 'vencer', 'vencendo_', 'vence_', 'velha_', 'velha', 'vejam_', 'veio', 'vei', 'varios_', 'varias_', 'vamo', 'valoriza_', 'valendo_', 'vale', 'valad_', 'vagas_', 'uuuu_', 'usu_', 'usarem_', 'usados_', 'usado_', 'us_', 'urnas_', 'urnas', 'urgente_', 'urg_', 'update_', 'upar_', 'up_', 'universo_', 'unir_', 'unico_', 'ummm_', 'umathumbumdesenho_', 'ultimo_', 'uerj_', 'uber_', 'uai', 'tweets', 'tutorial_', 'turismo_', 'tupperware_', 'tudor_', 'ts_', 'trump', 'troco_', 'trocar', 'tristinha', 'tristi', 'tristes_', 'trilhas_', 'trilha_', 'tri_', 'trevas_', 'tremendo_', 'treino_', 'treinar_', 'tre_', 'trazendo_', 'traz_', 'trava', 'tratamento_', 'tratam_', 'trat_', 'trans_', 'trampo_', 'trampar_', 'trampa_', 'trabalhistas_', 'trabajar_', 'tpm_', 'tosse_', 'torras_', 'tornei_', 'torcida_', 'tor_', 'topar_', 'tonta_', 'tona_', 'toler_', 'tnh_', 'tmj', 'tmb', 'tlgd', 'titi_', 'tire_', 'times_', 'timeline_', 'tian_', 'tia_', 'thumbs_', 'thresh_', 'thom_', 'they_', 'that_', 'thanks', 'thais_', 'th_', 'tero_', 'termo_', 'termino_', 'terminando_', 'teres_', 'terei_', 'tento', 'tenso_', 'tenhas_', 'tende_', 'tend_', 'tena_', 'tempos', 'temp_', 'televis_', 'telegram_', 'tecidos_', 'tec_', 'tds_', 'taxa_', 'taxa', 'tavam_', 'tatuagem', 'tas_', 'tar_', 'tapa_', 'tampa_', 'tambem', 'tals_', 'talking_', 'talento_', 'take_', 'taekook_', 'sz', 'suti_', 'susto_', 'sushi_', 'suscet_', 'suposto_', 'suporte_', 'suplicy', 'superei_', 'superado_', 'supera_', 'sunshine_', 'sun_', 'sumir', 'sumi_', 'sulista_', 'sul', 'sujando_', 'suic_', 'sugar_', 'sugar', 'suco_', 'sucesso', 'subs_', 'subcategoria_', 'sub_', 'suave_', 'su_', 'stremar_', 'storie_', 'stores_', 'star_', 'sta_', 'ssimo', 'sql_', 'speedpaint_', 'sousa_', 'sorteio_', 'sorry_', 'sorriso', 'sorrir_', 'sorrindo_', 'sorridente_', 'sophia_', 'soo', 'sonoras_', 'sonora_', 'sonhos', 'sombrios', 'sombra_', 'soltar_', 'sogra_', 'sofro_', 'sofri_', 'sofra_', 'socorro', 'soco_', 'socialista_', 'social', 'socar_', 'sobs', 'sobreviver_', 'sobra', 'snow_', 'snap_', 'smings_', 'size_', 'singular_', 'sinceramente', 'simpatizar_', 'sima_', 'silencio_', 'siiim', 'significado_', 'significa', 'shit_', 'shippo_', 'set_', 'sess_', 'sesc_', 'serzinho_', 'servir', 'servimos_', 'serigala', 'serasi_', 'serase_', 'sera_', 'separadas_', 'seokjin_', 'sentiu_', 'sentisse_', 'sentirem_', 'sentirei_', 'sentir', 'sentimento', 'sentia_', 'senta_', 'sensata', 'senhorzinho_', 'send_', 'senador_', 'semestre_', 'selos_', 'seguros', 'segurar_', 'segurando_', 'segundosol', 'seguinte_', 'seguiii', 'seguidores_', 'seguem_', 'segue', 'seg_', 'secreto_', 'secretaria_', 'secar_', 'seca_', 'season', 'scara_', 'says_', 'savescorpion', 'sapato_', 'sangrar_', 'sangrando', 'san_', 'sames_', 'salvou_', 'salvar', 'salvando_', 'salto_', 'salnorabo_', 'salgado_', 'salada_', 'sal_', 'sakura_', 'saiu', 'saia_', 'sad', 'sacanagem_', 'sabor_', 'sabes', 'sabendo', 'sabemos_', 'sabem', 'sabado_', 'sa', 'russo_', 'run_', 'rumo_', 'ruinzinho_', 'roupinha_', 'roupas_', 'rouanet_', 'rotina_', 'rosana_', 'rond_', 'ronaldo_', 'roger_', 'rm_', 'riverdale_', 'rito', 'risada_', 'rid_', 'rico_', 'rick', 'ribeiro_', 'rgula_', 'rezando_', 'revolu_', 'retrocesso_', 'retiraram_', 'resto', 'ressaca_', 'respostas', 'respondo_', 'respondeu', 'respirar_', 'respeite_', 'resolveu_', 'resolve', 'resolu_', 'resgatei_', 'representatividade_', 'renova_', 'relativizar_', 'relaterar', 'relacionadas_', 'rel_', 'registrar_', 'regido_', 'ref_', 'reemiss_', 'reeleito_', 'reeleger_', 'reda_', 'recuar_', 'reconhecer', 'reclamar', 'reclamando_', 'reclama_', 'recheio_', 'receita_', 'recebido', 'recebeu_', 'recadinho_', 'realizado_', 'rave_', 'rasguei_', 'rapido_', 'ramos_', 'ram_', 'rafinha_', 'radiante_', 'racistas_', 'rabo_', 'quiserem', 'quis', 'questionamento_', 'questao_', 'quesito_', 'queris_', 'queres_', 'queremos_', 'quentes_', 'queira_', 'queda_', 'quebrou_', 'quebrou', 'quebrar_', 'quase', 'quanta_', 'qualidade', 'quadro_', 'quadrinhos_', 'qnto_', 'qe_', 'puxou_', 'puxo_', 'puts_', 'putindesaias_', 'putassa_', 'punk_', 'puni_', 'pular_', 'pubg_', 'puberdade_', 'ptnao_', 'psiquiatra_', 'provocar_', 'provoca_', 'provinha_', 'provaram_', 'provar_', 'provar', 'prov_', 'proteja_', 'prote_', 'proporciona_', 'pronto', 'prontinho', 'pronta_', 'promessa_', 'prol_', 'progresso_', 'progressiva_', 'professor', 'prof_', 'produtores_', 'produtiva_', 'procuramos_', 'procura_', 'proco_', 'proc_', 'privado_', 'pris_', 'prios_', 'primeiramente_', 'pride_', 'prestando_', 'presente', 'preparar_', 'preocupar_', 'preocupante_', 'preocupado', 'prejudicar_', 'preferem_', 'prefeitura_', 'precisou_', 'precisei_', 'precise_', 'precisar', 'precisando', 'preciosa_', 'prazer', 'prato_', 'praticar_', 'pqp', 'pqeq_', 'pprt', 'poucas_', 'potinho_', 'postou_', 'posto', 'possibilidades_', 'porto', 'porte_', 'portal_', 'porraaaa_', 'porquinho_', 'porq_', 'porno', 'porn_', 'pool_', 'politicas_', 'podiam_', 'poche_', 'poc_', 'pobres_', 'pobre', 'plus_', 'pl_', 'pizza', 'pitbull_', 'pipoca_', 'pios_', 'piorar_', 'pinto_', 'pintada_', 'pinta_', 'pimenta_', 'pijama_', 'piedade', 'pida_', 'philippe_', 'ph_', 'pfvr', 'pfv_', 'peter_', 'pessoais_', 'pesquisa', 'peso_', 'pesadelos', 'pesadelo_', 'pesada_', 'personalidade_', 'personal_', 'pernambuco_', 'permuta_', 'permanecem_', 'perguntei_', 'perguntando_', 'pequenos_', 'pensem_', 'pensamento', 'pensam_', 'pelotuda', 'pel_', 'pegou', 'pego_', 'pegarem_', 'pegam_', 'pega_', 'pedra_', 'pedimos_', 'peck_', 'pecado_', 'pe', 'pcas_', 'paz', 'pauta_', 'pat_', 'pasta_', 'passou', 'passear_', 'passe', 'passaram_', 'passamos_', 'passam_', 'passadinha_', 'pas_', 'partilha_', 'particular_', 'participe_', 'participando', 'particip_', 'parti_', 'partes_', 'parlamentares_', 'parentes_', 'parei', 'parecido_', 'parceria_', 'parceiro_', 'paraquedas_', 'parabens', 'papo', 'pao_', 'pano_', 'palha_', 'palavra_', 'pala_', 'paia', 'pagar', 'pagando_', 'pagamento_', 'paes_', 'ozinho', 'oxentesam_', 'ovo_', 'out_', 'ouro_', 'ouro', 'otimista_', 'ot', 'ossos_', 'osso', 'orienta_', 'orgulho', 'organizar_', 'oral_', 'opressor_', 'oposi_', 'opinar', 'ooo_', 'oo', 'omiss_', 'olharam_', 'olhadinha', 'olhada', 'olaa_', 'oie_', 'oi', 'oftalmologista_', 'off_', 'oes_', 'odo_', 'ocupada_', 'ocorreu_', 'oc_', 'obviamente', 'obrigados_', 'obrigadaa', 'obriga_', 'objetivo_', 'nus_', 'nu_', 'ntica_', 'nosegundoturno', 'normalmente_', 'nomes', 'nome', 'nojentos_', 'noitee_', 'noia_', 'nogueira_', 'nicole_', 'nicolas_', 'nicas_', 'nibus', 'nho', 'nguas_', 'ngc_', 'neutro_', 'neta', 'nervosa_', 'nervosa', 'nerdcast_', 'nenis_', 'nenens_', 'neide_', 'nei_', 'negras_', 'negativa_', 'necessidades_', 'necessidade_', 'necesito_', 'ndice_', 'ndia_', 'ndia', 'ncipe_', 'naum_', 'natural_', 'nata_', 'naruto_', 'naoo', 'namorar_', 'namorando_', 'namorado', 'namjoonamacarangueji', 'namjin_', 'nadja', 'nadie_', 'musicas_', 'muitissimo_', 'muitao_', 'muit_', 'mude_', 'mudas_', 'mudar', 'mudam_', 'mtt_', 'mto', 'mozi_', 'mozao_', 'moz_', 'mour_', 'motorista_', 'motivado_', 'mostrou_', 'mortes_', 'morte', 'morri', 'morrerem_', 'morreram_', 'morra', 'mor', 'monteiro_', 'montar_', 'monstro_', 'monitor_', 'moment_', 'modelos_', 'modelo_', 'mochila_', 'mo', 'mlk_', 'mistura_', 'miranda_', 'minutos', 'mini_', 'minecraft_', 'minas_', 'mimos', 'mimimi', 'mimar_', 'milhoes_', 'milagre_', 'miguel_', 'migs_', 'mica', 'miami_', 'mi', 'mexo', 'metr_', 'meto_', 'metadinha', 'mestre_', 'mesa_', 'mes', 'merecia', 'mercado_', 'mera', 'meos_', 'mentindo_', 'meninos', 'meninas', 'menina', 'memory_', 'memo_', 'memes_', 'memes', 'meme', 'membros_', 'membro_', 'mem_', 'melhorou_', 'melhores', 'melhoras', 'melhoraram_', 'melhorar', 'mega_', 'medidas_', 'medida_', 'medico_', 'media_', 'mdb_', 'md_', 'maximo_', 'matthew_', 'mateus_', 'matei_', 'matasse', 'massagem_', 'mascara_', 'marvel_', 'marte', 'marque_', 'mark_', 'marinha_', 'marido_', 'mariananolasco', 'mari_', 'marcou_', 'marcas_', 'marcar', 'maravilhosas_', 'maraca_', 'mapa_', 'manuten_', 'mant_', 'manga_', 'maneira', 'mandaram_', 'manchester_', 'manchas_', 'mamilos_', 'mama', 'maluco_', 'maltratar_', 'malia_', 'maldade', 'malcheiroso_', 'maisa_', 'maio_', 'mago_', 'magali_', 'mae', 'madruga_', 'maconha_', 'machucar_', 'machucado', 'machuca_', 'macarr_', 'macac_', 'ly_', 'lutas_', 'lutar', 'lulinha_', 'lula', 'luiz_', 'luan', 'lua_', 'lu', 'ltimos_', 'loucura_', 'louco_', 'lopes_', 'look_', 'lives_', 'live', 'liuz_', 'literalmente_', 'liter_', 'lio_', 'link', 'linha_', 'line_', 'limpar_', 'limpa', 'liguei_', 'ligou_', 'ligo', 'light_', 'ligar', 'ligam_', 'ligados_', 'ligada_', 'liceu_', 'licenciatura_', 'liberal_', 'liberado_', 'lgbts_', 'levaram_', 'levantar', 'leu_', 'leo_', 'leo', 'lembrava_', 'lembrar', 'leitura_', 'leitura', 'leiam_', 'legendas_', 'legalizar_', 'leg_', 'leal_', 'lcool_', 'lava_', 'latada_', 'lata_', 'larissa_', 'lanzamientoassassins', 'lanche', 'lance_', 'ladr_', 'lados', 'ksksksksks', 'kroos_', 'kpop_', 'knk_', 'kkkkkkkkkkkkk_', 'kkkkkkkkk', 'kim_', 'kids_', 'kd_', 'karol_', 'karina_', 'kard_', 'justificar_', 'jurava_', 'juntos', 'juntar_', 'jungwoo_', 'jungoo_', 'julho_', 'julgada_', 'judia_', 'juc_', 'juan_', 'ju_', 'jr_', 'joy_', 'jos_', 'jogavam_', 'jogado_', 'joel_', 'jobs_', 'job_', 'jk_', 'jk', 'jiminourserendipityd', 'jeongguk_', 'jeon', 'jennie_', 'jean_', 'jato_', 'jaque_', 'japon_', 'japa_', 'jaja_', 'jaguar_', 'iza_', 'italo_', 'itaboray_', 'it', 'irritar_', 'irritado_', 'inveja_', 'inv_', 'interven_', 'intervalo', 'interpreta_', 'interno_', 'internacional', 'interesse', 'interessado_', 'intera_', 'intenso', 'inteligentes_', 'inteligente', 'intelig_', 'insultou_', 'instante', 'instalar_', 'inst_', 'inspira_', 'insights_', 'insensatez_', 'inseguran_', 'inscritos_', 'inscri_', 'inomin_', 'iniciou_', 'iniciativa_', 'inicial_', 'ing_', 'influencia_', 'infeliz_', 'inf_', 'indispon_', 'indireta_', 'indignada_', 'indigna_', 'indico_', 'indica_', 'incriveis_', 'incontrol_', 'incomodo_', 'incomodar_', 'incluir_', 'incentivo_', 'inacredit_', 'imunidade_', 'impress_', 'impostos_', 'importantes', 'importam_', 'importa', 'import_', 'imploro_', 'impacto_', 'imaturo_', 'imagens_', 'imagem', 'ilus_', 'if_', 'idiotas_', 'idiota', 'identificar_', 'ideal_', 'ideais_', 'idade', 'icons_', 'ico_', 'ichbin_', 'ias_', 'hyejoo_', 'hwarang_', 'humana_', 'hs_', 'hr_', 'hospital', 'hoshi_', 'horrivel', 'horinha_', 'honestamente_', 'homofobicos_', 'homens_', 'homenagem_', 'hola_', 'hobi_', 'hihi', 'high_', 'helena_', 'hehe_', 'header_', 'hd_', 'hays_', 'havia_', 'have_', 'hate_', 'harry', 'haja_', 'hahahahahahahaha_', 'hahahahahah', 'hahahahah_', 'hahah', 'haddadpresidente', 'hackfest_', 'habita_', 'guilherme_', 'guia_', 'gui_', 'guarde_', 'gua', 'gritos_', 'gritando_', 'grimes_', 'gremio_', 'grega_', 'greg_', 'gravo_', 'grau_', 'gratuita_', 'grana_', 'governam_', 'governadora_', 'governador', 'gostosinho_', 'gostosa_', 'gostem', 'gostei', 'goste', 'gostas_', 'gols_', 'golpe_', 'gokabum_', 'goas_', 'gnt', 'global_', 'glad_', 'github_', 'giro_', 'giraa_', 'gira', 'gif_', 'gico', 'gg_', 'gest_', 'gerar_', 'gemas', 'gelo_', 'gelo', 'gb_', 'gays', 'gatinho_', 'gatinha_', 'gata', 'gat_', 'gasto_', 'gastei_', 'garrafas_', 'garra_', 'garoto', 'garagem_', 'gar_', 'ganhe', 'ganharam_', 'ganhando_', 'ganha', 'gang_', 'ganda_', 'ganda', 'ganas_', 'games_', 'galham', 'galerinha_', 'gal_', 'gado', 'gabs_', 'furar_', 'funk_', 'fundamental_', 'funcionar', 'funcion_', 'fumo', 'fumar', 'full_', 'fujo_', 'fudido_', 'fuder', 'fruto_', 'frustrante_', 'frustrada_', 'friends', 'frete_', 'free_', 'fred_', 'fraude_', 'franquia_', 'francisco_', 'fran_', 'fracasso_', 'fox_', 'fotinho_', 'fotinha', 'fossem_', 'fortaleza_', 'forno_', 'formigueiro_', 'formando_', 'forem_', 'fonte_', 'fones', 'foguinho_', 'fogo_', 'fofura_', 'fofinho', 'fofinhas_', 'fofinha_', 'fofi', 'fodendo_', 'foco', 'fo_', 'floripa_', 'floresta_', 'flor_', 'fl_', 'fizer_', 'fizemos_', 'fiz', 'fixe_', 'fixado', 'firme_', 'fingindo_', 'finge_', 'finalizar_', 'fina_', 'filhote_', 'filho', 'figura_', 'fighting', 'ficos_', 'ficatemer_', 'ficarem_', 'fic_', 'ff_', 'fetal', 'feriad_', 'fere_', 'feminismo_', 'felix_', 'felipe_', 'feito', 'feio', 'feij_', 'feedback_', 'feed_', 'feea_', 'fed_', 'fechei_', 'fechada_', 'feat_', 'fdl_', 'fc', 'fazendo', 'favs_', 'favoritos_', 'favorito_', 'favorita', 'fan_', 'famosa_', 'fama_', 'faltei_', 'faltado_', 'falso_', 'falo', 'faleconosco', 'fale_', 'falasse_', 'falando', 'falamos_', 'falamos', 'fake', 'faculdade', 'facul_', 'facista_', 'facilmente_', 'facilidade_', 'eymael_', 'ey_', 'expressar_', 'exposi_', 'exponho_', 'expondo_', 'explodir_', 'explodindo_', 'expliquei_', 'existo', 'existe', 'exerc_', 'exemple', 'excluir_', 'exclui_', 'exato', 'euros_', 'europa_', 'eternos_', 'et_', 'estudos_', 'estude_', 'estudar', 'estudam_', 'estrutura_', 'estressar_', 'estressado_', 'estrelas_', 'estreia_', 'estrago', 'estomago_', 'ester_', 'esteja', 'estat_', 'estando_', 'estande_', 'estampado_', 'estamos', 'estagi_', 'esquerdo_', 'esqueceu', 'esposa_', 'espinhas_', 'espetacular_', 'esperar', 'esperamos_', 'esperado_', 'espera', 'espanhol_', 'espanhol', 'esgotam_', 'escutem_', 'escrota_', 'escrevendo_', 'escorpi_', 'esconder_', 'escolhi_', 'escolher', 'escolhe_', 'escolas_', 'escolaridade_', 'escapar_', 'errou_', 'erros_', 'erro', 'errei_', 'errei', 'errada', 'eras_', 'equipamento_', 'eq_', 'envio_', 'enviei_', 'entristece', 'entreter_', 'entretanto_', 'entrenada', 'entregue_', 'entrando_', 'entrada_', 'entendi', 'entende', 'entenda_', 'entao', 'entanto_', 'ensinar_', 'ensinamento_', 'enrolando_', 'engano_', 'enfrente_', 'energias_', 'energias', 'energ_', 'enem', 'encontre_', 'encheram_', 'encaixa_', 'en_', 'empresas_', 'empolgada_', 'empate_', 'emba_', 'emagre_', 'elogios_', 'elite_', 'elenao', 'eleito', 'eleitas_', 'elegido_', 'elegemos_', 'eis_', 'eficiente_', 'efeito_', 'eeee_', 'ee', 'edu_', 'edc_', 'edb_', 'economia', 'ecc', 'eba_', 'eai_', 'dvd_', 'duvido', 'duvidas_', 'dura_', 'duma_', 'duarte_', 'drogaaa', 'dq_', 'doug_', 'dormiu_', 'dormindo', 'dormi', 'dorme', 'doq_', 'dona_', 'dom_', 'dolorido', 'dog_', 'doentinha', 'doendo', 'dizendo', 'divulgado_', 'dividido_', 'divertir_', 'divertido_', 'divertido', 'diversos_', 'diversas_', 'dist_', 'disfar_', 'discuss_', 'discordar_', 'discografia_', 'disciplina_', 'directioners_', 'direction_', 'direct_', 'dire_', 'digitar_', 'dieta_', 'didi', 'dico', 'dica', 'dfm_', 'devolve_', 'devias_', 'deviam_', 'deveria', 'dever_', 'detesto_', 'detective_', 'detalhes_', 'dest_', 'desolada_', 'desliguei_', 'desiste_', 'desgosto_', 'desespero', 'desesperan_', 'desesperados_', 'desenvolver_', 'desejos_', 'desejem_', 'desejamos_', 'deseja_', 'desculpem_', 'desconforto_', 'desconfort_', 'descobre_', 'descaso_', 'desativei_', 'desacreditada', 'desacelere_', 'derrota_', 'derrota', 'deputadas_', 'depre_', 'dependendo_', 'dentre_', 'dentista_', 'dentinhos_', 'dentes_', 'dental_', 'dengo_', 'demorar_', 'demonstrar_', 'demonio_', 'demitido_', 'demi_', 'demasiado_', 'del_', 'deixam_', 'deixado_', 'deitei_', 'deitadinha_', 'defende_', 'decidi_', 'decepcionado_', 'decepcionad_', 'debater_', 'dead_', 'dd_', 'dcc_', 'dc_', 'daryl_', 'darem_', 'daniel_', 'daniel', 'dado_', 'custar', 'curto', 'curtia_', 'curti_', 'curr_', 'curitiba', 'curious_', 'curiosidade_', 'cupons_', 'cupom_', 'cuo', 'cumprimentar_', 'cultura_', 'cultura', 'culpar_', 'culos', 'culo', 'cuidar', 'cs_', 'cruzar_', 'cruel_', 'cruel', 'cronograma_', 'critico_', 'criticar_', 'criou_', 'criei_', 'criadora_', 'criado_', 'criadas_', 'criada_', 'crescer_', 'cren_', 'credito_', 'credibilidade_', 'cpf_', 'cozinhar_', 'costumo_', 'corto_', 'corte_', 'cortada_', 'corrupto_', 'corro_', 'correla_', 'corpo', 'coroa_', 'coreia_', 'corda_', 'coracao_', 'convivo', 'convic_', 'controle_', 'control_', 'contrato_', 'contrata_', 'contras_', 'contou_', 'continuem_', 'continuar', 'contexto', 'contar', 'contando_', 'contagem_', 'contado', 'consulta_', 'construir_', 'consolo_', 'considerei_', 'considerar_', 'conservador_', 'conselhos_', 'conseguiria_', 'conseguiram', 'conseguem_', 'consciente', 'conquistar_', 'coninhas_', 'conhecidos_', 'conhecia_', 'conhecemos_', 'congresso', 'conflito_', 'confirmar_', 'configurado_', 'confiando_', 'cone', 'concordo', 'concerto_', 'concentra_', 'conceitos_', 'comunista_', 'comunismo_', 'comunica_', 'comuna_', 'computador_', 'compro_', 'comprinhas_', 'compreendo_', 'compra', 'composto_', 'complicada_', 'completo_', 'completo', 'competente_', 'compartilhem_', 'comi', 'comete_', 'comentando_', 'comemora_', 'comece_', 'come', 'combater_', 'comassim_', 'com_', 'colocou_', 'colocasse_', 'colocada_', 'colo_', 'colinha_', 'coliga_', 'colega_', 'coitada_', 'coitada', 'coimbra_', 'cof_', 'coerentes_', 'coca_', 'cobertor_', 'cnvs_', 'cntg_', 'cntg', 'clube_', 'club_', 'clc_', 'classe_', 'clara_', 'cita_', 'cir_', 'cilada_', 'cidades_', 'cidade', 'ciclos_', 'chris_', 'chove_', 'chove', 'chorou_', 'chore_', 'chora', 'chique_', 'cheiroso_', 'cheirosa_', 'chegue_', 'chegando', 'chegamos_', 'chatos_', 'chatinho_', 'chatear_', 'chatear', 'chateada', 'chance', 'chamou', 'chamando_', 'chacara_', 'ceu_', 'ces_', 'cerveja_', 'certinho', 'cereal_', 'censura_', 'cell_', 'cel', 'ce', 'cdb_', 'cce', 'ccb_', 'causas_', 'castra_', 'carvalho_', 'cartaz_', 'cartas_', 'carta_', 'carregar_', 'carrega_', 'carne_', 'carlos_', 'carinhos', 'caramba', 'caraio_', 'carai_', 'canudinho_', 'cantinho_', 'cantar', 'cansou_', 'canso_', 'cansados_', 'cansado_', 'caneta_', 'canditado_', 'candidatura_', 'cancelado', 'canad_', 'campanhas_', 'camp_', 'calma', 'calend_', 'caldas_', 'calcular_', 'caixa_', 'cair', 'caindo_', 'caguei', 'cagar_', 'cafun', 'cadeia_', 'cade_', 'caco', 'cachorrinho_', 'cachorrinha', 'cachinhos_', 'cacetada_', 'cabra_', 'cabelos_', 'cabello_', 'bye', 'burros_', 'burro', 'burras', 'burra', 'bunda_', 'bunda', 'buceta_', 'btsarmy_', 'brutal_', 'brusinha_', 'bruno_', 'brinks_', 'brinks', 'brincadeiras_', 'brigou_', 'brigando_', 'brigadeiro_', 'brazil_', 'bravo_', 'brava_', 'brasileiro', 'branco', 'bra', 'boys_', 'boy_', 'botei_', 'bot_', 'boss_', 'borracha_', 'bora', 'bonzinho', 'bons', 'bonossauro_', 'bonoro_', 'bomber_', 'bolsominion', 'bolsolixo', 'bolo_', 'bolinho', 'bolado_', 'bolada_', 'bol_', 'boku_', 'body_', 'bodia_', 'bodi_', 'bochechas_', 'bob_', 'blz', 'blusinha_', 'bloqueio_', 'bloqueia', 'bloquear_', 'block', 'black_', 'bitos_', 'bito_', 'bitch_', 'bissexual_', 'birigui_', 'biologia', 'bilion_', 'bilh_', 'bike_', 'bicho', 'bichinhos_', 'bichinhos', 'bicha_', 'bia', 'bfr_', 'bf', 'besta_', 'ben_', 'beleza', 'belchior_', 'bel', 'beira_', 'beijo', 'beijaeu_', 'bebida_', 'bebezinho_', 'bbf_', 'bbc_', 'batman_', 'batida_', 'batata_', 'bastasse_', 'bastarz_', 'basquete_', 'barulhos_', 'barulho_', 'barras_', 'barra_', 'baratos_', 'banido_', 'bandidos_', 'bandeiras_', 'balinha_', 'balan_', 'bairro_', 'baile', 'azure_', 'ay_', 'avisou_', 'aviso', 'avisando_', 'avalia_', 'autocarros_', 'autocarro_', 'aut_', 'audiovisual_', 'audio_', 'audi_', 'atualizei_', 'ator_', 'atividades_', 'atestado_', 'atender_', 'atacar_', 'atacante_', 'assisto_', 'assistir', 'assistido_', 'assiste_', 'assessoria_', 'assediadores_', 'ass_', 'asmr_', 'aruan_', 'artigos_', 'arrumo_', 'arrumei_', 'arroz_', 'arroba_', 'arriscar_', 'arrependo_', 'arrependimento_', 'arrastando_', 'arrasada_', 'arquivos_', 'armyselcaday', 'armando_', 'argumenta_', 'ara_', 'apura_', 'aproximar_', 'aproveitei_', 'aproveite_', 'aproveitando_', 'aprendo_', 'aprendeu', 'aprendendo_', 'aprende_', 'aprendam_', 'apps_', 'app', 'apostar_', 'apoiou_', 'apoiam_', 'apoiador_', 'apocalipse_', 'aplicativo_', 'apetece_', 'apertou_', 'apertando_', 'apertado_', 'aperta_', 'apelido_', 'aparelho_', 'aparelho', 'aparecendo_', 'aparece', 'apaixonou_', 'apaixono_', 'apaixonar_', 'apaixonado', 'apaguei_', 'apagou_', 'apago_', 'ansioso_', 'ansiosamente_', 'anjos_', 'aniversario_', 'anitta_', 'animarem_', 'animado_', 'anima_', 'ang_', 'anderson_', 'andam_', 'andado_', 'analisar_', 'anal_', 'amores', 'amore_', 'amore', 'amoedo', 'amizade', 'amg', 'americanos_', 'american_', 'amas_', 'amarelo_', 'amando_', 'amanda', 'amamos_', 'amado_', 'ama', 'altura_', 'alma', 'alienado_', 'alexandre_', 'alcance_', 'alcan_', 'ajudou_', 'aja_', 'aiai', 'ahora_', 'ahhhh_', 'ahahah', 'ahaha', 'ahah', 'aha_', 'agulha_', 'aguenta_', 'agradar_', 'agi_', 'again', 'afff', 'aff', 'afeto_', 'aee_', 'aea_', 'advogados_', 'advers_', 'ador_', 'adolescentes_', 'admitir_', 'admiro_', 'adicionar_', 'adicionada_', 'adesivo_', 'acusado_', 'acreditem_', 'acredite_', 'acostumei_', 'acostumado_', 'acordando_', 'acordado_', 'acordada', 'acontecido', 'acontece', 'aconte_', 'aconselho_', 'acompanhar', 'acompanhado_', 'achei', 'achar', 'acesse_', 'acess_', 'acertei_', 'aceito', 'aceitando_', 'acalmar_', 'acabe', 'acabada_', 'acaba', 'absurda_', 'absolutamente_', 'abro_', 'abracinho_', 'abracinho', 'abortado', 'abertura_', 'aberto', 'abertas_', 'aberta_', 'abelhas_', 'abc_', 'abandonar_', 'abaixar_', 'aaaaah_', 'aaaaaaaa_', 'aaaaaaaa', 'aaaaaaa_', 'aaaaa', 'aa', ' ........', ' ...... ', ' ......', 'zumbis_', 'zuar_', 'zowie_', 'zovem_', 'zorra', 'zool_', 'zonetime_', 'zoiudinha', 'zoado_', 'zo', 'znao_', 'zirtaeb_', 'ziquei_', 'zinhas_', 'zinha', 'zezao', 'zevedo_', 'zerin_', 'zerar_', 'zerada_', 'zema_', 'zelo_', 'zeiva', 'zaro_', 'zap', 'zaira_', 'zagoo_', 'za_', 'yves', 'yuta_', 'yuri_', 'yuri', 'yupi_', 'yumi_', 'yukino_', 'yuki_', 'yukhei', 'ysabeau_', 'youjin_', 'you', 'yorkecinho_', 'yoongo_', 'yoongi_', 'yoon_', 'yong_', 'yodaaa_', 'yoda_', 'ynyn_', 'yml_', 'yi_', 'yha_', 'yerim_', 'yeonho', 'yemanj_', 'yek_', 'yeeey', 'years_', 'ye', 'ycaro_', 'yay_', 'yato_', 'yates_', 'yasss_', 'yasha', 'yasemiin_', 'yaaaaa_', 'xwerin_', 'xuxuuu', 'xuxi_', 'xuper_', 'xp_', 'xito_', 'xion', 'xinga_', 'xinga', 'ximena_', 'ximamente', 'xiklet_', 'xicos', 'xicas_', 'xias_', 'xia_', 'xi', 'xerox_', 'xerox', 'xeo_', 'xenofobicos_', 'xen_', 'xeique', 'xd', 'xadrez_', 'xad_', 'xa', 'wtf', 'wsilva_', 'wpp_', 'worry_', 'worlds_', 'worlds', 'world_', 'wooyoung', 'womentechmakers_', 'wolfgang_', 'woge_', 'witzel_', 'wish_', 'wireless_', 'winwin_', 'wilson_', 'william_', 'wifi_', 'wicca_', 'whore_', 'who_', 'whitening_', 'whispering_', 'where_', 'wheein_', 'whatsfake_', 'well_', 'welder_', 'weekend_', 'weeabos_', 'webooy_', 'web_', 'weareablewise_', 'waze_', 'wave_', 'watkins_', 'waters_', 'watch_', 'watamote_', 'warriors_', 'warren_', 'warner_', 'warframe_', 'wardo_', 'war_', 'want_', 'walter_', 'wallpapers_', 'wala_', 'wakfu_', 'wagner_', 'vverissimo_', 'vscode_', 'vs', 'vral_', 'vozniaki_', 'vozinha_', 'voz', 'vouu_', 'votem', 'votarei_', 'votantes_', 'votamos_', 'votam', 'votada_', 'voser_', 'vose', 'vomitei_', 'vomitava_', 'vomitar_', 'vomitando_', 'volveria_', 'volver_', 'volve_', 'volunt_', 'volumes_', 'volume', 'voltou', 'voltes', 'voltei', 'voltarem_', 'voltaram_', 'voltam_', 'voltaki', 'voltados_', 'voltaaaaaaaaaaaaa_', 'volkswagena_', 'voleinosportv', 'volante_', 'voice_', 'vodca_', 'vocabul_', 'voadeira_', 'vm', 'vjj', 'vizinho_', 'vixx_', 'vixe_', 'viviane_', 'vivia_', 'viveu_', 'vives_', 'viverrrrr_', 'viveram', 'vivendo_', 'vivendo', 'vivam', 'viuva_', 'viuu_', 'vitorkley_', 'vitorkley', 'vitoria_', 'vitoria', 'vital_', 'visualiza_', 'viste_', 'vistapelomundo_', 'vista', 'visse_', 'visitem_', 'visite_', 'visitas_', 'visibilidade_', 'vishhhh', 'virtude_', 'virose_', 'virj_', 'virgula_', 'virei_', 'viray', 'viraviraclr', 'virarem_', 'viraram_', 'violinha_', 'violenta', 'vio_', 'vio', 'vinyl_', 'vinil_', 'vinibatista_', 'vinho', 'vinhas_', 'vingativa_', 'vingar_', 'vingan_', 'vine_', 'vindouros_', 'vindos_', 'vincint_', 'vina_', 'vin_', 'vimos_', 'vim', 'villano_', 'vilipendiado_', 'vilhosa', 'vilaine_', 'viiiiiii', 'viiiii_', 'vigiando_', 'vige_', 'vif_', 'viesses_', 'viesse_', 'vieram_', 'vier', 'viena_', 'vieiras_', 'vieira_', 'vie_', 'vidis', 'vidinha_', 'vidinha', 'videos', 'videogame_', 'videitos_', 'videira_', 'vidasbonus_', 'victorjere_', 'victor_', 'viciar', 'viciado_', 'viciada_', 'vice_', 'vibra_', 'vibes_', 'vibe', 'viajandona', 'viajando_', 'viajam_', 'vfx', 'veterin_', 'vetando_', 'vestinha_', 'vestindo_', 'vestem_', 'vest_', 'very_', 'veruskita_', 'verte', 'version', 'verloooo', 'verissimo_', 'verifiquei', 'verificar', 'verificando_', 'verificada', 'verifica_', 'verde', 'verdades_', 'verdades', 'verdadeiras_', 'verbena_', 'verbal_', 'verbais_', 'vera_', 'vento_', 'ventilar_', 'ventilador_', 'venom_', 'veneno_', 'vendo', 'vendido_', 'vendiamo_', 'vendermos_', 'vendedores_', 'vendedor_', 'vende_', 'vende', 'vendas', 'venda_', 'venceu_', 'vencerem_', 'venceram_', 'vencem_', 'vencedora_', 'vence', 'ven_', 'vemos', 'velvet_', 'velma_', 'velhos_', 'velhacos', 'velcro_', 'velas_', 'vejo', 'veggiefest_', 'vegetarianismo_', 'vegetariana_', 'vegetandooooo_', 'vegan_', 'veem_', 'veeeem_', 've_', 've', 'vdde_', 'vd_', 'vazoudenovo_', 'vazio_', 'vazia_', 'vazadas_', 'vasco', 'varoa_', 'varios', 'variados_', 'variada_', 'vari_', 'vargas_', 'varela_', 'varandas', 'varal_', 'varadero_', 'vaquinha_', 'vaquinha', 'vape_', 'vao', 'vantagem_', 'vantagem', 'vanessa_', 'vancouver_', 'van', 'vampira_', 'vamosjuntos', 'vamoooos', 'vam_', 'valverde_', 'valts_', 'valorizar_', 'valorizada_', 'valiosa_', 'valia_', 'valeuz_', 'valdete_', 'val_', 'vaidade_', 'vaibse_', 'vagar_', 'vadia_', 'vacina_', 'vacilo_', 'uzi', 'uuuuu_', 'utt_', 'utres', 'utilizo_', 'utilizei_', 'utili_', 'utiles_', 'utico', 'usual', 'ustra_', 'usos_', 'user_', 'user', 'usem_', 'usei_', 'useful_', 'usas', 'usam_', 'usada_', 'uruguai_', 'ursos_', 'urso_', 'ursinho_', 'ursal_', 'urna_', 'url_', 'urgentemente', 'urgente', 'urbano_', 'urach_', 'uq_', 'ups_', 'uol_', 'untitled_', 'unpopular_', 'unnie', 'universit_', 'universidades_', 'universidade_', 'united_', 'unindo_', 'unimo', 'unimed_', 'unificou_', 'unido_', 'unido', 'und_', 'uncountable_', 'unchained_', 'unb', 'una_', 'ump_', 'umbigo_', 'umbigo', 'umbandista_', 'umazinhas_', 'umaru_', 'umarim', 'uma_', 'um', 'ultrajado_', 'ultimos_', 'ultimate_', 'ulla_', 'ul_', 'uitoutaf', 'uii_', 'uia', 'ui_', 'uhaeuahuhae', 'uglybefore_', 'ughhh', 'ugh', 'ufsm_', 'ufc_', 'ufa', 'uf', 'uerjins_', 'ue_', 'udesc_', 'ubisse_', 'ubispo_', 'uberson_', 'uberlandia_', 'ub', 'uau_', 'uau', 'uashu', 'uahuahuahua_', 'uahuaehae', 'uaaau_', 'tzuyu_', 'tyler_', 'ty', 'two_', 'twitch_', 'twitar_', 'twice', 'tweetzinho_', 'tweetou_', 'tweetar_', 'tweetando_', 'tweet', 'twd_', 'twbadonkissjusttalk', 'tw_', 'tuz_', 'tuuudo_', 'tutta_', 'tutar_', 'tusab_', 'tus_', 'turubom_', 'turquia_', 'turo_', 'turnovers', 'turmaaa_', 'turbo_', 'tur_', 'tuo', 'tunico_', 'tuito_', 'tuiteiros_', 'tugu_', 'tuga_', 'tudinho_', 'tudin_', 'tucano_', 'tubarao_', 'tts_', 'tts', 'tt', 'truta_', 'truque_', 'trumph_', 'true_', 'truco_', 'truck_', 'trt_', 'trouxa_', 'trouxa', 'troste', 'trollar_', 'trolado_', 'trolado', 'trof_', 'trocava_', 'trocado', 'trocadeestilos', 'tro_', 'tristonha_', 'tristona_', 'tristinhxs_', 'tristinho_', 'tristi_', 'tristezas_', 'tristes', 'tristao_', 'trist', 'triple_', 'trip_', 'trio_', 'trintar_', 'trimestre', 'trilogia_', 'trilogia', 'trigonometria_', 'trico_', 'trica_', 'tribunal_', 'triagem_', 'trevoso', 'tretas_', 'tres_', 'trenzinho_', 'trentin_', 'trends_', 'trend_', 'tremi_', 'tremer_', 'tremedeira_', 'trem_', 'treinava_', 'treinamento_', 'treinadores_', 'treinador_', 'treina_', 'tree_', 'trazido_', 'trazem_', 'travou_', 'travestis_', 'travesseiro', 'traveco', 'travar_', 'travando_', 'traumatizou_', 'trauma_', 'tratem_', 'trate_', 'tratava_', 'tratar_', 'tratar', 'tratamento', 'tratados_', 'trash', 'trarei_', 'transparente_', 'transmitem_', 'transmimento_', 'transformou_', 'transformar_', 'transforma_', 'transfiro_', 'transf_', 'transbordo', 'transar_', 'transar', 'tranquilovsky_', 'tranquilos_', 'trancar', 'tramada', 'trajar', 'trairia_', 'trainees_', 'trainee_', 'traiam', 'tragedia_', 'tragedia', 'tragam_', 'traga_', 'trag_', 'traduzir_', 'traduzir', 'tradu_', 'traditionalart_', 'traditional_', 'tradicional_', 'trade_', 'trabalhei_', 'trabalhava_', 'trabalharemos_', 'trabalharei_', 'trabalhadores', 'tqr_', 'toxica', 'tours_', 'touro_', 'tour', 'touche', 'touch_', 'tou', 'toto', 'total', 'tot_', 'torturador_', 'torturado_', 'torturada_', 'tortuga', 'torres_', 'torre_', 'torrar_', 'torrando_', 'torradinhas_', 'torradinhas', 'tornou_', 'torno_', 'torneios_', 'torneio_', 'tornando_', 'tornamos_', 'tormes_', 'torce_', 'toquei_', 'toque_', 'toque', 'topper', 'topo_', 'topinho_', 'topei', 'top', 'too_', 'tondela_', 'ton', 'tomorrow', 'tomo_', 'tomava_', 'tomate_', 'tomate', 'tomasmarques_', 'tomaram_', 'tomado_', 'tomadas_', 'tomada_', 'toma', 'tolerancia_', 'tokyo_', 'toffoli_', 'todoroki', 'todinha_', 'todinha', 'todin_', 'tocou_', 'tocavam_', 'tocar', 'tocando_', 'tocando', 'tocam_', 'toca_', 'toca', 'toba', 'toa', 'tnto_', 'tnt_', 'tml', 'tmj_', 'tmbm_', 'tm_', 'tlg_', 'tl', 'tks_', 'tixinha_', 'tivolimarinavilamour', 'tivesses_', 'tivessem_', 'tivese_', 'titular', 'titia_', 'titi', 'tit_', 'tisti_', 'tisti', 'tiros_', 'tirassem', 'tirarem_', 'tirar', 'tirano_', 'tiramos_', 'tiram_', 'tiquim_', 'tipos_', 'tiny_', 'tinta', 'tinba_', 'tina_', 'timothy', 'timos_', 'timelapse_', 'tima', 'til', 'tiii_', 'tieris', 'tida_', 'ticas_', 'thunder_', 'thumb_', 'thuiz_', 'thorr_', 'thomaz', 'tho', 'thing_', 'thiagocpo_', 'theweatherteamrock', 'thesungoddess_', 'thesong_', 'there_', 'them_', 'thegroup_', 'thegroup', 'the', 'that', 'thankss', 'thali_', 'thai', 'tha_', 'tfios_', 'tfc_', 'tezcoatl_', 'textinhos_', 'text_', 'texas_', 'teteu_', 'tete_', 'tetas_', 'testemunha_', 'testei_', 'teste_', 'teste', 'testando_', 'tese_', 'tesao_', 'tes_', 'terroristas', 'terrorismos_', 'terror', 'terra', 'terq_', 'terminou_', 'terminei', 'termine_', 'terminaram', 'terminar', 'terminais_', 'teria', 'tereza', 'teresina_', 'terapia_', 'tera_', 'teoria_', 'tentava_', 'tentarei_', 'tentando', 'tentam_', 'tenso', 'tensas_', 'tensa', 'tenhoooo', 'tengo_', 'tenem_', 'tendinite_', 'tendeu_', 'tendenciosas_', 'tendenciosa_', 'tendem_', 'tenda_', 'temporariamente_', 'temporadas_', 'temporada', 'templo_', 'tempinho', 'tempestade', 'temperatura_', 'temperamentos_', 'temperamento_', 'temo_', 'temin_', 'temia_', 'temennimiz_', 'tema', 'telhado', 'telemovel_', 'telefonia_', 'telefonema_', 'tele_', 'tele', 'telas_', 'tela', 'tel', 'tek_', 'teimosos_', 'teias_', 'teddy', 'ted', 'teco_', 'tecnologia_', 'tecnobrega_', 'tecnicas_', 'tec', 'teatro_', 'teamtini_', 'teamanitta', 'team_', 'teach_', 'td', 'tcwta_', 'tchum_', 'tchau_', 'tchau', 'tce_', 'tc', 'tbh', 'tbem', 'taylor_', 'tayla_', 'tay_', 'taxista_', 'taxiar_', 'taxi', 'tavar_', 'tava', 'tatuagens_', 'tatuadora_', 'tattoos_', 'tattoos', 'tate_', 'tata_', 'tass_', 'tarefa_', 'tardia_', 'tardava_', 'tard_', 'tara', 'tapioca', 'tapete_', 'taparam_', 'tapa', 'tank_', 'tanbem', 'tamos_', 'tamojuntos_', 'tamiris_', 'tamanhos_', 'tamanha_', 'talvolta_', 'tals', 'talkingdeadnafox', 'taliyah_', 'talitayounan', 'talha_', 'talha', 'talentosos_', 'tala_', 'tahan_', 'taglia_', 'taemin_', 'taekooka_', 'taeee_', 'tadiros', 'tadinhos', 'tadeu_', 'tacou_', 'tacando_', 'tabu_', 'taborda_', 'tabo_', 'tabela_', 'tabaco_', 'tabacarias_', 'taa', 'szzz_', 'szeckir_', 'sz_', 'sync_', 'switch', 'sweetie_', 'sweetie', 'sweetener_', 'sweatshirt_', 'sweat', 'swag_', 'svt_', 'suzuka_', 'sutil_', 'sustentar_', 'sustentar', 'sustentabilidade_', 'sustent_', 'suspense_', 'suspenderam_', 'suspender_', 'susana_', 'sus_', 'sus', 'suruba_', 'surtada_', 'surta', 'surrreal', 'surreais_', 'surrada_', 'surprised', 'surprise_', 'surpresa', 'surje_', 'surgir_', 'surge_', 'surfar', 'suquinho_', 'suquinho', 'supremo_', 'supra_', 'suporto_', 'suportar_', 'suportar', 'suponhamos_', 'supervia_', 'superou_', 'superjunior_', 'superior', 'superficial_', 'superficiais_', 'superfatura_', 'superestimei_', 'superei', 'superar', 'superando', 'superabra_', 'sunga_', 'sumiu_', 'sumiu', 'sumiram_', 'sumir_', 'sumido_', 'suju_', 'sujo_', 'sujo', 'sujeito_', 'sujeito', 'sujas_', 'suja', 'suhsi_', 'sugestivo_', 'sugerindo_', 'sufriendo_', 'sufocante_', 'suena_', 'sudor', 'sudeste_', 'sucks', 'suck_', 'successo_', 'subst_', 'subsequente_', 'subninja_', 'subliminares_', 'subir_', 'sube_', 'suavizar', 'suaviza_', 'suave', 'stxn_', 'stuartm_', 'strg_', 'stressou', 'stress_', 'streams_', 'streamom_', 'stream', 'stray_', 'stratovarius_', 'strangers_', 'strange_', 'stories', 'store_', 'sto_', 'still_', 'sticos_', 'sticas', 'stica', 'stias_', 'stia_', 'stgen_', 'stf_', 'sters_', 'steins_', 'steam', 'stayselcaday_', 'stay_', 'status', 'stateless_', 'stateful_', 'starbucks_', 'stans_', 'stanear_', 'stand_', 'stand', 'stalkeio', 'stalkear', 'stage_', 'stachi_', 'sta', 'ssimos_', 'ssimas_', 'ssimas', 'ssicos_', 'ssico_', 'ssia_', 'ssemos_', 'srtamsk_', 'srta_', 'srpelo', 'sri_', 'sra_', 'sr_', 'square_', 'sqn_', 'sqlsaturday', 'sqlsat_', 'sqlfamily_', 'spx_', 'spu_', 'spray_', 'spotify', 'spot_', 'sporttv_', 'sporting_', 'spoilers_', 'spoiler_', 'spiral_', 'spero_', 'specialist_', 'spearman_', 'spawm_', 'spammando_', 'sozinhas_', 'sow', 'souza_', 'sousa', 'soulmalte_', 'soubesse', 'souberem_', 'souber_', 'soube_', 'soube', 'sotaque_', 'sos_', 'sorvete_', 'sortudo_', 'sortudo', 'sorteio', 'sorteando', 'sorteado', 'sorry', 'sorrisos_', 'sorrisinho_', 'sorrisinho', 'sorris_', 'sorrir', 'sorrio_', 'sorri_', 'sora_', 'sophiaabrah_', 'soper_', 'sopa_', 'sop_', 'soooooobraaaaa', 'sonsa_', 'sons_', 'sonora', 'soninho_', 'sonia_', 'sonhei', 'sonhar', 'sonha_', 'soneca_', 'sonambula_', 'son_', 'sometimes_', 'someone_', 'somei_', 'sombrios_', 'sombrio', 'sombras_', 'somar_', 'soma_', 'som_', 'solzinho_', 'soltou_', 'solto_', 'solto', 'solteira_', 'solteira', 'solos_', 'solos', 'soloq', 'solji_', 'solidariedade_', 'solicitei_', 'solasso_', 'solar_', 'solado', 'soh_', 'sogrinhos_', 'sogra', 'software_', 'sofrimento_', 'sofria_', 'sofreram_', 'sofreram', 'sofrem_', 'sofre_', 'sofia', 'socr', 'socorro_', 'sociologia_', 'sociol_', 'socialista', 'sociais', 'socando_', 'sobrou_', 'sobreviver', 'sobrevivemos_', 'sobreviva_', 'sobrenome_', 'sobraria_', 'sobrando_', 'sobrancelha_', 'sobram_', 'sobral', 'sobraaaaa', 'soaress_', 'soares_', 'soa_', 'so', 'snif', 'snapchat_', 'smpss_', 'smor', 'smo_', 'smite_', 'sming_', 'smileeee', 'smile', 'smash_', 'sm_', 'slogan_', 'slo_', 'slk', 'slides_', 'slides', 'slexie_', 'slet', 'slb_', 'slb', 'sla', 'sky_', 'skt', 'skskskskskdkdisjd_', 'sksjsj', 'skoob_', 'skins_', 'skin_', 'ski_', 'sketches_', 'sketch_', 'skatista_', 'skaf_', 'sjc_', 'situ_', 'sites', 'siteler_', 'site', 'sistemas_', 'sisos_', 'siso_', 'siren_', 'sipah_', 'sipa_', 'sinute_', 'sinusite_', 'sinuca_', 'sintonia_', 'sinistro', 'single_', 'sincronia', 'sincero_', 'sincera_', 'sinal', 'sinais_', 'simulator_', 'simulador_', 'simsim_', 'simplismente_', 'simplificado_', 'simplificada_', 'simpatica_', 'simpatia', 'simons', 'simmmmmm_', 'simmmmm_', 'simmmmm', 'simmmm_', 'simmm', 'simb_', 'simao_', 'silvana_', 'silvafilho_', 'silva', 'silicone', 'silenciar_', 'siim_', 'siiimmmm_', 'sigo', 'signoooo', 'significativa_', 'significam_', 'siglas_', 'siga', 'sierra_', 'sid_', 'sicas', 'sibelegug', 'sia', 'si', 'shsush', 'shsjdjd_', 'shrimp_', 'shows', 'showcooking_', 'show', 'shots_', 'shopping', 'shop_', 'shock_', 'shippei_', 'shippava_', 'shippar_', 'shippando_', 'shipo_', 'shipava_', 'shipar_', 'ship_', 'shinobi_', 'shindong_', 'shhhhhsss_', 'shevine', 'shayenne_', 'shawol_', 'sharethis', 'share', 'shaman_', 'shakespeare_', 'shain_', 'sgrxs_', 'sfv_', 'sexualidade_', 'sexuais_', 'sextas_', 'sex_', 'severo_', 'severas_', 'seungmin_', 'sette_', 'sets_', 'sethibox_', 'sethiaip_', 'setembro', 'sesso_', 'sescbirigui_', 'ses_', 'servindo_', 'servidores_', 'servidor_', 'servi', 'serveri_', 'server_', 'servem_', 'serve', 'serto', 'sertanejo_', 'serra_', 'serioooo', 'serio', 'serigrafia_', 'seriezinhas_', 'series_', 'seriaoooo', 'seriamente_', 'seriado_', 'serendipityselcaday_', 'serendipityselcaday', 'serena_', 'serao', 'seram_', 'serale', 'sequinho_', 'sequestra_', 'sequer_', 'sept_', 'separem_', 'separatista_', 'separar_', 'separadamente', 'sep_', 'seola_', 'seok_', 'seo_', 'sento_', 'sentirwm_', 'sentimental_', 'sentidos_', 'sentida_', 'senti', 'sentem_', 'sentando_', 'sensor_', 'senso', 'sense_', 'sensato_', 'sensato', 'sensacionalista_', 'sens_', 'senos', 'senior', 'senhorxs_', 'senhoria_', 'senhor', 'sender_', 'senadoras_', 'senadora_', 'sena_', 'sempreee_', 'semi_', 'semh_', 'sementinha_', 'semaninhas_', 'semaninha_', 'semanalmente_', 'selos', 'selfie_', 'self_', 'seletiva_', 'selecionei_', 'sele_', 'selcas_', 'sejam', 'seiiiii_', 'seiiii', 'sehyoon_', 'seguros_', 'seguro_', 'seguras_', 'segurar', 'seguramente', 'segura', 'segundou_', 'segundos_', 'segundinha', 'segundas_', 'segundas', 'segundadetremurasdv', 'seguiteci_', 'seguir', 'seguintes_', 'seguindo', 'seguimos_', 'seguidos_', 'seguidora', 'seguidas_', 'seguidas', 'seguida_', 'segu_', 'sega', 'seduzido_', 'sedinha', 'secreto', 'seco_', 'secar', 'secador_', 'sebinhos_', 'season_', 'seahawks_', 'seabra_', 'sds', 'scrrrrr_', 'scrr_', 'scrim_', 'screentime', 'screensaver_', 'scp_', 'score_', 'scicast_', 'schaeppi_', 'scc', 'scar', 'scalabrin_', 'scabbia_', 'sc_', 'sbtcompartilhe_', 'sbkajfjdjs_', 'sbico_', 'sbeghen_', 'sax_', 'savescorpion_', 'savecpi_', 'saveclubpenguinislan', 'save_', 'saudaveis_', 'saudadessss', 'saudadess_', 'saudadeee_', 'saturday_', 'saturam_', 'satisfeitos_', 'satisfeito_', 'satisfeita', 'satisfatorio_', 'satanistas_', 'satanicmember', 'satan_', 'sasuke_', 'sarney_', 'sargento_', 'sardadiiii', 'sarasilvaaa_', 'sarar', 'sarah_', 'sara', 'saqueou_', 'saporra_', 'sapatos_', 'sapabonde_', 'santu_', 'santovitti_', 'santinogoals_', 'santiago_', 'santande_', 'santa_', 'sansai', 'sans_', 'sanidade_', 'sangue', 'sangrou', 'sandu_', 'sandro_', 'sancionar_', 'samurai_', 'samsung_', 'sames', 'samantha_', 'sam_', 'sam', 'salvou', 'salvaram', 'salute_', 'saltar', 'salnorrabo', 'salnorabo', 'salgadossp_', 'salaodehumor', 'sala', 'sal', 'sairia', 'saipan_', 'saio', 'saiam_', 'sah_', 'sagitariana', 'safoda_', 'safadao_', 'safada', 'safa_', 'saem', 'saddddd', 'sad_', 'sacou', 'saco', 'sabiaaaaa', 'saberia_', 'sabemos', 'sabar_', 'sabar', 'sabadodetremurasdv_', 'sabadodetremurasdv', 'sabaaarrrr', 'sab_', 'ryan_', 'rvore_', 'rv', 'rus_', 'ruralista_', 'ruralista', 'rupp', 'runs_', 'rules', 'rujas_', 'ruivo_', 'ruiva_', 'ruins', 'ruining_', 'ruin_', 'ruicosta_', 'rui_', 'rueda_', 'ruby_', 'rubiuh', 'rubens_', 'ruas_', 'ru_', 'rts_', 'rt', 'rstats_', 'rsssssssss_', 'rssss_', 'rssss', 'rss', 'rsrssssss_', 'rsrsrs', 'rsrs_', 'rrrrrrr_', 'rr_', 'rr', 'rpz_', 'rprogramming_', 'rp_', 'royals_', 'roxo_', 'rox_', 'rov_', 'roupeiro_', 'roupasplussize_', 'roupasfemininas_', 'roupa', 'rouca_', 'roubo_', 'roubando_', 'roubado_', 'roubado', 'rouba_', 'roterd_', 'roteiro_', 'rota_', 'rostinhos_', 'rostinho_', 'rossetto_', 'ross_', 'rosinha_', 'roses_', 'rosane_', 'rosamimpuque_', 'ros_', 'roraima_', 'roque_', 'roots_', 'roo_', 'ronquei', 'ronaldinho', 'romero_', 'romantico_', 'romanticamen', 'romanini_', 'romance_', 'rom', 'rolt_', 'rolou_', 'rolo', 'role_', 'rolar', 'rolantes_', 'rola', 'rol', 'rodrigo_', 'rodopiar_', 'rodinha_', 'rodeia', 'rodam', 'rodada_', 'roda_', 'rocha_', 'rocha', 'rocaafazenda_', 'roca', 'robs_', 'roberta_', 'robert_', 'robaina_', 'rob_', 'rob', 'roa_', 'rn_', 'rmula_', 'rlx', 'rladiesglobal_', 'rladies_', 'rjjjjjjjjj_', 'rj', 'river_', 'rivalidade_', 'rival_', 'riu_', 'ritual_', 'ritos_', 'ritalina_', 'riston_', 'riso_', 'risco', 'riscasse_', 'risca_', 'riot_', 'rioooo_', 'riodotwitter', 'riocentro_', 'rings_', 'rindo', 'rina_', 'rim_', 'rikz_', 'riittaa_', 'rigon_', 'rigo_', 'right_', 'riezinha', 'ridicularizando_', 'ridiculariza_', 'ridicula_', 'ricos_', 'rico', 'ricarduzusa', 'rica', 'ribeiromarta_', 'ribatejo_', 'riaan_', 'ri', 'rhuan', 'rgulas_', 'rf_', 'rez_', 'revolution_', 'revoltada_', 'revolta_', 'reviver_', 'revitalizados_', 'revitalizada_', 'revista_', 'reverter_', 'reuniu_', 'reunidas_', 'reuni_', 'retuitando_', 'retrospectivabear_', 'retrocedemos_', 'retribuir', 'retrato_', 'retr_', 'retoweeta_', 'retorno', 'retornamos_', 'retornadas_', 'reto_', 'retirar_', 'reter_', 'retardado_', 'retardada_', 'reta_', 'resumir_', 'resultou', 'resultando_', 'restrito_', 'restou_', 'restaurante_', 'restaura_', 'restam_', 'resta_', 'resta', 'ressantes_', 'resqu_', 'responsabilidades_', 'respondido_', 'respondesse_', 'respondemos_', 'respondemos', 'respon', 'respire_', 'respeitoso_', 'respeito', 'respeitem_', 'respeitasse_', 'respeitar', 'respeitando_', 'respeitadaaa', 'respeita', 'resolvido_', 'resolvida_', 'resolveu', 'resolvermos_', 'resolver', 'resolvemos_', 'resistiu', 'resistir_', 'resistir', 'resisti_', 'resistencia_', 'resista', 'resident_', 'resetou_', 'reservar_', 'reserva_', 'resende_', 'repulsa_', 'repugnando_', 'repudia_', 'reproduzindo_', 'reprisados_', 'representou_', 'represente_', 'representativos', 'representado', 'representada_', 'representada', 'representa', 'repre_', 'repost_', 'reposit_', 'reportagens_', 'reportagem_', 'report_', 'repleta_', 'repetiram_', 'repetir', 'repetindo_', 'repetid_', 'repetem', 'repete', 'repercuss_', 'repense_', 'repassar', 'reparou_', 'reparo_', 'rep_', 'renuncia_', 'renovam_', 'renovada_', 'renov_', 'renight', 'renegado_', 'renda_', 'renatarribeiro_', 'renatac_', 'renascimento', 'renanmoura_', 'renaan_', 'remix_', 'relles_', 'religiosos_', 'religi_', 'releases_', 'relaxe_', 'relaxante_', 'relaxa', 'relatora', 'relativiza_', 'relativamente_', 'relatar_', 'relacionou', 'relacionamentos_', 'relacao_', 'relaaaaaaaaaxaaaaaaa', 'rejeicao_', 'reja_', 'reizinho_', 'reis_', 'reino_', 'rei', 'regulamento_', 'regrinhas_', 'regresso_', 'regressiva_', 'regredir_', 'regra_', 'regra', 'registros_', 'registro_', 'registo_', 'regionaliza_', 'regional_', 'regenin_', 'regarde_', 'regarde', 'rega_', 'refute_', 'refutam_', 'refresco_', 'reformulando_', 'reflete_', 'refiro_', 'refinadas_', 'referindo_', 'referi_', 'referente_', 'referencia_', 'refere_', 'refazer_', 'reencontrar', 'reencontrando_', 'reelegeu_', 'reelegendo_', 'reedi_', 'redraw_', 'redondeza_', 'redimir_', 'redesenhados_', 'redemption_', 'redeker', 'recuso_', 'recusa_', 'recupero_', 'recuperando_', 'recovery_', 'recovery', 'records_', 'recordeu_', 'reconhecimento_', 'reconhecimento', 'reconheceu_', 'reconhece_', 'recomendamos_', 'recome_', 'reclusa_', 'reclame_', 'reclame', 'reclamarem_', 'reclamando', 'reclamam_', 'reci', 'receptivo_', 'recente', 'recebidos_', 'recebid_', 'recebia_', 'recebendo_', 'recebemos_', 'recebam_', 'recatada_', 'recarregar_', 'recarguinha_', 'recalcadas', 'recados_', 'rebuli_', 'rebula_', 'rebentinhos_', 'reatar_', 'realmente', 'realment_', 'realizou_', 'realizei', 'realizamos_', 'realizada_', 'realizada', 'reagir_', 'read_', 'reaction_', 'reacion_', 're_', 'rdr_', 'rdica_', 'rdia_', 'rdc_', 'rd', 'rcito_', 'rcio_', 'rcia_', 'rca_', 'rbitrio', 'razo_', 'ray_', 'raven_', 'raul_', 'rato_', 'rateio', 'rastreios_', 'rastreio_', 'raspas_', 'rasgando', 'raro_', 'raro', 'rara_', 'rar_', 'raquelrc_', 'raquel_', 'rapzin', 'rapper_', 'rapo_', 'rapido', 'rapidinho', 'rapida', 'raphis_', 'rapazzz_', 'rapazes_', 'rapaz', 'rapaizee_', 'rap_', 'rao_', 'ranking_', 'ranger_', 'random_', 'rancorosa_', 'rancor_', 'rams_', 'ramospedro_', 'ramo_', 'rammstein_', 'ramalhov_', 'ram', 'rali_', 'rakitic_', 'raiva', 'raios_', 'raios', 'raio_', 'rafaela_', 'radio_', 'radical_', 'radicais_', 'racista', 'racismo_', 'rabo', 'rabioso_', 'rabiola_', 'rabin_', 'quiz', 'quitutes_', 'quites_', 'quisesse_', 'quiseres_', 'quisera', 'quintal', 'quil_', 'quijote_', 'quietest_', 'quichelorraine_', 'quichedelorraine_', 'quiche_', 'quicando_', 'qui_', 'questoes_', 'questionei_', 'questionaram_', 'questionar_', 'questionando_', 'quesaudade', 'querr_', 'queroviajarmais_', 'querooooo', 'queridx_', 'queridagem_', 'querias', 'queriam_', 'queriam', 'querendo', 'queny_', 'quentinho_', 'quentinho', 'quente', 'quema', 'queixou_', 'queixo_', 'queiro', 'queira', 'queimou_', 'queimar', 'queijo', 'queeeerrreeeeerrrrrr', 'queeeeee_', 'quec_', 'quebro_', 'quebro', 'quebrada_', 'quebra', 'quarteir_', 'quartadetremurasdv_', 'quartaa', 'quarenta_', 'quara', 'quao_', 'quantum_', 'quantacafeina', 'quandidato_', 'qualqer_', 'qual_', 'quadrinhos', 'quadrilha', 'quadra', 'qtar_', 'qr_', 'qq', 'qnt_', 'qlq_', 'qir_', 'qando_', 'python_', 'pycones', 'pvt_', 'pvt', 'pvh_', 'pv', 'puxa', 'pux_', 'puts', 'putos', 'puto', 'putinho_', 'putin_', 'putas_', 'putaaaa_', 'puta', 'pushawardskiervifamc', 'purple_', 'purificar_', 'punki_', 'punheta_', 'punch', 'pulso', 'pulseira_', 'pulo', 'pugna_', 'pufavo', 'pudesses_', 'pudese_', 'pude', 'publicou_', 'publicidade_', 'publica_', 'pubg', 'puahahshhahah_', 'ptralhasnunca_', 'ptralha_', 'ptnuncamais_', 'ptnunca_', 'ptmr', 'ptistas_', 'pss', 'psl', 'psiqui_', 'psicopata_', 'psicologicamente_', 'psicologia', 'pse_', 'pse', 'psb', 'prum_', 'proximos_', 'proximidade', 'proximamente_', 'proxima_', 'provocativo_', 'provo', 'providenciar_', 'provei_', 'provavel_', 'provadofazendeiro_', 'proud_', 'protetor_', 'protesto_', 'proteger', 'protect_', 'prote', 'protagonistas_', 'protagonista_', 'prorrogado_', 'proprio_', 'propriamente_', 'proposito_', 'proporcionado_', 'propor_', 'pronta', 'pron_', 'promovida_', 'promovida', 'promove_', 'promos_', 'promo_', 'prometeu', 'prometes_', 'prometeram_', 'prometendo_', 'prolongado_', 'prologue_', 'projota_', 'projetinho_', 'project_', 'proibir_', 'progressista_', 'progressismo_', 'progredir_', 'programar_', 'programadas_', 'profundo_', 'profissionais_', 'professional', 'profesorra_', 'proferido_', 'profa_', 'prof', 'produzindo_', 'produzimos_', 'produtivas', 'produce_', 'procurou_', 'procurem_', 'procurei_', 'procurava_', 'procurarrrrrrrr_', 'procurar', 'procurado_', 'procrastinar_', 'procrastina_', 'proco', 'prociss_', 'processos', 'processinho_', 'procedimento_', 'probleminhas_', 'problemas', 'problema', 'probabilidade_', 'proac_', 'privvvv', 'privilegiado_', 'privatiza_', 'privatisa', 'privada_', 'privada', 'pristin', 'prioridades_', 'prioridade', 'prints_', 'printaram_', 'print', 'principio_', 'principal_', 'principais_', 'princesinha', 'princesas_', 'priest_', 'priest', 'prica_', 'prias_', 'prfv', 'previstos_', 'preventa', 'prevenida_', 'prevejo_', 'prevalece_', 'pretinha_', 'pretextos', 'pretendo_', 'preta_', 'preta', 'presunto_', 'presumi_', 'presto_', 'prestes_', 'prestativo_', 'prestataire_', 'prestar_', 'presta_', 'presta', 'prest_', 'pressentimento_', 'presque_', 'presos_', 'presidencia_', 'presentinho', 'presentih', 'presencial', 'preparei', 'preparando_', 'preparados_', 'preparada', 'prepara_', 'preocupou_', 'preocupe', 'preocupante', 'preocupad_', 'preocuoada_', 'prendendo_', 'prende_', 'prejudicial_', 'prejudicial', 'prejudicando_', 'preju_', 'preguicinha_', 'pregar_', 'pregando_', 'preferiu_', 'preferidas_', 'preferia_', 'prefere_', 'prefer_', 'prefeito', 'preencher_', 'predio_', 'predador_', 'preconceituoso_', 'preconceituosa_', 'preconceituos', 'preconceitos_', 'precisou', 'precisas_', 'precisarmos_', 'precisarem_', 'precisanso', 'precisamente_', 'precious', 'precioso', 'precedentes_', 'prec_', 'prazos_', 'prazo_', 'pray', 'praxe', 'praticava_', 'praticar', 'praticando_', 'prata_', 'praises', 'praias', 'praia', 'pragana_', 'praga_', 'pracinha_', 'praca_', 'pqs_', 'pqqqqqq_', 'pp_', 'pp', 'powi_', 'power_', 'pow_', 'pow', 'povoado_', 'pouquissimos_', 'poupar_', 'poucos', 'potinho', 'potencial_', 'pote_', 'pote', 'potatoez_', 'postura_', 'posts', 'postes_', 'posters', 'posteriormente_', 'poster_', 'postei', 'postavam_', 'postava_', 'postas_', 'postaria_', 'postam_', 'postagens_', 'postagem', 'postado_', 'possooo', 'possivel', 'possessiva', 'posse', 'possas_', 'positivas', 'positiva_', 'posicionamento_', 'posicionamento', 'posiciona_', 'pose_', 'portugues', 'portfolio_', 'portf_', 'porteiro_', 'portavelitas_', 'portas_', 'portaria_', 'porta', 'porrada', 'porraaan', 'porraaaaaaaaaa', 'porquinhos', 'porqueeee_', 'porqu', 'porqie_', 'poremmmmm_', 'porcentagem_', 'porcarias_', 'porc', 'poquinho_', 'poquinho', 'poq_', 'populr_', 'populista_', 'pop_', 'pop', 'poor_', 'poo_', 'pontuais_', 'ponteiros_', 'pontap_', 'ponha_', 'ponderar_', 'poncho_', 'poncho', 'ponce_', 'pompom_', 'pomeras_', 'pomadinha_', 'polu', 'politicamente', 'poligeomeca_', 'policia_', 'polic_', 'poliana_', 'polaroid_', 'polarizando_', 'polarizada_', 'poko_', 'poketober_', 'pokerface_', 'pokemon_', 'pokeboy_', 'poetas_', 'poeta_', 'poesias', 'poesia_', 'poema_', 'poema', 'poeira_', 'poderosa_', 'poderiam_', 'poderem_', 'podendo_', 'podeeeeee', 'podcasts_', 'podcasters_', 'poda_', 'pocket_', 'poca', 'pobrezinha_', 'poa_', 'pneus_', 'pmdb_', 'pmbd_', 'pm', 'plussize_', 'plsssssssss_', 'plovak_', 'plmds_', 'pll', 'plenas', 'plenamente_', 'plena', 'please_', 'plaza_', 'playplus_', 'playlista_', 'play_', 'play', 'plaus_', 'plaquinha_', 'plaqueta_', 'plano', 'planilha_', 'planeta_', 'planejar_', 'planejamos_', 'planejamento_', 'place_', 'placa_', 'pizzas_', 'pivara_', 'piticos_', 'pitico_', 'piter_', 'pitelzinho', 'pistoleiro_', 'pista_', 'pisou_', 'pisar_', 'pirra', 'piranha_', 'pipoquinha_', 'pipocaaaa', 'pipa_', 'piorou_', 'piora_', 'pio_', 'pintura_', 'pintou_', 'pintinhas', 'pintando_', 'pinta', 'pinho_', 'pingo_', 'pingado_', 'pin_', 'pilotti_', 'pilho', 'pilha_', 'pileckova_', 'pilao', 'pila_', 'pikazito_', 'pietro_', 'piercing', 'picuinha_', 'piccoli_', 'picareta_', 'pica_', 'piau_', 'pianishimo_', 'piadinha_', 'pia_', 'phpstorm_', 'phpeeeeeeeeeeee_', 'photocards_', 'photobook_', 'phone_', 'pfvzinha', 'pfvrrr', 'pffff_', 'peyton_', 'pets', 'petrone_', 'petr_', 'petista', 'petismo_', 'peti_', 'peste_', 'pessoinha_', 'pessimista', 'pessimismo_', 'pessima_', 'pessima', 'pesquisem_', 'pesquisei_', 'pesquise_', 'pesquisas', 'pesquisaram_', 'pesquisando_', 'peso', 'pesimista', 'pescocinho_', 'pescado_', 'pesares_', 'pesao_', 'pesadelos_', 'pertinentes_', 'pertence_', 'perspectiva_', 'personas_', 'personalizado_', 'personagens', 'personagem', 'persegui_', 'perros_', 'perroooos_', 'perro_', 'perrengue', 'pero_', 'perninhas_', 'pernambucano_', 'pernambucana', 'permitido_', 'permitem_', 'permita_', 'permanentemente', 'permaneceu_', 'permaneceram_', 'permanecer_', 'permanece_', 'permane_', 'perip_', 'perina_', 'perillo', 'perigoso', 'perigos_', 'periculoasa_', 'perguntinhas', 'perguntinha', 'perguntem', 'pergunte', 'perguntam_', 'performances_', 'performance_', 'perfomances', 'perfirmando_', 'perfeitamente_', 'perfeita', 'perfecto_', 'pereira_', 'perdoo_', 'perdoar_', 'perdoar', 'perdoa', 'perdido', 'perdidamente_', 'perdida_', 'perdi', 'perdeu', 'perdes', 'perderia_', 'perderam', 'perder', 'perdemos', 'perdedores_', 'percurso_', 'percorrer_', 'perco_', 'percentual_', 'percentuais_', 'percebo', 'percebido_', 'perceber', 'percebemos_', 'percebem_', 'percas_', 'perca_', 'perca', 'perc', 'pera_', 'pera', 'pequen', 'pepsi_', 'peores', 'pentelhagem_', 'pentear_', 'pensou_', 'penso', 'pense', 'pensasse_', 'pensantes_', 'pensa', 'penita', 'pendurado_', 'penaltis_', 'penalte_', 'penalte', 'penal_', 'pen', 'peluciazinha_', 'peluche_', 'pellets', 'pelinha_', 'pelicomic', 'peldi_', 'pelamor_', 'peladao_', 'pejorativo_', 'peixoto_', 'peixoto', 'peixinhos_', 'peixes_', 'peixe_', 'peito_', 'pegasse_', 'pegariam_', 'pegaram_', 'pegando_', 'pegamos_', 'pedroh_', 'pedro', 'pedreirinho_', 'pedidos_', 'pedidos', 'pedia_', 'pedi', 'pedem_', 'pedacinho_', 'peda_', 'pearson_', 'pdt_', 'pdr_', 'pdf_', 'pcdob_', 'pb_', 'pazes_', 'payne_', 'pay_', 'pavor_', 'pavilh_', 'pav_', 'pauzudo_', 'paulistanas_', 'paulinha_', 'paulin_', 'pauleira', 'paula', 'pau', 'patterns', 'patrocinar_', 'patrocinadores_', 'patrocinado_', 'patricia_', 'patric_', 'patriaeducadora', 'pato_', 'patinha_', 'patetinha_', 'patch_', 'patazaperson_', 'patati_', 'pastas_', 'passo', 'passes_', 'passem_', 'passei', 'passeando_', 'passavam_', 'passas_', 'passaremos_', 'passagens_', 'passagem', 'passado', 'passadaaaaa_', 'pass_', 'pasma_', 'pasito_', 'pasho', 'pasa_', 'parva', 'party_', 'partr_', 'partissem_', 'partindo_', 'partilho_', 'partidos_', 'partidos', 'partidas', 'partidarismo_', 'partida', 'particularmente_', 'participou_', 'participer', 'participe', 'participantes_', 'participa_', 'part_', 'paro', 'park_', 'pariu_', 'paris_', 'parfois_', 'parente_', 'paredes_', 'parecidas_', 'parecida_', 'parecia_', 'pareces_', 'pareceria_', 'pardicipar_', 'parcela_', 'parceiros_', 'parce_', 'paraty', 'pararem_', 'parar', 'paranoia_', 'parando_', 'paran', 'paraibana_', 'paraguai_', 'paragem_', 'parae', 'parado', 'parace_', 'parabenizei_', 'parabeeeens_', 'paquerei_', 'papos', 'papito_', 'papis_', 'papaz_', 'papa_', 'panutanq', 'pantacourt_', 'panico_', 'panicat_', 'panfletar_', 'panela_', 'pandora_', 'palpites', 'paloci_', 'palmito_', 'palmas_', 'palmas', 'palestras_', 'palco', 'palavras', 'pakistan_', 'pakas_', 'pakas', 'paixaaaaaoooo_', 'pain_', 'paia_', 'paguei_', 'pague_', 'paglia_', 'pages_', 'pagaria_', 'paesar', 'paepal', 'padroeira_', 'padre_', 'padrasto_', 'padaria_', 'pactodesangre_', 'pack_', 'pacifista_', 'pachorra_', 'pace_', 'pac_', 'pablo_', 'pa', 'ozzy_', 'ozinhas', 'ozinha_', 'oz_', 'oxigena_', 'owen_', 'ovomaltine_', 'overwatch_', 'overated_', 'ove', 'ovas_', 'ov_', 'ouvimos_', 'ouvem_', 'ouvem', 'ouve_', 'ouuuu_', 'outubrorosa', 'outono_', 'ousmane_', 'ousem_', 'ousadia_', 'ourinho_', 'oui_', 'otoni_', 'otina_', 'otimo_', 'otimismo_', 'otima_', 'otavio_', 'otario', 'otaminas_', 'ossia_', 'osol', 'oso', 'osment_', 'oslsiskslsk', 'oscilando_', 'osamodas', 'osa_', 'orphan_', 'oro_', 'ornitorrinco_', 'orlandogs_', 'original', 'originais', 'origem_', 'orificio_', 'orientador_', 'orgulhozinho_', 'orgulhosa_', 'orgulhooooooooooooo', 'orgulhando', 'orgulha_', 'orgulha', 'orgulh_', 'orgs_', 'organizadora_', 'organizado_', 'organizadinho_', 'organiza_', 'orelhas', 'orelha_', 'ore_', 'ordenar_', 'ordenado_', 'orchestra', 'orar_', 'oral', 'optimista', 'oprtunidade_', 'oprimidas_', 'oprimidas', 'oppa_', 'oposto_', 'oposta_', 'opositores', 'oportunista_', 'opo_', 'opnrpbnspobnrposnnbp', 'opinion_', 'opinioes_', 'opiniao_', 'opfbosernboreboprnbs', 'operado_', 'operacional_', 'oper_', 'open_', 'opaa', 'op', 'ooooooo_', 'oooooo_', 'ooooo_', 'oooff_', 'ooff_', 'oof_', 'oo_', 'ontime_', 'onte_', 'onlines_', 'online', 'onion_', 'onibus_', 'onemoretime_', 'oncinha', 'onaro_', 'ona_', 'omurice_', 'omodeuso_', 'ommm_', 'omilde_', 'omeudeus_', 'omeprazol', 'ome_', 'omds_', 'ombro', 'olx_', 'olvid_', 'oloss_', 'oloco_', 'oliveiradv_', 'olimpiadas_', 'olhos', 'olhinho_', 'olheiro', 'olhava_', 'olhar', 'oleosidade_', 'oldman', 'olaias_', 'oky_', 'oktoberfest_', 'okayyyy', 'okay', 'oj_', 'oioi_', 'oikkkk_', 'oiiii_', 'oiiee_', 'ohh_', 'oheroaihfoiashf_', 'ogre_', 'ogeralrj', 'ofuscar_', 'oftalmologista', 'ofrecer_', 'oficina_', 'oficialmente_', 'oficial', 'oficia', 'official_', 'oferta_', 'ofensas_', 'ofendida_', 'of', 'oemcristo_', 'oe', 'odyssey_', 'odos_', 'odiooooo_', 'odiooooo', 'odiarem_', 'odeiam_', 'odeiam', 'odeia', 'ocupar_', 'ocupada', 'october_', 'oct_', 'ocorrido_', 'oces', 'oc', 'obtidos_', 'observando', 'observ_', 'obriiiii_', 'obrigat_', 'obrigam_', 'obrigadaaaaaa_', 'obrigadaaaa_', 'obrigadaaa_', 'obrigaaaaaaada', 'obligado_', 'objeto_', 'objetivo', 'obgg_', 'obgg', 'oar_', 'oados_', 'oado_', 'oab_', 'ny_', 'nvl_', 'nutricionista_', 'nuss_', 'nuo_', 'numas_', 'nulos', 'nul_', 'nudes_', 'nude_', 'nucleo_', 'nuca_', 'nua_', 'ntrico_', 'ntios_', 'ntimas', 'ntico_', 'ntc_', 'nsfw_', 'nsei', 'nq_', 'np', 'noza_', 'noz_', 'nowplaying', 'novosss', 'novo', 'novidades', 'novidade', 'novia', 'novelinha_', 'novela_', 'novela', 'novato_', 'novafotodoperfil_', 'nov_', 'nouvelles_', 'noun_', 'notizie_', 'notificou', 'notes_', 'noter_', 'notebook_', 'note', 'notava', 'notasse', 'notas', 'notaria', 'notar', 'nota', 'nostalgia_', 'nossan_', 'nosegundoturno_', 'nosa_', 'norenmin', 'nordestina', 'nordeste', 'nora_', 'noprimeroturno', 'nope_', 'noooovo_', 'non_', 'nomo', 'nomezin_', 'nomear_', 'nomeado_', 'nolla_', 'nojo', 'nojento_', 'nojenta_', 'noix', 'noivo_', 'nois', 'noi_', 'noemi_', 'nodejs_', 'node_', 'nocivo_', 'nobre_', 'nivel_', 'nite_', 'nisko_', 'nique', 'ninguno', 'ningen_', 'nina_', 'nimo', 'nikolas_', 'nike', 'nigth_', 'nidalee_', 'nico', 'nicko_', 'nick_', 'nicholas_', 'nichijou_', 'nice_', 'nica', 'ni_', 'nha', 'nh_', 'ng_', 'nflnaespn_', 'nflbrasil', 'nfaz', 'newprofilepic', 'newark', 'new_', 'neves_', 'neve_', 'neutron_', 'neutralizar_', 'neura_', 'neur_', 'networking_', 'netscape_', 'net', 'nesto_', 'nescauzinho', 'nes', 'nervouser_', 'nervous', 'nervoso_', 'nervos_', 'nero_', 'nero', 'neosoro_', 'neos_', 'neopets_', 'neni_', 'nenhuns_', 'nenhumas_', 'nenezinho', 'nelson_', 'nejejshs_', 'neguinho', 'negros', 'negro_', 'negocio_', 'negocinho_', 'negociar_', 'nego', 'negativa', 'negara', 'negar_', 'nega_', 'nefer_', 'neee_', 'necessitando_', 'neceaito_', 'nec', 'neas_', 'nea_', 'ndrome_', 'ndole_', 'ndios_', 'ndio_', 'ndices_', 'nde_', 'nctwhat_', 'ncrivel_', 'ncipe', 'nciar_', 'ncer_', 'nbts_', 'nazistas_', 'nazis_', 'nazifascismo_', 'nazi_', 'naza_', 'nayeon_', 'navigator', 'naves_', 'navegando_', 'navegador_', 'navarro_', 'nauu_', 'naum', 'nau', 'natureza_', 'naturalmente', 'naturais_', 'natass_', 'natalia_', 'nasty_', 'nascim_', 'nascido_', 'nasceu_', 'nasceram_', 'nasceram', 'nascer_', 'nascer', 'nasce_', 'nasago_', 'nasa_', 'naruhodo_', 'narrando_', 'narrador_', 'narang_', 'naovounegar_', 'naoparanao_', 'naoooooo_', 'naoooo_', 'naooo_', 'naoo_', 'naon_', 'nanquim_', 'nano_', 'nandinha_', 'nanda_', 'nanar_', 'nana_', 'namoro', 'namoravamos_', 'namorava_', 'namorando', 'namoradinha_', 'namoradinha', 'namora', 'namo_', 'nam_', 'nakim_', 'naiaraazevedo_', 'nah_', 'nagila_', 'nagib_', 'nadinha', 'nadica_', 'nadica', 'nadas_', 'nadar_', 'nadaaa_', 'nadaaa', 'nacionalista_', 'nacionalidade_', 'naber', 'naaty_', 'naaaoo_', 'naaaoo', 'naaaaoooooo_', 'naa_', 'mystic_', 'mymyss_', 'mwrda_', 'mviniciuss_', 'mvc_', 'mv_', 'muuuuuuuita_', 'muuuuita_', 'muuuito_', 'mutuals', 'mute_', 'mute', 'mutcho_', 'musiquinha_', 'musicais', 'museus', 'muscular_', 'murro_', 'muro_', 'muro', 'murcho', 'muoyo', 'mundooo', 'mundinho_', 'mundao_', 'munaro_', 'mumu', 'multitarefas_', 'mulo_', 'mulheres', 'muleta_', 'muitooo_', 'muitasss_', 'mui_', 'muerta_', 'mudasse', 'mudarrrr', 'mudaram_', 'mudando', 'mudadas', 'much', 'muay_', 'muahahah_', 'mtu_', 'mttttt_', 'mtttt_', 'mttt_', 'mtoooo_', 'mtnkshskahaiahuabajs', 'mtmtmtmtmtmtmt_', 'mtas_', 'msgm_', 'ms_', 'mrs_', 'mplice_', 'mpido_', 'mpbs', 'mow_', 'movimenta_', 'movido_', 'movel_', 'mov_', 'mousse_', 'motorista', 'motoqueiros_', 'motoqueiros', 'moto', 'motivo', 'motivada', 'motheroftwo', 'motando_', 'mota_', 'mostro_', 'mostrava_', 'mostram', 'mostra_', 'most_', 'morta', 'morro', 'morrido_', 'morria_', 'morri_', 'morresse_', 'morrese_', 'morreram', 'morrendo', 'morrem_', 'morra_', 'mores', 'morei_', 'more_', 'mordo_', 'mordidas_', 'mordendo_', 'morava_', 'morangada', 'moram_', 'moralzona', 'moralidade', 'moraes_', 'mor_', 'moon_', 'moods_', 'montijo_', 'monte', 'montagens_', 'montada_', 'mont_', 'monstrinha_', 'monstra_', 'monsta_', 'monitoria_', 'monitora_', 'monica_', 'monica', 'monge_', 'monetiza_', 'monet_', 'monconi_', 'moncho_', 'monalisa_', 'momozinha', 'momoii', 'mommy', 'mometos_', 'momentosss', 'momentoscen_', 'mom_', 'molon_', 'molly', 'molinho_', 'molhos_', 'molho_', 'moletom_', 'molet_', 'moleque_', 'mole_', 'moldava_', 'molava_', 'moksori_', 'mois_', 'moikana', 'moh_', 'mofando_', 'moedinhas_', 'moedas_', 'moedas', 'moeda_', 'modinha_', 'modesto_', 'moderna_', 'modelo', 'modelete_', 'model', 'modaplussize_', 'modafeminina_', 'moda_', 'mochila', 'mochi_', 'mobilizaram_', 'moba_', 'mmtour_', 'mm', 'mlz_', 'mlkin', 'ml_', 'ml', 'mkii_', 'mix_', 'mitomania_', 'mitologia_', 'mitira_', 'misture_', 'misterioso_', 'misterioooo_', 'mishu', 'miseric_', 'miragem', 'mios_', 'mion_', 'miojo', 'mio_', 'minuto', 'minus_', 'minum_', 'minto', 'minta_', 'minoru_', 'minorit_', 'minoria', 'mino_', 'minnie', 'minmin', 'ministro_', 'minimo', 'minimix_', 'minifigures_', 'minhyun_', 'mineiro_', 'minc_', 'min', 'mimosas', 'mimo_', 'mimitos', 'miminho', 'mimimi_', 'mimim_', 'mimando_', 'mimada_', 'millard_', 'milkshake_', 'milituda', 'militares_', 'milit_', 'milion_', 'milhos_', 'milhagem_', 'milena_', 'mika_', 'miiiim', 'migrei_', 'migrar_', 'migra_', 'migos_', 'midi_', 'mida_', 'mid', 'microsoft_', 'microondas_', 'microcomputadores_', 'micose', 'mick_', 'michigan_', 'michellelott', 'michellebruna_', 'michela', 'mic_', 'miados_', 'mia', 'mgff', 'mg_', 'mferreira_', 'mexicana_', 'mexi_', 'mexeu_', 'mexem_', 'mew_', 'meusmacaquinhos_', 'meuknow_', 'meuestiloplussize_', 'meuanivers_', 'metr', 'meti_', 'meteu_', 'mete_', 'metas_', 'metamorfose_', 'metam_', 'metaleiros', 'metal', 'metadinha_', 'metade', 'meta_', 'mestrado', 'messias', 'messi_', 'messenger', 'mesmooooo', 'mesmoooo', 'mesmoo_', 'mesinha', 'mesada_', 'merthiolate_', 'meros', 'mermaid_', 'mergulhar_', 'merenda_', 'merecet', 'merecem', 'mere_', 'merdas', 'merdakk_', 'mercury_', 'merch_', 'mercadona', 'meo_', 'mentor', 'mentoam_', 'mentiras_', 'mentir_', 'mentir', 'mentions_', 'mentes_', 'mental_', 'mental', 'mensurar_', 'menstruar_', 'menstruada_', 'menstrua_', 'mensal_', 'mens_', 'menparte_', 'menores_', 'meno_', 'menino', 'mene_', 'mending_', 'mendigo_', 'mendes_', 'mencionei_', 'memoria_', 'mema_', 'melzinha', 'meltdown_', 'melsilva_', 'melodiosa_', 'melhorei_', 'melhorei', 'melhore', 'melhoraram', 'melhorado_', 'melhora', 'melhoor_', 'meler', 'melancia', 'meira_', 'meiqi_', 'meios_', 'meia', 'mei_', 'megas_', 'megamorfose_', 'megadeth_', 'megaaaaaapload_', 'meet_', 'meeeeee_', 'meditar_', 'medita_', 'medicina_', 'medica_', 'med_', 'mecaniza_', 'mecanismos_', 'mecanica', 'mec_', 'mebeija_', 'meas_', 'mean_', 'mcu_', 'mc', 'mbitos_', 'mbio', 'mauro_', 'maurinho_', 'mauricio_', 'matou_', 'matou', 'matina_', 'matilde_', 'mathzz_', 'matheus_', 'math_', 'maternidade_', 'materia', 'matarem_', 'mataram_', 'matar', 'matanzas_', 'matando_', 'mata', 'masssss_', 'massivamente_', 'massacre', 'massacrados_', 'massachusets_', 'massa', 'mass_', 'mase_', 'masculino_', 'mascot_', 'martins', 'marta_', 'marrrravilha', 'marques_', 'marquei_', 'marmanjos_', 'mark', 'marit_', 'marinheiro_', 'marina', 'marilia_', 'marii_', 'mariel_', 'maridinho_', 'mariani_', 'marginais_', 'margem_', 'margarita_', 'margarida_', 'margarida', 'mardito_', 'marcus_', 'marcou', 'marcolas_', 'marco_', 'marco', 'marcio_', 'marcal_', 'marcadores_', 'marcado_', 'marc_', 'maravilhosa', 'maravilha', 'maratonar_', 'maratona_', 'maracan_', 'mar_', 'mar', 'maquinas_', 'maquina_', 'maquilhar', 'maquiar_', 'maquiagens', 'maquiagem_', 'maquiada_', 'mapu', 'maou_', 'mao', 'manuela_', 'manualmente', 'manu', 'mantive', 'mantinha_', 'mantenho_', 'mantenha_', 'mantendo_', 'manox_', 'manoparece_', 'manoooo_', 'manoo_', 'manobra', 'manjo_', 'manjador_', 'manja_', 'manito', 'manipulados', 'manipuladora_', 'manilaaaaa', 'manifestara', 'manifesta_', 'manifest_', 'manifest', 'maniana_', 'mani_', 'manejar_', 'maneiro_', 'maneiras_', 'mands', 'mando', 'mandiska_', 'mandir', 'mande_', 'mandatos_', 'mandato_', 'mandarim', 'mandaria_', 'mandando', 'mandam', 'manchete', 'mancada_', 'manaus_', 'manaaaa_', 'man', 'mamilo_', 'mames_', 'mamava_', 'mamata_', 'mamar_', 'mamamoo_', 'mamamoo', 'mam', 'malzao_', 'malz_', 'malvadas_', 'malucos_', 'maluca_', 'malu_', 'maltratam_', 'maltratado_', 'mals_', 'maliaaaaa_', 'malia', 'mali_', 'males_', 'maldosa_', 'maldita_', 'maldita', 'maldi_', 'maldades_', 'maldade_', 'malas_', 'make_', 'makavelijones_', 'major_', 'maizi_', 'maiusculo_', 'maisvoc_', 'maisvoc', 'maisumavez_', 'maisinha', 'maisie_', 'maisasilvatv_', 'maisanicholas_', 'maiores_', 'mainha_', 'maina_', 'main_', 'maiia_', 'maiheu_', 'maie_', 'maia_', 'mai', 'magoei_', 'magoar_', 'magoado_', 'magoa_', 'mago', 'magnata', 'magn_', 'maglore_', 'magalu_', 'mafiosa_', 'mafia_', 'maes_', 'madrugadas_', 'madre', 'madeline_', 'madeixas', 'madeira_', 'madame_', 'madalena_', 'macumba_', 'macs', 'macrom_', 'macor', 'maconheiro_', 'mack_', 'macio', 'maciel_', 'macia_', 'machuquei_', 'machucou_', 'machucou', 'machucando', 'machucada', 'machos_', 'machista', 'macarra_', 'macacos_', 'macaco_', 'mac_', 'maas_', 'maagalhexx_', 'lyrica_', 'lyon', 'lylilanza_', 'lygia_', 'lyah_', 'lx_', 'lx', 'lvulas_', 'luzes_', 'lutou_', 'lutam_', 'lupa_', 'lunes_', 'lundo_', 'luna_', 'lun_', 'lume_', 'lumaaaaaaaaaaaaa_', 'luma_', 'lulu_', 'lulo', 'lulisd_', 'luke_', 'luiza_', 'luis_', 'luh_', 'ludmila_', 'lucro_', 'lucrecia_', 'luciano_', 'lucian_', 'luchiari_', 'lucas', 'lubatv_', 'luau_', 'luansantanatv_', 'luansantana_', 'luanna_', 'luann_', 'luanetes', 'luan_', 'lua', 'ltimos', 'ltima', 'lra_', 'lr_', 'lpl', 'low_', 'loves_', 'lovefornamjoon_', 'louvor', 'lous_', 'louise_', 'loucurada_', 'loucos_', 'louco', 'loucamente_', 'lott_', 'loteria_', 'lotada_', 'loser_', 'los', 'lorraine_', 'lorena_', 'lorde', 'loonatv_', 'looking_', 'longo', 'londres_', 'londres', 'lokos_', 'lojas_', 'loira_', 'logos_', 'logitech_', 'logista_', 'logico_', 'loga_', 'loco_', 'locks_', 'localiza_', 'loca_', 'lob_', 'lo', 'lly_', 'lluis_', 'llucas_', 'lloyd_', 'lkkkkkkkkkkk', 'lixos_', 'lixo', 'lix', 'livrou_', 'livrou', 'livro', 'livres_', 'livrar_', 'livrado_', 'living_', 'lives', 'liv_', 'literatura_', 'listrado_', 'listinha_', 'listar', 'list', 'lisiane_', 'lisho_', 'lises_', 'lise_', 'lisboa', 'lisaaaa_', 'lipe_', 'liny_', 'lino_', 'links_', 'linia_', 'linhas_', 'linhas', 'linguagem_', 'lingua_', 'lingu_', 'lindos', 'lindoooo', 'lindona_', 'lindinha_', 'lindbergh_', 'lindas_', 'lindaaa_', 'limpeza_', 'limpei_', 'limpando_', 'limonindie', 'limitar_', 'limitada_', 'lima_', 'lim_', 'lili_', 'likes_', 'likelaleyenda', 'like', 'ligueospontos_', 'liguem_', 'ligue_', 'ligou', 'lightsticks_', 'lighting_', 'light', 'ligarem_', 'lifeinhellas_', 'life_', 'lidos_', 'lidl', 'lidiaramos_', 'lideres_', 'lidas_', 'lidar', 'lida', 'licos', 'licenciatura', 'lica', 'libertadores_', 'libertadores', 'liberta_', 'libert_', 'liberei', 'liberdade', 'liberasse_', 'liberaram_', 'liberar_', 'liberadas_', 'liberada_', 'lias_', 'lias', 'li', 'lgica_', 'lgco_', 'lexie', 'levou_', 'levo_', 'levianamente', 'leveza', 'leve', 'levaria_', 'levantou_', 'levantando_', 'levanta_', 'letterboxd_', 'leticia_', 'leti', 'lessandra_', 'leso_', 'lesbica_', 'les_', 'lerdo_', 'lerdinha', 'leppard_', 'leopinheiro_', 'leop_', 'leonor_', 'leonel_', 'leonardo_', 'leon_', 'lenu_', 'lento_', 'lento', 'lentes_', 'lentamente', 'lenta_', 'lenin_', 'lenha_', 'lendas', 'len_', 'lemes_', 'lembrou_', 'lembro', 'lembrete_', 'lembrese_', 'lembrem_', 'lembre', 'lembrarmos_', 'lembran_', 'lembrado_', 'lembra', 'lema_', 'lelexe', 'lele_', 'lek_', 'leitores_', 'leitor_', 'leite_', 'leil_', 'leigos_', 'leigas_', 'legofans_', 'lego', 'legitimar_', 'legitimadas_', 'legislativo_', 'legenda_', 'legenda', 'legend_', 'legend', 'legazin_', 'legalzinha_', 'lee_', 'leda_', 'leao_', 'leal', 'league', 'lcool', 'lca_', 'lazaro_', 'lazarillo_', 'lazarenta_', 'laya_', 'lay_', 'lawinovation_', 'lavozmexico_', 'lavozargentina_', 'lavoisier_', 'lavo_', 'lavei_', 'lavar', 'lav_', 'lauu_', 'lauren_', 'lauren', 'laura_', 'laura', 'laudino_', 'lau_', 'latte_', 'latorre_', 'latino_', 'latina_', 'lascou', 'lascado', 'lascada', 'larguem_', 'largue_', 'largo_', 'largava_', 'largatinhos_', 'laranjas', 'laranja_', 'lanka_', 'lands_', 'lanche_', 'lamento_', 'lamentavelmente_', 'lamentar_', 'lamentamos_', 'lambes_', 'lali', 'lala_', 'lajsksjkkkkkk_', 'laissa_', 'lais_', 'laias', 'lagrima_', 'lagrima', 'lagougoutte_', 'lagartos', 'lag_', 'ladies_', 'lacrou_', 'laborat_', 'laaaaa_', 'kyun', 'kxxkxx_', 'kwndjsjsjnfjsj_', 'kursch_', 'kurashima_', 'kunsch_', 'kstore_', 'kslsksksks_', 'kskskskss', 'ksksksksjs_', 'kskskkskskskksksksks', 'kskskas', 'kskksks_', 'kskksk', 'kskkdks', 'ksitetv', 'krolzz_', 'krl_', 'krl', 'krecemo_', 'kpoppers_', 'kpopper', 'kpmg_', 'kpixaba_', 'korean_', 'kolgrim_', 'knowsx_', 'know_', 'know', 'klarolinereunion', 'kl_', 'kkt', 'kksksksks', 'kks_', 'kkkll', 'kkkkl', 'kkkkkkkklkkkkmkkkkkk', 'kkkkkkkkkkkkkkkkk_', 'kkkkkkkkkkkkkk_', 'kkkkkkkkkkkk', 'kkkkkkkkkkk', 'kkkkkkkk', 'kkkkkjjsjj_', 'kkkkkdkdhsksolslslsl', 'kkjj_', 'kjskskj_', 'kizomba_', 'kiwi_', 'kita_', 'kissila_', 'kino_', 'kino', 'kingdom_', 'kindgom_', 'kin_', 'kimono_', 'kilos_', 'killing_', 'killer_', 'kiitos', 'kihyun_', 'kidding_', 'kicking_', 'kick_', 'kibado_', 'khfm_', 'kh_', 'kg', 'kes_', 'kerolly_', 'kenshin_', 'kenobil_', 'kenia_', 'kemta_', 'kefera_', 'kdkskskksksks_', 'kdjddkdjdkdj_', 'kazoid_', 'kayque_', 'kawa_', 'kaue', 'kauanzera_', 'katniss_', 'katia_', 'katia', 'katana_', 'kasahara_', 'kasa_', 'karma_', 'karla_', 'karit_', 'karine_', 'kardashians_', 'kanye_', 'kansksjsnsm_', 'kamtbbike_', 'kakao_', 'kakakakakakakak_', 'kakakaka', 'kakakak', 'kajskaksk_', 'kajdksjsk_', 'kaistal_', 'kaique', 'kai_', 'kaf_', 'ka_', 'ka', 'juventude_', 'justos_', 'justi_', 'just', 'jus_', 'jurunas_', 'juro', 'juri_', 'jurando_', 'jura_', 'jur_', 'juntinho', 'juntas', 'juntando_', 'juntamente_', 'junnior_', 'junhoe_', 'jullia_', 'juliucesar_', 'julias_', 'julianaomi_', 'juliana_', 'julia_', 'julgaram_', 'julgar_', 'julgando_', 'julgamentos_', 'julgam_', 'julga_', 'julg_', 'judy_', 'judeus_', 'judeu_', 'judeu', 'jude_', 'juca_', 'juba_', 'jsksldlsldkd_', 'jpinablewise_', 'jp_', 'jovial_', 'jovem', 'journey_', 'jose_', 'jornalistas_', 'jornalista_', 'jorge_', 'jor_', 'jope', 'jop', 'jooheon_', 'joo', 'jongin_', 'jongbin_', 'jong_', 'jonathas_', 'jojo_', 'joia_', 'johnny_', 'john_', 'jogou_', 'jogodar_', 'jogaram_', 'jogados_', 'jogadores_', 'jogada', 'joga_', 'jog_', 'joelhada_', 'joba_', 'joaoguilherme_', 'joaoamoedo', 'joanaviveiros_', 'joana_', 'joana', 'jo', 'jn_', 'jksfgrjkhk', 'jiwoo_', 'jisung_', 'jiren_', 'jinho_', 'jingle_', 'jiminourangelourworl', 'jiminday_', 'jillia_', 'jie_', 'jian_', 'jhonatas', 'jg_', 'jesuis_', 'jesu_', 'jesse', 'jeongin_', 'jenny_', 'jejum', 'jeitosa', 'jeitos_', 'jeff_', 'je', 'jc_', 'jbl_', 'jbl', 'jaz_', 'jardas_', 'jantando_', 'jantando', 'janhan', 'janelas_', 'janela_', 'janaina_', 'jan', 'jamily_', 'jambo', 'jamal_', 'jalser_', 'jake_', 'jairo_', 'jah_', 'jaehyun_', 'jadepicon_', 'jacket', 'jacar_', 'ja', 'izzy_', 'izzy', 'ixi_', 'iwasaki_', 'ivuuuu', 'itorrent', 'itiiiiii_', 'itiiiii_', 'itii', 'itens_', 'item_', 'itapeva_', 'ita_', 'iso_', 'ish_', 'isentismo', 'isent_', 'isekai_', 'isdead_', 'isbzone_', 'isadorasalles', 'isadora_', 'isabela_', 'isabel_', 'isabel', 'irritante_', 'irrita', 'irrelevante_', 'irracional_', 'ironico_', 'ironicamente_', 'ironia_', 'ironia', 'iron_', 'irmos_', 'irmaozin_', 'irmandade_', 'irma_', 'irlanda_', 'iriss_', 'iris_', 'iriam_', 'iria', 'irem_', 'irei', 'irados_', 'ira_', 'iqui_', 'iq', 'ion_', 'iohana_', 'invitar_', 'invis_', 'investir_', 'investimentos_', 'investiguem_', 'investigado_', 'investiga_', 'investida_', 'investe_', 'invers_', 'invente_', 'inventaram', 'invejo', 'intrometi_', 'introduziria_', 'introduzida_', 'introdu_', 'intolerantes_', 'intolerante_', 'intoler_', 'intimidade_', 'intervir_', 'interuenp', 'interpretar_', 'internauta_', 'internas_', 'internamente_', 'internacional_', 'internacionais_', 'interligado_', 'interligado', 'interiormente_', 'interferiu_', 'interesting_', 'interessem_', 'interessei', 'interessanti_', 'interessantes_', 'interessantes', 'interessados_', 'interessada_', 'interessa_', 'intercasa_', 'interc_', 'interatividade', 'interagir_', 'intenso_', 'intensivo', 'intensa_', 'intendi', 'intencionadas_', 'intellij_', 'inteligenciaartifici', 'intelectual_', 'intelecto_', 'inteirinho_', 'inteirinha_', 'integrar_', 'integralismo_', 'integra_', 'int_', 'insuportavel', 'insuport_', 'insuficiente_', 'institui_', 'instiga_', 'instaurada_', 'instaloose_', 'instalo_', 'instala_', 'instagram', 'instacrepes', 'instabilidade_', 'inspirou_', 'inspirado', 'insisto_', 'insistiram_', 'insistir_', 'insistentemente', 'insistem_', 'inscrito_', 'inscrever', 'inscrevendo_', 'inscrevem_', 'inscreva_', 'ins_', 'inovador_', 'inova_', 'inoc_', 'inkrush_', 'injusto_', 'inimigos_', 'inimigos', 'inimigas_', 'inicie_', 'iniciantes_', 'inicia_', 'inibir_', 'ingus_', 'ingrid_', 'ingredientes_', 'ingles_', 'ingenuidade_', 'infos_', 'informem_', 'informar', 'informam_', 'informado_', 'influenciar_', 'influenciado_', 'inflamat_', 'inflamado', 'inflamada_', 'inflamada', 'infetado_', 'infestada_', 'infernos_', 'infernize_', 'infernizar', 'infantis', 'infantil_', 'inexpressivo_', 'inevitabilidade_', 'inevit_', 'inesperada_', 'ines_', 'industriais', 'indooo_', 'indon_', 'individualismo_', 'indiv_', 'indiretamente_', 'indignados_', 'indignada', 'indidi_', 'indicar_', 'indicando', 'indicada_', 'india_', 'india', 'index_', 'independ_', 'indefeso_', 'ind_', 'incubado_', 'incrivel', 'inconvenientes_', 'inconscientemente', 'inconfund_', 'incondicionalmente_', 'incompleta', 'incompet_', 'incomodando_', 'incomodando', 'incomoda_', 'incomoda', 'incluso_', 'inclus', 'incluindo_', 'inclui_', 'inchado_', 'inchado', 'inchada_', 'incapacidade_', 'inbox_', 'inabilidade_', 'impuros', 'impulsivo_', 'improvavel_', 'improv_', 'improta_', 'imprimir', 'imprest_', 'impressionante_', 'impressionada_', 'impressao_', 'impot_', 'impostos', 'impossivelllll', 'impossivel_', 'impossibilitam_', 'importo', 'importe_', 'importavam_', 'importasse_', 'importaria_', 'importar', 'importante', 'impor_', 'impopulares_', 'imploro', 'implorando_', 'implodindo_', 'implementados_', 'impediu_', 'impedimento_', 'impatia_', 'imparcial_', 'impar_', 'imortalidade_', 'imitadores_', 'img_', 'imensur_', 'imensos_', 'imensa_', 'imediato', 'imbui_', 'imbecis_', 'imax_', 'imaginou_', 'imagino', 'imaginem_', 'imaginei', 'imagine_', 'imaginar', 'imagin_', 'ima_', 'im', 'iluminates_', 'iludir_', 'iludindo_', 'ilude_', 'ilicito_', 'ilicitamente_', 'ilha_', 'il_', 'iiiiinfelizmente_', 'iii_', 'iii', 'ii_', 'ihhhh_', 'ihfalei_', 'igualdade_', 'iguais_', 'igrejinha_', 'igreja_', 'igr_', 'igor_', 'ignorou_', 'ignorem_', 'ignorando_', 'ignorado_', 'ignora_', 'ignora', 'ifood_', 'if', 'idosos_', 'idoso_', 'idoso', 'idologia_', 'idolo_', 'idol_', 'idioma_', 'idh_', 'ides_', 'ideologico_', 'ideologia_', 'identifico_', 'identifica_', 'identidade_', 'identidade', 'ideias', 'ideais', 'idea', 'ide_', 'idc_', 'idai_', 'icone_', 'icon_', 'icia_', 'iceup_', 'icb_', 'icaro_', 'icarai_', 'ica_', 'ic_', 'ibope', 'ibmclouddiscovery', 'ibin_', 'iberostarbellavista_', 'iara_', 'ianveiga_', 'iana_', 'iamos_', 'iam_', 'iam', 'iagsjahueeha', 'iago_', 'iago', 'iae', 'hzhzhzhshhz', 'hz_', 'hyuck_', 'hyojung_', 'hwiyoung_', 'hunt_', 'humorado_', 'humor', 'hummm', 'humilho_', 'humilharam_', 'humilhar_', 'humilhando_', 'humidade_', 'humanismo_', 'humaninho', 'humanidade_', 'humanas_', 'hum_', 'huhuu', 'hugo', 'huge_', 'hug_', 'hubble_', 'huashusahu_', 'htop_', 'htgfjd_', 'htente_', 'hsushshhs_', 'hstans', 'hrsdeciro_', 'hrs', 'hr', 'hq', 'hp_', 'how_', 'houvesse_', 'houver_', 'houve', 'hotel_', 'hot_', 'hospitais_', 'hoseok', 'hortol_', 'hortel_', 'horrores_', 'horrendous', 'horas', 'hopekook_', 'honey_', 'honesto_', 'honestidade_', 'homossexuais_', 'homossexuais', 'homofobicos', 'homofobia', 'homeopatia', 'homem', 'home_', 'hom_', 'holt_', 'holmer_', 'holistic_', 'holandesa', 'hojicha_', 'hojeee', 'hobi', 'ho', 'hmmm_', 'hmmm', 'hjsdhsf_', 'hits', 'hitleriano_', 'hit_', 'historia_', 'historia', 'histlen_', 'hist', 'hipocrisia_', 'hipnose_', 'hill', 'hihih', 'hihi_', 'higuian_', 'hidrata_', 'hiatus_', 'hhahaha', 'hexa_', 'heuehue_', 'heteros_', 'hetero', 'het_', 'hesitar', 'hes_', 'heroes_', 'hermosooo_', 'hermeson', 'here_', 'heram_', 'her_', 'henry_', 'henrique_', 'henn', 'helppp_', 'helplessheart_', 'helpa_', 'help', 'heloisa', 'helo', 'hellenx_', 'hellboys_', 'hell_', 'helen_', 'hehehhe', 'hehehehehehe', 'heheh_', 'heeh_', 'heck_', 'heber_', 'hearts_', 'heart', 'headset_', 'headset', 'heads', 'headphones_', 'hcjxfxgj_', 'hca_', 'hb', 'hazardinho_', 'hayoung_', 'hayley_', 'hay_', 'haver', 'havana_', 'haushsushshsh', 'hauhdjahd_', 'hauhau', 'hauehuaheua_', 'hauehuaehuaheuaehuae', 'hauahsuah_', 'hauahauuaa_', 'hauahauaua', 'haste_', 'harley', 'happyseungminday', 'happyjiminday', 'happy_', 'haonne_', 'hanzen_', 'hannarayssa_', 'hanna_', 'hangman_', 'hangar_', 'hang_', 'handball_', 'hall_', 'haley_', 'hak_', 'hair_', 'hai_', 'hahhaha_', 'hahahhahahah_', 'hahahha_', 'hahahha', 'hahahahhahahahaa_', 'hahahahhaa_', 'hahahahahhahahaha_', 'hahahahahhaha_', 'hahahahahahahahaha_', 'hahahahahahaha_', 'hahahahahaha', 'hahahahaha', 'hahahahah', 'hahahahaa_', 'hahahaha', 'hahahah_', 'hahahah', 'hahah_', 'hahaahahaha_', 'hae_', 'haddaptando_', 'haddadxbolsonaro_', 'haddadpresidente_', 'hacker_', 'hackear_', 'habilita', 'habilidades_', 'haag_', 'ha', 'gzaro_', 'gyn', 'gw_', 'guys_', 'guto_', 'guri_', 'guitarra', 'guita_', 'guinada_', 'guima_', 'guilhermo', 'guigs_', 'guida', 'guiadovoto_', 'gui', 'guharoidads_', 'gugacast_', 'guest_', 'guess_', 'gueis_', 'guedes_', 'gudang_', 'guarulhos_', 'guaruja_', 'guardinha', 'guardei_', 'guardar_', 'guardado_', 'guarapuava', 'guapa_', 'guajajara_', 'gta_', 'gs_', 'grupos', 'grupo', 'grupinho_', 'grup_', 'gruen_', 'grudadinha_', 'grudadas_', 'grr_', 'grosso_', 'grondin_', 'grobo', 'gritou_', 'gritou', 'gritooooo_', 'grito', 'gritinho_', 'gritar', 'gritante_', 'gritando', 'gritaaa', 'gris_', 'gripada', 'gringo_', 'grimas_', 'grimas', 'grima', 'grigio_', 'griega', 'greves_', 'greve', 'grego_', 'greghi_', 'grega', 'greenwall_', 'grazas', 'graxinha_', 'gravei_', 'gravat', 'gravasse_', 'gravar', 'gravadora_', 'grav_', 'graus_', 'grato_', 'gratificante_', 'gratid_', 'gratas_', 'grata', 'grao_', 'granulado_', 'grandalh_', 'grand_', 'grana', 'gramatical_', 'grafite_', 'grafa_', 'gradua_', 'grado_', 'grades', 'grade_', 'gracinha', 'gpallotta_', 'gozonaro_', 'gozar_', 'gozam', 'governo', 'governado_', 'governabilidade_', 'governa_', 'governa', 'gov', 'gotinhas_', 'gostou', 'gostosos_', 'gostos_', 'gostinho_', 'gosteu_', 'gostem_', 'gostava', 'gostarem_', 'gostar', 'gostamos_', 'gostadokkkkkjj_', 'gosta', 'gossip_', 'gospel_', 'gorpe_', 'gorjas_', 'gordurosos_', 'gordola_', 'gordo_', 'gordin_', 'gordao_', 'gorda', 'goncalves_', 'gon_', 'goleiro_', 'gola_', 'gol_', 'gokbm_', 'gokabum', 'goiano_', 'goiano', 'goi_', 'gogogo_', 'godoy_', 'gnito_', 'globoplay_', 'globe', 'gll_', 'gisa_', 'girls_', 'girassol_', 'gira_', 'giovanna_', 'giotwitter', 'gios', 'ginny_', 'gilmar_', 'gillete', 'gigantesco_', 'gigante', 'gif', 'gica', 'gibberish_', 'gias_', 'gianluca_', 'giachini_', 'gi_', 'gi', 'ghisleri_', 'get_', 'gesto_', 'gestaoestrategica', 'gestaoclick_', 'geralmente_', 'geraldo_', 'gera', 'georgina_', 'geo', 'gently_', 'gentileza', 'gentil_', 'gentes_', 'genoc_', 'gennaio_', 'genial', 'gengibre_', 'genesis_', 'genes_', 'generalizar', 'generalizando', 'genaro_', 'gena_', 'geminada_', 'gemia_', 'geme', 'gema_', 'gem', 'gelman', 'gelatina_', 'gelados_', 'gelado_', 'geladinho_', 'geisiane_', 'gde_', 'gazerock_', 'gayverse_', 'gatsby_', 'gatos', 'gatinhava_', 'gate_', 'gatas_', 'gastrite_', 'gastrite', 'gastou_', 'gaste_', 'gastaram_', 'gastando_', 'gasta_', 'garrett_', 'garrafinha_', 'garrafas', 'garrafa_', 'garra', 'garotos_', 'garotao', 'garibaldi_', 'garganta', 'garcia_', 'garantido_', 'garantida_', 'garante_', 'ganzarolli', 'ganja_', 'ganho_', 'ganho', 'ganhei', 'ganhe_', 'ganhava_', 'ganhaste', 'ganhasse_', 'ganhasse', 'ganharia_', 'ganhadores_', 'ganhador_', 'ganhado', 'ganga', 'gang', 'gancho_', 'ganado', 'gamma_', 'games', 'gameplay_', 'gamelos', 'game', 'galinha_', 'galho_', 'galhardo_', 'galeria', 'gale_', 'galdino_', 'galaxy_', 'gala_', 'gajo_', 'gajas_', 'gain_', 'gabyo_', 'gaby_', 'gabriel', 'gabisantt_', 'gabiezoca', 'gabie_', 'gabi', 'gab_', 'fzr', 'fx', 'fvarias_', 'fv_', 'fux_', 'futuros_', 'futuramente_', 'futuramente', 'futebol', 'funny_', 'funk', 'funer_', 'funciuona_', 'funcionou_', 'funcionasse_', 'funcionarismo_', 'funcionando', 'funcionamos_', 'funcionam', 'funcional', 'funciona', 'fumo_', 'fumaaaaa_', 'fullmetal', 'fuideber_', 'fugiu_', 'fugir_', 'fuga_', 'fue_', 'fudidasso_', 'fudeu_', 'fudeu', 'fudendo_', 'fudendo', 'fucking_', 'fu_', 'frutas_', 'frustrado_', 'frozen', 'frota_', 'front_', 'froka_', 'frisk_', 'frioooo_', 'frigging_', 'friend_', 'friend', 'friedenau_', 'friede_', 'frica_', 'fria_', 'fresquinho_', 'fresquinha_', 'fresh_', 'frescura', 'fresco', 'frequentemente_', 'frequentemente', 'frequentador_', 'freixo_', 'freelas_', 'freela_', 'fredy_', 'freak_', 'freada_', 'fraudes_', 'frari_', 'frari', 'fraquinho_', 'fraqueza_', 'fraquejei_', 'franzir_', 'franzindo_', 'franquias_', 'franol_', 'frankie_', 'franga_', 'franfrann_', 'frances_', 'france', 'fraco_', 'fracassado_', 'fraca', 'fps', 'fpmc', 'foz_', 'fotte_', 'fotografia_', 'fotografado_', 'fot_', 'fossemos_', 'forum_', 'fortemente_', 'fortalecer_', 'fortalecer', 'fortalece', 'foro_', 'formular_', 'formou_', 'formiguinha_', 'formiguinha', 'formiga_', 'formato_', 'formas_', 'formas', 'formalidade_', 'formacaoprofissional', 'formacaocertificada', 'fores_', 'forense_', 'forcei_', 'force_', 'foraptno_', 'fools_', 'foodeat', 'fontes_', 'fontana_', 'fomba_', 'follow_', 'follow', 'folhinhas_', 'folhas_', 'folguinha_', 'folga_', 'fogos', 'fogo', 'foge_', 'fofx_', 'fofurinhas_', 'fofos_', 'fofos', 'fofoqueira_', 'fofinho_', 'fofinha', 'fofin', 'fofa', 'fodidos', 'fodido_', 'fodi_', 'fodi', 'fodeu_', 'foderam_', 'fode_', 'fodasse_', 'fodas_', 'fodas', 'fodaaase_', 'focado_', 'fobos_', 'fnac_', 'fmup', 'flutua_', 'fluminense', 'flu_', 'florzinha_', 'florzinha', 'florida_', 'flores_', 'flor', 'flopis', 'flopando_', 'flogging_', 'flnd_', 'flf_', 'flertar_', 'flerta_', 'flautista_', 'flashback_', 'flamingo_', 'flamengo', 'flaipa_', 'fkn_', 'fkdkdk_', 'fizeste_', 'fizesse_', 'fixolas_', 'fixe', 'fix', 'five_', 'fitl_', 'fitadiavam_', 'fita_', 'fisica_', 'fiscalizar_', 'firmes', 'firme', 'firma_', 'firma', 'fire_', 'fiquem', 'fios_', 'fiof_', 'finn', 'finjo_', 'fini', 'fingido', 'financiar_', 'financeiros_', 'financeiras_', 'finan_', 'finalzinha_', 'finalizou_', 'finalizei_', 'fin_', 'filosofiaaaaa_', 'filosofia_', 'filmes', 'filme', 'filmando_', 'filiar_', 'filhq_', 'filhotinho_', 'filhotes_', 'filhota_', 'filhos', 'fil_', 'fiesp_', 'fies_', 'fiel_', 'fido_', 'ficasse_', 'ficas_', 'ficariam_', 'ficarei', 'ficando', 'ficaadica_', 'ficaaa_', 'fic', 'fia_', 'fgo_', 'fgc_', 'fff_', 'feys_', 'fetichista_', 'festival_', 'festinha_', 'festaaa_', 'festa', 'fesses_', 'fervido_', 'ferver_', 'ferve_', 'ferreirinha_', 'ferreira_', 'ferrari_', 'ferramentas_', 'ferrado_', 'ferrada_', 'fernnandes_', 'fernandes_', 'fernanda_', 'ferir_', 'ferir', 'feriadinho_', 'fera', 'feo_', 'fen_', 'feministas_', 'feminismo', 'feminina_', 'fem_', 'felizona_', 'felizinha', 'felizes', 'felizdiadascriancas_', 'felizardo_', 'felippe_', 'felipo_', 'felipefranca_', 'feliiiz', 'felicihaddade_', 'felic_', 'feitosa', 'feitos_', 'feitos', 'feitinho_', 'feitas', 'feiras', 'feira', 'feios_', 'feio_', 'feels', 'federais_', 'fed', 'fechou_', 'fecharam_', 'fechado', 'fechada', 'febril_', 'febre', 'feats_', 'feartwd_', 'feartwd', 'fdp', 'fdf_', 'fdd_', 'fdd', 'fdb_', 'fd_', 'fd', 'fba_', 'fazeres_', 'fazerem_', 'fazerem', 'fazeram_', 'fazenda', 'faze_', 'faxina_', 'favorzito_', 'favoritos', 'favorito', 'favorece_', 'favo_', 'favelado_', 'favela', 'fav', 'fausto_', 'fatou', 'fato', 'fatima_', 'fate_', 'fastresp', 'fastidio_', 'fascistinha_', 'fascistas_', 'fasc_', 'farpas_', 'farm_', 'farias_', 'fara_', 'fantoche', 'fantasy_', 'fantasmagoria', 'fantasias_', 'fantasiar', 'fantasia_', 'fanta_', 'fansub_', 'fanpage_', 'fanfic_', 'fancam_', 'fanbase_', 'fanatismos_', 'fanatica_', 'famoso', 'famosinhas_', 'famosas_', 'family_', 'faltou', 'falto_', 'faltes', 'faltas_', 'faltarei_', 'falsos_', 'falsooooo', 'falsooo_', 'falso', 'falido_', 'falho', 'falhamos_', 'falha_', 'faleceu_', 'falcon_', 'falc_', 'falavam_', 'falas_', 'falas', 'falarem_', 'falarem', 'falanu_', 'falamoss_', 'falado_', 'fajutos_', 'faixas_', 'fahur_', 'fafnir_', 'fadinha', 'fada', 'faculdades_', 'facul', 'facistinha_', 'facistinha', 'facistas_', 'facista', 'facim_', 'facilitando_', 'fachos', 'faces_', 'faced_', 'face', 'facada', 'faca', 'fac_', 'fabricio_', 'fabricia_', 'fabiano_', 'fabi_', 'faa_', 'fa', 'ezinhos', 'eyshila_', 'exxxtrema_', 'exu_', 'extresse_', 'extremo_', 'extremistas_', 'extremas_', 'extrema_', 'extrema', 'extra_', 'externamente_', 'exteriormente_', 'extenso_', 'extens_', 'expurgar_', 'expuls_', 'expresso_', 'express_', 'expor_', 'explota', 'explos_', 'explorava_', 'exploram_', 'exploda', 'expliquem', 'explico_', 'explico', 'explicando_', 'explicamelo', 'explicado_', 'explica', 'expl_', 'experimente_', 'experimentando_', 'experientes_', 'experiencia_', 'expediente_', 'expectativas_', 'expectativa_', 'exol_', 'exm_', 'existo_', 'existiu_', 'existia_', 'existia', 'existencial_', 'existencia', 'existem', 'exilar_', 'exigir', 'exige_', 'exerceu_', 'exercermos_', 'exercendo', 'exelente_', 'executiva', 'execu_', 'excursioneshabana_', 'exclusivo_', 'exclu_', 'excelente', 'exce_', 'exaustivo_', 'exausta_', 'exarcebada_', 'exames_', 'exaltar_', 'exalando_', 'exagero_', 'exagerei', 'exactamente_', 'ex', 'ew_', 'evoluir_', 'evoluindo_', 'evolucao_', 'evolu_', 'evitou_', 'evito_', 'evitar', 'evitando_', 'evita_', 'evil_', 'everything_', 'everybrickisawesome_', 'eventualmente_', 'eventos_', 'evento', 'evans', 'evangelistaa_', 'euzinha', 'euuuu_', 'eusouplus_', 'eusouhacker_', 'euros', 'europeia_', 'eunha_', 'eunbinha_', 'eumesma_', 'eucalipto_', 'euapoio_', 'eua_', 'eua', 'eto_', 'etiqueta_', 'eternas', 'esvaziado_', 'estuprou_', 'estupro_', 'estuprador_', 'estuprada', 'estupido_', 'estupidamente_', 'estudos', 'estudo', 'estude', 'estudantes_', 'estudamos_', 'estudado_', 'estudadinha_', 'estruturais_', 'estrupada_', 'estrondo_', 'estrilinhas_', 'estressei_', 'estressante_', 'estressada_', 'estressada', 'estressa_', 'estresa_', 'estrela_', 'estrat_', 'estranhos_', 'estranho', 'estranha', 'estranh_', 'estrangular_', 'estraguei_', 'estragou_', 'estragaram_', 'estragado_', 'estr_', 'estouu_', 'estourado_', 'estos_', 'estoque_', 'estoque', 'esto_', 'estivessem_', 'estivermos_', 'estimular_', 'estimulantes_', 'estilo', 'estejas_', 'estej_', 'estante_', 'estamo_', 'estalinismo_', 'estabelecimento_', 'essw_', 'essencial_', 'essenciais_', 'esquivou_', 'esquisito_', 'esquisita_', 'esquina_', 'esquerdas_', 'esquerda', 'esquentar_', 'esquentadinha_', 'esquecido_', 'esquecido', 'esqueci', 'esqueceram_', 'esquecer', 'esquecendo', 'esqueca_', 'esquec_', 'espuma_', 'espresso', 'esports_', 'esportiva_', 'esport_', 'esponja', 'esplanada', 'espirais_', 'espindula_', 'espi_', 'espetinho_', 'espetar_', 'espetada', 'espertas_', 'esperem_', 'esperei_', 'espere_', 'esperava_', 'esperaria_', 'esperano_', 'esperanca_', 'esperan', 'espelho', 'especular', 'espectral_', 'especifico_', 'especificamente_', 'especificamente', 'especificado_', 'especialmente_', 'especial', 'especiais_', 'espec_', 'esparecer_', 'espanto_', 'espanquem_', 'espanquei_', 'espanhola_', 'espanha_', 'espanco_', 'espancada', 'espanca_', 'espalhem_', 'espalhar_', 'espalhando_', 'espada_', 'esos_', 'esgotar_', 'esgotada_', 'esfumar', 'esfiha_', 'esfera_', 'ese_', 'escuto', 'escutei_', 'escute_', 'escutava', 'escutar', 'escutando_', 'escutam_', 'escuta_', 'escuro_', 'escurinho_', 'escurid_', 'escultura_', 'esculpir', 'esculacho_', 'escrotos_', 'escroto_', 'escritores_', 'escrita_', 'escriba_', 'escreveu', 'escrevam_', 'escravas_', 'escorregou_', 'escorada_', 'escondeu_', 'escolhi', 'escolheres', 'escolheram_', 'escolhendo_', 'escolhas', 'escolaaaa', 'esclarecido', 'esclarecidas_', 'esclarecer_', 'esclarecer', 'escancara_', 'escambau', 'escadas_', 'esc_', 'esbarrou_', 'ervadaniinha_', 'erros', 'errar_', 'errados_', 'erradas_', 'erp_', 'erotiza_', 'erika_', 'ereto', 'erasmus_', 'er_', 'equivocando_', 'equival_', 'equipada_', 'equipa_', 'equidade_', 'epub_', 'eps_', 'epoca_', 'episode_', 'epi', 'epa_', 'enxergar_', 'enxarcado_', 'enxaqueca', 'envolvidos', 'envolvidas_', 'envolver_', 'envolver', 'envolvendo_', 'envolve_', 'envie_', 'enviamos_', 'envergonhada_', 'entupir_', 'entroncamento', 'entro', 'entrevistas_', 'entrevistado_', 'entrevistado', 'entrega', 'entraremos_', 'entraram', 'entramos_', 'entrado_', 'entradinha_', 'entradas_', 'entomofagia_', 'entiende', 'enterrada_', 'entero_', 'enter_', 'entento_', 'entendido_', 'entenderiam_', 'entenderem_', 'entenderam_', 'entenderam', 'entendendo_', 'entendendo', 'entendemos', 'entenda', 'entaaao_', 'ensinas_', 'ensinando_', 'ensinam_', 'ensaios', 'enrustido_', 'enrolou', 'enrolada', 'enraizado', 'enraizadas_', 'enquete_', 'enquadrar_', 'enojado_', 'enlouqueceu_', 'enjoy', 'enjoo_', 'enjoado', 'enjoada', 'engordei', 'engordas', 'engoliu_', 'engolir_', 'engole_', 'engenheiro_', 'engenharia_', 'enganei_', 'enganchou_', 'enganar_', 'engana_', 'engajados_', 'engajada_', 'eng', 'enfrentou_', 'enfrenta_', 'enfrent_', 'enfim', 'enfiem_', 'enfiasse_', 'enfiando_', 'enfiamos_', 'energy_', 'energia', 'endurece_', 'endere_', 'end_', 'encubado_', 'encosto', 'encontro', 'encontrar', 'encontramos_', 'encontram_', 'encontrado_', 'encontrado', 'encontra_', 'encomendo_', 'encomendei_', 'encomendas_', 'encolhida_', 'enchi_', 'encherem_', 'enchendo_', 'enche_', 'encerro_', 'encerramento_', 'encarando_', 'encantar_', 'encantan_', 'encantados_', 'encantado_', 'encanta_', 'enaltecer_', 'enaltecendo_', 'enaltecem_', 'enaltece_', 'empurrando_', 'emprestei_', 'emprego', 'empregado_', 'empolguei_', 'empolguei', 'empolgado_', 'empolga_', 'empezar_', 'empatia', 'empatados_', 'empatado_', 'empatada_', 'emotiva_', 'emoldurar_', 'emocionado_', 'emocionada_', 'emo', 'emmmm_', 'emerson_', 'emergentes', 'emepenho_', 'emendar', 'embuste_', 'emburrecer_', 'embasar_', 'embarcou_', 'embaixo_', 'embaixo', 'emagrecer_', 'elvira_', 'elric_', 'elplandetriniybenja_', 'elogios', 'ellengf_', 'ellen', 'elitista_', 'eli_', 'elh_', 'elevar_', 'elena_', 'eleitores', 'eleitorais_', 'eleita', 'eleicoes_', 'eleicao', 'elegeram_', 'elegeram', 'elegendo_', 'elegant', 'elaine_', 'elaboro_', 'elaborar_', 'ek_', 'eitaaaa_', 'eitaaa', 'eita', 'eiiiiiiiitaaaaa', 'eiiiii_', 'eidson', 'eheheh_', 'egoista_', 'egoc_', 'efici_', 'eff_', 'eff', 'efe_', 'ef_', 'eeer_', 'eeeem_', 'eeeeee_', 'eeee', 'eee_', 'eee', 'eea_', 'edunsimon', 'educar_', 'educando_', 'educador_', 'educado', 'eduardo_', 'editorial_', 'editor_', 'editor', 'edition_', 'editar_', 'edit_', 'edimar_', 'ediciones_', 'edici_', 'edfbc_', 'ed_', 'ecr_', 'ecossistema_', 'economiza_', 'economista_', 'economist_', 'economicamente_', 'ecomuseu_', 'eclipse_', 'echo_', 'echamela_', 'ebe_', 'ebd_', 'ebad_', 'eba', 'earp_', 'ea_', 'dzer_', 'duviiiiido_', 'duvidava_', 'duvidas', 'duvida_', 'dutra_', 'dustfox_', 'duro_', 'durmo', 'durmi_', 'durma_', 'dure_', 'duraveis_', 'duramente_', 'dura', 'duquette_', 'duplo_', 'dupe', 'duos_', 'duopolio_', 'duo_', 'dumbledore_', 'dulia_', 'dula_', 'duende', 'dudu', 'dudalina', 'duda', 'dual_', 'du_', 'dsd_', 'dscp_', 'dsclp_', 'ds_', 'dry_', 'druid_', 'drug_', 'drs', 'droppo', 'dropar_', 'drogas_', 'drogas', 'drogado_', 'drogada', 'drive', 'dribbling_', 'drena', 'dreaming_', 'dreads_', 'dratini_', 'dramas_', 'drama', 'drag_', 'draco_', 'dps', 'dowoon_', 'dowoon', 'downtown', 'download_', 'douglas_', 'dou', 'dosul_', 'dorzinha_', 'dorrrrmirrrrrrr_', 'dormido_', 'dorm', 'doria_', 'doria', 'dorgas_', 'dorei_', 'dont_', 'donini_', 'donapivara_', 'donald_', 'don_', 'domo_', 'domino_', 'dominion_', 'dominicana_', 'domingodetremurasdv', 'dominando_', 'doloroso', 'dolor_', 'dolo_', 'dolleta', 'dolinha', 'dolar_', 'doido', 'doiderinhas_', 'doidera_', 'doi', 'doguiro_', 'dog', 'doeu', 'doer_', 'doer', 'doentio_', 'doentes_', 'doen_', 'doe_', 'dodoi_', 'documento_', 'documentario_', 'docinhos', 'docinhooo_', 'docinho_', 'doces_', 'doce', 'dobro_', 'dobrei_', 'dobramos_', 'dobra_', 'doa_', 'dngl_', 'dmmm', 'dmais_', 'dle_', 'dlc_', 'dko_', 'dknn_', 'djav_', 'django_', 'dj_', 'dizias_', 'dizes', 'dizeres_', 'dizer', 'dix_', 'divulgar', 'divulgando', 'divis_', 'divirto_', 'divirta', 'dividisse_', 'dividir', 'divertindo', 'divertidos_', 'divertida_', 'diverti', 'diversidade_', 'diversidade', 'divers_', 'ditas_', 'ditador_', 'dita', 'distribui_', 'distrair_', 'distrair', 'distinto_', 'distintas_', 'distanciei_', 'dissoooooo_', 'disson_', 'disseste_', 'dissesse_', 'disserta_', 'disseminar_', 'dispostos_', 'disponivel_', 'disponibilizou_', 'disperso_', 'dispenso_', 'dispensar', 'disparadamente_', 'disorder_', 'disney_', 'disney', 'disk_', 'discutissem_', 'discutir', 'discutindo_', 'discutam_', 'discursinho_', 'discri_', 'discretamente_', 'discrep_', 'discordo_', 'disband_', 'disappointed_', 'dirk_', 'dirigindo', 'dirige_', 'diria_', 'diria', 'direta_', 'direitolas_', 'direitista_', 'direitinho', 'direitaunida_', 'direitaseguedireita', 'dirceu_', 'diploma_', 'dioniso_', 'diogo_', 'diogo', 'dinner_', 'dinda_', 'diminuiu', 'diminu_', 'dimas_', 'dima_', 'diii', 'digos_', 'digitar', 'digitallaw_', 'digital_', 'digitais', 'digamos_', 'digam', 'dificuldade_', 'dificil', 'dific_', 'diferencas_', 'difama_', 'dieta', 'diego_', 'diego', 'did_', 'diazinho_', 'diary_', 'diann_', 'diana_', 'diamundialdovegetari', 'dialoga_', 'diagonal', 'diadovendedor_', 'diabos_', 'diaaaaas_', 'diaaaaa_', 'diaaa', 'diaa', 'dhr_', 'dezembro_', 'devora_', 'devops_', 'devonne_', 'devolves_', 'devolva_', 'devochka_', 'devo', 'deves_', 'devendo_', 'devendo', 'devemos_', 'devastado_', 'devastada_', 'devagarinho', 'deva_', 'dev_', 'dev', 'deussss_', 'deuss', 'deusnocomando_', 'deusa_', 'deui_', 'detrem', 'detran_', 'detonada_', 'detesta_', 'determinado_', 'detentor', 'detector_', 'detalhe_', 'desvios_', 'desvio_', 'desviamento_', 'desvendar_', 'desvalorizaram_', 'desvalorizado', 'desumano_', 'destr_', 'destiny_', 'destino_', 'destacam', 'destacado_', 'desservi_', 'desrespeitadas_', 'desrespeitada', 'despreparado_', 'desprender_', 'desporto', 'despertou_', 'despertador_', 'despencar_', 'despedindo_', 'despedi_', 'desocupada_', 'desnud_', 'desmobiliza_', 'desmentida_', 'desmente_', 'desmaiei_', 'desisto', 'desistiu_', 'desistir', 'desistido_', 'desista_', 'desinstalei_', 'desinformativo_', 'desinforma_', 'design_', 'desgurpa_', 'desgastante', 'desfeitas', 'desfecho_', 'desesperes_', 'desesperado_', 'desesperadas_', 'desesperadamente_', 'deserdei_', 'desenhou_', 'desenhosss_', 'desenho', 'desenhista_', 'desenhas_', 'desenharia_', 'desenhar', 'desenha_', 'desempregado_', 'desempenho_', 'desejou_', 'desejam_', 'desdentado_', 'desculpem', 'desculpas', 'descubro_', 'descubra_', 'descontrolado_', 'descontra_', 'desconto_', 'descontinuado_', 'descontentamento_', 'descontar_', 'desconhecia_', 'desconfiava_', 'desconfiar_', 'descomunal_', 'descobrirei', 'descobrimos_', 'descobri', 'descendo_', 'descaso', 'descartada_', 'descart_', 'descanse_', 'descansa_', 'descansa', 'desbloque_', 'desatam_', 'desastrosas_', 'desastrosa', 'desastre_', 'desastre', 'desarmar_', 'desapega_', 'desaparecer_', 'desapaixonei_', 'desapaixonar', 'desanimou', 'desanime_', 'desanimar_', 'desanimado_', 'desanimada_', 'desandar_', 'desamparada', 'desafios_', 'desafiodapuberdade', 'desacreditado_', 'desacreditada_', 'desacordo', 'desabei_', 'desabafo_', 'desabafe_', 'derrubasse_', 'derrubar', 'derrotada_', 'deres_', 'der', 'deputadxs_', 'deputados', 'deputador_', 'deputado', 'deprimido_', 'depressivas_', 'depressa_', 'deposita_', 'deportivos_', 'depoimento_', 'depilada_', 'depender_', 'dependem_', 'dependa_', 'departed_', 'deos', 'deobis', 'denunciar_', 'dente_', 'denny_', 'denis', 'dengosinho_', 'denada', 'den_', 'demostrar_', 'demorou_', 'demorei_', 'demorando_', 'demoram_', 'demonstraram', 'demonstram_', 'demoniza_', 'demolay_', 'democrata_', 'demetria_', 'demetr_', 'demb_', 'demanda', 'demaaaaais_', 'delkoz_', 'delinquentes_', 'delimitada_', 'delicinha', 'delicia', 'delezinho', 'deletar_', 'deleta', 'delca_', 'delator', 'dejando_', 'deixes_', 'deixei', 'deixavam_', 'deixava_', 'deixava', 'deixas', 'deixarem_', 'deixaram', 'deixamos_', 'deitou_', 'deitar', 'dei', 'deh_', 'degolado_', 'definir_', 'defini_', 'define', 'defesa', 'defense_', 'defendia_', 'defendes_', 'defenderem', 'defender', 'defendem_', 'defecou_', 'defb_', 'def_', 'deeeh_', 'deeeeeus_', 'dedut_', 'dedos_', 'dedos', 'dedo', 'dediquei_', 'dedinhos_', 'ded_', 'decorativa_', 'decorar_', 'declarou_', 'declarar_', 'declarando_', 'declarado_', 'decido_', 'decide_', 'decepcionou_', 'decepciono_', 'decepcionei_', 'decepcionante_', 'decepcionante', 'decepciona_', 'decd_', 'dec_', 'debutar_', 'debut_', 'debut', 'debs_', 'debs', 'deboche_', 'debocha_', 'debati_', 'debater', 'debatepe', 'debatenaglobo', 'deas_', 'ddd_', 'dc', 'dboa', 'db_', 'db', 'dayrol_', 'daycamp', 'daya_', 'day', 'dawoon_', 'davi_', 'davanzo_', 'dataslight_', 'dasilva_', 'dashboard', 'darte_', 'darmos_', 'darei_', 'daredevil_', 'daq_', 'daora_', 'dans_', 'danilo_', 'danillo_', 'danielzinho', 'danielsorriso_', 'dani', 'dando', 'damo', 'damnkaty_', 'dami_', 'damatii_', 'damassa_', 'dalhe_', 'dalferth_', 'daki_', 'daily_', 'daddy_', 'daddy', 'dadas_', 'dada_', 'dabbie', 'daamorin_', 'daaaaaaa_', 'cynthia_', 'cyclone_', 'cvs_', 'cuzinho_', 'cuz_', 'cuunha_', 'cute_', 'custodiio_', 'custeia_', 'custe_', 'custava_', 'custas_', 'cuscuz', 'curtiu', 'curtir', 'curtinho', 'cursos_', 'curso', 'cursinho_', 'curitiba_', 'curiosos_', 'curioso_', 'curioso', 'curiosidades_', 'curiose_', 'curieuses_', 'cura_', 'cuphead_', 'cunhado_', 'cumulativos_', 'cumprir', 'cumprimenta_', 'culturalspam_', 'cultural_', 'culturais_', 'culpo_', 'cula_', 'cula', 'cuidados_', 'cuidado', 'cuidada_', 'cuida', 'cuiab_', 'cuba', 'cuarta_', 'ctza_', 'ctt', 'ctea_', 'ctba', 'csgo_', 'csa', 'crzy_', 'crypto_', 'cruzadinha_', 'cruzadica_', 'cruzada_', 'cruz_', 'crushandk_', 'crover_', 'cronometrado', 'croch', 'crobra_', 'crlho_', 'crlh_', 'crl_', 'crl', 'criticar', 'criticando_', 'critas_', 'crita_', 'crit_', 'cristo_', 'cristo', 'cristiano_', 'cristiano', 'cristalina_', 'cristal_', 'crises_', 'cris_', 'criminoso_', 'criatura_', 'criativo_', 'criativa_', 'criarem_', 'criando_', 'criancinha_', 'crianca', 'cria_', 'cria', 'crf_', 'cresi_', 'crescimento_', 'crescimento', 'crescido_', 'crescidinhos', 'cresci_', 'cresceu_', 'crescer', 'crescente_', 'cresce_', 'crepes_', 'crentes_', 'crente_', 'crente', 'crendo_', 'crendeuspai', 'creminho_', 'cremilde', 'creme_', 'creed_', 'credo_', 'credo', 'credicard_', 'credencial_', 'cravado_', 'crackle_', 'cozy_', 'cozy', 'cozinho_', 'cozinhas_', 'cozinhamos_', 'cozido', 'coxear_', 'covinhas', 'covers_', 'cover_', 'covardia_', 'couto_', 'coutinho', 'couse_', 'coto', 'cota_', 'cot', 'costumes_', 'costumam_', 'costuma_', 'costao', 'cosplay_', 'coso_', 'cosmos_', 'cosas', 'corujinha_', 'cortou_', 'cortes_', 'corteime_', 'cortaram_', 'cortando_', 'corrupta', 'corrija_', 'corrigir_', 'corrigindo_', 'corrigido_', 'corrigi', 'corridos_', 'corrido_', 'corrida_', 'corrida', 'correu', 'corretor', 'correto_', 'correta', 'correspondentes', 'correria_', 'correr', 'correios', 'corredores', 'correcte', 'corr_', 'corpos_', 'corpooo', 'corpito', 'corpinho_', 'corpasso_', 'corote_', 'coronelista_', 'coroa', 'corner', 'corja_', 'cordei', 'coral_', 'coragem', 'coquetel', 'copo', 'copiar_', 'coordena_', 'cooler_', 'convocou', 'convocando_', 'conviver_', 'conviver', 'convivem_', 'conviva_', 'convites', 'convidem', 'convidammm', 'convidam_', 'convidado_', 'convidada_', 'convid_', 'convictos_', 'converter_', 'conversou_', 'converso_', 'conversas', 'conversamos_', 'conversada', 'conversaar', 'conversa', 'conveniente_', 'convencido_', 'convenceu_', 'controlar_', 'controlana', 'contribuir_', 'contribui_', 'contribuam_', 'contratou_', 'contrato', 'contooo', 'conto_', 'continue', 'continuaremos_', 'continuarem_', 'continuarei', 'continuando_', 'continuamente_', 'continua', 'continho_', 'continha', 'contexto_', 'contente_', 'contentar_', 'contenta_', 'contempor_', 'contei_', 'contei', 'contava_', 'contatinho_', 'contas', 'contares_', 'contamos_', 'contamino_', 'contam', 'contagiar_', 'contadas_', 'contacto', 'contactar_', 'cont_', 'consumo_', 'consumirmos_', 'consumir_', 'consultor_', 'consultar_', 'construindo_', 'constatando_', 'constar_', 'constante', 'consta_', 'consome', 'consolo', 'consolidar_', 'consolidadissima_', 'consoles', 'console_', 'consoante_', 'consigam_', 'considerou_', 'considerada', 'conservadores_', 'conservadora_', 'conservadora', 'consertar', 'consequente_', 'consequencia_', 'consequencesmidnight', 'consequences_', 'consentimento_', 'consejos_', 'consejo_', 'conseguiu', 'conseguires_', 'conseguindo', 'conseguimos_', 'conscientizo_', 'conscientizar_', 'conscientes_', 'conscientes', 'consagrado', 'conrado_', 'conquistaram_', 'conquistador_', 'conquistado_', 'conquista', 'conjuntura_', 'conjunto_', 'conjuntivite', 'coniventes_', 'conhecimento_', 'conhecia', 'conheceu_', 'conheceste_', 'conhecendo_', 'conhecendo', 'conhecemos', 'conhec_', 'congrats_', 'congelado', 'confuso', 'confus_', 'confundir_', 'confundi_', 'confunde_', 'confrontei_', 'conforto_', 'conforte_', 'conforta', 'conformista_', 'conforme_', 'confirmou_', 'confirmo_', 'confirmassem_', 'confirmado_', 'confirmada_', 'confirma_', 'confima', 'configura_', 'confiem_', 'confident', 'confiavel_', 'confiava_', 'conferir', 'conferida_', 'confere', 'confer_', 'conex_', 'conectado_', 'conduta_', 'condu_', 'condizer_', 'condizem_', 'condigo_', 'condicionado_', 'condenado_', 'concursos_', 'concre', 'concorrido_', 'concorrer_', 'concorre_', 'concordar', 'concordamos_', 'concordam_', 'concorda', 'concorar_', 'conchinha_', 'concertos_', 'concentrada_', 'conceito_', 'concei_', 'conce', 'comunistas_', 'comumente_', 'computer_', 'computador', 'computado', 'comprovante_', 'compromisso_', 'compromisso', 'compreens_', 'compreender_', 'compreenda_', 'comprarem', 'comprando_', 'comprados_', 'compradores_', 'comprado', 'comprada_', 'compr_', 'composta_', 'comportamento_', 'compor_', 'complicou', 'complication_', 'complicado', 'complica_', 'complica', 'complexos', 'completar_', 'completando_', 'completamente', 'completa_', 'complementando', 'competividade_', 'competitive_', 'competitivamente', 'competi_', 'compete', 'compensar', 'compensa_', 'compartilhem', 'compartilhe_', 'compartilhe', 'compartilhamos_', 'compareceu_', 'compareceram_', 'compareceram', 'comparece_', 'compare_', 'companhia', 'companheiro', 'companheira_', 'compactuou_', 'compactuam_', 'community_', 'comments_', 'comiss_', 'cominho_', 'coming', 'comigoooo', 'comido_', 'comidas_', 'comia_', 'comeu_', 'cometidas_', 'cometer_', 'comeste_', 'comeres', 'comerem_', 'comerem', 'comercializados_', 'comercial_', 'comentem_', 'comentei_', 'comente', 'comentado_', 'comendo', 'comen_', 'comemorar_', 'comemorando', 'comemorado_', 'comem_', 'comedia', 'comecemos_', 'comecem_', 'comeback', 'comboio_', 'combo_', 'combinar_', 'combinamos_', 'combatividade', 'combateaocancer', 'combat_', 'comas_', 'comando', 'comandante_', 'coma_', 'com', 'coluna_', 'colorida_', 'colonizador', 'coloco_', 'coloco', 'colis', 'coletivo', 'colet_', 'coleguinha_', 'colecionar_', 'coladinha_', 'colaborativo_', 'colaboram', 'colaboradores_', 'colabora', 'cola', 'coitadinho_', 'coitadinha', 'coisinhas', 'coisar', 'coisada_', 'coisad_', 'coins_', 'coincidentemente_', 'coincid_', 'coin_', 'cognitiva_', 'cofre_', 'cofre', 'coffee_', 'coerentes', 'coerente_', 'coelho_', 'coelho', 'coelhinhos', 'coelhinho', 'coe_', 'coco_', 'cochilar_', 'coc_', 'cobro_', 'cobre_', 'cobrar', 'cobran_', 'cobertura_', 'cobertura', 'cobertores_', 'coberta_', 'cobasi_', 'coagido_', 'coach_', 'co', 'cntgo_', 'cm', 'club', 'clt_', 'cloud_', 'clonexd_', 'clonado_', 'cliente_', 'clicou_', 'clicksummitpt_', 'clickbrickpt_', 'clickbait_', 'click_', 'clich_', 'cleycianne_', 'clexa_', 'cleriston_', 'classes_', 'class_', 'claroo_', 'clareza_', 'claramente', 'claragama_', 'clamando_', 'cl', 'ckugls_', 'ck_', 'civilizada_', 'civil', 'cius_', 'ciumes_', 'citou_', 'cito', 'cite_', 'citar_', 'citamo_', 'citam_', 'citado_', 'cis_', 'cirurgia_', 'cirurgia', 'cirobr_', 'ciristas_', 'circunstancia_', 'circunst_', 'circuito_', 'cirandinha_', 'ciranda_', 'cios', 'cionada', 'cio', 'cinza_', 'cinseguindo_', 'cimatech_', 'cigarro', 'cigarrete_', 'cifer_', 'cies_', 'cierto', 'cientista_', 'ciente_', 'cient_', 'cido_', 'cicatrizar', 'cicatriz_', 'cibs', 'cibelem_', 'cias', 'chuvinha_', 'chuveiro_', 'chute_', 'chutar_', 'chusco_', 'churrumaiz_', 'churrasco_', 'churras_', 'chupa_', 'chuchus_', 'chuahae', 'chrome_', 'choveu_', 'chovesse_', 'chovesse', 'chovendooo_', 'chovendo_', 'chorosa', 'chorona_', 'chores_', 'chocolateeeeee', 'chocolate', 'chloe', 'chiquinha', 'chip_', 'chip', 'chinelin_', 'china_', 'chile_', 'child_', 'chico', 'chic_', 'cheonsa_', 'cheol', 'chen', 'chelsea_', 'cheiroso', 'cheirar_', 'cheira_', 'cheira', 'cheios_', 'chegueiiiii', 'chegue', 'chegava_', 'chegassem', 'chegasse_', 'chegarem_', 'chegaram_', 'chegamos', 'chegado', 'chegaaaa_', 'checamos_', 'checagem_', 'che_', 'chavoso_', 'chaval_', 'chatinha_', 'chateado_', 'chateado', 'chatbots_', 'chata', 'chat_', 'charlesjoseph_', 'charles_', 'charadas_', 'char_', 'chapter_', 'chapiscando_', 'chapinha_', 'chapada_', 'chapada', 'chao_', 'chanyeol_', 'changkyun_', 'chances', 'chan', 'chamyto_', 'chamr', 'champions_', 'champinha_', 'chamou_', 'chamo_', 'chamem_', 'chamem', 'chamavakkkkkkj', 'chamarem_', 'chamando', 'chamam', 'chamadas_', 'challenger', 'challenge_', 'chalar_', 'chacota_', 'chaaaannn_', 'cesta_', 'cessar_', 'cesinha', 'cesed', 'cervejas_', 'cerva_', 'certos_', 'certificar_', 'certificado_', 'cerri_', 'cercadinho_', 'cep_', 'centros_', 'centro', 'cenando_', 'cena', 'cemig_', 'cementerio_', 'celularzinho_', 'cellefonseca_', 'celebi_', 'cegou_', 'cego_', 'cego', 'cegas_', 'cega_', 'ceg_', 'cedinho_', 'cedar', 'cearense_', 'ccat', 'cc', 'cblol_', 'cbcee', 'cba_', 'caxias_', 'cavar_', 'cavando_', 'cavalos_', 'cavalo', 'caval_', 'cautela_', 'causar_', 'causalidade_', 'causa', 'caue_', 'catsoulieris_', 'cats_', 'cativou_', 'cativeiro_', 'catinho_', 'catequista_', 'catarse', 'catar_', 'catal_', 'cat', 'casulo_', 'casual_', 'casts_', 'casts', 'castro_', 'castramos_', 'castilho_', 'castelvania_', 'castanho_', 'cassie', 'cassaro_', 'cassali_', 'caso', 'caskoski_', 'cases_', 'caseira_', 'caseira', 'case_', 'cascadura', 'casar_', 'casais_', 'cartucho_', 'cartoon_', 'cartola', 'cartinhas_', 'carteirinhas_', 'carteirinha_', 'cartaz', 'carros', 'carrer_', 'carregando_', 'carregadores_', 'carregador_', 'carregador', 'carreata_', 'carrd_', 'carpo', 'carou_', 'caros_', 'caroninha_', 'carona', 'carolzinha', 'carolrondelli_', 'carolmiki_', 'carolmcosta_', 'carol', 'carnuda_', 'carnes', 'carnaval_', 'carmo_', 'carmenbrazil_', 'carlette_', 'carinhoso_', 'carinhas_', 'carinha', 'caril_', 'caridade_', 'carguinho_', 'careta_', 'carentes_', 'carente_', 'cardiologia_', 'carater_', 'carat_', 'caralhoooooooooo', 'caralhoooo_', 'caralhadas_', 'caralhada_', 'caralgo_', 'caraleo_', 'carakho_', 'caraio', 'caraiiii', 'caraguejinho_', 'car', 'caqi_', 'caq_', 'capx_', 'capsi_', 'caprih', 'capop_', 'capivara_', 'capitulo_', 'capitu_', 'capitalismo_', 'capit_', 'capista_', 'capinha_', 'capim_', 'capaldi_', 'capacidade_', 'capacidade', 'capa', 'cantou_', 'cantos_', 'cantora_', 'cantor_', 'cantinho', 'cantava_', 'cantar_', 'cantando_', 'cansei', 'cansdada_', 'cansando_', 'cansado', 'cansada', 'cansa', 'canibal_', 'caneca_', 'candy_', 'candidatura', 'candidatos', 'candidato', 'candidatar', 'candidatado_', 'cancer_', 'cancelou_', 'cancelem_', 'cancelaram_', 'cancelar_', 'cancelado_', 'canal', 'canada', 'cana', 'camposdojordao_', 'campinense_', 'campesinos_', 'campeonato_', 'campeonato', 'campelo_', 'campanella_', 'campainha_', 'campabha_', 'camistea_', 'camisolas_', 'camisola_', 'camisinha_', 'camisetas_', 'camiseta', 'camisas_', 'camino_', 'caminhar_', 'caminhando_', 'caminhada_', 'caminha_', 'camille_', 'camila', 'camiie_', 'cameron_', 'camelo_', 'cambalhota_', 'camarim_', 'camarada_', 'caluniar_', 'calpurnia_', 'caloteiro_', 'calopsita_', 'calmo_', 'calmissima_', 'calmantes', 'calibra_', 'calheiros_', 'calhar_', 'calha_', 'caldo_', 'caldinho_', 'caldeira_', 'calculas', 'calar_', 'calada', 'cala', 'caixinha', 'cairia_', 'caio', 'cai', 'cahsoousa_', 'cagarem_', 'cagar', 'cagaaa_', 'caga_', 'cafune_', 'cafun_', 'cafet_', 'cafe_', 'caes_', 'caer_', 'cae_', 'cadastro_', 'cadastrei_', 'caco_', 'cacique_', 'cacifo_', 'cachorros_', 'cachorros', 'cachorro', 'cachear_', 'cacheado_', 'cache_', 'caca_', 'cabritinho_', 'cabrita_', 'cabrero_', 'cabou_', 'cabocaqui_', 'cabo', 'cabeza', 'cabello', 'cabelinho', 'cabeli_', 'cabel_', 'cabeca', 'caaec_', 'bzzlehails_', 'byeongkwan_', 'by_', 'buu_', 'busquets_', 'busque', 'businessintelligence', 'businei_', 'busco_', 'buscando_', 'buscamos_', 'buruna_', 'burrice_', 'buraco_', 'bunitinha_', 'bunitin_', 'bundinha_', 'bulletproof_', 'buldog_', 'build_', 'bugo_', 'bugfixing', 'bues_', 'bueno_', 'bue', 'budista_', 'bucks', 'buba', 'bu', 'btw', 'btsstudiobylg_', 'btag_', 'bsb_', 'bruxo_', 'bruto_', 'brupimenta_', 'bruno', 'bruninho_', 'brum_', 'brum', 'bruck_', 'brt', 'broxado_', 'brotp_', 'brotop_', 'brother', 'brotero_', 'brooklyn_', 'brooklin_', 'bronzeada_', 'bronze_', 'bronquite_', 'bronca_', 'broken_', 'broca', 'bro', 'brizola_', 'brita_', 'brit_', 'brinquedo', 'brinco_', 'brincar_', 'brincando', 'brilho_', 'brilhante_', 'brilhando_', 'brilha_', 'briguei_', 'brigido_', 'brigaduh', 'brigado_', 'brigado', 'brigadas_', 'brigad_', 'briga', 'briel_', 'brick_', 'bricadeira_', 'bria_', 'breja_', 'breguez_', 'breathin', 'breaks_', 'break_', 'brazita_', 'brazil', 'bravesexygirls_', 'braver_', 'brasilia_', 'brasileiras', 'brasileir_', 'brancos_', 'brait_', 'braga_', 'braga', 'bracinho_', 'brabo', 'braba_', 'br', 'bozonauro_', 'bozominion_', 'boyle_', 'boyfriend_', 'boybandphinsgoct', 'boy', 'bovary_', 'boutiquetocadaloba_', 'botou_', 'boto_', 'botinas_', 'botij_', 'botic_', 'bothering_', 'bother_', 'bote_', 'bostomaro_', 'bostas_', 'bostanaro_', 'bosoniro_', 'boso_', 'bos_', 'borso', 'borrachinha_', 'boris', 'borges_', 'borbulhas_', 'boraa_', 'boquinhas_', 'bope_', 'booom_', 'boom_', 'booger_', 'boobs', 'bonzinho_', 'bonozaro_', 'bonororo_', 'bonitinho_', 'bonitinho', 'bonitinhas_', 'bonitas_', 'bong_', 'boneco', 'boneca', 'bondinha_', 'bon_', 'bon', 'bomm_', 'bomfimdesemana', 'bomdia', 'bombe', 'bombardeio_', 'bomba_', 'bomba', 'bolsoro_', 'bolsorabo_', 'bolsonaroooooo', 'bolsonarista_', 'bolsomito_', 'bolsomion_', 'bolsolixo_', 'bolsobaro', 'bolsie_', 'bolsa', 'bolos_', 'boletos_', 'boletim', 'boleiro_', 'bole_', 'boladona_', 'boladissimo', 'bolacha_', 'bois', 'boininha_', 'boiando_', 'boia_', 'boi_', 'boe_', 'bocor', 'bochechass', 'bochecha', 'bocas_', 'bocado', 'bocadinho', 'boc', 'bobinho', 'bobeiras_', 'bobeira_', 'bobby_', 'bobao_', 'bobagem_', 'bobage_', 'boba_', 'boba', 'bob', 'boazinha_', 'boas', 'boaaaa', 'boaaa_', 'bo', 'bnana_', 'blusitas_', 'blues_', 'blues', 'blueberry_', 'blu_', 'bloqueio', 'bloqueias', 'bloqueia_', 'bloquear', 'bloqueado', 'bloqueada_', 'blogzinho_', 'bloggerstribe', 'blogbeach_', 'blockb', 'blica', 'blia', 'bleh_', 'bleh', 'bleach_', 'blame_', 'blake_', 'blackwitch_', 'blackpink_', 'blackjewel_', 'bk_', 'bjsss', 'bjss_', 'bjos', 'bjocas', 'bjobjo', 'bjo_', 'bj', 'bixurras_', 'bixinho_', 'bixinha_', 'bitoca_', 'bitch', 'bispos_', 'bispo_', 'bish_', 'bis_', 'birras_', 'birras', 'bira', 'biqueiro_', 'bios_', 'bios', 'biometria_', 'biomed_', 'bino_', 'binho_', 'bingo_', 'bin_', 'bilsomiro', 'bill_', 'bilhetes_', 'bilheteria_', 'bilhete_', 'bilete_', 'bilete', 'bigrim_', 'bigrim', 'bigode', 'bigdata_', 'bieber_', 'bicos_', 'bico', 'bicicleta_', 'bicicleta', 'bichinha_', 'bibou_', 'biblioteca', 'biblia_', 'bibi_', 'biar_', 'bianca_', 'bi', 'bgs', 'bgl_', 'bgdo_', 'bgc_', 'bff_', 'bff', 'bexigas_', 'bets_', 'betrue_', 'betel', 'betas_', 'beta_', 'bestinha_', 'besteira', 'best_', 'bernardinho_', 'bernades_', 'berlanti_', 'berenguer_', 'berdim', 'berde_', 'berada_', 'benzema_', 'benzema', 'bentar_', 'bens_', 'benfas', 'bener_', 'benefiting_', 'beneficio_', 'bendito_', 'bendelacreme', 'benas_', 'belxs_', 'belo', 'bella_', 'belem', 'bela', 'beira', 'beijou', 'beijinho_', 'beijinho', 'beijao', 'beijam_', 'beija', 'beij_', 'beibi', 'beh_', 'been_', 'beemm_', 'beem_', 'beef_', 'bedo_', 'beco_', 'beck_', 'bebuuuu_', 'bebo', 'bebi', 'bebezinhos_', 'bebezinhos', 'bebezinho', 'bebendo_', 'bebel_', 'beatz_', 'beatriz_', 'bear_', 'bdf_', 'bdc', 'bd', 'bcf_', 'bce_', 'bcae_', 'bbzinho_', 'bbzinho', 'bby_', 'bby', 'bbs_', 'bbcs_', 'bbb', 'bbangnew', 'bazarem', 'bayern_', 'baw_', 'bauru_', 'battlefront_', 'battle_', 'batom_', 'batom', 'batizada_', 'batista_', 'batim_', 'batia_', 'bati_', 'bates_', 'bateria', 'bateram_', 'bater', 'batem_', 'batatinhas_', 'batalhas', 'bastantes_', 'base', 'bas', 'barzinhos_', 'barzinho_', 'barulhentos_', 'barulhentas_', 'barteus', 'barros_', 'barrinha_', 'barriga_', 'barretos_', 'barreira_', 'barred_', 'barradas_', 'barem_', 'barcelona_', 'barbie_', 'barber_', 'barbaraluraghi_', 'barbara_', 'barba_', 'baratos', 'barato_', 'baratas_', 'barata_', 'banners_', 'bank_', 'bangalo', 'bando_', 'bandidodeestima_', 'bandas_', 'banda_', 'banca_', 'banc_', 'bananinha_', 'ban_', 'bambu_', 'bamba_', 'balsa_', 'balon_', 'ballsman_', 'baldaia_', 'balbuena', 'balas_', 'bal_', 'baixou_', 'baixou', 'baixinho_', 'baixem_', 'baixei_', 'bairro', 'bailinho', 'baianos_', 'baianos', 'baiano_', 'bai_', 'bahiana_', 'bahia', 'bahh_', 'bah', 'baguncado_', 'bagnara_', 'baga_', 'bafometro_', 'baekhyun_', 'baek_', 'bados_', 'bade_', 'badbloodw_', 'bacanas', 'bacanais', 'bacana', 'bacalhau_', 'bacalhau', 'babys_', 'babygirl_', 'baby', 'babeee_', 'babe', 'babaquice_', 'babados_', 'babado_', 'babadeiro_', 'babacas_', 'baaads_', 'aznavour_', 'azedas_', 'azarenta_', 'ayuv_', 'axl_', 'awwwnnnn_', 'awww_', 'aweonao_', 'avp_', 'avonts_', 'avo_', 'avisou', 'avisem', 'avisei_', 'avisei', 'avise_', 'avisarem_', 'avisam', 'avisados_', 'avisado', 'avisa', 'avenida_', 'aveiro_', 'aveiro', 'avatar_', 'avan_', 'avail_', 'ava_', 'ava', 'autoriza_', 'autoral_', 'autom_', 'autoestima_', 'autista', 'australiana_', 'australia_', 'aumentar', 'aumentando', 'aulame_', 'auge', 'auditor_', 'audiolivro_', 'aud_', 'au', 'atypical_', 'aturei_', 'atuou_', 'atun_', 'atuda', 'atuba_', 'atuante_', 'atualizou_', 'atualizar_', 'atualizadas', 'atropelamento_', 'atropelado_', 'atrocidades_', 'atrizz', 'atribuindo_', 'atribui_', 'atribuem_', 'atrelado_', 'atravessando_', 'atrasou_', 'atrasei_', 'atrasei', 'atrasar_', 'atrasar', 'atrasado', 'atrasada_', 'atrasada', 'atrasa_', 'atrapalhar_', 'atrapalhando', 'atrapalha', 'atrap', 'atrai_', 'atraem_', 'atra_', 'atores_', 'atoa', 'ativo_', 'ativista_', 'ativismo_', 'atividade', 'ativei_', 'ativar_', 'ativa', 'atitude_', 'atirar_', 'atirar', 'atingira_', 'atingi_', 'ati_', 'ati', 'ateus_', 'aterrorizante_', 'aterrorisada_', 'atentamente_', 'atendimento', 'atendidas_', 'atendeu', 'atendente_', 'atendendo_', 'ateez_', 'ate', 'atd_', 'atat_', 'ataques', 'atao', 'atacou_', 'atacas_', 'atacado_', 'atacado', 'ata', 'asuhaush', 'astronomicamente_', 'astrof_', 'astral_', 'assusto_', 'assustar_', 'assustar', 'assustam', 'assustadora', 'assustador', 'assustadissimos', 'assustadaaaaa', 'assustada', 'assusta_', 'assusta', 'assumiu_', 'assumindo_', 'assumidamente_', 'assistirem_', 'assisti', 'assiste', 'assistant', 'assisl_', 'assinou_', 'assinatura_', 'assinar_', 'assinante_', 'assinante', 'assina_', 'assimmmm_', 'assimilei_', 'assignment_', 'assi_', 'assessor_', 'assegurado', 'assediada', 'assayag_', 'assassins_', 'assassinato_', 'assassinar_', 'assassinadas', 'assassinada_', 'assado_', 'asqueroso_', 'aspectos_', 'aspecto_', 'aspecto', 'aspas_', 'asno_', 'asi_', 'ashuashuashuash_', 'asfsafsafcsfc_', 'asfalto_', 'asd_', 'ascension_', 'ascens_', 'ascendi_', 'asc_', 'asap', 'arzinho_', 'aryattili_', 'arvore_', 'arts_', 'artista_', 'arthxr_', 'arthur_', 'artes_', 'art_', 'arrumou_', 'arrumar', 'arrow_', 'arrotar_', 'arrombado', 'arrepiei_', 'arrepiante_', 'arrepiada_', 'arrepentir', 'arrependo', 'arrepende_', 'arrepende', 'arrega_', 'arredores_', 'arredondar', 'arrebentou_', 'arrebento', 'arrebenta_', 'arrebatar_', 'arraza', 'arrasar_', 'arrasa_', 'arranja_', 'arranh_', 'arranco_', 'arrancado_', 'arrancada_', 'arranca_', 'arraial_', 'arquitetando_', 'arq', 'arouck_', 'armyselcaday_', 'armyselca_', 'armygas_', 'arminha_', 'arminha', 'armas_', 'armar_', 'armamentista_', 'arizona_', 'arigatou', 'ariane_', 'ari', 'argumentos', 'argumento', 'argumentar_', 'arguile', 'argh_', 'argentinos_', 'argentino_', 'argentina_', 'aretes', 'arei_', 'arduino_', 'arder', 'arde', 'arcaico_', 'arara_', 'aranhas_', 'aranha_', 'arana_', 'aracaju_', 'aqw_', 'aquino_', 'aquecer_', 'aquarela_', 'aqua_', 'aq', 'apurados_', 'apunto_', 'apto_', 'apt', 'aproximado_', 'aproximadamente_', 'aproveitemos_', 'aproveitem', 'aproveite', 'aproveitaram', 'aproveitar', 'aproveitando', 'aproveita', 'aprovar_', 'aprovados_', 'aprovado_', 'aprovado', 'aprova_', 'aprofundar', 'aprochegar', 'aprisionado_', 'apresentar', 'aprendizado_', 'aprendizado', 'aprendeu_', 'aprendeste_', 'aprender', 'aprendendo', 'aprendemos_', 'aprende', 'apreensiva_', 'aprecio_', 'aprecio', 'apreciem', 'apreciar_', 'apreciados_', 'apr', 'apps', 'apple_', 'apovarada_', 'apostei_', 'aposta_', 'aposenta', 'aponte_', 'aponta_', 'apoiei_', 'apoie_', 'apoiava_', 'apoiaram_', 'apoiamos_', 'apoiadorx_', 'apoiadores_', 'apoiado_', 'apodera_', 'apod_', 'aplicativos', 'aplicaria_', 'api_', 'apetecia_', 'apesto_', 'apessoado_', 'apertou', 'aperto_', 'apertadinho_', 'apertadinho', 'aperreio_', 'aperfei_', 'apelo_', 'apelidos', 'apelar_', 'apegar', 'apedrejada_', 'apavorados_', 'apavorado_', 'apavoradas', 'apavorada', 'apartamento', 'apartado_', 'apareci_', 'apareceram_', 'aparec', 'apare_', 'apar_', 'apanhou_', 'apanhei_', 'apanhasse_', 'apanham', 'apaixonista_', 'apaixonada', 'apaixonad_', 'apaguei', 'apaga', 'ap', 'aov_', 'any_', 'any', 'anwar_', 'anunciou_', 'anuncio_', 'anunciassem_', 'anunciado_', 'anulei_', 'anula_', 'antropologia_', 'antipetista_', 'antigas_', 'antiga', 'antifascismo_', 'anteriormente_', 'anteriores_', 'anterior_', 'antecipa_', 'antagonista_', 'ansiosos_', 'ansiosos', 'ansioso', 'ansiedades_', 'anotar_', 'anotar', 'anotando_', 'anotamos_', 'anonn_', 'anonimas_', 'anoni_', 'anne_', 'anjuu', 'anjooooo', 'anjloq', 'anjinhos_', 'anjinhooooo', 'anja_', 'aniversariar_', 'aniver', 'anismo_', 'aninhos', 'aninhacs_', 'aninha', 'animus_', 'animosssw_', 'animes_', 'animem_', 'animava_', 'animar', 'animal', 'animaizinhos_', 'animados', 'animadona_', 'animada', 'anilha_', 'angustiado', 'angustia', 'angrybirds_', 'angra_', 'angelo_', 'angelim_', 'angeles_', 'anga_', 'anfernee_', 'anexar_', 'anemiazinha_', 'anem_', 'aneeeim_', 'android_', 'andreiroque_', 'andrade_', 'andei_', 'andd_', 'andares_', 'andar', 'ancioso_', 'anatomia', 'anao_', 'anao', 'analopest_', 'analista_', 'analisamos_', 'analg_', 'analfabetismo_', 'analfabetas_', 'anahikari_', 'anafinger_', 'anaaa_', 'amt', 'amr', 'ampe_', 'amozim', 'amostra_', 'amorzinha_', 'amorrrrrrr', 'amorrrr', 'amorrr_', 'amorr_', 'amorosa_', 'amorosa', 'amoredo', 'amoreco_', 'amordi', 'amora_', 'amoor', 'amooor_', 'amoooor', 'amooooo_', 'amnha_', 'amk_', 'amil', 'amiiiga_', 'amiguinha_', 'amigu', 'amigooo', 'amigavelmente_', 'amigaaa_', 'amig_', 'amgs_', 'america_', 'amento_', 'ameniza', 'ameiiii_', 'ame', 'ambully_', 'ambulante_', 'ambiente_', 'ambicioso_', 'ambi_', 'amazonas_', 'amazing_', 'amaz_', 'amavam_', 'amassou_', 'amassando_', 'amarela_', 'amaravilhosas_', 'amaralzinho_', 'amanhecer', 'amanha', 'amando', 'amanda_', 'amamos', 'amam', 'amadurecimento', 'amadora_', 'amador_', 'amaciava', 'am', 'alvo_', 'alvinho', 'alverca', 'alvarenga_', 'aluninhos_', 'aluguel', 'alturas_', 'alturas', 'altru_', 'altriaalter', 'altos_', 'alterno_', 'alternativa_', 'alternando', 'alterar_', 'altemar_', 'altavista', 'altamente_', 'alta', 'also_', 'alongar_', 'alo_', 'alo', 'almofada_', 'almoco_', 'almocei_', 'almeid_', 'allex_', 'allbotox_', 'allannnnnn', 'all_', 'alivie_', 'aliviar_', 'aliviada', 'alisei_', 'alisar_', 'alinesf_', 'alimentos_', 'alimentaram_', 'alimentar_', 'alimentano_', 'alimentando', 'alienados_', 'aliena_', 'alian_', 'aliali_', 'aliados_', 'alheios_', 'alheio_', 'alheias_', 'alguuuma_', 'algarve', 'alfonso_', 'alfabeto_', 'alexis', 'alexandra', 'alexa', 'alessandragoms_', 'alencar_', 'alemanha_', 'alegrinha', 'alegre_', 'alegre', 'alegrarem_', 'alegrar_', 'aleglia_', 'aleatoriamente', 'aldo_', 'aldeia_', 'alckmer_', 'alceu', 'albummmm_', 'album_', 'album', 'alaverga', 'alargada_', 'alan_', 'alab_', 'akskskskkssksks', 'aknes', 'akes', 'akame_', 'ajudem_', 'ajudei_', 'ajudava', 'ajudaram_', 'ajudamos_', 'ajudam', 'ajeitar_', 'ajeita_', 'ajdjkwjsks_', 'aj_', 'aixxx_', 'aish_', 'ais_', 'air_', 'air', 'ainnn_', 'aindomadanoviva', 'ain', 'aii_', 'aifudi_', 'aiala_', 'ahuehaush_', 'ahuahuhauah', 'ahsuhssuhs_', 'ahsuahsuah_', 'ahsuaha_', 'ahoj_', 'ahn', 'ahhaha_', 'ahdhanskajauajana', 'ahazou_', 'ahaiajak', 'ahahahha_', 'ahahahahahahahahah_', 'ahahahahahah_', 'ahahahahah_', 'ahahahah_', 'ahahahah', 'ahahaha_', 'aguentou_', 'aguentei', 'aguentava_', 'aguentaria_', 'aguentar', 'aguentando_', 'aguentam_', 'aguardo_', 'aguardo', 'aguardem_', 'aguarde', 'agua_', 'agroboys_', 'agripino_', 'agreste_', 'agressoes_', 'agressivo_', 'agressiva_', 'agregar_', 'agredido_', 'agradecido_', 'agradecia', 'agradecem_', 'agradece', 'agradar', 'agrad_', 'agosto_', 'agoraaa', 'agor_', 'agoniada_', 'agite_', 'agirem_', 'agile_', 'aghata_', 'agha_', 'agente_', 'agenor_', 'agendas_', 'agenda_', 'agency', 'agb_', 'agarradinha_', 'afundar_', 'afundamos_', 'afundam_', 'afu_', 'afu', 'afroman_', 'afol', 'afogar_', 'aflora_', 'afirmando', 'afirma_', 'afins_', 'afinar_', 'afim', 'afilhados_', 'afilhada', 'afia_', 'affz', 'affs_', 'affffffff_', 'afffff_', 'affff_', 'afetivas', 'afetariam_', 'afeta_', 'afeminados_', 'afastou_', 'afasto_', 'afastei_', 'afastei', 'afastava_', 'afastar_', 'afastamento_', 'afastada_', 'afastada', 'aeroporto_', 'aero', 'aecio', 'aec_', 'advogada_', 'advinha_', 'advert_', 'adventista_', 'adultos_', 'adulta_', 'adriel_', 'adquirir', 'adotem_', 'adotando_', 'adota_', 'adorou_', 'adormeci_', 'adormecer_', 'adormecer', 'adorei', 'adoraria_', 'adoraria', 'adoramos_', 'adoram_', 'adora_', 'adora', 'admito_', 'admitiria_', 'admitir', 'admission_', 'admirar_', 'admira_', 'adivinhem_', 'adivinha_', 'adivinh_', 'aditivos_', 'adicionamos_', 'adiantou_', 'adianto_', 'adiando_', 'adeusnofapssetember', 'adesivos_', 'aderi_', 'aderem_', 'adeptos_', 'adenizia_', 'adblocks_', 'adaptar', 'adaptador_', 'adaptado', 'adam', 'acusar_', 'acusados_', 'acumulando_', 'acumulada_', 'actual_', 'actual', 'act_', 'acresita_', 'acrescentar_', 'acreditou_', 'acreditei_', 'acredite', 'acreditaram', 'acreditando', 'acreditam_', 'acre_', 'acostumem_', 'acostumei', 'acostumando_', 'acostumada_', 'acostumada', 'acordo', 'acordem_', 'acordei', 'acordado', 'acontecimentos_', 'acontecessem_', 'aconteceria_', 'acontecerem_', 'acontecem', 'aconchego_', 'aconchegar_', 'acompanhou_', 'acompanho_', 'acompanhe_', 'acompanhamento_', 'acolhido_', 'acke', 'ack_', 'acione_', 'achu_', 'achoq_', 'achem_', 'acheeeeei_', 'acharia_', 'acharem_', 'achamos_', 'achacar', 'acesse', 'acessar_', 'acertar_', 'acemmm', 'acelerado_', 'aceitos_', 'aceite_', 'aceitaria_', 'aceitarem_', 'aceitando', 'aceitamos_', 'ace_', 'accidi_', 'acc_', 'acampamento_', 'acalmaram_', 'acalmar', 'acalma_', 'acad_', 'acaboooooou_', 'acabem_', 'acabem', 'acabe_', 'acabamos_', 'acabam_', 'acabadas_', 'acabada', 'abusem_', 'abusada_', 'abusa', 'aburrimento_', 'absurdos_', 'absurdo_', 'absurdamente_', 'absorveu_', 'absorventes_', 'absent_', 'abs_', 'abrirem_', 'abrindo', 'abril_', 'abril', 'abriga', 'abreu_', 'abrem_', 'abracei_', 'abracar_', 'about_', 'aborto', 'abordei_', 'abordando_', 'abordagem_', 'aborda_', 'ablla_', 'ablack_', 'abismo_', 'abf_', 'abestalhado', 'abertos', 'aberto_', 'abertas', 'aberta', 'abe_', 'abdominal_', 'abdls_', 'abatida', 'abar_', 'abanei_', 'abandono_', 'abandonem_', 'abandonei', 'abandonar', 'abandonado_', 'abandona_', 'abalada_', 'abal', 'abaixo', 'abaixa_', 'abafado_', 'aba_', 'aba', 'aaiii_', 'aah_', 'aafazenda', 'aaeb', 'aaba', 'aaas', 'aaao_', 'aaai_', 'aaahhhhh_', 'aaahhh_', 'aaah_', 'aaaawwwwn_', 'aaaaaii_', 'aaaaai_', 'aaaaaae_', 'aaaaaaah_', 'aaaaaaaaind_', 'aaaaaaaah_', 'aaaaaaaaaaaaah_', 'aaaaaaaaaaaaa', 'aaaaaaaaaaa_', 'aaaaaaaaaaa', '....', '...', ' ................ ', ' .............. ', ' .............', ' ........ ', ' .....', '  ..']\n"
          ],
          "name": "stdout"
        }
      ]
    },
    {
      "cell_type": "code",
      "metadata": {
        "id": "T4rCT4zrPF1P",
        "colab": {
          "base_uri": "https://localhost:8080/"
        },
        "outputId": "f8afb16c-4c46-47d6-a89d-bf653a379447"
      },
      "source": [
        "ids = tokenizer.encode('i am happy')\n",
        "ids"
      ],
      "execution_count": 124,
      "outputs": [
        {
          "output_type": "execute_result",
          "data": {
            "text/plain": [
              "[184, 422, 1964]"
            ]
          },
          "metadata": {
            "tags": []
          },
          "execution_count": 124
        }
      ]
    },
    {
      "cell_type": "code",
      "metadata": {
        "id": "4H4_8IzRPSlB",
        "colab": {
          "base_uri": "https://localhost:8080/",
          "height": 35
        },
        "outputId": "2fcf95d6-9f29-43fc-aa51-1e6032a7cb9d"
      },
      "source": [
        "text = tokenizer.decode(ids)\n",
        "text"
      ],
      "execution_count": 125,
      "outputs": [
        {
          "output_type": "execute_result",
          "data": {
            "application/vnd.google.colaboratory.intrinsic+json": {
              "type": "string"
            },
            "text/plain": [
              "'i am happy'"
            ]
          },
          "metadata": {
            "tags": []
          },
          "execution_count": 125
        }
      ]
    },
    {
      "cell_type": "code",
      "metadata": {
        "id": "Wix-FNg1PYij"
      },
      "source": [
        "data_inputs = [tokenizer.encode(sentence) for sentence in data_clean]"
      ],
      "execution_count": 126,
      "outputs": []
    },
    {
      "cell_type": "code",
      "metadata": {
        "id": "S5DEe4p3Pi3n",
        "colab": {
          "base_uri": "https://localhost:8080/"
        },
        "outputId": "0a9817b7-57f0-4cfd-d844-2e1958eddb92"
      },
      "source": [
        "for _ in range(10):\n",
        "  print(data_inputs[random.randint(0, len(data_inputs) - 1)])"
      ],
      "execution_count": 127,
      "outputs": [
        {
          "output_type": "stream",
          "text": [
            "[126, 12483, 45, 3, 4, 3, 4, 1345, 4384]\n",
            "[2, 58, 107, 954, 222, 3481, 23, 4728]\n",
            "[17, 151, 3, 209, 3, 2939]\n",
            "[2, 110, 3, 11600, 544, 759, 34, 57, 4, 4841, 3119]\n",
            "[2, 11509, 356, 473, 323, 4, 1, 13816, 20, 4, 5, 13, 556, 5, 227, 9, 437, 1603, 66, 12, 953, 746, 7104, 3497, 80, 10278]\n",
            "[6, 140, 343, 31, 649, 56, 8052]\n",
            "[2302, 12335, 8, 8, 1, 404]\n",
            "[3501, 12361, 7, 3503, 1, 133, 5, 1, 10641, 395]\n",
            "[5228, 1, 2529, 4, 3633, 2970, 8927, 2529, 11908, 37, 3, 3, 1, 24, 1095, 42, 135, 68, 6, 13983, 92, 1821, 11008, 897, 3667, 37, 12424, 8925, 8236]\n",
            "[2, 12515, 15, 1790, 1709, 13979]\n"
          ],
          "name": "stdout"
        }
      ]
    },
    {
      "cell_type": "markdown",
      "metadata": {
        "id": "Ysb2uib8n6b3"
      },
      "source": [
        "### Padding"
      ]
    },
    {
      "cell_type": "code",
      "metadata": {
        "id": "xTRmL5MAP4iT",
        "colab": {
          "base_uri": "https://localhost:8080/"
        },
        "outputId": "3f43d09b-f702-44ef-b4bb-f648ac74dc4b"
      },
      "source": [
        "max_len = max([len(sentence) for sentence in data_inputs])\n",
        "max_len"
      ],
      "execution_count": 128,
      "outputs": [
        {
          "output_type": "execute_result",
          "data": {
            "text/plain": [
              "52"
            ]
          },
          "metadata": {
            "tags": []
          },
          "execution_count": 128
        }
      ]
    },
    {
      "cell_type": "code",
      "metadata": {
        "id": "lT02JMV1QWLZ"
      },
      "source": [
        "data_inputs = tf.keras.preprocessing.sequence.pad_sequences(data_inputs,\n",
        "                                                            value = 0,\n",
        "                                                            padding = 'post',\n",
        "                                                            maxlen=max_len)"
      ],
      "execution_count": 129,
      "outputs": []
    },
    {
      "cell_type": "code",
      "metadata": {
        "id": "E5X5g9IPQtZV",
        "colab": {
          "base_uri": "https://localhost:8080/"
        },
        "outputId": "522cb253-f01e-4357-9f5e-ee03c32abdeb"
      },
      "source": [
        "for _ in range(10):\n",
        "  print(data_inputs[random.randint(0, len(data_inputs) - 1)])"
      ],
      "execution_count": 130,
      "outputs": [
        {
          "output_type": "stream",
          "text": [
            "[  175    75  2403  2714  3835   722  1119  1667     1   982  8336   512\n",
            "  2403   154   348     7    59   982     1  4808    62  7078  1214     1\n",
            "  2403  3044    10     1     7     7  1044  3066     3   982     1  7450\n",
            "  2714 13979     0     0     0     0     0     0     0     0     0     0\n",
            "     0     0     0     0]\n",
            "[    5     6  4770    25   184  4455    16     4   578    74     3    11\n",
            "     6 13979     0     0     0     0     0     0     0     0     0     0\n",
            "     0     0     0     0     0     0     0     0     0     0     0     0\n",
            "     0     0     0     0     0     0     0     0     0     0     0     0\n",
            "     0     0     0     0]\n",
            "[   2   10  981   75 2531 2015  175   75    4  501   91    6 4516    0\n",
            "    0    0    0    0    0    0    0    0    0    0    0    0    0    0\n",
            "    0    0    0    0    0    0    0    0    0    0    0    0    0    0\n",
            "    0    0    0    0    0    0    0    0    0    0]\n",
            "[12965 12197  8852  1010     3  2615   164  1116     5   137  6180     0\n",
            "     0     0     0     0     0     0     0     0     0     0     0     0\n",
            "     0     0     0     0     0     0     0     0     0     0     0     0\n",
            "     0     0     0     0     0     0     0     0     0     0     0     0\n",
            "     0     0     0     0]\n",
            "[    2  5123  5119    36 13269 11781     0     0     0     0     0     0\n",
            "     0     0     0     0     0     0     0     0     0     0     0     0\n",
            "     0     0     0     0     0     0     0     0     0     0     0     0\n",
            "     0     0     0     0     0     0     0     0     0     0     0     0\n",
            "     0     0     0     0]\n",
            "[  15  307    9  653 1954   43    0    0    0    0    0    0    0    0\n",
            "    0    0    0    0    0    0    0    0    0    0    0    0    0    0\n",
            "    0    0    0    0    0    0    0    0    0    0    0    0    0    0\n",
            "    0    0    0    0    0    0    0    0    0    0]\n",
            "[   2 6476    0    0    0    0    0    0    0    0    0    0    0    0\n",
            "    0    0    0    0    0    0    0    0    0    0    0    0    0    0\n",
            "    0    0    0    0    0    0    0    0    0    0    0    0    0    0\n",
            "    0    0    0    0    0    0    0    0    0    0]\n",
            "[   2 1893    8  938   30    4 4764   19  355 3131  930  174  390    9\n",
            "  173 1653    1  407 1395 4119    0    0    0    0    0    0    0    0\n",
            "    0    0    0    0    0    0    0    0    0    0    0    0    0    0\n",
            "    0    0    0    0    0    0    0    0    0    0]\n",
            "[ 467 1765 2392    1  635 8206    0    0    0    0    0    0    0    0\n",
            "    0    0    0    0    0    0    0    0    0    0    0    0    0    0\n",
            "    0    0    0    0    0    0    0    0    0    0    0    0    0    0\n",
            "    0    0    0    0    0    0    0    0    0    0]\n",
            "[    2   559   136    25  1922 13991     0     0     0     0     0     0\n",
            "     0     0     0     0     0     0     0     0     0     0     0     0\n",
            "     0     0     0     0     0     0     0     0     0     0     0     0\n",
            "     0     0     0     0     0     0     0     0     0     0     0     0\n",
            "     0     0     0     0]\n"
          ],
          "name": "stdout"
        }
      ]
    },
    {
      "cell_type": "markdown",
      "metadata": {
        "id": "T4Ac7EXNNblp"
      },
      "source": [
        "### Divisão da base de dados em treinamento e teste\n",
        "\n"
      ]
    },
    {
      "cell_type": "code",
      "metadata": {
        "id": "PsKVKiSzRnw-"
      },
      "source": [
        "train_inputs, test_inputs, train_labels, test_labels = train_test_split(data_inputs,\n",
        "                                                                        data_labels,\n",
        "                                                                        test_size=0.3,\n",
        "                                                                        stratify = data_labels)"
      ],
      "execution_count": 131,
      "outputs": []
    },
    {
      "cell_type": "code",
      "metadata": {
        "id": "-EoypKYBSRQR",
        "colab": {
          "base_uri": "https://localhost:8080/"
        },
        "outputId": "7e815ea5-26dc-44fb-d378-eca7c99d5cf7"
      },
      "source": [
        "train_inputs[0]"
      ],
      "execution_count": 132,
      "outputs": [
        {
          "output_type": "execute_result",
          "data": {
            "text/plain": [
              "array([    2,    12,  8317,     5, 13994,     0,     0,     0,     0,\n",
              "           0,     0,     0,     0,     0,     0,     0,     0,     0,\n",
              "           0,     0,     0,     0,     0,     0,     0,     0,     0,\n",
              "           0,     0,     0,     0,     0,     0,     0,     0,     0,\n",
              "           0,     0,     0,     0,     0,     0,     0,     0,     0,\n",
              "           0,     0,     0,     0,     0,     0,     0], dtype=int32)"
            ]
          },
          "metadata": {
            "tags": []
          },
          "execution_count": 132
        }
      ]
    },
    {
      "cell_type": "code",
      "metadata": {
        "id": "NOcpln8ySYG6",
        "colab": {
          "base_uri": "https://localhost:8080/"
        },
        "outputId": "e8c1ec18-5209-4ecd-bea9-65be680e6b86"
      },
      "source": [
        "train_inputs.shape"
      ],
      "execution_count": 133,
      "outputs": [
        {
          "output_type": "execute_result",
          "data": {
            "text/plain": [
              "(5250, 52)"
            ]
          },
          "metadata": {
            "tags": []
          },
          "execution_count": 133
        }
      ]
    },
    {
      "cell_type": "code",
      "metadata": {
        "id": "O7UxvSamScbx",
        "colab": {
          "base_uri": "https://localhost:8080/"
        },
        "outputId": "3ee12cc7-80f5-4c1b-a526-350622cf0dfb"
      },
      "source": [
        "train_labels.shape"
      ],
      "execution_count": 134,
      "outputs": [
        {
          "output_type": "execute_result",
          "data": {
            "text/plain": [
              "(5250,)"
            ]
          },
          "metadata": {
            "tags": []
          },
          "execution_count": 134
        }
      ]
    },
    {
      "cell_type": "code",
      "metadata": {
        "id": "HVnuy5MQShQ7",
        "colab": {
          "base_uri": "https://localhost:8080/"
        },
        "outputId": "a8055f91-ab74-4a80-d393-14788d44d71d"
      },
      "source": [
        "test_inputs.shape"
      ],
      "execution_count": 135,
      "outputs": [
        {
          "output_type": "execute_result",
          "data": {
            "text/plain": [
              "(2250, 52)"
            ]
          },
          "metadata": {
            "tags": []
          },
          "execution_count": 135
        }
      ]
    },
    {
      "cell_type": "code",
      "metadata": {
        "id": "xBH05YZrSm2h",
        "colab": {
          "base_uri": "https://localhost:8080/"
        },
        "outputId": "c775af1d-1bd4-4b59-d8bd-8314f375249b"
      },
      "source": [
        "test_labels.shape"
      ],
      "execution_count": 136,
      "outputs": [
        {
          "output_type": "execute_result",
          "data": {
            "text/plain": [
              "(2250,)"
            ]
          },
          "metadata": {
            "tags": []
          },
          "execution_count": 136
        }
      ]
    },
    {
      "cell_type": "markdown",
      "metadata": {
        "id": "kWu6hLDG_UJZ"
      },
      "source": [
        "# Etapa 3: Construção do modelo"
      ]
    },
    {
      "cell_type": "code",
      "metadata": {
        "id": "JkYyPK6C35Kv"
      },
      "source": [
        "import tensorflow as tf\n",
        "import numpy as np\n",
        "from tensorflow.keras.datasets import imdb\n",
        "import pandas as pd"
      ],
      "execution_count": 137,
      "outputs": []
    },
    {
      "cell_type": "code",
      "metadata": {
        "id": "isMr4yvp8Cdg"
      },
      "source": [
        "number_of_words = 20000\n",
        "max_len = 100"
      ],
      "execution_count": 138,
      "outputs": []
    },
    {
      "cell_type": "code",
      "metadata": {
        "id": "GZwguEMn3-NC"
      },
      "source": [
        "model = tf.keras.Sequential()"
      ],
      "execution_count": 139,
      "outputs": []
    },
    {
      "cell_type": "code",
      "metadata": {
        "colab": {
          "base_uri": "https://localhost:8080/"
        },
        "id": "IYdaUc1h3-J9",
        "outputId": "f0314a9e-a39f-48c8-855e-10af304361a3"
      },
      "source": [
        "train_inputs.shape[1]"
      ],
      "execution_count": 140,
      "outputs": [
        {
          "output_type": "execute_result",
          "data": {
            "text/plain": [
              "52"
            ]
          },
          "metadata": {
            "tags": []
          },
          "execution_count": 140
        }
      ]
    },
    {
      "cell_type": "code",
      "metadata": {
        "id": "FXL_sUwl3-HM"
      },
      "source": [
        "model.add(tf.keras.layers.Embedding(input_dim=number_of_words, output_dim=128, input_shape=(train_inputs.shape[1],)))"
      ],
      "execution_count": 141,
      "outputs": []
    },
    {
      "cell_type": "markdown",
      "metadata": {
        "id": "-6KnWteR9w_f"
      },
      "source": [
        "### Adicionando a camada LSTM\n",
        "\n",
        "- units: 128\n",
        "- activation: tanh"
      ]
    },
    {
      "cell_type": "code",
      "metadata": {
        "id": "IjtO81Es3-ET"
      },
      "source": [
        "model.add(tf.keras.layers.LSTM(units=128, activation='tanh'))"
      ],
      "execution_count": 142,
      "outputs": []
    },
    {
      "cell_type": "code",
      "metadata": {
        "id": "BpyUmbB93-BW"
      },
      "source": [
        "model.add(tf.keras.layers.Dense(units=1, activation='sigmoid'))"
      ],
      "execution_count": 143,
      "outputs": []
    },
    {
      "cell_type": "markdown",
      "metadata": {
        "id": "P6VTyRbo93MW"
      },
      "source": [
        "### Compilando o modelo"
      ]
    },
    {
      "cell_type": "code",
      "metadata": {
        "id": "fkZg-eUZ39-z"
      },
      "source": [
        "model.compile(optimizer='rmsprop', loss='binary_crossentropy', metrics=['accuracy'])"
      ],
      "execution_count": 144,
      "outputs": []
    },
    {
      "cell_type": "code",
      "metadata": {
        "colab": {
          "base_uri": "https://localhost:8080/"
        },
        "id": "-TvcfgeW3974",
        "outputId": "0c642842-0044-4183-baa7-aeea72b81360"
      },
      "source": [
        "model.summary()"
      ],
      "execution_count": 145,
      "outputs": [
        {
          "output_type": "stream",
          "text": [
            "Model: \"sequential_1\"\n",
            "_________________________________________________________________\n",
            "Layer (type)                 Output Shape              Param #   \n",
            "=================================================================\n",
            "embedding_1 (Embedding)      (None, 52, 128)           2560000   \n",
            "_________________________________________________________________\n",
            "lstm_1 (LSTM)                (None, 128)               131584    \n",
            "_________________________________________________________________\n",
            "dense_1 (Dense)              (None, 1)                 129       \n",
            "=================================================================\n",
            "Total params: 2,691,713\n",
            "Trainable params: 2,691,713\n",
            "Non-trainable params: 0\n",
            "_________________________________________________________________\n"
          ],
          "name": "stdout"
        }
      ]
    },
    {
      "cell_type": "markdown",
      "metadata": {
        "id": "5JGKraL19QlS"
      },
      "source": [
        "# Etapa 4: Treinamento"
      ]
    },
    {
      "cell_type": "code",
      "metadata": {
        "colab": {
          "base_uri": "https://localhost:8080/"
        },
        "id": "hOhg-F5H3947",
        "outputId": "775877f6-c50c-4dfd-e82f-9e520f64ab10"
      },
      "source": [
        "model.fit(train_inputs, train_labels, epochs=20, batch_size=128)"
      ],
      "execution_count": 146,
      "outputs": [
        {
          "output_type": "stream",
          "text": [
            "Epoch 1/20\n",
            "42/42 [==============================] - 3s 20ms/step - loss: 0.6950 - accuracy: 0.4914\n",
            "Epoch 2/20\n",
            "42/42 [==============================] - 1s 20ms/step - loss: 0.6951 - accuracy: 0.5089\n",
            "Epoch 3/20\n",
            "42/42 [==============================] - 1s 20ms/step - loss: 0.6623 - accuracy: 0.5756\n",
            "Epoch 4/20\n",
            "42/42 [==============================] - 1s 20ms/step - loss: 0.5441 - accuracy: 0.7478\n",
            "Epoch 5/20\n",
            "42/42 [==============================] - 1s 20ms/step - loss: 0.4600 - accuracy: 0.8213\n",
            "Epoch 6/20\n",
            "42/42 [==============================] - 1s 20ms/step - loss: 0.3264 - accuracy: 0.8811\n",
            "Epoch 7/20\n",
            "42/42 [==============================] - 1s 20ms/step - loss: 0.2133 - accuracy: 0.9326\n",
            "Epoch 8/20\n",
            "42/42 [==============================] - 1s 20ms/step - loss: 0.2330 - accuracy: 0.9280\n",
            "Epoch 9/20\n",
            "42/42 [==============================] - 1s 20ms/step - loss: 0.1695 - accuracy: 0.9497\n",
            "Epoch 10/20\n",
            "42/42 [==============================] - 1s 19ms/step - loss: 0.1485 - accuracy: 0.9555\n",
            "Epoch 11/20\n",
            "42/42 [==============================] - 1s 19ms/step - loss: 0.1188 - accuracy: 0.9633\n",
            "Epoch 12/20\n",
            "42/42 [==============================] - 1s 19ms/step - loss: 0.1235 - accuracy: 0.9646\n",
            "Epoch 13/20\n",
            "42/42 [==============================] - 1s 20ms/step - loss: 0.0905 - accuracy: 0.9729\n",
            "Epoch 14/20\n",
            "42/42 [==============================] - 1s 19ms/step - loss: 0.0968 - accuracy: 0.9738\n",
            "Epoch 15/20\n",
            "42/42 [==============================] - 1s 19ms/step - loss: 0.0904 - accuracy: 0.9737\n",
            "Epoch 16/20\n",
            "42/42 [==============================] - 1s 19ms/step - loss: 0.0724 - accuracy: 0.9781\n",
            "Epoch 17/20\n",
            "42/42 [==============================] - 1s 19ms/step - loss: 0.0690 - accuracy: 0.9781\n",
            "Epoch 18/20\n",
            "42/42 [==============================] - 1s 19ms/step - loss: 0.0650 - accuracy: 0.9810\n",
            "Epoch 19/20\n",
            "42/42 [==============================] - 1s 19ms/step - loss: 0.0604 - accuracy: 0.9772\n",
            "Epoch 20/20\n",
            "42/42 [==============================] - 1s 19ms/step - loss: 0.0599 - accuracy: 0.9765\n"
          ],
          "name": "stdout"
        },
        {
          "output_type": "execute_result",
          "data": {
            "text/plain": [
              "<tensorflow.python.keras.callbacks.History at 0x7f9aa2273050>"
            ]
          },
          "metadata": {
            "tags": []
          },
          "execution_count": 146
        }
      ]
    },
    {
      "cell_type": "markdown",
      "metadata": {
        "id": "o8XZzVjv9-vV"
      },
      "source": [
        "### Avaliando o modelo"
      ]
    },
    {
      "cell_type": "code",
      "metadata": {
        "colab": {
          "base_uri": "https://localhost:8080/"
        },
        "id": "TQSij_aN39wO",
        "outputId": "28f79439-fcbe-4aaf-8ca6-f66a87077e9c"
      },
      "source": [
        "test_loss, test_acurracy = model.evaluate(test_inputs, test_labels)"
      ],
      "execution_count": 147,
      "outputs": [
        {
          "output_type": "stream",
          "text": [
            "71/71 [==============================] - 1s 4ms/step - loss: 1.4258 - accuracy: 0.6547\n"
          ],
          "name": "stdout"
        }
      ]
    },
    {
      "cell_type": "code",
      "metadata": {
        "colab": {
          "base_uri": "https://localhost:8080/"
        },
        "id": "yBLcxsH_39jY",
        "outputId": "f9034d04-64e5-480c-a068-08654c51e1b4"
      },
      "source": [
        "print(\"Test accuracy: {}\".format(test_acurracy))"
      ],
      "execution_count": 148,
      "outputs": [
        {
          "output_type": "stream",
          "text": [
            "Test accuracy: 0.6546666622161865\n"
          ],
          "name": "stdout"
        }
      ]
    },
    {
      "cell_type": "code",
      "metadata": {
        "colab": {
          "base_uri": "https://localhost:8080/"
        },
        "id": "rwWddz6k8fvB",
        "outputId": "96b2255f-6193-4a26-a067-8b41c9098494"
      },
      "source": [
        "test_loss"
      ],
      "execution_count": 149,
      "outputs": [
        {
          "output_type": "execute_result",
          "data": {
            "text/plain": [
              "1.4257729053497314"
            ]
          },
          "metadata": {
            "tags": []
          },
          "execution_count": 149
        }
      ]
    },
    {
      "cell_type": "markdown",
      "metadata": {
        "id": "_RR8TZKsbAgV"
      },
      "source": [
        "#Explicação Final\n",
        "\n",
        "- Após executar um treinamento de 20 epochs foi observador uma accuracy de 65% de eficiencia ao aplicar ***redes neurais recorrentes*** a base de dados do twitter em português."
      ]
    }
  ]
}